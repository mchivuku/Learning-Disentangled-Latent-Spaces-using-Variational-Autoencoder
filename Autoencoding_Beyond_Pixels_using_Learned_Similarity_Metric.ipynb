{
  "nbformat": 4,
  "nbformat_minor": 0,
  "metadata": {
    "colab": {
      "name": "Autoencoding Beyond Pixels using Learned Similarity Metric.ipynb",
      "version": "0.3.2",
      "provenance": [],
      "collapsed_sections": [],
      "toc_visible": true,
      "include_colab_link": true
    },
    "kernelspec": {
      "name": "python3",
      "display_name": "Python 3"
    },
    "accelerator": "GPU"
  },
  "cells": [
    {
      "cell_type": "markdown",
      "metadata": {
        "id": "view-in-github",
        "colab_type": "text"
      },
      "source": [
        "<a href=\"https://colab.research.google.com/github/mchivuku/csb659-project/blob/master/Autoencoding_Beyond_Pixels_using_Learned_Similarity_Metric.ipynb\" target=\"_parent\"><img src=\"https://colab.research.google.com/assets/colab-badge.svg\" alt=\"Open In Colab\"/></a>"
      ]
    },
    {
      "metadata": {
        "id": "nAIsiGG-1eUK",
        "colab_type": "text"
      },
      "cell_type": "markdown",
      "source": [
        "**Autoencoding beyond pixels using a learned similarity metric**-[paper]( https://arxiv.org/pdf/1512.09300.pdf)"
      ]
    },
    {
      "metadata": {
        "id": "O2CDTAxE1swD",
        "colab_type": "code",
        "colab": {
          "base_uri": "https://localhost:8080/",
          "height": 34
        },
        "outputId": "9987711a-3100-4e52-ff3f-6cd702492e83"
      },
      "cell_type": "code",
      "source": [
        "from google.colab import drive\n",
        "drive.mount(\"/content/drive\")\n"
      ],
      "execution_count": 1,
      "outputs": [
        {
          "output_type": "stream",
          "text": [
            "Drive already mounted at /content/drive; to attempt to forcibly remount, call drive.mount(\"/content/drive\", force_remount=True).\n"
          ],
          "name": "stdout"
        }
      ]
    },
    {
      "metadata": {
        "id": "aavg5DD02Es8",
        "colab_type": "code",
        "colab": {
          "base_uri": "https://localhost:8080/",
          "height": 34
        },
        "outputId": "aecf7dba-e0bc-48c9-eccd-a942ab62252b"
      },
      "cell_type": "code",
      "source": [
        "%cd /content/drive/My\\ Drive/Masters-DS/CSCI-B659/project/vae+gan"
      ],
      "execution_count": 3,
      "outputs": [
        {
          "output_type": "stream",
          "text": [
            "/content/drive/My Drive/Masters-DS/CSCI-B659/project/vae+gan\n"
          ],
          "name": "stdout"
        }
      ]
    },
    {
      "metadata": {
        "id": "dngvBd012QSq",
        "colab_type": "code",
        "colab": {}
      },
      "cell_type": "code",
      "source": [
        "import os\n",
        "#os.makedirs(\"vae+gan\")\n",
        "os.makedirs(\"results\")"
      ],
      "execution_count": 0,
      "outputs": []
    },
    {
      "metadata": {
        "id": "UFEbT5kO2aRL",
        "colab_type": "code",
        "colab": {
          "base_uri": "https://localhost:8080/",
          "height": 34
        },
        "outputId": "02887356-ce90-41e5-fe3b-6a1533203ccf"
      },
      "cell_type": "code",
      "source": [
        "%ls"
      ],
      "execution_count": 19,
      "outputs": [
        {
          "output_type": "stream",
          "text": [
            "\u001b[0m\u001b[01;34mresults\u001b[0m/\n"
          ],
          "name": "stdout"
        }
      ]
    },
    {
      "metadata": {
        "id": "vBIme9UM2jGv",
        "colab_type": "text"
      },
      "cell_type": "markdown",
      "source": [
        "## Import Libraries"
      ]
    },
    {
      "metadata": {
        "id": "4y52v92F2dSF",
        "colab_type": "code",
        "colab": {}
      },
      "cell_type": "code",
      "source": [
        "from __future__ import print_function\n",
        "import argparse\n",
        "import h5py\n",
        "import numpy as np\n",
        "import os\n",
        "import time\n",
        "import torch\n",
        "import torch.utils.data\n",
        "import torch.nn as nn\n",
        "import torch.optim as optim\n",
        "from torch.utils.data.dataset import Dataset\n",
        "from torch.autograd import Variable\n",
        "from torchvision import datasets, transforms\n",
        "from torchvision.utils import make_grid , save_image\n",
        "import torchvision.utils as vutils"
      ],
      "execution_count": 0,
      "outputs": []
    },
    {
      "metadata": {
        "id": "bFyFpiW52k3d",
        "colab_type": "code",
        "colab": {}
      },
      "cell_type": "code",
      "source": [
        "%matplotlib inline\n",
        "import matplotlib.pyplot as plt\n",
        "\n",
        "def show_and_save(file_name,img,show = False):\n",
        "    npimg = np.transpose(img.numpy(),(1,2,0))\n",
        "    f = \"./%s.png\" % file_name\n",
        "    fig = plt.figure(dpi=300)\n",
        "    fig.suptitle(file_name, fontsize=14, fontweight='bold')\n",
        "    #plt.imshow(npimg)\n",
        "    if show:\n",
        "      plt.axis(\"off\")\n",
        "      plt.imshow(npimg)\n",
        "    else:\n",
        "      plt.imsave(f,npimg)\n",
        "    \n",
        "def save_model(epoch, encoder, decoder, D):\n",
        "    torch.save(decoder.cpu().state_dict(), './VAE_GAN_decoder_%d.pth' % epoch)\n",
        "    torch.save(encoder.cpu().state_dict(),'./VAE_GAN_encoder_%d.pth' % epoch)\n",
        "    torch.save(D.cpu().state_dict(), 'VAE_GAN_D_%d.pth' % epoch)\n",
        "    decoder.cuda()\n",
        "    encoder.cuda()\n",
        "    D.cuda()\n",
        "    \n",
        "def load_model(epoch, encoder, decoder, D):\n",
        "    #  restore models\n",
        "    decoder.load_state_dict(torch.load('./VAE_GAN_decoder_%d.pth' % epoch))\n",
        "    decoder.cuda()\n",
        "    encoder.load_state_dict(torch.load('./VAE_GAN_encoder_%d.pth' % epoch))\n",
        "    encoder.cuda()\n",
        "    D.load_state_dict(torch.load('VAE_GAN_D_%d.pth' % epoch))\n",
        "    D.cuda()"
      ],
      "execution_count": 0,
      "outputs": []
    },
    {
      "metadata": {
        "id": "6Yto26ky4TGJ",
        "colab_type": "code",
        "colab": {}
      },
      "cell_type": "code",
      "source": [
        "## Load DataSet\n",
        "class Params:\n",
        "  batch_size = 128\n",
        "  data_dir=\"../examples/vae/MNIST/data\"\n",
        "  save_dir = \"results/\"\n",
        "  nb_latents = 10"
      ],
      "execution_count": 0,
      "outputs": []
    },
    {
      "metadata": {
        "id": "klMRlHBH4hAS",
        "colab_type": "code",
        "colab": {}
      },
      "cell_type": "code",
      "source": [
        "## Data loader\n",
        "batch_size =  Params.batch_size\n",
        "\n",
        "train_loader = torch.utils.data.DataLoader(\n",
        "    datasets.MNIST(Params.data_dir, train=True, download=True,\n",
        "                   transform=transforms.ToTensor()),\n",
        "    batch_size=batch_size, shuffle=True)\n",
        "\n",
        "\n",
        "test_loader = torch.utils.data.DataLoader(\n",
        "    datasets.MNIST(Params.data_dir, train=False, transform=transforms.ToTensor()),\n",
        "    batch_size=batch_size, shuffle=True)"
      ],
      "execution_count": 0,
      "outputs": []
    },
    {
      "metadata": {
        "id": "WEGGmjv45DAa",
        "colab_type": "code",
        "colab": {
          "base_uri": "https://localhost:8080/",
          "height": 1192
        },
        "outputId": "505c1a3f-6f73-43a7-ff95-73f6708f89de"
      },
      "cell_type": "code",
      "source": [
        "data, labels = next(iter(train_loader))\n",
        "print(len(data))\n",
        "show_and_save(\"inputs\",make_grid(data.cpu(),8),True)\n"
      ],
      "execution_count": 8,
      "outputs": [
        {
          "output_type": "stream",
          "text": [
            "128\n"
          ],
          "name": "stdout"
        },
        {
          "output_type": "display_data",
          "data": {
            "image/png": "[encoded data removed]",
            "text/plain": [
              "<Figure size 1800x1200 with 1 Axes>"
            ]
          },
          "metadata": {
            "tags": []
          }
        }
      ]
    },
    {
      "metadata": {
        "id": "u2uqWB675uKE",
        "colab_type": "code",
        "colab": {}
      },
      "cell_type": "code",
      "source": [
        "class Encoder(nn.Module):\n",
        "    def __init__(self, input_channels, output_channels, representation_size = 32):\n",
        "        super(Encoder, self).__init__()\n",
        "        # input parameters\n",
        "        self.input_channels = input_channels\n",
        "        self.output_channels = output_channels #Params.nb_latents\n",
        "        \n",
        "        self.features = nn.Sequential(\n",
        "            # nc x 32 x 32\n",
        "            nn.Conv2d(self.input_channels, representation_size, 5, stride=2, padding=2),\n",
        "            nn.BatchNorm2d(representation_size),\n",
        "            nn.ReLU(),\n",
        "            # hidden_size x 16 x 16\n",
        "            nn.Conv2d(representation_size, representation_size*2, 5, stride=2, padding=2),\n",
        "            nn.BatchNorm2d(representation_size * 2),\n",
        "            nn.ReLU(),\n",
        "            # hidden_size*2 x 8 x 8\n",
        "            nn.Conv2d(representation_size*2, representation_size*4, 5, stride=2, padding=2),\n",
        "            nn.BatchNorm2d(representation_size * 4),\n",
        "            nn.ReLU())\n",
        "            # hidden_size*4 x 4 x 4\n",
        "            \n",
        "        self.mean = nn.Sequential(\n",
        "            nn.Linear(representation_size*4*4*4, 1024),\n",
        "             \n",
        "            nn.ReLU(),\n",
        "            nn.Linear(1024, output_channels))\n",
        "        \n",
        "        self.logvar = nn.Sequential(\n",
        "            nn.Linear(representation_size*4*4*4, 1024),\n",
        "          \n",
        "            nn.ReLU(),\n",
        "            nn.Linear(1024, output_channels))\n",
        "        \n",
        "    def forward(self, x):\n",
        "        batch_size = x.size()[0]\n",
        "\n",
        "        hidden_representation = self.features(x)\n",
        "        hidden_representation = hidden_representation.view(-1, self.num_flat_features(hidden_representation))\n",
        "        \n",
        "        mean = self.mean(hidden_representation)\n",
        "        logvar = self.logvar(hidden_representation)\n",
        "\n",
        "        return mean, logvar\n",
        "    \n",
        "    def hidden_layer(self, x):\n",
        "        batch_size = x.size()[0]\n",
        "        output = self.features(x)\n",
        "        return output\n",
        "      \n",
        "      \n",
        "    def num_flat_features(self,x):\n",
        "      size = x.size()[1:] # all dimensions except the batch dimension\n",
        "      num_features = 1\n",
        "      for s in size:\n",
        "        num_features *=s\n",
        "      return num_features"
      ],
      "execution_count": 0,
      "outputs": []
    },
    {
      "metadata": {
        "id": "JBD8UWAB9o9p",
        "colab_type": "code",
        "colab": {}
      },
      "cell_type": "code",
      "source": [
        "#encoder = Encoder(1,Params.nb_latents)\n",
        "#mean, logvar = encoder(data[0].unsqueeze(0))"
      ],
      "execution_count": 0,
      "outputs": []
    },
    {
      "metadata": {
        "id": "zA5WIdNp9uDe",
        "colab_type": "code",
        "colab": {}
      },
      "cell_type": "code",
      "source": [
        "class Decoder(nn.Module):\n",
        "    def __init__(self, input_size):\n",
        "        super(Decoder, self).__init__()\n",
        "        \n",
        "        self.input_size = input_size ##\n",
        "        \n",
        "        self.fc1 = nn.Linear(self.input_size, 256)\n",
        "        self.fc2 = nn.Linear(256, 1024)\n",
        "        self.fc3 = nn.Linear(1024,7*7*64)\n",
        "        \n",
        "        self.deconv1 = nn.ConvTranspose2d(64, 32, kernel_size=2, stride=2)\n",
        "        self.deconv2 = nn.ConvTranspose2d(32, 1, kernel_size=2, stride=2)\n",
        "        \n",
        "        # 1 x 28 x 28\n",
        "        self.activation = nn.Sigmoid()\n",
        "        self.relu = nn.Tanh()\n",
        "            \n",
        "    \n",
        "    def forward(self, z):\n",
        "        bs = z.size()[0]\n",
        "        \n",
        "        x = self.relu(self.fc1(z))\n",
        "        x = self.relu(self.fc2(x))\n",
        "        x = self.relu(self.fc3(x))\n",
        "        x = self.relu(self.deconv1(x.view(-1, 64, 7, 7)))\n",
        "        x = self.deconv2(x)\n",
        "       \n",
        "        return self.activation(x)"
      ],
      "execution_count": 0,
      "outputs": []
    },
    {
      "metadata": {
        "id": "vlK8olUWB5rF",
        "colab_type": "code",
        "colab": {}
      },
      "cell_type": "code",
      "source": [
        "encoder = Encoder(1,Params.nb_latents)\n",
        "mean, logvar = encoder(data[0].unsqueeze(0))\n",
        "\n",
        "hiddensize = encoder.hidden_layer(data[0].unsqueeze(0))"
      ],
      "execution_count": 0,
      "outputs": []
    },
    {
      "metadata": {
        "id": "3RtGV9BuCMiU",
        "colab_type": "code",
        "colab": {
          "base_uri": "https://localhost:8080/",
          "height": 35
        },
        "outputId": "4121822f-2092-4a49-ea28-f6c20f3879b5"
      },
      "cell_type": "code",
      "source": [
        "hiddensize.squeeze().shape,mean.shape"
      ],
      "execution_count": 13,
      "outputs": [
        {
          "output_type": "execute_result",
          "data": {
            "text/plain": [
              "(torch.Size([128, 4, 4]), torch.Size([1, 10]))"
            ]
          },
          "metadata": {
            "tags": []
          },
          "execution_count": 13
        }
      ]
    },
    {
      "metadata": {
        "id": "I0zeHS-ECU2d",
        "colab_type": "code",
        "colab": {
          "base_uri": "https://localhost:8080/",
          "height": 238
        },
        "outputId": "f95877bf-1509-4964-9c5f-6e8cda430fc0"
      },
      "cell_type": "code",
      "source": [
        "decoder = Decoder(10,(128,4,4))\n",
        "std = logvar.mul(0.5).exp_()\n",
        "reparametrized_noise = Variable(torch.randn((batch_size, Params.nb_latents)))\n",
        "reparametrized_noise = mean + std * reparametrized_noise\n",
        "rec_images = decoder(reparametrized_noise)"
      ],
      "execution_count": 14,
      "outputs": [
        {
          "output_type": "error",
          "ename": "TypeError",
          "evalue": "ignored",
          "traceback": [
            "\u001b[0;31m---------------------------------------------------------------------------\u001b[0m",
            "\u001b[0;31mTypeError\u001b[0m                                 Traceback (most recent call last)",
            "\u001b[0;32m<ipython-input-14-c3eda6e4cacc>\u001b[0m in \u001b[0;36m<module>\u001b[0;34m()\u001b[0m\n\u001b[0;32m----> 1\u001b[0;31m \u001b[0mdecoder\u001b[0m \u001b[0;34m=\u001b[0m \u001b[0mDecoder\u001b[0m\u001b[0;34m(\u001b[0m\u001b[0;36m10\u001b[0m\u001b[0;34m,\u001b[0m\u001b[0;34m(\u001b[0m\u001b[0;36m128\u001b[0m\u001b[0;34m,\u001b[0m\u001b[0;36m4\u001b[0m\u001b[0;34m,\u001b[0m\u001b[0;36m4\u001b[0m\u001b[0;34m)\u001b[0m\u001b[0;34m)\u001b[0m\u001b[0;34m\u001b[0m\u001b[0;34m\u001b[0m\u001b[0m\n\u001b[0m\u001b[1;32m      2\u001b[0m \u001b[0mstd\u001b[0m \u001b[0;34m=\u001b[0m \u001b[0mlogvar\u001b[0m\u001b[0;34m.\u001b[0m\u001b[0mmul\u001b[0m\u001b[0;34m(\u001b[0m\u001b[0;36m0.5\u001b[0m\u001b[0;34m)\u001b[0m\u001b[0;34m.\u001b[0m\u001b[0mexp_\u001b[0m\u001b[0;34m(\u001b[0m\u001b[0;34m)\u001b[0m\u001b[0;34m\u001b[0m\u001b[0;34m\u001b[0m\u001b[0m\n\u001b[1;32m      3\u001b[0m \u001b[0mreparametrized_noise\u001b[0m \u001b[0;34m=\u001b[0m \u001b[0mVariable\u001b[0m\u001b[0;34m(\u001b[0m\u001b[0mtorch\u001b[0m\u001b[0;34m.\u001b[0m\u001b[0mrandn\u001b[0m\u001b[0;34m(\u001b[0m\u001b[0;34m(\u001b[0m\u001b[0mbatch_size\u001b[0m\u001b[0;34m,\u001b[0m \u001b[0mParams\u001b[0m\u001b[0;34m.\u001b[0m\u001b[0mnb_latents\u001b[0m\u001b[0;34m)\u001b[0m\u001b[0;34m)\u001b[0m\u001b[0;34m)\u001b[0m\u001b[0;34m\u001b[0m\u001b[0;34m\u001b[0m\u001b[0m\n\u001b[1;32m      4\u001b[0m \u001b[0mreparametrized_noise\u001b[0m \u001b[0;34m=\u001b[0m \u001b[0mmean\u001b[0m \u001b[0;34m+\u001b[0m \u001b[0mstd\u001b[0m \u001b[0;34m*\u001b[0m \u001b[0mreparametrized_noise\u001b[0m\u001b[0;34m\u001b[0m\u001b[0;34m\u001b[0m\u001b[0m\n\u001b[1;32m      5\u001b[0m \u001b[0mrec_images\u001b[0m \u001b[0;34m=\u001b[0m \u001b[0mdecoder\u001b[0m\u001b[0;34m(\u001b[0m\u001b[0mreparametrized_noise\u001b[0m\u001b[0;34m)\u001b[0m\u001b[0;34m\u001b[0m\u001b[0;34m\u001b[0m\u001b[0m\n",
            "\u001b[0;31mTypeError\u001b[0m: __init__() takes 2 positional arguments but 3 were given"
          ]
        }
      ]
    },
    {
      "metadata": {
        "id": "gjf4DWRcCkEI",
        "colab_type": "code",
        "colab": {
          "base_uri": "https://localhost:8080/",
          "height": 167
        },
        "outputId": "6c88aaff-e230-4f2d-de9f-165097687e70"
      },
      "cell_type": "code",
      "source": [
        "plt.imshow(rec_images[0].squeeze().detach().cpu(),cmap=\"gray\")"
      ],
      "execution_count": 15,
      "outputs": [
        {
          "output_type": "error",
          "ename": "NameError",
          "evalue": "ignored",
          "traceback": [
            "\u001b[0;31m---------------------------------------------------------------------------\u001b[0m",
            "\u001b[0;31mNameError\u001b[0m                                 Traceback (most recent call last)",
            "\u001b[0;32m<ipython-input-15-b91a0f703831>\u001b[0m in \u001b[0;36m<module>\u001b[0;34m()\u001b[0m\n\u001b[0;32m----> 1\u001b[0;31m \u001b[0mplt\u001b[0m\u001b[0;34m.\u001b[0m\u001b[0mimshow\u001b[0m\u001b[0;34m(\u001b[0m\u001b[0mrec_images\u001b[0m\u001b[0;34m[\u001b[0m\u001b[0;36m0\u001b[0m\u001b[0;34m]\u001b[0m\u001b[0;34m.\u001b[0m\u001b[0msqueeze\u001b[0m\u001b[0;34m(\u001b[0m\u001b[0;34m)\u001b[0m\u001b[0;34m.\u001b[0m\u001b[0mdetach\u001b[0m\u001b[0;34m(\u001b[0m\u001b[0;34m)\u001b[0m\u001b[0;34m.\u001b[0m\u001b[0mcpu\u001b[0m\u001b[0;34m(\u001b[0m\u001b[0;34m)\u001b[0m\u001b[0;34m,\u001b[0m\u001b[0mcmap\u001b[0m\u001b[0;34m=\u001b[0m\u001b[0;34m\"gray\"\u001b[0m\u001b[0;34m)\u001b[0m\u001b[0;34m\u001b[0m\u001b[0;34m\u001b[0m\u001b[0m\n\u001b[0m",
            "\u001b[0;31mNameError\u001b[0m: name 'rec_images' is not defined"
          ]
        }
      ]
    },
    {
      "metadata": {
        "id": "QRrATcAlGEV7",
        "colab_type": "code",
        "colab": {}
      },
      "cell_type": "code",
      "source": [
        "class VAE_GAN_Generator(nn.Module):\n",
        "    def __init__(self, input_channels, hidden_size):\n",
        "        super(VAE_GAN_Generator, self).__init__()\n",
        "        self.input_channels = input_channels\n",
        "        self.hidden_size = hidden_size\n",
        "        \n",
        "        self.encoder = Encoder(input_channels, hidden_size)\n",
        "        self.decoder = Decoder(hidden_size)\n",
        "        \n",
        "    def forward(self, x):\n",
        "        batch_size = x.size()[0]\n",
        "        mean, logvar = self.encoder(x)\n",
        "        std = logvar.mul(0.5).exp_()\n",
        "        \n",
        "        reparametrized_noise = Variable(torch.randn((batch_size, self.hidden_size))).cuda()\n",
        "\n",
        "        reparametrized_noise = mean + std * reparametrized_noise\n",
        "\n",
        "        rec_images = self.decoder(reparametrized_noise)\n",
        "        \n",
        "        return mean, logvar, rec_images"
      ],
      "execution_count": 0,
      "outputs": []
    },
    {
      "metadata": {
        "id": "LKg1qxs8JuDU",
        "colab_type": "code",
        "colab": {}
      },
      "cell_type": "code",
      "source": [
        "class Discriminator(nn.Module):\n",
        "    def __init__(self,input_channels, representation_size = 32):\n",
        "        super(Discriminator, self).__init__()\n",
        "        self.input_channels = input_channels\n",
        "        dim = 128 * 4 * 4\n",
        "        self.main = nn.Sequential(\n",
        "            # nc x 32 x 32\n",
        "            nn.Conv2d(self.input_channels, representation_size, 5, stride=2, padding=2),\n",
        "            nn.BatchNorm2d(representation_size),\n",
        "            nn.LeakyReLU(0.2),\n",
        "            # hidden_size x 16 x 16\n",
        "            nn.Conv2d(representation_size, representation_size*2, 5, stride=2, padding=2),\n",
        "            nn.BatchNorm2d(representation_size * 2),\n",
        "            nn.LeakyReLU(0.2),\n",
        "            # hidden_size*2 x 8 x 8\n",
        "            nn.Conv2d(representation_size*2, representation_size*4, 5, stride=2, padding=2),\n",
        "            nn.BatchNorm2d(representation_size * 4),\n",
        "            nn.LeakyReLU(0.2))\n",
        "\n",
        "        self.lth_features = nn.Sequential(\n",
        "            nn.Linear(dim, 2048),\n",
        "            nn.LeakyReLU(0.2))\n",
        "            \n",
        "        self.sigmoid_output = nn.Sequential(nn.Linear(2048,1),nn.Sigmoid())\n",
        "\n",
        "\n",
        "    def forward(self, x):\n",
        "        batch_size = x.size()[0]\n",
        "        features = self.main(x)\n",
        "        lth_rep = self.lth_features(features.view(batch_size, -1))\n",
        "        output = self.sigmoid_output(lth_rep)\n",
        "        return output\n",
        "    \n",
        "    def similarity(self, x):\n",
        "        batch_size = x.size()[0]\n",
        "        features = self.main(x)\n",
        "        lth_rep = self.lth_features(features.view(batch_size, -1))\n",
        "        return lth_rep"
      ],
      "execution_count": 0,
      "outputs": []
    },
    {
      "metadata": {
        "id": "0OM6F9GuNB5I",
        "colab_type": "code",
        "colab": {}
      },
      "cell_type": "code",
      "source": [
        "# define constant\n",
        "input_channels = 1\n",
        "hidden_size = 10\n",
        "max_epochs = 250\n",
        "lr = 3e-4\n",
        "\n",
        "beta = 5\n",
        "alpha = 0.1\n",
        "gamma = 15"
      ],
      "execution_count": 0,
      "outputs": []
    },
    {
      "metadata": {
        "id": "d52terV-NGGF",
        "colab_type": "code",
        "colab": {}
      },
      "cell_type": "code",
      "source": [
        "G = VAE_GAN_Generator(input_channels, hidden_size).cuda()\n",
        "D = Discriminator(input_channels).cuda()\n",
        "\n",
        "criterion = nn.BCELoss()\n",
        "criterion.cuda()\n",
        "\n",
        "opt_enc = optim.RMSprop(G.encoder.parameters(), lr=lr)\n",
        "opt_dec = optim.RMSprop(G.decoder.parameters(), lr=lr)\n",
        "opt_dis = optim.RMSprop(D.parameters(), lr=lr * alpha)"
      ],
      "execution_count": 0,
      "outputs": []
    },
    {
      "metadata": {
        "id": "RaqIycjYNIVZ",
        "colab_type": "code",
        "colab": {}
      },
      "cell_type": "code",
      "source": [
        "fixed_noise = Variable(torch.randn(batch_size, hidden_size)).cuda()\n",
        "data, _ = next(iter(train_loader))\n",
        "fixed_batch = Variable(data).cuda()"
      ],
      "execution_count": 0,
      "outputs": []
    },
    {
      "metadata": {
        "id": "sIQHIKg6ldZL",
        "colab_type": "code",
        "colab": {}
      },
      "cell_type": "code",
      "source": [
        "## Loss\n",
        "class RunningAverage ():\n",
        "    \"\"\"A simple class that maintains the running average of a quantity\n",
        "    Example:\n",
        "    ```\n",
        "    loss_avg = RunningAverage()\n",
        "    loss_avg.update(2)\n",
        "    loss_avg.update(4)\n",
        "    loss_avg() = 3\n",
        "    ```\n",
        "    \"\"\"\n",
        "\n",
        "    def __init__( self ):\n",
        "        self.steps = 0\n",
        "        self.total = 0\n",
        "\n",
        "    def update( self, val ):\n",
        "        self.total += val\n",
        "        self.steps += 1\n",
        "\n",
        "    def __call__( self ):\n",
        "        return self.total / float ( self.steps )\n",
        "      "
      ],
      "execution_count": 0,
      "outputs": []
    },
    {
      "metadata": {
        "id": "g54yFwtzN98y",
        "colab_type": "code",
        "colab": {
          "base_uri": "https://localhost:8080/",
          "height": 11751
        },
        "outputId": "54639352-eef5-4fe6-fca6-45b6bef39d16"
      },
      "cell_type": "code",
      "source": [
        "\n",
        "   \n",
        "for epoch in range(max_epochs):\n",
        "    D_real_list, D_rec_enc_list, D_rec_noise_list, D_list =RunningAverage(), RunningAverage(), RunningAverage(),RunningAverage()\n",
        "    g_loss_list, rec_loss_list, prior_loss_list = RunningAverage(),RunningAverage(),RunningAverage()\n",
        "    for data, _ in train_loader:\n",
        "        batch_size = data.size()[0]\n",
        "        ones_label = Variable(torch.ones(batch_size)).cuda()\n",
        "        zeros_label = Variable(torch.zeros(batch_size)).cuda()\n",
        "        ## Run encoder - network + decoder\n",
        "        datav = Variable(data).cuda()\n",
        "        mean, logvar, rec_enc = G(datav)\n",
        "        \n",
        "        \n",
        "        ## noise vector - same size as encoder \n",
        "        noisev = Variable(torch.randn(batch_size, hidden_size)).cuda()\n",
        "        rec_noise = G.decoder(noisev) # decode noise\n",
        "        \n",
        "        # train discriminator\n",
        "        output = D(datav)\n",
        "        errD_real = criterion(output.squeeze(1), ones_label) ## real inputs\n",
        "        D_real_list.update(output.data.mean())\n",
        "        \n",
        "        ## Fake inputs, 1. reconstructed output - x\n",
        "        output = D(rec_enc)\n",
        "        errD_rec_enc = criterion(output.squeeze(1), zeros_label)\n",
        "        D_rec_enc_list.update(output.data.mean())\n",
        "        \n",
        "        \n",
        "        ## Noise output\n",
        "        output = D(rec_noise)\n",
        "        errD_rec_noise = criterion(output.squeeze(1), zeros_label)\n",
        "        D_rec_noise_list.update(output.data.mean())\n",
        "        \n",
        "        ## Total discriminator los\n",
        "        dis_img_loss = errD_real + errD_rec_enc + errD_rec_noise\n",
        "       \n",
        "        D_list.update(dis_img_loss.data.mean())\n",
        "        \n",
        "        ## Discriminator\n",
        "        opt_dis.zero_grad()\n",
        "        dis_img_loss.backward(retain_graph=True)\n",
        "        opt_dis.step()\n",
        "        \n",
        "        # train decoder\n",
        "        output = D(datav)\n",
        "        \n",
        "        errD_real = criterion(output.squeeze(1), ones_label)\n",
        "        \n",
        "        output = D(rec_enc)\n",
        "        errD_rec_enc = criterion(output.squeeze(1), zeros_label)\n",
        "        \n",
        "        output = D(rec_noise)\n",
        "        errD_rec_noise = criterion(output.squeeze(1), zeros_label)\n",
        "        \n",
        "        similarity_rec_enc = D.similarity(rec_enc)\n",
        "        similarity_data = D.similarity(datav)\n",
        "        \n",
        "        dis_img_loss = errD_real + errD_rec_enc + errD_rec_noise\n",
        "        gen_img_loss = - dis_img_loss\n",
        "        \n",
        "        g_loss_list.update(gen_img_loss.data.mean())\n",
        "        rec_loss = ((similarity_rec_enc - similarity_data) ** 2).mean()\n",
        "        rec_loss_list.append(rec_loss.data.mean())\n",
        "        err_dec = gamma * rec_loss + gen_img_loss ## Decoder Loss\n",
        "        \n",
        "        opt_dec.zero_grad()\n",
        "        err_dec.backward(retain_graph=True)\n",
        "        opt_dec.step()\n",
        "        \n",
        "        # train encoder\n",
        "        prior_loss = 1 + logvar - mean.pow(2) - logvar.exp()\n",
        "        prior_loss = (-0.5 * torch.sum(prior_loss))/torch.numel(mean.data)\n",
        "        \n",
        "        prior_loss_list.update(prior_loss.data.mean())\n",
        "        err_enc = prior_loss + beta * rec_loss ## Encoder Loss\n",
        "        \n",
        "        opt_enc.zero_grad()\n",
        "        err_enc.backward()\n",
        "        opt_enc.step()\n",
        "        \n",
        "    _, _, rec_imgs = G(fixed_batch)\n",
        "    show_and_save('rec_epoch_%d.png' % epoch ,make_grid((rec_imgs.data*0.5+0.5).cpu(),8))\n",
        "    \n",
        "    samples = G.decoder(fixed_noise)\n",
        "    vutils.save_image(samples.data,\n",
        "            'sample_epoch_%d.png' % epoch,\n",
        "            normalize=True)\n",
        "    localtime = time.asctime( time.localtime(time.time()) )\n",
        "    print (localtime)\n",
        "    \n",
        "    \n",
        "    \n",
        "    print ('[%d/%d]: D_real:%.4f, D_enc:%.4f, D_noise:%.4f, Loss_D:%.4f, Loss_G:%.4f, rec_loss:%.4f, prior_loss:%.4f' \n",
        "           % (epoch, \n",
        "              max_epochs, \n",
        "              (D_real_list()), \n",
        "              (D_rec_enc_list()), \n",
        "              (D_rec_noise_list()), \n",
        "              (D_list()), \n",
        "              (g_loss_list()),\n",
        "              (rec_loss_list()),\n",
        "              (prior_loss_list())))"
      ],
      "execution_count": 52,
      "outputs": [
        {
          "output_type": "stream",
          "text": [
            "Wed Apr 17 18:39:31 2019\n",
            "[0/250]: D_real:0.3591, D_enc:0.3204, D_noise:0.3210, Loss_D:1.8314, Loss_G:-1.7730, rec_loss:0.0565, prior_loss:0.0176\n",
            "Wed Apr 17 18:40:10 2019\n",
            "[1/250]: D_real:0.3602, D_enc:0.3201, D_noise:0.3202, Loss_D:1.8278, Loss_G:-1.7684, rec_loss:0.0579, prior_loss:0.0189\n",
            "Wed Apr 17 18:40:50 2019\n",
            "[2/250]: D_real:0.3614, D_enc:0.3192, D_noise:0.3196, Loss_D:1.8239, Loss_G:-1.7628, rec_loss:0.0595, prior_loss:0.0209\n",
            "Wed Apr 17 18:41:30 2019\n",
            "[3/250]: D_real:0.3632, D_enc:0.3187, D_noise:0.3190, Loss_D:1.8195, Loss_G:-1.7582, rec_loss:0.0608, prior_loss:0.0225\n",
            "Wed Apr 17 18:42:11 2019\n",
            "[4/250]: D_real:0.3651, D_enc:0.3178, D_noise:0.3173, Loss_D:1.8119, Loss_G:-1.7507, rec_loss:0.0623, prior_loss:0.0236\n",
            "Wed Apr 17 18:42:51 2019\n",
            "[5/250]: D_real:0.3671, D_enc:0.3168, D_noise:0.3171, Loss_D:1.8082, Loss_G:-1.7448, rec_loss:0.0634, prior_loss:0.0256\n",
            "Wed Apr 17 18:43:31 2019\n",
            "[6/250]: D_real:0.3684, D_enc:0.3157, D_noise:0.3159, Loss_D:1.8031, Loss_G:-1.7396, rec_loss:0.0649, prior_loss:0.0264\n",
            "Wed Apr 17 18:44:11 2019\n",
            "[7/250]: D_real:0.3702, D_enc:0.3147, D_noise:0.3154, Loss_D:1.7981, Loss_G:-1.7349, rec_loss:0.0662, prior_loss:0.0279\n",
            "Wed Apr 17 18:44:51 2019\n",
            "[8/250]: D_real:0.3729, D_enc:0.3138, D_noise:0.3142, Loss_D:1.7917, Loss_G:-1.7277, rec_loss:0.0670, prior_loss:0.0298\n",
            "Wed Apr 17 18:45:31 2019\n",
            "[9/250]: D_real:0.3748, D_enc:0.3125, D_noise:0.3124, Loss_D:1.7843, Loss_G:-1.7208, rec_loss:0.0685, prior_loss:0.0305\n",
            "Wed Apr 17 18:46:11 2019\n",
            "[10/250]: D_real:0.3772, D_enc:0.3117, D_noise:0.3114, Loss_D:1.7787, Loss_G:-1.7119, rec_loss:0.0696, prior_loss:0.0318\n",
            "Wed Apr 17 18:46:51 2019\n",
            "[11/250]: D_real:0.3795, D_enc:0.3102, D_noise:0.3102, Loss_D:1.7721, Loss_G:-1.7071, rec_loss:0.0711, prior_loss:0.0328\n",
            "Wed Apr 17 18:47:31 2019\n",
            "[12/250]: D_real:0.3820, D_enc:0.3096, D_noise:0.3093, Loss_D:1.7659, Loss_G:-1.6999, rec_loss:0.0722, prior_loss:0.0336\n",
            "Wed Apr 17 18:48:11 2019\n",
            "[13/250]: D_real:0.3844, D_enc:0.3075, D_noise:0.3077, Loss_D:1.7574, Loss_G:-1.6901, rec_loss:0.0732, prior_loss:0.0357\n",
            "Wed Apr 17 18:48:51 2019\n",
            "[14/250]: D_real:0.3884, D_enc:0.3060, D_noise:0.3060, Loss_D:1.7467, Loss_G:-1.6815, rec_loss:0.0744, prior_loss:0.0373\n",
            "Wed Apr 17 18:49:31 2019\n",
            "[15/250]: D_real:0.3929, D_enc:0.3038, D_noise:0.3029, Loss_D:1.7326, Loss_G:-1.6706, rec_loss:0.0757, prior_loss:0.0379\n",
            "Wed Apr 17 18:50:11 2019\n",
            "[16/250]: D_real:0.3965, D_enc:0.3015, D_noise:0.3021, Loss_D:1.7222, Loss_G:-1.6586, rec_loss:0.0767, prior_loss:0.0394\n",
            "Wed Apr 17 18:50:51 2019\n",
            "[17/250]: D_real:0.4024, D_enc:0.2985, D_noise:0.2991, Loss_D:1.7042, Loss_G:-1.6394, rec_loss:0.0780, prior_loss:0.0415\n",
            "Wed Apr 17 18:51:31 2019\n",
            "[18/250]: D_real:0.4102, D_enc:0.2957, D_noise:0.2946, Loss_D:1.6845, Loss_G:-1.6287, rec_loss:0.0794, prior_loss:0.0436\n",
            "Wed Apr 17 18:52:11 2019\n",
            "[19/250]: D_real:0.4153, D_enc:0.2921, D_noise:0.2924, Loss_D:1.6674, Loss_G:-1.6041, rec_loss:0.0807, prior_loss:0.0437\n"
          ],
          "name": "stdout"
        },
        {
          "output_type": "stream",
          "text": [
            "/usr/local/lib/python3.6/dist-packages/matplotlib/pyplot.py:514: RuntimeWarning: More than 20 figures have been opened. Figures created through the pyplot interface (`matplotlib.pyplot.figure`) are retained until explicitly closed and may consume too much memory. (To control this warning, see the rcParam `figure.max_open_warning`).\n",
            "  max_open_warning, RuntimeWarning)\n"
          ],
          "name": "stderr"
        },
        {
          "output_type": "stream",
          "text": [
            "Wed Apr 17 18:52:51 2019\n",
            "[20/250]: D_real:0.4229, D_enc:0.2880, D_noise:0.2889, Loss_D:1.6481, Loss_G:-1.5926, rec_loss:0.0819, prior_loss:0.0465\n",
            "Wed Apr 17 18:53:31 2019\n",
            "[21/250]: D_real:0.4313, D_enc:0.2844, D_noise:0.2837, Loss_D:1.6257, Loss_G:-1.5736, rec_loss:0.0831, prior_loss:0.0478\n",
            "Wed Apr 17 18:54:11 2019\n",
            "[22/250]: D_real:0.4359, D_enc:0.2826, D_noise:0.2814, Loss_D:1.6082, Loss_G:-1.5514, rec_loss:0.0840, prior_loss:0.0491\n",
            "Wed Apr 17 18:54:51 2019\n",
            "[23/250]: D_real:0.4442, D_enc:0.2786, D_noise:0.2765, Loss_D:1.5923, Loss_G:-1.5412, rec_loss:0.0851, prior_loss:0.0502\n",
            "Wed Apr 17 18:55:31 2019\n",
            "[24/250]: D_real:0.4504, D_enc:0.2755, D_noise:0.2746, Loss_D:1.5770, Loss_G:-1.5235, rec_loss:0.0863, prior_loss:0.0511\n",
            "Wed Apr 17 18:56:11 2019\n",
            "[25/250]: D_real:0.4561, D_enc:0.2731, D_noise:0.2706, Loss_D:1.5589, Loss_G:-1.5086, rec_loss:0.0873, prior_loss:0.0510\n",
            "Wed Apr 17 18:56:51 2019\n",
            "[26/250]: D_real:0.4622, D_enc:0.2695, D_noise:0.2673, Loss_D:1.5515, Loss_G:-1.4978, rec_loss:0.0879, prior_loss:0.0529\n",
            "Wed Apr 17 18:57:31 2019\n",
            "[27/250]: D_real:0.4682, D_enc:0.2663, D_noise:0.2657, Loss_D:1.5301, Loss_G:-1.4808, rec_loss:0.0882, prior_loss:0.0552\n",
            "Wed Apr 17 18:58:11 2019\n",
            "[28/250]: D_real:0.4778, D_enc:0.2615, D_noise:0.2604, Loss_D:1.5016, Loss_G:-1.4657, rec_loss:0.0896, prior_loss:0.0559\n",
            "Wed Apr 17 18:58:51 2019\n",
            "[29/250]: D_real:0.4797, D_enc:0.2598, D_noise:0.2594, Loss_D:1.4988, Loss_G:-1.4489, rec_loss:0.0900, prior_loss:0.0571\n",
            "Wed Apr 17 18:59:31 2019\n",
            "[30/250]: D_real:0.4892, D_enc:0.2563, D_noise:0.2544, Loss_D:1.4805, Loss_G:-1.4340, rec_loss:0.0909, prior_loss:0.0592\n",
            "Wed Apr 17 19:00:11 2019\n",
            "[31/250]: D_real:0.4969, D_enc:0.2507, D_noise:0.2520, Loss_D:1.4528, Loss_G:-1.4107, rec_loss:0.0911, prior_loss:0.0612\n",
            "Wed Apr 17 19:00:51 2019\n",
            "[32/250]: D_real:0.5009, D_enc:0.2502, D_noise:0.2483, Loss_D:1.4449, Loss_G:-1.4058, rec_loss:0.0924, prior_loss:0.0600\n",
            "Wed Apr 17 19:01:31 2019\n",
            "[33/250]: D_real:0.5077, D_enc:0.2477, D_noise:0.2449, Loss_D:1.4290, Loss_G:-1.3865, rec_loss:0.0929, prior_loss:0.0631\n",
            "Wed Apr 17 19:02:11 2019\n",
            "[34/250]: D_real:0.5187, D_enc:0.2410, D_noise:0.2404, Loss_D:1.3974, Loss_G:-1.3680, rec_loss:0.0939, prior_loss:0.0625\n",
            "Wed Apr 17 19:02:51 2019\n",
            "[35/250]: D_real:0.5144, D_enc:0.2428, D_noise:0.2411, Loss_D:1.4151, Loss_G:-1.3662, rec_loss:0.0941, prior_loss:0.0642\n",
            "Wed Apr 17 19:03:31 2019\n",
            "[36/250]: D_real:0.5174, D_enc:0.2413, D_noise:0.2409, Loss_D:1.4064, Loss_G:-1.3530, rec_loss:0.0948, prior_loss:0.0632\n",
            "Wed Apr 17 19:04:11 2019\n",
            "[37/250]: D_real:0.5342, D_enc:0.2369, D_noise:0.2296, Loss_D:1.3530, Loss_G:-1.3206, rec_loss:0.0960, prior_loss:0.0649\n",
            "Wed Apr 17 19:04:51 2019\n",
            "[38/250]: D_real:0.5401, D_enc:0.2307, D_noise:0.2279, Loss_D:1.3414, Loss_G:-1.3031, rec_loss:0.0967, prior_loss:0.0669\n",
            "Wed Apr 17 19:05:31 2019\n",
            "[39/250]: D_real:0.5440, D_enc:0.2287, D_noise:0.2273, Loss_D:1.3329, Loss_G:-1.2944, rec_loss:0.0970, prior_loss:0.0664\n",
            "Wed Apr 17 19:06:11 2019\n",
            "[40/250]: D_real:0.5510, D_enc:0.2251, D_noise:0.2229, Loss_D:1.3144, Loss_G:-1.2775, rec_loss:0.0971, prior_loss:0.0691\n",
            "Wed Apr 17 19:06:52 2019\n",
            "[41/250]: D_real:0.5595, D_enc:0.2207, D_noise:0.2201, Loss_D:1.2905, Loss_G:-1.2517, rec_loss:0.0983, prior_loss:0.0697\n",
            "Wed Apr 17 19:07:32 2019\n",
            "[42/250]: D_real:0.5617, D_enc:0.2190, D_noise:0.2181, Loss_D:1.2905, Loss_G:-1.2596, rec_loss:0.0984, prior_loss:0.0720\n",
            "Wed Apr 17 19:08:12 2019\n",
            "[43/250]: D_real:0.5688, D_enc:0.2184, D_noise:0.2127, Loss_D:1.2680, Loss_G:-1.2313, rec_loss:0.0992, prior_loss:0.0716\n",
            "Wed Apr 17 19:08:52 2019\n",
            "[44/250]: D_real:0.5722, D_enc:0.2124, D_noise:0.2149, Loss_D:1.2575, Loss_G:-1.2280, rec_loss:0.0993, prior_loss:0.0755\n",
            "Wed Apr 17 19:09:32 2019\n",
            "[45/250]: D_real:0.5671, D_enc:0.2160, D_noise:0.2165, Loss_D:1.2813, Loss_G:-1.2277, rec_loss:0.0996, prior_loss:0.0734\n",
            "Wed Apr 17 19:10:12 2019\n",
            "[46/250]: D_real:0.5930, D_enc:0.2034, D_noise:0.2031, Loss_D:1.2019, Loss_G:-1.1683, rec_loss:0.1002, prior_loss:0.0762\n",
            "Wed Apr 17 19:10:52 2019\n",
            "[47/250]: D_real:0.5844, D_enc:0.2076, D_noise:0.2073, Loss_D:1.2314, Loss_G:-1.1942, rec_loss:0.1012, prior_loss:0.0743\n",
            "Wed Apr 17 19:11:32 2019\n",
            "[48/250]: D_real:0.5938, D_enc:0.2014, D_noise:0.2033, Loss_D:1.2034, Loss_G:-1.1677, rec_loss:0.1016, prior_loss:0.0757\n",
            "Wed Apr 17 19:12:12 2019\n",
            "[49/250]: D_real:0.6047, D_enc:0.1983, D_noise:0.1969, Loss_D:1.1711, Loss_G:-1.1465, rec_loss:0.1021, prior_loss:0.0762\n",
            "Wed Apr 17 19:12:52 2019\n",
            "[50/250]: D_real:0.6029, D_enc:0.1989, D_noise:0.1972, Loss_D:1.1844, Loss_G:-1.1338, rec_loss:0.1022, prior_loss:0.0786\n",
            "Wed Apr 17 19:13:32 2019\n",
            "[51/250]: D_real:0.6032, D_enc:0.1992, D_noise:0.1969, Loss_D:1.1892, Loss_G:-1.1387, rec_loss:0.1023, prior_loss:0.0798\n",
            "Wed Apr 17 19:14:13 2019\n",
            "[52/250]: D_real:0.6268, D_enc:0.1893, D_noise:0.1846, Loss_D:1.1076, Loss_G:-1.0884, rec_loss:0.1034, prior_loss:0.0787\n",
            "Wed Apr 17 19:14:53 2019\n",
            "[53/250]: D_real:0.6130, D_enc:0.1940, D_noise:0.1907, Loss_D:1.1647, Loss_G:-1.1238, rec_loss:0.1035, prior_loss:0.0801\n",
            "Wed Apr 17 19:15:33 2019\n",
            "[54/250]: D_real:0.6305, D_enc:0.1857, D_noise:0.1834, Loss_D:1.0999, Loss_G:-1.0591, rec_loss:0.1041, prior_loss:0.0792\n",
            "Wed Apr 17 19:16:13 2019\n",
            "[55/250]: D_real:0.6215, D_enc:0.1915, D_noise:0.1859, Loss_D:1.1390, Loss_G:-1.1028, rec_loss:0.1042, prior_loss:0.0807\n",
            "Wed Apr 17 19:16:53 2019\n",
            "[56/250]: D_real:0.6408, D_enc:0.1789, D_noise:0.1799, Loss_D:1.0738, Loss_G:-1.0522, rec_loss:0.1054, prior_loss:0.0815\n",
            "Wed Apr 17 19:17:33 2019\n",
            "[57/250]: D_real:0.6280, D_enc:0.1860, D_noise:0.1851, Loss_D:1.1276, Loss_G:-1.0804, rec_loss:0.1054, prior_loss:0.0823\n",
            "Wed Apr 17 19:18:13 2019\n",
            "[58/250]: D_real:0.6359, D_enc:0.1817, D_noise:0.1812, Loss_D:1.0895, Loss_G:-1.0554, rec_loss:0.1053, prior_loss:0.0840\n",
            "Wed Apr 17 19:18:53 2019\n",
            "[59/250]: D_real:0.6290, D_enc:0.1877, D_noise:0.1838, Loss_D:1.1095, Loss_G:-1.0757, rec_loss:0.1054, prior_loss:0.0854\n",
            "Wed Apr 17 19:19:33 2019\n",
            "[60/250]: D_real:0.6612, D_enc:0.1687, D_noise:0.1682, Loss_D:1.0174, Loss_G:-0.9929, rec_loss:0.1065, prior_loss:0.0848\n",
            "Wed Apr 17 19:20:13 2019\n",
            "[61/250]: D_real:0.6456, D_enc:0.1791, D_noise:0.1750, Loss_D:1.0741, Loss_G:-1.0443, rec_loss:0.1073, prior_loss:0.0850\n",
            "Wed Apr 17 19:20:53 2019\n",
            "[62/250]: D_real:0.6671, D_enc:0.1686, D_noise:0.1629, Loss_D:0.9968, Loss_G:-0.9751, rec_loss:0.1076, prior_loss:0.0847\n",
            "Wed Apr 17 19:21:33 2019\n",
            "[63/250]: D_real:0.6578, D_enc:0.1724, D_noise:0.1686, Loss_D:1.0415, Loss_G:-1.0073, rec_loss:0.1076, prior_loss:0.0860\n",
            "Wed Apr 17 19:22:13 2019\n",
            "[64/250]: D_real:0.6484, D_enc:0.1778, D_noise:0.1732, Loss_D:1.0605, Loss_G:-1.0083, rec_loss:0.1075, prior_loss:0.0877\n",
            "Wed Apr 17 19:22:53 2019\n",
            "[65/250]: D_real:0.6760, D_enc:0.1621, D_noise:0.1616, Loss_D:0.9749, Loss_G:-0.9420, rec_loss:0.1079, prior_loss:0.0880\n",
            "Wed Apr 17 19:23:33 2019\n",
            "[66/250]: D_real:0.6767, D_enc:0.1595, D_noise:0.1623, Loss_D:0.9909, Loss_G:-0.9564, rec_loss:0.1088, prior_loss:0.0886\n",
            "Wed Apr 17 19:24:13 2019\n",
            "[67/250]: D_real:0.6901, D_enc:0.1559, D_noise:0.1541, Loss_D:0.9425, Loss_G:-0.9005, rec_loss:0.1091, prior_loss:0.0929\n",
            "Wed Apr 17 19:24:53 2019\n",
            "[68/250]: D_real:0.6856, D_enc:0.1586, D_noise:0.1549, Loss_D:0.9659, Loss_G:-0.9254, rec_loss:0.1095, prior_loss:0.0911\n",
            "Wed Apr 17 19:25:33 2019\n",
            "[69/250]: D_real:0.6930, D_enc:0.1535, D_noise:0.1520, Loss_D:0.9360, Loss_G:-0.9128, rec_loss:0.1100, prior_loss:0.0902\n",
            "Wed Apr 17 19:26:13 2019\n",
            "[70/250]: D_real:0.7083, D_enc:0.1465, D_noise:0.1454, Loss_D:0.8762, Loss_G:-0.8524, rec_loss:0.1103, prior_loss:0.0933\n",
            "Wed Apr 17 19:26:53 2019\n",
            "[71/250]: D_real:0.7002, D_enc:0.1503, D_noise:0.1472, Loss_D:0.9189, Loss_G:-0.8941, rec_loss:0.1106, prior_loss:0.0939\n",
            "Wed Apr 17 19:27:33 2019\n",
            "[72/250]: D_real:0.7076, D_enc:0.1461, D_noise:0.1448, Loss_D:0.8960, Loss_G:-0.8759, rec_loss:0.1110, prior_loss:0.0945\n",
            "Wed Apr 17 19:28:13 2019\n",
            "[73/250]: D_real:0.7327, D_enc:0.1356, D_noise:0.1311, Loss_D:0.8267, Loss_G:-0.8212, rec_loss:0.1114, prior_loss:0.0961\n",
            "Wed Apr 17 19:28:53 2019\n",
            "[74/250]: D_real:0.7372, D_enc:0.1299, D_noise:0.1312, Loss_D:0.8035, Loss_G:-0.7988, rec_loss:0.1118, prior_loss:0.0948\n",
            "Wed Apr 17 19:29:33 2019\n",
            "[75/250]: D_real:0.7358, D_enc:0.1326, D_noise:0.1312, Loss_D:0.8121, Loss_G:-0.7996, rec_loss:0.1118, prior_loss:0.0984\n",
            "Wed Apr 17 19:30:13 2019\n",
            "[76/250]: D_real:0.7261, D_enc:0.1383, D_noise:0.1341, Loss_D:0.8483, Loss_G:-0.8256, rec_loss:0.1126, prior_loss:0.0981\n",
            "Wed Apr 17 19:30:53 2019\n",
            "[77/250]: D_real:0.7198, D_enc:0.1427, D_noise:0.1384, Loss_D:0.8675, Loss_G:-0.8430, rec_loss:0.1124, prior_loss:0.0962\n",
            "Wed Apr 17 19:31:33 2019\n",
            "[78/250]: D_real:0.7304, D_enc:0.1345, D_noise:0.1324, Loss_D:0.8252, Loss_G:-0.7872, rec_loss:0.1132, prior_loss:0.0974\n",
            "Wed Apr 17 19:32:13 2019\n",
            "[79/250]: D_real:0.7363, D_enc:0.1324, D_noise:0.1309, Loss_D:0.8295, Loss_G:-0.8047, rec_loss:0.1129, prior_loss:0.0983\n",
            "Wed Apr 17 19:32:53 2019\n",
            "[80/250]: D_real:0.7322, D_enc:0.1346, D_noise:0.1318, Loss_D:0.8250, Loss_G:-0.7915, rec_loss:0.1127, prior_loss:0.0991\n",
            "Wed Apr 17 19:33:33 2019\n",
            "[81/250]: D_real:0.7294, D_enc:0.1351, D_noise:0.1341, Loss_D:0.8369, Loss_G:-0.8168, rec_loss:0.1135, prior_loss:0.0985\n",
            "Wed Apr 17 19:34:13 2019\n",
            "[82/250]: D_real:0.7321, D_enc:0.1348, D_noise:0.1333, Loss_D:0.8183, Loss_G:-0.8002, rec_loss:0.1142, prior_loss:0.0966\n",
            "Wed Apr 17 19:34:53 2019\n",
            "[83/250]: D_real:0.7372, D_enc:0.1310, D_noise:0.1297, Loss_D:0.8074, Loss_G:-0.7842, rec_loss:0.1136, prior_loss:0.1010\n",
            "Wed Apr 17 19:35:33 2019\n",
            "[84/250]: D_real:0.7610, D_enc:0.1187, D_noise:0.1194, Loss_D:0.7461, Loss_G:-0.7248, rec_loss:0.1141, prior_loss:0.1021\n",
            "Wed Apr 17 19:36:13 2019\n",
            "[85/250]: D_real:0.7753, D_enc:0.1117, D_noise:0.1114, Loss_D:0.7036, Loss_G:-0.7030, rec_loss:0.1150, prior_loss:0.1004\n",
            "Wed Apr 17 19:36:53 2019\n",
            "[86/250]: D_real:0.7913, D_enc:0.1062, D_noise:0.1015, Loss_D:0.6441, Loss_G:-0.6598, rec_loss:0.1154, prior_loss:0.1029\n",
            "Wed Apr 17 19:37:33 2019\n",
            "[87/250]: D_real:0.7814, D_enc:0.1112, D_noise:0.1056, Loss_D:0.7134, Loss_G:-0.7075, rec_loss:0.1155, prior_loss:0.1034\n",
            "Wed Apr 17 19:38:13 2019\n",
            "[88/250]: D_real:0.7967, D_enc:0.1026, D_noise:0.1000, Loss_D:0.6505, Loss_G:-0.6488, rec_loss:0.1165, prior_loss:0.1027\n",
            "Wed Apr 17 19:38:53 2019\n",
            "[89/250]: D_real:0.8150, D_enc:0.0940, D_noise:0.0896, Loss_D:0.5888, Loss_G:-0.5809, rec_loss:0.1165, prior_loss:0.1018\n",
            "Wed Apr 17 19:39:33 2019\n",
            "[90/250]: D_real:0.8137, D_enc:0.0929, D_noise:0.0921, Loss_D:0.6067, Loss_G:-0.6349, rec_loss:0.1165, prior_loss:0.1035\n",
            "Wed Apr 17 19:40:13 2019\n",
            "[91/250]: D_real:0.8163, D_enc:0.0933, D_noise:0.0893, Loss_D:0.6147, Loss_G:-0.6133, rec_loss:0.1162, prior_loss:0.1060\n",
            "Wed Apr 17 19:40:53 2019\n",
            "[92/250]: D_real:0.8137, D_enc:0.0921, D_noise:0.0929, Loss_D:0.5911, Loss_G:-0.5903, rec_loss:0.1163, prior_loss:0.1044\n",
            "Wed Apr 17 19:41:33 2019\n",
            "[93/250]: D_real:0.8128, D_enc:0.0960, D_noise:0.0900, Loss_D:0.5919, Loss_G:-0.5968, rec_loss:0.1166, prior_loss:0.1065\n",
            "Wed Apr 17 19:42:13 2019\n",
            "[94/250]: D_real:0.8251, D_enc:0.0871, D_noise:0.0860, Loss_D:0.5723, Loss_G:-0.6007, rec_loss:0.1177, prior_loss:0.1055\n",
            "Wed Apr 17 19:42:53 2019\n",
            "[95/250]: D_real:0.8158, D_enc:0.0957, D_noise:0.0872, Loss_D:0.6022, Loss_G:-0.6182, rec_loss:0.1173, prior_loss:0.1058\n",
            "Wed Apr 17 19:43:33 2019\n",
            "[96/250]: D_real:0.8009, D_enc:0.1001, D_noise:0.0980, Loss_D:0.6227, Loss_G:-0.6215, rec_loss:0.1172, prior_loss:0.1062\n",
            "Wed Apr 17 19:44:13 2019\n",
            "[97/250]: D_real:0.8332, D_enc:0.0854, D_noise:0.0809, Loss_D:0.5376, Loss_G:-0.5624, rec_loss:0.1184, prior_loss:0.1094\n",
            "Wed Apr 17 19:44:53 2019\n",
            "[98/250]: D_real:0.8079, D_enc:0.0979, D_noise:0.0923, Loss_D:0.6161, Loss_G:-0.5931, rec_loss:0.1178, prior_loss:0.1084\n",
            "Wed Apr 17 19:45:33 2019\n",
            "[99/250]: D_real:0.8247, D_enc:0.0870, D_noise:0.0871, Loss_D:0.5776, Loss_G:-0.5949, rec_loss:0.1177, prior_loss:0.1062\n",
            "Wed Apr 17 19:46:12 2019\n",
            "[100/250]: D_real:0.8001, D_enc:0.1013, D_noise:0.0974, Loss_D:0.6402, Loss_G:-0.6055, rec_loss:0.1172, prior_loss:0.1078\n",
            "Wed Apr 17 19:46:52 2019\n",
            "[101/250]: D_real:0.8595, D_enc:0.0698, D_noise:0.0691, Loss_D:0.4415, Loss_G:-0.4918, rec_loss:0.1191, prior_loss:0.1058\n",
            "Wed Apr 17 19:47:32 2019\n",
            "[102/250]: D_real:0.8332, D_enc:0.0834, D_noise:0.0823, Loss_D:0.5683, Loss_G:-0.5894, rec_loss:0.1192, prior_loss:0.1058\n",
            "Wed Apr 17 19:48:12 2019\n",
            "[103/250]: D_real:0.7908, D_enc:0.1053, D_noise:0.1019, Loss_D:0.6551, Loss_G:-0.6474, rec_loss:0.1186, prior_loss:0.1063\n",
            "Wed Apr 17 19:48:52 2019\n",
            "[104/250]: D_real:0.8313, D_enc:0.0848, D_noise:0.0840, Loss_D:0.5574, Loss_G:-0.5689, rec_loss:0.1187, prior_loss:0.1111\n",
            "Wed Apr 17 19:49:32 2019\n",
            "[105/250]: D_real:0.8517, D_enc:0.0753, D_noise:0.0718, Loss_D:0.4898, Loss_G:-0.5053, rec_loss:0.1193, prior_loss:0.1094\n",
            "Wed Apr 17 19:50:12 2019\n",
            "[106/250]: D_real:0.8235, D_enc:0.0869, D_noise:0.0881, Loss_D:0.5775, Loss_G:-0.5624, rec_loss:0.1189, prior_loss:0.1057\n",
            "Wed Apr 17 19:50:52 2019\n",
            "[107/250]: D_real:0.8557, D_enc:0.0718, D_noise:0.0700, Loss_D:0.4620, Loss_G:-0.5019, rec_loss:0.1209, prior_loss:0.1073\n",
            "Wed Apr 17 19:51:32 2019\n",
            "[108/250]: D_real:0.8384, D_enc:0.0808, D_noise:0.0805, Loss_D:0.5335, Loss_G:-0.5229, rec_loss:0.1205, prior_loss:0.1074\n",
            "Wed Apr 17 19:52:12 2019\n",
            "[109/250]: D_real:0.8547, D_enc:0.0738, D_noise:0.0702, Loss_D:0.4882, Loss_G:-0.5120, rec_loss:0.1209, prior_loss:0.1100\n",
            "Wed Apr 17 19:52:52 2019\n",
            "[110/250]: D_real:0.8538, D_enc:0.0717, D_noise:0.0720, Loss_D:0.4781, Loss_G:-0.4791, rec_loss:0.1205, prior_loss:0.1104\n",
            "Wed Apr 17 19:53:32 2019\n",
            "[111/250]: D_real:0.8272, D_enc:0.0866, D_noise:0.0854, Loss_D:0.5725, Loss_G:-0.5620, rec_loss:0.1190, prior_loss:0.1111\n",
            "Wed Apr 17 19:54:12 2019\n",
            "[112/250]: D_real:0.8142, D_enc:0.0924, D_noise:0.0921, Loss_D:0.5807, Loss_G:-0.5703, rec_loss:0.1195, prior_loss:0.1112\n",
            "Wed Apr 17 19:54:52 2019\n",
            "[113/250]: D_real:0.8756, D_enc:0.0632, D_noise:0.0616, Loss_D:0.4288, Loss_G:-0.4758, rec_loss:0.1217, prior_loss:0.1075\n",
            "Wed Apr 17 19:55:32 2019\n",
            "[114/250]: D_real:0.8240, D_enc:0.0855, D_noise:0.0874, Loss_D:0.5792, Loss_G:-0.5582, rec_loss:0.1204, prior_loss:0.1109\n",
            "Wed Apr 17 19:56:12 2019\n",
            "[115/250]: D_real:0.8634, D_enc:0.0708, D_noise:0.0638, Loss_D:0.4315, Loss_G:-0.4560, rec_loss:0.1217, prior_loss:0.1154\n",
            "Wed Apr 17 19:56:52 2019\n",
            "[116/250]: D_real:0.9050, D_enc:0.0476, D_noise:0.0463, Loss_D:0.3215, Loss_G:-0.3878, rec_loss:0.1223, prior_loss:0.1162\n",
            "Wed Apr 17 19:57:32 2019\n",
            "[117/250]: D_real:0.8848, D_enc:0.0565, D_noise:0.0573, Loss_D:0.4063, Loss_G:-0.4522, rec_loss:0.1218, prior_loss:0.1174\n",
            "Wed Apr 17 19:58:12 2019\n",
            "[118/250]: D_real:0.8735, D_enc:0.0632, D_noise:0.0633, Loss_D:0.4189, Loss_G:-0.4496, rec_loss:0.1215, prior_loss:0.1168\n",
            "Wed Apr 17 19:58:52 2019\n",
            "[119/250]: D_real:0.8696, D_enc:0.0626, D_noise:0.0644, Loss_D:0.4630, Loss_G:-0.4714, rec_loss:0.1217, prior_loss:0.1159\n",
            "Wed Apr 17 19:59:32 2019\n",
            "[120/250]: D_real:0.9204, D_enc:0.0388, D_noise:0.0394, Loss_D:0.2687, Loss_G:-0.3264, rec_loss:0.1238, prior_loss:0.1122\n",
            "Wed Apr 17 20:00:12 2019\n",
            "[121/250]: D_real:0.8777, D_enc:0.0609, D_noise:0.0607, Loss_D:0.4470, Loss_G:-0.4594, rec_loss:0.1226, prior_loss:0.1135\n",
            "Wed Apr 17 20:00:52 2019\n",
            "[122/250]: D_real:0.9410, D_enc:0.0290, D_noise:0.0279, Loss_D:0.2126, Loss_G:-0.3184, rec_loss:0.1250, prior_loss:0.1114\n",
            "Wed Apr 17 20:01:32 2019\n",
            "[123/250]: D_real:0.9016, D_enc:0.0496, D_noise:0.0476, Loss_D:0.3553, Loss_G:-0.4114, rec_loss:0.1230, prior_loss:0.1134\n",
            "Wed Apr 17 20:02:12 2019\n",
            "[124/250]: D_real:0.8597, D_enc:0.0703, D_noise:0.0687, Loss_D:0.4536, Loss_G:-0.4706, rec_loss:0.1219, prior_loss:0.1195\n",
            "Wed Apr 17 20:02:52 2019\n",
            "[125/250]: D_real:0.9055, D_enc:0.0472, D_noise:0.0461, Loss_D:0.3299, Loss_G:-0.3789, rec_loss:0.1236, prior_loss:0.1197\n",
            "Wed Apr 17 20:03:32 2019\n",
            "[126/250]: D_real:0.8891, D_enc:0.0556, D_noise:0.0536, Loss_D:0.3990, Loss_G:-0.4296, rec_loss:0.1232, prior_loss:0.1153\n",
            "Wed Apr 17 20:04:12 2019\n",
            "[127/250]: D_real:0.8956, D_enc:0.0513, D_noise:0.0522, Loss_D:0.3596, Loss_G:-0.4105, rec_loss:0.1238, prior_loss:0.1158\n",
            "Wed Apr 17 20:04:52 2019\n",
            "[128/250]: D_real:0.8595, D_enc:0.0707, D_noise:0.0678, Loss_D:0.4696, Loss_G:-0.4727, rec_loss:0.1227, prior_loss:0.1155\n",
            "Wed Apr 17 20:05:32 2019\n",
            "[129/250]: D_real:0.9022, D_enc:0.0487, D_noise:0.0489, Loss_D:0.3215, Loss_G:-0.3761, rec_loss:0.1236, prior_loss:0.1212\n",
            "Wed Apr 17 20:06:12 2019\n",
            "[130/250]: D_real:0.8785, D_enc:0.0623, D_noise:0.0574, Loss_D:0.4247, Loss_G:-0.4866, rec_loss:0.1240, prior_loss:0.1168\n",
            "Wed Apr 17 20:06:52 2019\n",
            "[131/250]: D_real:0.8980, D_enc:0.0505, D_noise:0.0500, Loss_D:0.3570, Loss_G:-0.4031, rec_loss:0.1245, prior_loss:0.1182\n",
            "Wed Apr 17 20:07:32 2019\n",
            "[132/250]: D_real:0.9364, D_enc:0.0306, D_noise:0.0325, Loss_D:0.2391, Loss_G:-0.3107, rec_loss:0.1258, prior_loss:0.1207\n",
            "Wed Apr 17 20:08:12 2019\n",
            "[133/250]: D_real:0.9122, D_enc:0.0448, D_noise:0.0419, Loss_D:0.2937, Loss_G:-0.3702, rec_loss:0.1255, prior_loss:0.1187\n",
            "Wed Apr 17 20:08:52 2019\n",
            "[134/250]: D_real:0.9125, D_enc:0.0423, D_noise:0.0426, Loss_D:0.3272, Loss_G:-0.3920, rec_loss:0.1246, prior_loss:0.1204\n",
            "Wed Apr 17 20:09:32 2019\n",
            "[135/250]: D_real:0.9166, D_enc:0.0414, D_noise:0.0409, Loss_D:0.2876, Loss_G:-0.3261, rec_loss:0.1251, prior_loss:0.1173\n",
            "Wed Apr 17 20:10:12 2019\n",
            "[136/250]: D_real:0.9131, D_enc:0.0423, D_noise:0.0432, Loss_D:0.3122, Loss_G:-0.3896, rec_loss:0.1247, prior_loss:0.1184\n",
            "Wed Apr 17 20:10:52 2019\n",
            "[137/250]: D_real:0.8881, D_enc:0.0541, D_noise:0.0569, Loss_D:0.3850, Loss_G:-0.3962, rec_loss:0.1236, prior_loss:0.1191\n",
            "Wed Apr 17 20:11:32 2019\n",
            "[138/250]: D_real:0.9159, D_enc:0.0436, D_noise:0.0390, Loss_D:0.3121, Loss_G:-0.3743, rec_loss:0.1254, prior_loss:0.1190\n",
            "Wed Apr 17 20:12:12 2019\n",
            "[139/250]: D_real:0.9039, D_enc:0.0481, D_noise:0.0474, Loss_D:0.3447, Loss_G:-0.3620, rec_loss:0.1238, prior_loss:0.1242\n",
            "Wed Apr 17 20:12:52 2019\n",
            "[140/250]: D_real:0.8932, D_enc:0.0520, D_noise:0.0524, Loss_D:0.3464, Loss_G:-0.4024, rec_loss:0.1246, prior_loss:0.1237\n",
            "Wed Apr 17 20:13:32 2019\n",
            "[141/250]: D_real:0.8673, D_enc:0.0669, D_noise:0.0647, Loss_D:0.4564, Loss_G:-0.4540, rec_loss:0.1242, prior_loss:0.1193\n",
            "Wed Apr 17 20:14:12 2019\n",
            "[142/250]: D_real:0.8652, D_enc:0.0664, D_noise:0.0666, Loss_D:0.4445, Loss_G:-0.4445, rec_loss:0.1244, prior_loss:0.1215\n",
            "Wed Apr 17 20:14:52 2019\n",
            "[143/250]: D_real:0.8934, D_enc:0.0527, D_noise:0.0524, Loss_D:0.3623, Loss_G:-0.3829, rec_loss:0.1250, prior_loss:0.1194\n",
            "Wed Apr 17 20:15:32 2019\n",
            "[144/250]: D_real:0.8634, D_enc:0.0707, D_noise:0.0664, Loss_D:0.4398, Loss_G:-0.4457, rec_loss:0.1248, prior_loss:0.1233\n",
            "Wed Apr 17 20:16:12 2019\n",
            "[145/250]: D_real:0.9110, D_enc:0.0421, D_noise:0.0453, Loss_D:0.3048, Loss_G:-0.3279, rec_loss:0.1265, prior_loss:0.1221\n",
            "Wed Apr 17 20:16:52 2019\n",
            "[146/250]: D_real:0.9219, D_enc:0.0383, D_noise:0.0379, Loss_D:0.2767, Loss_G:-0.3638, rec_loss:0.1266, prior_loss:0.1244\n",
            "Wed Apr 17 20:17:32 2019\n",
            "[147/250]: D_real:0.9023, D_enc:0.0489, D_noise:0.0480, Loss_D:0.3489, Loss_G:-0.3815, rec_loss:0.1257, prior_loss:0.1246\n",
            "Wed Apr 17 20:18:12 2019\n",
            "[148/250]: D_real:0.8948, D_enc:0.0533, D_noise:0.0505, Loss_D:0.3641, Loss_G:-0.3792, rec_loss:0.1257, prior_loss:0.1276\n",
            "Wed Apr 17 20:18:52 2019\n",
            "[149/250]: D_real:0.9028, D_enc:0.0494, D_noise:0.0462, Loss_D:0.3198, Loss_G:-0.3858, rec_loss:0.1265, prior_loss:0.1244\n",
            "Wed Apr 17 20:19:32 2019\n",
            "[150/250]: D_real:0.8859, D_enc:0.0557, D_noise:0.0580, Loss_D:0.3930, Loss_G:-0.4067, rec_loss:0.1255, prior_loss:0.1242\n",
            "Wed Apr 17 20:20:12 2019\n",
            "[151/250]: D_real:0.8810, D_enc:0.0589, D_noise:0.0586, Loss_D:0.3862, Loss_G:-0.3915, rec_loss:0.1259, prior_loss:0.1294\n",
            "Wed Apr 17 20:20:52 2019\n",
            "[152/250]: D_real:0.9206, D_enc:0.0378, D_noise:0.0399, Loss_D:0.2952, Loss_G:-0.3434, rec_loss:0.1269, prior_loss:0.1321\n",
            "Wed Apr 17 20:21:32 2019\n",
            "[153/250]: D_real:0.8743, D_enc:0.0618, D_noise:0.0624, Loss_D:0.4072, Loss_G:-0.4184, rec_loss:0.1250, prior_loss:0.1315\n",
            "Wed Apr 17 20:22:12 2019\n",
            "[154/250]: D_real:0.9490, D_enc:0.0254, D_noise:0.0244, Loss_D:0.1946, Loss_G:-0.2650, rec_loss:0.1287, prior_loss:0.1254\n",
            "Wed Apr 17 20:22:52 2019\n",
            "[155/250]: D_real:0.9253, D_enc:0.0353, D_noise:0.0379, Loss_D:0.3011, Loss_G:-0.3346, rec_loss:0.1274, prior_loss:0.1284\n",
            "Wed Apr 17 20:23:32 2019\n",
            "[156/250]: D_real:0.8792, D_enc:0.0586, D_noise:0.0612, Loss_D:0.3937, Loss_G:-0.4147, rec_loss:0.1264, prior_loss:0.1297\n",
            "Wed Apr 17 20:24:11 2019\n",
            "[157/250]: D_real:0.8988, D_enc:0.0500, D_noise:0.0501, Loss_D:0.3430, Loss_G:-0.3819, rec_loss:0.1266, prior_loss:0.1325\n",
            "Wed Apr 17 20:24:51 2019\n",
            "[158/250]: D_real:0.9088, D_enc:0.0450, D_noise:0.0444, Loss_D:0.3361, Loss_G:-0.3587, rec_loss:0.1266, prior_loss:0.1299\n",
            "Wed Apr 17 20:25:31 2019\n",
            "[159/250]: D_real:0.9005, D_enc:0.0483, D_noise:0.0504, Loss_D:0.3460, Loss_G:-0.3826, rec_loss:0.1259, prior_loss:0.1325\n",
            "Wed Apr 17 20:26:11 2019\n",
            "[160/250]: D_real:0.8849, D_enc:0.0559, D_noise:0.0579, Loss_D:0.3941, Loss_G:-0.4068, rec_loss:0.1264, prior_loss:0.1307\n",
            "Wed Apr 17 20:26:52 2019\n",
            "[161/250]: D_real:0.9211, D_enc:0.0374, D_noise:0.0397, Loss_D:0.2693, Loss_G:-0.3100, rec_loss:0.1290, prior_loss:0.1293\n",
            "Wed Apr 17 20:27:32 2019\n",
            "[162/250]: D_real:0.9219, D_enc:0.0398, D_noise:0.0373, Loss_D:0.2704, Loss_G:-0.3228, rec_loss:0.1280, prior_loss:0.1270\n",
            "Wed Apr 17 20:28:11 2019\n",
            "[163/250]: D_real:0.9152, D_enc:0.0417, D_noise:0.0421, Loss_D:0.2983, Loss_G:-0.3225, rec_loss:0.1269, prior_loss:0.1316\n",
            "Wed Apr 17 20:28:51 2019\n",
            "[164/250]: D_real:0.8802, D_enc:0.0615, D_noise:0.0571, Loss_D:0.4200, Loss_G:-0.4127, rec_loss:0.1272, prior_loss:0.1279\n",
            "Wed Apr 17 20:29:31 2019\n",
            "[165/250]: D_real:0.9460, D_enc:0.0276, D_noise:0.0243, Loss_D:0.1987, Loss_G:-0.3066, rec_loss:0.1284, prior_loss:0.1283\n",
            "Wed Apr 17 20:30:12 2019\n",
            "[166/250]: D_real:0.9419, D_enc:0.0280, D_noise:0.0290, Loss_D:0.2004, Loss_G:-0.3054, rec_loss:0.1290, prior_loss:0.1320\n",
            "Wed Apr 17 20:30:52 2019\n",
            "[167/250]: D_real:0.9436, D_enc:0.0273, D_noise:0.0286, Loss_D:0.2462, Loss_G:-0.3236, rec_loss:0.1285, prior_loss:0.1297\n",
            "Wed Apr 17 20:31:32 2019\n",
            "[168/250]: D_real:0.9383, D_enc:0.0307, D_noise:0.0300, Loss_D:0.2110, Loss_G:-0.3111, rec_loss:0.1293, prior_loss:0.1343\n",
            "Wed Apr 17 20:32:12 2019\n",
            "[169/250]: D_real:0.9445, D_enc:0.0272, D_noise:0.0272, Loss_D:0.2226, Loss_G:-0.2545, rec_loss:0.1289, prior_loss:0.1303\n",
            "Wed Apr 17 20:32:51 2019\n",
            "[170/250]: D_real:0.9562, D_enc:0.0219, D_noise:0.0208, Loss_D:0.1686, Loss_G:-0.2478, rec_loss:0.1296, prior_loss:0.1343\n",
            "Wed Apr 17 20:33:31 2019\n",
            "[171/250]: D_real:0.9283, D_enc:0.0335, D_noise:0.0371, Loss_D:0.2667, Loss_G:-0.3161, rec_loss:0.1292, prior_loss:0.1345\n",
            "Wed Apr 17 20:34:11 2019\n",
            "[172/250]: D_real:0.9337, D_enc:0.0324, D_noise:0.0325, Loss_D:0.2426, Loss_G:-0.2869, rec_loss:0.1299, prior_loss:0.1373\n",
            "Wed Apr 17 20:34:51 2019\n",
            "[173/250]: D_real:0.9448, D_enc:0.0252, D_noise:0.0296, Loss_D:0.2125, Loss_G:-0.2737, rec_loss:0.1312, prior_loss:0.1312\n",
            "Wed Apr 17 20:35:31 2019\n",
            "[174/250]: D_real:0.9374, D_enc:0.0302, D_noise:0.0316, Loss_D:0.2367, Loss_G:-0.3327, rec_loss:0.1303, prior_loss:0.1378\n",
            "Wed Apr 17 20:36:11 2019\n",
            "[175/250]: D_real:0.9361, D_enc:0.0316, D_noise:0.0308, Loss_D:0.2447, Loss_G:-0.2974, rec_loss:0.1301, prior_loss:0.1381\n",
            "Wed Apr 17 20:36:51 2019\n",
            "[176/250]: D_real:0.9563, D_enc:0.0209, D_noise:0.0216, Loss_D:0.1757, Loss_G:-0.2548, rec_loss:0.1310, prior_loss:0.1384\n",
            "Wed Apr 17 20:37:31 2019\n",
            "[177/250]: D_real:0.9381, D_enc:0.0313, D_noise:0.0300, Loss_D:0.2378, Loss_G:-0.3274, rec_loss:0.1296, prior_loss:0.1391\n",
            "Wed Apr 17 20:38:11 2019\n",
            "[178/250]: D_real:0.9266, D_enc:0.0353, D_noise:0.0364, Loss_D:0.2770, Loss_G:-0.3017, rec_loss:0.1303, prior_loss:0.1391\n",
            "Wed Apr 17 20:38:51 2019\n",
            "[179/250]: D_real:0.9257, D_enc:0.0359, D_noise:0.0372, Loss_D:0.2676, Loss_G:-0.2787, rec_loss:0.1304, prior_loss:0.1342\n",
            "Wed Apr 17 20:39:31 2019\n",
            "[180/250]: D_real:0.9353, D_enc:0.0315, D_noise:0.0316, Loss_D:0.2382, Loss_G:-0.3055, rec_loss:0.1296, prior_loss:0.1356\n",
            "Wed Apr 17 20:40:11 2019\n",
            "[181/250]: D_real:0.9493, D_enc:0.0229, D_noise:0.0265, Loss_D:0.2070, Loss_G:-0.2720, rec_loss:0.1302, prior_loss:0.1379\n",
            "Wed Apr 17 20:40:51 2019\n",
            "[182/250]: D_real:0.9364, D_enc:0.0298, D_noise:0.0337, Loss_D:0.2267, Loss_G:-0.2678, rec_loss:0.1306, prior_loss:0.1363\n",
            "Wed Apr 17 20:41:31 2019\n",
            "[183/250]: D_real:0.9507, D_enc:0.0226, D_noise:0.0253, Loss_D:0.1870, Loss_G:-0.2563, rec_loss:0.1306, prior_loss:0.1415\n",
            "Wed Apr 17 20:42:11 2019\n",
            "[184/250]: D_real:0.9384, D_enc:0.0285, D_noise:0.0313, Loss_D:0.2324, Loss_G:-0.3141, rec_loss:0.1306, prior_loss:0.1355\n",
            "Wed Apr 17 20:42:51 2019\n",
            "[185/250]: D_real:0.9234, D_enc:0.0377, D_noise:0.0380, Loss_D:0.2928, Loss_G:-0.3238, rec_loss:0.1293, prior_loss:0.1425\n",
            "Wed Apr 17 20:43:31 2019\n",
            "[186/250]: D_real:0.9420, D_enc:0.0268, D_noise:0.0301, Loss_D:0.2042, Loss_G:-0.2699, rec_loss:0.1297, prior_loss:0.1427\n",
            "Wed Apr 17 20:44:11 2019\n",
            "[187/250]: D_real:0.9052, D_enc:0.0456, D_noise:0.0481, Loss_D:0.3305, Loss_G:-0.3378, rec_loss:0.1294, prior_loss:0.1403\n",
            "Wed Apr 17 20:44:51 2019\n",
            "[188/250]: D_real:0.9610, D_enc:0.0180, D_noise:0.0189, Loss_D:0.1446, Loss_G:-0.2272, rec_loss:0.1309, prior_loss:0.1376\n",
            "Wed Apr 17 20:45:31 2019\n",
            "[189/250]: D_real:0.8983, D_enc:0.0495, D_noise:0.0525, Loss_D:0.3796, Loss_G:-0.3796, rec_loss:0.1281, prior_loss:0.1397\n",
            "Wed Apr 17 20:46:11 2019\n",
            "[190/250]: D_real:0.9073, D_enc:0.0445, D_noise:0.0471, Loss_D:0.3147, Loss_G:-0.3311, rec_loss:0.1291, prior_loss:0.1431\n",
            "Wed Apr 17 20:46:51 2019\n",
            "[191/250]: D_real:0.9210, D_enc:0.0383, D_noise:0.0383, Loss_D:0.2728, Loss_G:-0.3159, rec_loss:0.1301, prior_loss:0.1441\n",
            "Wed Apr 17 20:47:31 2019\n",
            "[192/250]: D_real:0.9420, D_enc:0.0285, D_noise:0.0284, Loss_D:0.2072, Loss_G:-0.2679, rec_loss:0.1307, prior_loss:0.1414\n",
            "Wed Apr 17 20:48:11 2019\n",
            "[193/250]: D_real:0.8905, D_enc:0.0537, D_noise:0.0542, Loss_D:0.3949, Loss_G:-0.3886, rec_loss:0.1286, prior_loss:0.1385\n",
            "Wed Apr 17 20:48:51 2019\n",
            "[194/250]: D_real:0.9305, D_enc:0.0331, D_noise:0.0355, Loss_D:0.2643, Loss_G:-0.2906, rec_loss:0.1311, prior_loss:0.1426\n",
            "Wed Apr 17 20:49:31 2019\n",
            "[195/250]: D_real:0.9305, D_enc:0.0334, D_noise:0.0352, Loss_D:0.2461, Loss_G:-0.2944, rec_loss:0.1302, prior_loss:0.1376\n",
            "Wed Apr 17 20:50:10 2019\n",
            "[196/250]: D_real:0.9304, D_enc:0.0334, D_noise:0.0357, Loss_D:0.2463, Loss_G:-0.3203, rec_loss:0.1305, prior_loss:0.1427\n",
            "Wed Apr 17 20:50:50 2019\n",
            "[197/250]: D_real:0.9535, D_enc:0.0212, D_noise:0.0235, Loss_D:0.1503, Loss_G:-0.2482, rec_loss:0.1335, prior_loss:0.1440\n",
            "Wed Apr 17 20:51:30 2019\n",
            "[198/250]: D_real:0.9390, D_enc:0.0277, D_noise:0.0318, Loss_D:0.2489, Loss_G:-0.2882, rec_loss:0.1306, prior_loss:0.1447\n",
            "Wed Apr 17 20:52:10 2019\n",
            "[199/250]: D_real:0.9414, D_enc:0.0283, D_noise:0.0293, Loss_D:0.2111, Loss_G:-0.2969, rec_loss:0.1310, prior_loss:0.1491\n",
            "Wed Apr 17 20:52:50 2019\n",
            "[200/250]: D_real:0.9523, D_enc:0.0212, D_noise:0.0256, Loss_D:0.1744, Loss_G:-0.2425, rec_loss:0.1339, prior_loss:0.1442\n",
            "Wed Apr 17 20:53:30 2019\n",
            "[201/250]: D_real:0.9467, D_enc:0.0251, D_noise:0.0277, Loss_D:0.2579, Loss_G:-0.3087, rec_loss:0.1300, prior_loss:0.1397\n",
            "Wed Apr 17 20:54:10 2019\n",
            "[202/250]: D_real:0.9087, D_enc:0.0432, D_noise:0.0470, Loss_D:0.3165, Loss_G:-0.2972, rec_loss:0.1295, prior_loss:0.1392\n",
            "Wed Apr 17 20:54:50 2019\n",
            "[203/250]: D_real:0.9455, D_enc:0.0251, D_noise:0.0285, Loss_D:0.2076, Loss_G:-0.2900, rec_loss:0.1311, prior_loss:0.1456\n",
            "Wed Apr 17 20:55:30 2019\n",
            "[204/250]: D_real:0.9548, D_enc:0.0212, D_noise:0.0247, Loss_D:0.1628, Loss_G:-0.2164, rec_loss:0.1319, prior_loss:0.1467\n",
            "Wed Apr 17 20:56:10 2019\n",
            "[205/250]: D_real:0.9489, D_enc:0.0223, D_noise:0.0257, Loss_D:0.2025, Loss_G:-0.2426, rec_loss:0.1311, prior_loss:0.1433\n",
            "Wed Apr 17 20:56:50 2019\n",
            "[206/250]: D_real:0.8918, D_enc:0.0514, D_noise:0.0557, Loss_D:0.3802, Loss_G:-0.3591, rec_loss:0.1299, prior_loss:0.1486\n",
            "Wed Apr 17 20:57:30 2019\n",
            "[207/250]: D_real:0.9409, D_enc:0.0290, D_noise:0.0304, Loss_D:0.2310, Loss_G:-0.2706, rec_loss:0.1317, prior_loss:0.1498\n",
            "Wed Apr 17 20:58:10 2019\n",
            "[208/250]: D_real:0.9512, D_enc:0.0228, D_noise:0.0241, Loss_D:0.1813, Loss_G:-0.2423, rec_loss:0.1325, prior_loss:0.1477\n",
            "Wed Apr 17 20:58:50 2019\n",
            "[209/250]: D_real:0.9300, D_enc:0.0323, D_noise:0.0372, Loss_D:0.2700, Loss_G:-0.2896, rec_loss:0.1308, prior_loss:0.1448\n"
          ],
          "name": "stdout"
        },
        {
          "output_type": "error",
          "ename": "KeyboardInterrupt",
          "evalue": "ignored",
          "traceback": [
            "\u001b[0;31m---------------------------------------------------------------------------\u001b[0m",
            "\u001b[0;31mKeyboardInterrupt\u001b[0m                         Traceback (most recent call last)",
            "\u001b[0;32m<ipython-input-52-139e388c1cf2>\u001b[0m in \u001b[0;36m<module>\u001b[0;34m()\u001b[0m\n\u001b[1;32m      4\u001b[0m     \u001b[0mD_real_list\u001b[0m\u001b[0;34m,\u001b[0m \u001b[0mD_rec_enc_list\u001b[0m\u001b[0;34m,\u001b[0m \u001b[0mD_rec_noise_list\u001b[0m\u001b[0;34m,\u001b[0m \u001b[0mD_list\u001b[0m \u001b[0;34m=\u001b[0m\u001b[0mRunningAverage\u001b[0m\u001b[0;34m(\u001b[0m\u001b[0;34m)\u001b[0m\u001b[0;34m,\u001b[0m \u001b[0mRunningAverage\u001b[0m\u001b[0;34m(\u001b[0m\u001b[0;34m)\u001b[0m\u001b[0;34m,\u001b[0m \u001b[0mRunningAverage\u001b[0m\u001b[0;34m(\u001b[0m\u001b[0;34m)\u001b[0m\u001b[0;34m,\u001b[0m\u001b[0mRunningAverage\u001b[0m\u001b[0;34m(\u001b[0m\u001b[0;34m)\u001b[0m\u001b[0;34m\u001b[0m\u001b[0;34m\u001b[0m\u001b[0m\n\u001b[1;32m      5\u001b[0m     \u001b[0mg_loss_list\u001b[0m\u001b[0;34m,\u001b[0m \u001b[0mrec_loss_list\u001b[0m\u001b[0;34m,\u001b[0m \u001b[0mprior_loss_list\u001b[0m \u001b[0;34m=\u001b[0m \u001b[0mRunningAverage\u001b[0m\u001b[0;34m(\u001b[0m\u001b[0;34m)\u001b[0m\u001b[0;34m,\u001b[0m\u001b[0mRunningAverage\u001b[0m\u001b[0;34m(\u001b[0m\u001b[0;34m)\u001b[0m\u001b[0;34m,\u001b[0m\u001b[0mRunningAverage\u001b[0m\u001b[0;34m(\u001b[0m\u001b[0;34m)\u001b[0m\u001b[0;34m\u001b[0m\u001b[0;34m\u001b[0m\u001b[0m\n\u001b[0;32m----> 6\u001b[0;31m     \u001b[0;32mfor\u001b[0m \u001b[0mdata\u001b[0m\u001b[0;34m,\u001b[0m \u001b[0m_\u001b[0m \u001b[0;32min\u001b[0m \u001b[0mtrain_loader\u001b[0m\u001b[0;34m:\u001b[0m\u001b[0;34m\u001b[0m\u001b[0;34m\u001b[0m\u001b[0m\n\u001b[0m\u001b[1;32m      7\u001b[0m         \u001b[0mbatch_size\u001b[0m \u001b[0;34m=\u001b[0m \u001b[0mdata\u001b[0m\u001b[0;34m.\u001b[0m\u001b[0msize\u001b[0m\u001b[0;34m(\u001b[0m\u001b[0;34m)\u001b[0m\u001b[0;34m[\u001b[0m\u001b[0;36m0\u001b[0m\u001b[0;34m]\u001b[0m\u001b[0;34m\u001b[0m\u001b[0;34m\u001b[0m\u001b[0m\n\u001b[1;32m      8\u001b[0m         \u001b[0mones_label\u001b[0m \u001b[0;34m=\u001b[0m \u001b[0mVariable\u001b[0m\u001b[0;34m(\u001b[0m\u001b[0mtorch\u001b[0m\u001b[0;34m.\u001b[0m\u001b[0mones\u001b[0m\u001b[0;34m(\u001b[0m\u001b[0mbatch_size\u001b[0m\u001b[0;34m)\u001b[0m\u001b[0;34m)\u001b[0m\u001b[0;34m.\u001b[0m\u001b[0mcuda\u001b[0m\u001b[0;34m(\u001b[0m\u001b[0;34m)\u001b[0m\u001b[0;34m\u001b[0m\u001b[0;34m\u001b[0m\u001b[0m\n",
            "\u001b[0;32m/usr/local/lib/python3.6/dist-packages/torch/utils/data/dataloader.py\u001b[0m in \u001b[0;36m__next__\u001b[0;34m(self)\u001b[0m\n\u001b[1;32m    613\u001b[0m         \u001b[0;32mif\u001b[0m \u001b[0mself\u001b[0m\u001b[0;34m.\u001b[0m\u001b[0mnum_workers\u001b[0m \u001b[0;34m==\u001b[0m \u001b[0;36m0\u001b[0m\u001b[0;34m:\u001b[0m  \u001b[0;31m# same-process loading\u001b[0m\u001b[0;34m\u001b[0m\u001b[0;34m\u001b[0m\u001b[0m\n\u001b[1;32m    614\u001b[0m             \u001b[0mindices\u001b[0m \u001b[0;34m=\u001b[0m \u001b[0mnext\u001b[0m\u001b[0;34m(\u001b[0m\u001b[0mself\u001b[0m\u001b[0;34m.\u001b[0m\u001b[0msample_iter\u001b[0m\u001b[0;34m)\u001b[0m  \u001b[0;31m# may raise StopIteration\u001b[0m\u001b[0;34m\u001b[0m\u001b[0;34m\u001b[0m\u001b[0m\n\u001b[0;32m--> 615\u001b[0;31m             \u001b[0mbatch\u001b[0m \u001b[0;34m=\u001b[0m \u001b[0mself\u001b[0m\u001b[0;34m.\u001b[0m\u001b[0mcollate_fn\u001b[0m\u001b[0;34m(\u001b[0m\u001b[0;34m[\u001b[0m\u001b[0mself\u001b[0m\u001b[0;34m.\u001b[0m\u001b[0mdataset\u001b[0m\u001b[0;34m[\u001b[0m\u001b[0mi\u001b[0m\u001b[0;34m]\u001b[0m \u001b[0;32mfor\u001b[0m \u001b[0mi\u001b[0m \u001b[0;32min\u001b[0m \u001b[0mindices\u001b[0m\u001b[0;34m]\u001b[0m\u001b[0;34m)\u001b[0m\u001b[0;34m\u001b[0m\u001b[0;34m\u001b[0m\u001b[0m\n\u001b[0m\u001b[1;32m    616\u001b[0m             \u001b[0;32mif\u001b[0m \u001b[0mself\u001b[0m\u001b[0;34m.\u001b[0m\u001b[0mpin_memory\u001b[0m\u001b[0;34m:\u001b[0m\u001b[0;34m\u001b[0m\u001b[0;34m\u001b[0m\u001b[0m\n\u001b[1;32m    617\u001b[0m                 \u001b[0mbatch\u001b[0m \u001b[0;34m=\u001b[0m \u001b[0mpin_memory_batch\u001b[0m\u001b[0;34m(\u001b[0m\u001b[0mbatch\u001b[0m\u001b[0;34m)\u001b[0m\u001b[0;34m\u001b[0m\u001b[0;34m\u001b[0m\u001b[0m\n",
            "\u001b[0;32m/usr/local/lib/python3.6/dist-packages/torch/utils/data/dataloader.py\u001b[0m in \u001b[0;36m<listcomp>\u001b[0;34m(.0)\u001b[0m\n\u001b[1;32m    613\u001b[0m         \u001b[0;32mif\u001b[0m \u001b[0mself\u001b[0m\u001b[0;34m.\u001b[0m\u001b[0mnum_workers\u001b[0m \u001b[0;34m==\u001b[0m \u001b[0;36m0\u001b[0m\u001b[0;34m:\u001b[0m  \u001b[0;31m# same-process loading\u001b[0m\u001b[0;34m\u001b[0m\u001b[0;34m\u001b[0m\u001b[0m\n\u001b[1;32m    614\u001b[0m             \u001b[0mindices\u001b[0m \u001b[0;34m=\u001b[0m \u001b[0mnext\u001b[0m\u001b[0;34m(\u001b[0m\u001b[0mself\u001b[0m\u001b[0;34m.\u001b[0m\u001b[0msample_iter\u001b[0m\u001b[0;34m)\u001b[0m  \u001b[0;31m# may raise StopIteration\u001b[0m\u001b[0;34m\u001b[0m\u001b[0;34m\u001b[0m\u001b[0m\n\u001b[0;32m--> 615\u001b[0;31m             \u001b[0mbatch\u001b[0m \u001b[0;34m=\u001b[0m \u001b[0mself\u001b[0m\u001b[0;34m.\u001b[0m\u001b[0mcollate_fn\u001b[0m\u001b[0;34m(\u001b[0m\u001b[0;34m[\u001b[0m\u001b[0mself\u001b[0m\u001b[0;34m.\u001b[0m\u001b[0mdataset\u001b[0m\u001b[0;34m[\u001b[0m\u001b[0mi\u001b[0m\u001b[0;34m]\u001b[0m \u001b[0;32mfor\u001b[0m \u001b[0mi\u001b[0m \u001b[0;32min\u001b[0m \u001b[0mindices\u001b[0m\u001b[0;34m]\u001b[0m\u001b[0;34m)\u001b[0m\u001b[0;34m\u001b[0m\u001b[0;34m\u001b[0m\u001b[0m\n\u001b[0m\u001b[1;32m    616\u001b[0m             \u001b[0;32mif\u001b[0m \u001b[0mself\u001b[0m\u001b[0;34m.\u001b[0m\u001b[0mpin_memory\u001b[0m\u001b[0;34m:\u001b[0m\u001b[0;34m\u001b[0m\u001b[0;34m\u001b[0m\u001b[0m\n\u001b[1;32m    617\u001b[0m                 \u001b[0mbatch\u001b[0m \u001b[0;34m=\u001b[0m \u001b[0mpin_memory_batch\u001b[0m\u001b[0;34m(\u001b[0m\u001b[0mbatch\u001b[0m\u001b[0;34m)\u001b[0m\u001b[0;34m\u001b[0m\u001b[0;34m\u001b[0m\u001b[0m\n",
            "\u001b[0;32m/usr/local/lib/python3.6/dist-packages/torchvision/datasets/mnist.py\u001b[0m in \u001b[0;36m__getitem__\u001b[0;34m(self, index)\u001b[0m\n\u001b[1;32m     93\u001b[0m \u001b[0;34m\u001b[0m\u001b[0m\n\u001b[1;32m     94\u001b[0m         \u001b[0;32mif\u001b[0m \u001b[0mself\u001b[0m\u001b[0;34m.\u001b[0m\u001b[0mtransform\u001b[0m \u001b[0;32mis\u001b[0m \u001b[0;32mnot\u001b[0m \u001b[0;32mNone\u001b[0m\u001b[0;34m:\u001b[0m\u001b[0;34m\u001b[0m\u001b[0;34m\u001b[0m\u001b[0m\n\u001b[0;32m---> 95\u001b[0;31m             \u001b[0mimg\u001b[0m \u001b[0;34m=\u001b[0m \u001b[0mself\u001b[0m\u001b[0;34m.\u001b[0m\u001b[0mtransform\u001b[0m\u001b[0;34m(\u001b[0m\u001b[0mimg\u001b[0m\u001b[0;34m)\u001b[0m\u001b[0;34m\u001b[0m\u001b[0;34m\u001b[0m\u001b[0m\n\u001b[0m\u001b[1;32m     96\u001b[0m \u001b[0;34m\u001b[0m\u001b[0m\n\u001b[1;32m     97\u001b[0m         \u001b[0;32mif\u001b[0m \u001b[0mself\u001b[0m\u001b[0;34m.\u001b[0m\u001b[0mtarget_transform\u001b[0m \u001b[0;32mis\u001b[0m \u001b[0;32mnot\u001b[0m \u001b[0;32mNone\u001b[0m\u001b[0;34m:\u001b[0m\u001b[0;34m\u001b[0m\u001b[0;34m\u001b[0m\u001b[0m\n",
            "\u001b[0;31mKeyboardInterrupt\u001b[0m: "
          ]
        },
        {
          "output_type": "display_data",
          "data": {
            "text/plain": [
              "<Figure size 1800x1200 with 0 Axes>"
            ]
          },
          "metadata": {
            "tags": []
          }
        },
        {
          "output_type": "display_data",
          "data": {
            "text/plain": [
              "<Figure size 1800x1200 with 0 Axes>"
            ]
          },
          "metadata": {
            "tags": []
          }
        },
        {
          "output_type": "display_data",
          "data": {
            "text/plain": [
              "<Figure size 1800x1200 with 0 Axes>"
            ]
          },
          "metadata": {
            "tags": []
          }
        },
        {
          "output_type": "display_data",
          "data": {
            "text/plain": [
              "<Figure size 1800x1200 with 0 Axes>"
            ]
          },
          "metadata": {
            "tags": []
          }
        },
        {
          "output_type": "display_data",
          "data": {
            "text/plain": [
              "<Figure size 1800x1200 with 0 Axes>"
            ]
          },
          "metadata": {
            "tags": []
          }
        },
        {
          "output_type": "display_data",
          "data": {
            "text/plain": [
              "<Figure size 1800x1200 with 0 Axes>"
            ]
          },
          "metadata": {
            "tags": []
          }
        },
        {
          "output_type": "display_data",
          "data": {
            "text/plain": [
              "<Figure size 1800x1200 with 0 Axes>"
            ]
          },
          "metadata": {
            "tags": []
          }
        },
        {
          "output_type": "display_data",
          "data": {
            "text/plain": [
              "<Figure size 1800x1200 with 0 Axes>"
            ]
          },
          "metadata": {
            "tags": []
          }
        },
        {
          "output_type": "display_data",
          "data": {
            "text/plain": [
              "<Figure size 1800x1200 with 0 Axes>"
            ]
          },
          "metadata": {
            "tags": []
          }
        },
        {
          "output_type": "display_data",
          "data": {
            "text/plain": [
              "<Figure size 1800x1200 with 0 Axes>"
            ]
          },
          "metadata": {
            "tags": []
          }
        },
        {
          "output_type": "display_data",
          "data": {
            "text/plain": [
              "<Figure size 1800x1200 with 0 Axes>"
            ]
          },
          "metadata": {
            "tags": []
          }
        },
        {
          "output_type": "display_data",
          "data": {
            "text/plain": [
              "<Figure size 1800x1200 with 0 Axes>"
            ]
          },
          "metadata": {
            "tags": []
          }
        },
        {
          "output_type": "display_data",
          "data": {
            "text/plain": [
              "<Figure size 1800x1200 with 0 Axes>"
            ]
          },
          "metadata": {
            "tags": []
          }
        },
        {
          "output_type": "display_data",
          "data": {
            "text/plain": [
              "<Figure size 1800x1200 with 0 Axes>"
            ]
          },
          "metadata": {
            "tags": []
          }
        },
        {
          "output_type": "display_data",
          "data": {
            "text/plain": [
              "<Figure size 1800x1200 with 0 Axes>"
            ]
          },
          "metadata": {
            "tags": []
          }
        },
        {
          "output_type": "display_data",
          "data": {
            "text/plain": [
              "<Figure size 1800x1200 with 0 Axes>"
            ]
          },
          "metadata": {
            "tags": []
          }
        },
        {
          "output_type": "display_data",
          "data": {
            "text/plain": [
              "<Figure size 1800x1200 with 0 Axes>"
            ]
          },
          "metadata": {
            "tags": []
          }
        },
        {
          "output_type": "display_data",
          "data": {
            "text/plain": [
              "<Figure size 1800x1200 with 0 Axes>"
            ]
          },
          "metadata": {
            "tags": []
          }
        },
        {
          "output_type": "display_data",
          "data": {
            "text/plain": [
              "<Figure size 1800x1200 with 0 Axes>"
            ]
          },
          "metadata": {
            "tags": []
          }
        },
        {
          "output_type": "display_data",
          "data": {
            "text/plain": [
              "<Figure size 1800x1200 with 0 Axes>"
            ]
          },
          "metadata": {
            "tags": []
          }
        },
        {
          "output_type": "display_data",
          "data": {
            "text/plain": [
              "<Figure size 1800x1200 with 0 Axes>"
            ]
          },
          "metadata": {
            "tags": []
          }
        },
        {
          "output_type": "display_data",
          "data": {
            "text/plain": [
              "<Figure size 1800x1200 with 0 Axes>"
            ]
          },
          "metadata": {
            "tags": []
          }
        },
        {
          "output_type": "display_data",
          "data": {
            "text/plain": [
              "<Figure size 1800x1200 with 0 Axes>"
            ]
          },
          "metadata": {
            "tags": []
          }
        },
        {
          "output_type": "display_data",
          "data": {
            "text/plain": [
              "<Figure size 1800x1200 with 0 Axes>"
            ]
          },
          "metadata": {
            "tags": []
          }
        },
        {
          "output_type": "display_data",
          "data": {
            "text/plain": [
              "<Figure size 1800x1200 with 0 Axes>"
            ]
          },
          "metadata": {
            "tags": []
          }
        },
        {
          "output_type": "display_data",
          "data": {
            "text/plain": [
              "<Figure size 1800x1200 with 0 Axes>"
            ]
          },
          "metadata": {
            "tags": []
          }
        },
        {
          "output_type": "display_data",
          "data": {
            "text/plain": [
              "<Figure size 1800x1200 with 0 Axes>"
            ]
          },
          "metadata": {
            "tags": []
          }
        },
        {
          "output_type": "display_data",
          "data": {
            "text/plain": [
              "<Figure size 1800x1200 with 0 Axes>"
            ]
          },
          "metadata": {
            "tags": []
          }
        },
        {
          "output_type": "display_data",
          "data": {
            "text/plain": [
              "<Figure size 1800x1200 with 0 Axes>"
            ]
          },
          "metadata": {
            "tags": []
          }
        },
        {
          "output_type": "display_data",
          "data": {
            "text/plain": [
              "<Figure size 1800x1200 with 0 Axes>"
            ]
          },
          "metadata": {
            "tags": []
          }
        },
        {
          "output_type": "display_data",
          "data": {
            "text/plain": [
              "<Figure size 1800x1200 with 0 Axes>"
            ]
          },
          "metadata": {
            "tags": []
          }
        },
        {
          "output_type": "display_data",
          "data": {
            "text/plain": [
              "<Figure size 1800x1200 with 0 Axes>"
            ]
          },
          "metadata": {
            "tags": []
          }
        },
        {
          "output_type": "display_data",
          "data": {
            "text/plain": [
              "<Figure size 1800x1200 with 0 Axes>"
            ]
          },
          "metadata": {
            "tags": []
          }
        },
        {
          "output_type": "display_data",
          "data": {
            "text/plain": [
              "<Figure size 1800x1200 with 0 Axes>"
            ]
          },
          "metadata": {
            "tags": []
          }
        },
        {
          "output_type": "display_data",
          "data": {
            "text/plain": [
              "<Figure size 1800x1200 with 0 Axes>"
            ]
          },
          "metadata": {
            "tags": []
          }
        },
        {
          "output_type": "display_data",
          "data": {
            "text/plain": [
              "<Figure size 1800x1200 with 0 Axes>"
            ]
          },
          "metadata": {
            "tags": []
          }
        },
        {
          "output_type": "display_data",
          "data": {
            "text/plain": [
              "<Figure size 1800x1200 with 0 Axes>"
            ]
          },
          "metadata": {
            "tags": []
          }
        },
        {
          "output_type": "display_data",
          "data": {
            "text/plain": [
              "<Figure size 1800x1200 with 0 Axes>"
            ]
          },
          "metadata": {
            "tags": []
          }
        },
        {
          "output_type": "display_data",
          "data": {
            "text/plain": [
              "<Figure size 1800x1200 with 0 Axes>"
            ]
          },
          "metadata": {
            "tags": []
          }
        },
        {
          "output_type": "display_data",
          "data": {
            "text/plain": [
              "<Figure size 1800x1200 with 0 Axes>"
            ]
          },
          "metadata": {
            "tags": []
          }
        },
        {
          "output_type": "display_data",
          "data": {
            "text/plain": [
              "<Figure size 1800x1200 with 0 Axes>"
            ]
          },
          "metadata": {
            "tags": []
          }
        },
        {
          "output_type": "display_data",
          "data": {
            "text/plain": [
              "<Figure size 1800x1200 with 0 Axes>"
            ]
          },
          "metadata": {
            "tags": []
          }
        },
        {
          "output_type": "display_data",
          "data": {
            "text/plain": [
              "<Figure size 1800x1200 with 0 Axes>"
            ]
          },
          "metadata": {
            "tags": []
          }
        },
        {
          "output_type": "display_data",
          "data": {
            "text/plain": [
              "<Figure size 1800x1200 with 0 Axes>"
            ]
          },
          "metadata": {
            "tags": []
          }
        },
        {
          "output_type": "display_data",
          "data": {
            "text/plain": [
              "<Figure size 1800x1200 with 0 Axes>"
            ]
          },
          "metadata": {
            "tags": []
          }
        },
        {
          "output_type": "display_data",
          "data": {
            "text/plain": [
              "<Figure size 1800x1200 with 0 Axes>"
            ]
          },
          "metadata": {
            "tags": []
          }
        },
        {
          "output_type": "display_data",
          "data": {
            "text/plain": [
              "<Figure size 1800x1200 with 0 Axes>"
            ]
          },
          "metadata": {
            "tags": []
          }
        },
        {
          "output_type": "display_data",
          "data": {
            "text/plain": [
              "<Figure size 1800x1200 with 0 Axes>"
            ]
          },
          "metadata": {
            "tags": []
          }
        },
        {
          "output_type": "display_data",
          "data": {
            "text/plain": [
              "<Figure size 1800x1200 with 0 Axes>"
            ]
          },
          "metadata": {
            "tags": []
          }
        },
        {
          "output_type": "display_data",
          "data": {
            "text/plain": [
              "<Figure size 1800x1200 with 0 Axes>"
            ]
          },
          "metadata": {
            "tags": []
          }
        },
        {
          "output_type": "display_data",
          "data": {
            "text/plain": [
              "<Figure size 1800x1200 with 0 Axes>"
            ]
          },
          "metadata": {
            "tags": []
          }
        },
        {
          "output_type": "display_data",
          "data": {
            "text/plain": [
              "<Figure size 1800x1200 with 0 Axes>"
            ]
          },
          "metadata": {
            "tags": []
          }
        },
        {
          "output_type": "display_data",
          "data": {
            "text/plain": [
              "<Figure size 1800x1200 with 0 Axes>"
            ]
          },
          "metadata": {
            "tags": []
          }
        },
        {
          "output_type": "display_data",
          "data": {
            "text/plain": [
              "<Figure size 1800x1200 with 0 Axes>"
            ]
          },
          "metadata": {
            "tags": []
          }
        },
        {
          "output_type": "display_data",
          "data": {
            "text/plain": [
              "<Figure size 1800x1200 with 0 Axes>"
            ]
          },
          "metadata": {
            "tags": []
          }
        },
        {
          "output_type": "display_data",
          "data": {
            "text/plain": [
              "<Figure size 1800x1200 with 0 Axes>"
            ]
          },
          "metadata": {
            "tags": []
          }
        },
        {
          "output_type": "display_data",
          "data": {
            "text/plain": [
              "<Figure size 1800x1200 with 0 Axes>"
            ]
          },
          "metadata": {
            "tags": []
          }
        },
        {
          "output_type": "display_data",
          "data": {
            "text/plain": [
              "<Figure size 1800x1200 with 0 Axes>"
            ]
          },
          "metadata": {
            "tags": []
          }
        },
        {
          "output_type": "display_data",
          "data": {
            "text/plain": [
              "<Figure size 1800x1200 with 0 Axes>"
            ]
          },
          "metadata": {
            "tags": []
          }
        },
        {
          "output_type": "display_data",
          "data": {
            "text/plain": [
              "<Figure size 1800x1200 with 0 Axes>"
            ]
          },
          "metadata": {
            "tags": []
          }
        },
        {
          "output_type": "display_data",
          "data": {
            "text/plain": [
              "<Figure size 1800x1200 with 0 Axes>"
            ]
          },
          "metadata": {
            "tags": []
          }
        },
        {
          "output_type": "display_data",
          "data": {
            "text/plain": [
              "<Figure size 1800x1200 with 0 Axes>"
            ]
          },
          "metadata": {
            "tags": []
          }
        },
        {
          "output_type": "display_data",
          "data": {
            "text/plain": [
              "<Figure size 1800x1200 with 0 Axes>"
            ]
          },
          "metadata": {
            "tags": []
          }
        },
        {
          "output_type": "display_data",
          "data": {
            "text/plain": [
              "<Figure size 1800x1200 with 0 Axes>"
            ]
          },
          "metadata": {
            "tags": []
          }
        },
        {
          "output_type": "display_data",
          "data": {
            "text/plain": [
              "<Figure size 1800x1200 with 0 Axes>"
            ]
          },
          "metadata": {
            "tags": []
          }
        },
        {
          "output_type": "display_data",
          "data": {
            "text/plain": [
              "<Figure size 1800x1200 with 0 Axes>"
            ]
          },
          "metadata": {
            "tags": []
          }
        },
        {
          "output_type": "display_data",
          "data": {
            "text/plain": [
              "<Figure size 1800x1200 with 0 Axes>"
            ]
          },
          "metadata": {
            "tags": []
          }
        },
        {
          "output_type": "display_data",
          "data": {
            "text/plain": [
              "<Figure size 1800x1200 with 0 Axes>"
            ]
          },
          "metadata": {
            "tags": []
          }
        },
        {
          "output_type": "display_data",
          "data": {
            "text/plain": [
              "<Figure size 1800x1200 with 0 Axes>"
            ]
          },
          "metadata": {
            "tags": []
          }
        },
        {
          "output_type": "display_data",
          "data": {
            "text/plain": [
              "<Figure size 1800x1200 with 0 Axes>"
            ]
          },
          "metadata": {
            "tags": []
          }
        },
        {
          "output_type": "display_data",
          "data": {
            "text/plain": [
              "<Figure size 1800x1200 with 0 Axes>"
            ]
          },
          "metadata": {
            "tags": []
          }
        },
        {
          "output_type": "display_data",
          "data": {
            "text/plain": [
              "<Figure size 1800x1200 with 0 Axes>"
            ]
          },
          "metadata": {
            "tags": []
          }
        },
        {
          "output_type": "display_data",
          "data": {
            "text/plain": [
              "<Figure size 1800x1200 with 0 Axes>"
            ]
          },
          "metadata": {
            "tags": []
          }
        },
        {
          "output_type": "display_data",
          "data": {
            "text/plain": [
              "<Figure size 1800x1200 with 0 Axes>"
            ]
          },
          "metadata": {
            "tags": []
          }
        },
        {
          "output_type": "display_data",
          "data": {
            "text/plain": [
              "<Figure size 1800x1200 with 0 Axes>"
            ]
          },
          "metadata": {
            "tags": []
          }
        },
        {
          "output_type": "display_data",
          "data": {
            "text/plain": [
              "<Figure size 1800x1200 with 0 Axes>"
            ]
          },
          "metadata": {
            "tags": []
          }
        },
        {
          "output_type": "display_data",
          "data": {
            "text/plain": [
              "<Figure size 1800x1200 with 0 Axes>"
            ]
          },
          "metadata": {
            "tags": []
          }
        },
        {
          "output_type": "display_data",
          "data": {
            "text/plain": [
              "<Figure size 1800x1200 with 0 Axes>"
            ]
          },
          "metadata": {
            "tags": []
          }
        },
        {
          "output_type": "display_data",
          "data": {
            "text/plain": [
              "<Figure size 1800x1200 with 0 Axes>"
            ]
          },
          "metadata": {
            "tags": []
          }
        },
        {
          "output_type": "display_data",
          "data": {
            "text/plain": [
              "<Figure size 1800x1200 with 0 Axes>"
            ]
          },
          "metadata": {
            "tags": []
          }
        },
        {
          "output_type": "display_data",
          "data": {
            "text/plain": [
              "<Figure size 1800x1200 with 0 Axes>"
            ]
          },
          "metadata": {
            "tags": []
          }
        },
        {
          "output_type": "display_data",
          "data": {
            "text/plain": [
              "<Figure size 1800x1200 with 0 Axes>"
            ]
          },
          "metadata": {
            "tags": []
          }
        },
        {
          "output_type": "display_data",
          "data": {
            "text/plain": [
              "<Figure size 1800x1200 with 0 Axes>"
            ]
          },
          "metadata": {
            "tags": []
          }
        },
        {
          "output_type": "display_data",
          "data": {
            "text/plain": [
              "<Figure size 1800x1200 with 0 Axes>"
            ]
          },
          "metadata": {
            "tags": []
          }
        },
        {
          "output_type": "display_data",
          "data": {
            "text/plain": [
              "<Figure size 1800x1200 with 0 Axes>"
            ]
          },
          "metadata": {
            "tags": []
          }
        },
        {
          "output_type": "display_data",
          "data": {
            "text/plain": [
              "<Figure size 1800x1200 with 0 Axes>"
            ]
          },
          "metadata": {
            "tags": []
          }
        },
        {
          "output_type": "display_data",
          "data": {
            "text/plain": [
              "<Figure size 1800x1200 with 0 Axes>"
            ]
          },
          "metadata": {
            "tags": []
          }
        },
        {
          "output_type": "display_data",
          "data": {
            "text/plain": [
              "<Figure size 1800x1200 with 0 Axes>"
            ]
          },
          "metadata": {
            "tags": []
          }
        },
        {
          "output_type": "display_data",
          "data": {
            "text/plain": [
              "<Figure size 1800x1200 with 0 Axes>"
            ]
          },
          "metadata": {
            "tags": []
          }
        },
        {
          "output_type": "display_data",
          "data": {
            "text/plain": [
              "<Figure size 1800x1200 with 0 Axes>"
            ]
          },
          "metadata": {
            "tags": []
          }
        },
        {
          "output_type": "display_data",
          "data": {
            "text/plain": [
              "<Figure size 1800x1200 with 0 Axes>"
            ]
          },
          "metadata": {
            "tags": []
          }
        },
        {
          "output_type": "display_data",
          "data": {
            "text/plain": [
              "<Figure size 1800x1200 with 0 Axes>"
            ]
          },
          "metadata": {
            "tags": []
          }
        },
        {
          "output_type": "display_data",
          "data": {
            "text/plain": [
              "<Figure size 1800x1200 with 0 Axes>"
            ]
          },
          "metadata": {
            "tags": []
          }
        },
        {
          "output_type": "display_data",
          "data": {
            "text/plain": [
              "<Figure size 1800x1200 with 0 Axes>"
            ]
          },
          "metadata": {
            "tags": []
          }
        },
        {
          "output_type": "display_data",
          "data": {
            "text/plain": [
              "<Figure size 1800x1200 with 0 Axes>"
            ]
          },
          "metadata": {
            "tags": []
          }
        },
        {
          "output_type": "display_data",
          "data": {
            "text/plain": [
              "<Figure size 1800x1200 with 0 Axes>"
            ]
          },
          "metadata": {
            "tags": []
          }
        },
        {
          "output_type": "display_data",
          "data": {
            "text/plain": [
              "<Figure size 1800x1200 with 0 Axes>"
            ]
          },
          "metadata": {
            "tags": []
          }
        },
        {
          "output_type": "display_data",
          "data": {
            "text/plain": [
              "<Figure size 1800x1200 with 0 Axes>"
            ]
          },
          "metadata": {
            "tags": []
          }
        },
        {
          "output_type": "display_data",
          "data": {
            "text/plain": [
              "<Figure size 1800x1200 with 0 Axes>"
            ]
          },
          "metadata": {
            "tags": []
          }
        },
        {
          "output_type": "display_data",
          "data": {
            "text/plain": [
              "<Figure size 1800x1200 with 0 Axes>"
            ]
          },
          "metadata": {
            "tags": []
          }
        },
        {
          "output_type": "display_data",
          "data": {
            "text/plain": [
              "<Figure size 1800x1200 with 0 Axes>"
            ]
          },
          "metadata": {
            "tags": []
          }
        },
        {
          "output_type": "display_data",
          "data": {
            "text/plain": [
              "<Figure size 1800x1200 with 0 Axes>"
            ]
          },
          "metadata": {
            "tags": []
          }
        },
        {
          "output_type": "display_data",
          "data": {
            "text/plain": [
              "<Figure size 1800x1200 with 0 Axes>"
            ]
          },
          "metadata": {
            "tags": []
          }
        },
        {
          "output_type": "display_data",
          "data": {
            "text/plain": [
              "<Figure size 1800x1200 with 0 Axes>"
            ]
          },
          "metadata": {
            "tags": []
          }
        },
        {
          "output_type": "display_data",
          "data": {
            "text/plain": [
              "<Figure size 1800x1200 with 0 Axes>"
            ]
          },
          "metadata": {
            "tags": []
          }
        },
        {
          "output_type": "display_data",
          "data": {
            "text/plain": [
              "<Figure size 1800x1200 with 0 Axes>"
            ]
          },
          "metadata": {
            "tags": []
          }
        },
        {
          "output_type": "display_data",
          "data": {
            "text/plain": [
              "<Figure size 1800x1200 with 0 Axes>"
            ]
          },
          "metadata": {
            "tags": []
          }
        },
        {
          "output_type": "display_data",
          "data": {
            "text/plain": [
              "<Figure size 1800x1200 with 0 Axes>"
            ]
          },
          "metadata": {
            "tags": []
          }
        },
        {
          "output_type": "display_data",
          "data": {
            "text/plain": [
              "<Figure size 1800x1200 with 0 Axes>"
            ]
          },
          "metadata": {
            "tags": []
          }
        },
        {
          "output_type": "display_data",
          "data": {
            "text/plain": [
              "<Figure size 1800x1200 with 0 Axes>"
            ]
          },
          "metadata": {
            "tags": []
          }
        },
        {
          "output_type": "display_data",
          "data": {
            "text/plain": [
              "<Figure size 1800x1200 with 0 Axes>"
            ]
          },
          "metadata": {
            "tags": []
          }
        },
        {
          "output_type": "display_data",
          "data": {
            "text/plain": [
              "<Figure size 1800x1200 with 0 Axes>"
            ]
          },
          "metadata": {
            "tags": []
          }
        },
        {
          "output_type": "display_data",
          "data": {
            "text/plain": [
              "<Figure size 1800x1200 with 0 Axes>"
            ]
          },
          "metadata": {
            "tags": []
          }
        },
        {
          "output_type": "display_data",
          "data": {
            "text/plain": [
              "<Figure size 1800x1200 with 0 Axes>"
            ]
          },
          "metadata": {
            "tags": []
          }
        },
        {
          "output_type": "display_data",
          "data": {
            "text/plain": [
              "<Figure size 1800x1200 with 0 Axes>"
            ]
          },
          "metadata": {
            "tags": []
          }
        },
        {
          "output_type": "display_data",
          "data": {
            "text/plain": [
              "<Figure size 1800x1200 with 0 Axes>"
            ]
          },
          "metadata": {
            "tags": []
          }
        },
        {
          "output_type": "display_data",
          "data": {
            "text/plain": [
              "<Figure size 1800x1200 with 0 Axes>"
            ]
          },
          "metadata": {
            "tags": []
          }
        },
        {
          "output_type": "display_data",
          "data": {
            "text/plain": [
              "<Figure size 1800x1200 with 0 Axes>"
            ]
          },
          "metadata": {
            "tags": []
          }
        },
        {
          "output_type": "display_data",
          "data": {
            "text/plain": [
              "<Figure size 1800x1200 with 0 Axes>"
            ]
          },
          "metadata": {
            "tags": []
          }
        },
        {
          "output_type": "display_data",
          "data": {
            "text/plain": [
              "<Figure size 1800x1200 with 0 Axes>"
            ]
          },
          "metadata": {
            "tags": []
          }
        },
        {
          "output_type": "display_data",
          "data": {
            "text/plain": [
              "<Figure size 1800x1200 with 0 Axes>"
            ]
          },
          "metadata": {
            "tags": []
          }
        },
        {
          "output_type": "display_data",
          "data": {
            "text/plain": [
              "<Figure size 1800x1200 with 0 Axes>"
            ]
          },
          "metadata": {
            "tags": []
          }
        },
        {
          "output_type": "display_data",
          "data": {
            "text/plain": [
              "<Figure size 1800x1200 with 0 Axes>"
            ]
          },
          "metadata": {
            "tags": []
          }
        },
        {
          "output_type": "display_data",
          "data": {
            "text/plain": [
              "<Figure size 1800x1200 with 0 Axes>"
            ]
          },
          "metadata": {
            "tags": []
          }
        },
        {
          "output_type": "display_data",
          "data": {
            "text/plain": [
              "<Figure size 1800x1200 with 0 Axes>"
            ]
          },
          "metadata": {
            "tags": []
          }
        },
        {
          "output_type": "display_data",
          "data": {
            "text/plain": [
              "<Figure size 1800x1200 with 0 Axes>"
            ]
          },
          "metadata": {
            "tags": []
          }
        },
        {
          "output_type": "display_data",
          "data": {
            "text/plain": [
              "<Figure size 1800x1200 with 0 Axes>"
            ]
          },
          "metadata": {
            "tags": []
          }
        },
        {
          "output_type": "display_data",
          "data": {
            "text/plain": [
              "<Figure size 1800x1200 with 0 Axes>"
            ]
          },
          "metadata": {
            "tags": []
          }
        },
        {
          "output_type": "display_data",
          "data": {
            "text/plain": [
              "<Figure size 1800x1200 with 0 Axes>"
            ]
          },
          "metadata": {
            "tags": []
          }
        },
        {
          "output_type": "display_data",
          "data": {
            "text/plain": [
              "<Figure size 1800x1200 with 0 Axes>"
            ]
          },
          "metadata": {
            "tags": []
          }
        },
        {
          "output_type": "display_data",
          "data": {
            "text/plain": [
              "<Figure size 1800x1200 with 0 Axes>"
            ]
          },
          "metadata": {
            "tags": []
          }
        },
        {
          "output_type": "display_data",
          "data": {
            "text/plain": [
              "<Figure size 1800x1200 with 0 Axes>"
            ]
          },
          "metadata": {
            "tags": []
          }
        },
        {
          "output_type": "display_data",
          "data": {
            "text/plain": [
              "<Figure size 1800x1200 with 0 Axes>"
            ]
          },
          "metadata": {
            "tags": []
          }
        },
        {
          "output_type": "display_data",
          "data": {
            "text/plain": [
              "<Figure size 1800x1200 with 0 Axes>"
            ]
          },
          "metadata": {
            "tags": []
          }
        },
        {
          "output_type": "display_data",
          "data": {
            "text/plain": [
              "<Figure size 1800x1200 with 0 Axes>"
            ]
          },
          "metadata": {
            "tags": []
          }
        },
        {
          "output_type": "display_data",
          "data": {
            "text/plain": [
              "<Figure size 1800x1200 with 0 Axes>"
            ]
          },
          "metadata": {
            "tags": []
          }
        },
        {
          "output_type": "display_data",
          "data": {
            "text/plain": [
              "<Figure size 1800x1200 with 0 Axes>"
            ]
          },
          "metadata": {
            "tags": []
          }
        },
        {
          "output_type": "display_data",
          "data": {
            "text/plain": [
              "<Figure size 1800x1200 with 0 Axes>"
            ]
          },
          "metadata": {
            "tags": []
          }
        },
        {
          "output_type": "display_data",
          "data": {
            "text/plain": [
              "<Figure size 1800x1200 with 0 Axes>"
            ]
          },
          "metadata": {
            "tags": []
          }
        },
        {
          "output_type": "display_data",
          "data": {
            "text/plain": [
              "<Figure size 1800x1200 with 0 Axes>"
            ]
          },
          "metadata": {
            "tags": []
          }
        },
        {
          "output_type": "display_data",
          "data": {
            "text/plain": [
              "<Figure size 1800x1200 with 0 Axes>"
            ]
          },
          "metadata": {
            "tags": []
          }
        },
        {
          "output_type": "display_data",
          "data": {
            "text/plain": [
              "<Figure size 1800x1200 with 0 Axes>"
            ]
          },
          "metadata": {
            "tags": []
          }
        },
        {
          "output_type": "display_data",
          "data": {
            "text/plain": [
              "<Figure size 1800x1200 with 0 Axes>"
            ]
          },
          "metadata": {
            "tags": []
          }
        },
        {
          "output_type": "display_data",
          "data": {
            "text/plain": [
              "<Figure size 1800x1200 with 0 Axes>"
            ]
          },
          "metadata": {
            "tags": []
          }
        },
        {
          "output_type": "display_data",
          "data": {
            "text/plain": [
              "<Figure size 1800x1200 with 0 Axes>"
            ]
          },
          "metadata": {
            "tags": []
          }
        },
        {
          "output_type": "display_data",
          "data": {
            "text/plain": [
              "<Figure size 1800x1200 with 0 Axes>"
            ]
          },
          "metadata": {
            "tags": []
          }
        },
        {
          "output_type": "display_data",
          "data": {
            "text/plain": [
              "<Figure size 1800x1200 with 0 Axes>"
            ]
          },
          "metadata": {
            "tags": []
          }
        },
        {
          "output_type": "display_data",
          "data": {
            "text/plain": [
              "<Figure size 1800x1200 with 0 Axes>"
            ]
          },
          "metadata": {
            "tags": []
          }
        },
        {
          "output_type": "display_data",
          "data": {
            "text/plain": [
              "<Figure size 1800x1200 with 0 Axes>"
            ]
          },
          "metadata": {
            "tags": []
          }
        },
        {
          "output_type": "display_data",
          "data": {
            "text/plain": [
              "<Figure size 1800x1200 with 0 Axes>"
            ]
          },
          "metadata": {
            "tags": []
          }
        },
        {
          "output_type": "display_data",
          "data": {
            "text/plain": [
              "<Figure size 1800x1200 with 0 Axes>"
            ]
          },
          "metadata": {
            "tags": []
          }
        },
        {
          "output_type": "display_data",
          "data": {
            "text/plain": [
              "<Figure size 1800x1200 with 0 Axes>"
            ]
          },
          "metadata": {
            "tags": []
          }
        },
        {
          "output_type": "display_data",
          "data": {
            "text/plain": [
              "<Figure size 1800x1200 with 0 Axes>"
            ]
          },
          "metadata": {
            "tags": []
          }
        },
        {
          "output_type": "display_data",
          "data": {
            "text/plain": [
              "<Figure size 1800x1200 with 0 Axes>"
            ]
          },
          "metadata": {
            "tags": []
          }
        },
        {
          "output_type": "display_data",
          "data": {
            "text/plain": [
              "<Figure size 1800x1200 with 0 Axes>"
            ]
          },
          "metadata": {
            "tags": []
          }
        },
        {
          "output_type": "display_data",
          "data": {
            "text/plain": [
              "<Figure size 1800x1200 with 0 Axes>"
            ]
          },
          "metadata": {
            "tags": []
          }
        },
        {
          "output_type": "display_data",
          "data": {
            "text/plain": [
              "<Figure size 1800x1200 with 0 Axes>"
            ]
          },
          "metadata": {
            "tags": []
          }
        },
        {
          "output_type": "display_data",
          "data": {
            "text/plain": [
              "<Figure size 1800x1200 with 0 Axes>"
            ]
          },
          "metadata": {
            "tags": []
          }
        },
        {
          "output_type": "display_data",
          "data": {
            "text/plain": [
              "<Figure size 1800x1200 with 0 Axes>"
            ]
          },
          "metadata": {
            "tags": []
          }
        },
        {
          "output_type": "display_data",
          "data": {
            "text/plain": [
              "<Figure size 1800x1200 with 0 Axes>"
            ]
          },
          "metadata": {
            "tags": []
          }
        },
        {
          "output_type": "display_data",
          "data": {
            "text/plain": [
              "<Figure size 1800x1200 with 0 Axes>"
            ]
          },
          "metadata": {
            "tags": []
          }
        },
        {
          "output_type": "display_data",
          "data": {
            "text/plain": [
              "<Figure size 1800x1200 with 0 Axes>"
            ]
          },
          "metadata": {
            "tags": []
          }
        },
        {
          "output_type": "display_data",
          "data": {
            "text/plain": [
              "<Figure size 1800x1200 with 0 Axes>"
            ]
          },
          "metadata": {
            "tags": []
          }
        },
        {
          "output_type": "display_data",
          "data": {
            "text/plain": [
              "<Figure size 1800x1200 with 0 Axes>"
            ]
          },
          "metadata": {
            "tags": []
          }
        },
        {
          "output_type": "display_data",
          "data": {
            "text/plain": [
              "<Figure size 1800x1200 with 0 Axes>"
            ]
          },
          "metadata": {
            "tags": []
          }
        },
        {
          "output_type": "display_data",
          "data": {
            "text/plain": [
              "<Figure size 1800x1200 with 0 Axes>"
            ]
          },
          "metadata": {
            "tags": []
          }
        },
        {
          "output_type": "display_data",
          "data": {
            "text/plain": [
              "<Figure size 1800x1200 with 0 Axes>"
            ]
          },
          "metadata": {
            "tags": []
          }
        },
        {
          "output_type": "display_data",
          "data": {
            "text/plain": [
              "<Figure size 1800x1200 with 0 Axes>"
            ]
          },
          "metadata": {
            "tags": []
          }
        },
        {
          "output_type": "display_data",
          "data": {
            "text/plain": [
              "<Figure size 1800x1200 with 0 Axes>"
            ]
          },
          "metadata": {
            "tags": []
          }
        },
        {
          "output_type": "display_data",
          "data": {
            "text/plain": [
              "<Figure size 1800x1200 with 0 Axes>"
            ]
          },
          "metadata": {
            "tags": []
          }
        },
        {
          "output_type": "display_data",
          "data": {
            "text/plain": [
              "<Figure size 1800x1200 with 0 Axes>"
            ]
          },
          "metadata": {
            "tags": []
          }
        },
        {
          "output_type": "display_data",
          "data": {
            "text/plain": [
              "<Figure size 1800x1200 with 0 Axes>"
            ]
          },
          "metadata": {
            "tags": []
          }
        },
        {
          "output_type": "display_data",
          "data": {
            "text/plain": [
              "<Figure size 1800x1200 with 0 Axes>"
            ]
          },
          "metadata": {
            "tags": []
          }
        },
        {
          "output_type": "display_data",
          "data": {
            "text/plain": [
              "<Figure size 1800x1200 with 0 Axes>"
            ]
          },
          "metadata": {
            "tags": []
          }
        },
        {
          "output_type": "display_data",
          "data": {
            "text/plain": [
              "<Figure size 1800x1200 with 0 Axes>"
            ]
          },
          "metadata": {
            "tags": []
          }
        },
        {
          "output_type": "display_data",
          "data": {
            "text/plain": [
              "<Figure size 1800x1200 with 0 Axes>"
            ]
          },
          "metadata": {
            "tags": []
          }
        },
        {
          "output_type": "display_data",
          "data": {
            "text/plain": [
              "<Figure size 1800x1200 with 0 Axes>"
            ]
          },
          "metadata": {
            "tags": []
          }
        },
        {
          "output_type": "display_data",
          "data": {
            "text/plain": [
              "<Figure size 1800x1200 with 0 Axes>"
            ]
          },
          "metadata": {
            "tags": []
          }
        },
        {
          "output_type": "display_data",
          "data": {
            "text/plain": [
              "<Figure size 1800x1200 with 0 Axes>"
            ]
          },
          "metadata": {
            "tags": []
          }
        },
        {
          "output_type": "display_data",
          "data": {
            "text/plain": [
              "<Figure size 1800x1200 with 0 Axes>"
            ]
          },
          "metadata": {
            "tags": []
          }
        },
        {
          "output_type": "display_data",
          "data": {
            "text/plain": [
              "<Figure size 1800x1200 with 0 Axes>"
            ]
          },
          "metadata": {
            "tags": []
          }
        },
        {
          "output_type": "display_data",
          "data": {
            "text/plain": [
              "<Figure size 1800x1200 with 0 Axes>"
            ]
          },
          "metadata": {
            "tags": []
          }
        },
        {
          "output_type": "display_data",
          "data": {
            "text/plain": [
              "<Figure size 1800x1200 with 0 Axes>"
            ]
          },
          "metadata": {
            "tags": []
          }
        },
        {
          "output_type": "display_data",
          "data": {
            "text/plain": [
              "<Figure size 1800x1200 with 0 Axes>"
            ]
          },
          "metadata": {
            "tags": []
          }
        },
        {
          "output_type": "display_data",
          "data": {
            "text/plain": [
              "<Figure size 1800x1200 with 0 Axes>"
            ]
          },
          "metadata": {
            "tags": []
          }
        },
        {
          "output_type": "display_data",
          "data": {
            "text/plain": [
              "<Figure size 1800x1200 with 0 Axes>"
            ]
          },
          "metadata": {
            "tags": []
          }
        },
        {
          "output_type": "display_data",
          "data": {
            "text/plain": [
              "<Figure size 1800x1200 with 0 Axes>"
            ]
          },
          "metadata": {
            "tags": []
          }
        },
        {
          "output_type": "display_data",
          "data": {
            "text/plain": [
              "<Figure size 1800x1200 with 0 Axes>"
            ]
          },
          "metadata": {
            "tags": []
          }
        },
        {
          "output_type": "display_data",
          "data": {
            "text/plain": [
              "<Figure size 1800x1200 with 0 Axes>"
            ]
          },
          "metadata": {
            "tags": []
          }
        },
        {
          "output_type": "display_data",
          "data": {
            "text/plain": [
              "<Figure size 1800x1200 with 0 Axes>"
            ]
          },
          "metadata": {
            "tags": []
          }
        },
        {
          "output_type": "display_data",
          "data": {
            "text/plain": [
              "<Figure size 1800x1200 with 0 Axes>"
            ]
          },
          "metadata": {
            "tags": []
          }
        },
        {
          "output_type": "display_data",
          "data": {
            "text/plain": [
              "<Figure size 1800x1200 with 0 Axes>"
            ]
          },
          "metadata": {
            "tags": []
          }
        },
        {
          "output_type": "display_data",
          "data": {
            "text/plain": [
              "<Figure size 1800x1200 with 0 Axes>"
            ]
          },
          "metadata": {
            "tags": []
          }
        },
        {
          "output_type": "display_data",
          "data": {
            "text/plain": [
              "<Figure size 1800x1200 with 0 Axes>"
            ]
          },
          "metadata": {
            "tags": []
          }
        },
        {
          "output_type": "display_data",
          "data": {
            "text/plain": [
              "<Figure size 1800x1200 with 0 Axes>"
            ]
          },
          "metadata": {
            "tags": []
          }
        },
        {
          "output_type": "display_data",
          "data": {
            "text/plain": [
              "<Figure size 1800x1200 with 0 Axes>"
            ]
          },
          "metadata": {
            "tags": []
          }
        },
        {
          "output_type": "display_data",
          "data": {
            "text/plain": [
              "<Figure size 1800x1200 with 0 Axes>"
            ]
          },
          "metadata": {
            "tags": []
          }
        },
        {
          "output_type": "display_data",
          "data": {
            "text/plain": [
              "<Figure size 1800x1200 with 0 Axes>"
            ]
          },
          "metadata": {
            "tags": []
          }
        },
        {
          "output_type": "display_data",
          "data": {
            "text/plain": [
              "<Figure size 1800x1200 with 0 Axes>"
            ]
          },
          "metadata": {
            "tags": []
          }
        },
        {
          "output_type": "display_data",
          "data": {
            "text/plain": [
              "<Figure size 1800x1200 with 0 Axes>"
            ]
          },
          "metadata": {
            "tags": []
          }
        },
        {
          "output_type": "display_data",
          "data": {
            "text/plain": [
              "<Figure size 1800x1200 with 0 Axes>"
            ]
          },
          "metadata": {
            "tags": []
          }
        },
        {
          "output_type": "display_data",
          "data": {
            "text/plain": [
              "<Figure size 1800x1200 with 0 Axes>"
            ]
          },
          "metadata": {
            "tags": []
          }
        },
        {
          "output_type": "display_data",
          "data": {
            "text/plain": [
              "<Figure size 1800x1200 with 0 Axes>"
            ]
          },
          "metadata": {
            "tags": []
          }
        },
        {
          "output_type": "display_data",
          "data": {
            "text/plain": [
              "<Figure size 1800x1200 with 0 Axes>"
            ]
          },
          "metadata": {
            "tags": []
          }
        },
        {
          "output_type": "display_data",
          "data": {
            "text/plain": [
              "<Figure size 1800x1200 with 0 Axes>"
            ]
          },
          "metadata": {
            "tags": []
          }
        },
        {
          "output_type": "display_data",
          "data": {
            "text/plain": [
              "<Figure size 1800x1200 with 0 Axes>"
            ]
          },
          "metadata": {
            "tags": []
          }
        },
        {
          "output_type": "display_data",
          "data": {
            "text/plain": [
              "<Figure size 1800x1200 with 0 Axes>"
            ]
          },
          "metadata": {
            "tags": []
          }
        },
        {
          "output_type": "display_data",
          "data": {
            "text/plain": [
              "<Figure size 1800x1200 with 0 Axes>"
            ]
          },
          "metadata": {
            "tags": []
          }
        },
        {
          "output_type": "display_data",
          "data": {
            "text/plain": [
              "<Figure size 1800x1200 with 0 Axes>"
            ]
          },
          "metadata": {
            "tags": []
          }
        },
        {
          "output_type": "display_data",
          "data": {
            "text/plain": [
              "<Figure size 1800x1200 with 0 Axes>"
            ]
          },
          "metadata": {
            "tags": []
          }
        }
      ]
    },
    {
      "metadata": {
        "id": "hNZW6FGWOGaU",
        "colab_type": "code",
        "colab": {}
      },
      "cell_type": "code",
      "source": [
        "save_model(epoch, G.encoder, G.decoder, D) # Save encoder, decoder and D\n"
      ],
      "execution_count": 0,
      "outputs": []
    },
    {
      "metadata": {
        "id": "EZF_qwvnF-ae",
        "colab_type": "text"
      },
      "cell_type": "markdown",
      "source": [
        "## Test Classifier"
      ]
    },
    {
      "metadata": {
        "id": "_lcJJxivGAA2",
        "colab_type": "code",
        "colab": {
          "base_uri": "https://localhost:8080/",
          "height": 2516
        },
        "outputId": "b36fca31-a373-44d2-df20-0482564fcc80"
      },
      "cell_type": "code",
      "source": [
        "%ls"
      ],
      "execution_count": 54,
      "outputs": [
        {
          "output_type": "stream",
          "text": [
            "rec_epoch_0.png.png    rec_epoch_39.png.png  sample_epoch_166.png\n",
            "rec_epoch_100.png.png  rec_epoch_3.png.png   sample_epoch_167.png\n",
            "rec_epoch_101.png.png  rec_epoch_40.png.png  sample_epoch_168.png\n",
            "rec_epoch_102.png.png  rec_epoch_41.png.png  sample_epoch_169.png\n",
            "rec_epoch_103.png.png  rec_epoch_42.png.png  sample_epoch_16.png\n",
            "rec_epoch_104.png.png  rec_epoch_43.png.png  sample_epoch_170.png\n",
            "rec_epoch_105.png.png  rec_epoch_44.png.png  sample_epoch_171.png\n",
            "rec_epoch_106.png.png  rec_epoch_45.png.png  sample_epoch_172.png\n",
            "rec_epoch_107.png.png  rec_epoch_46.png.png  sample_epoch_173.png\n",
            "rec_epoch_108.png.png  rec_epoch_47.png.png  sample_epoch_174.png\n",
            "rec_epoch_109.png.png  rec_epoch_48.png.png  sample_epoch_175.png\n",
            "rec_epoch_10.png.png   rec_epoch_49.png.png  sample_epoch_176.png\n",
            "rec_epoch_110.png.png  rec_epoch_4.png.png   sample_epoch_177.png\n",
            "rec_epoch_111.png.png  rec_epoch_50.png.png  sample_epoch_178.png\n",
            "rec_epoch_112.png.png  rec_epoch_51.png.png  sample_epoch_179.png\n",
            "rec_epoch_113.png.png  rec_epoch_52.png.png  sample_epoch_17.png\n",
            "rec_epoch_114.png.png  rec_epoch_53.png.png  sample_epoch_180.png\n",
            "rec_epoch_115.png.png  rec_epoch_54.png.png  sample_epoch_181.png\n",
            "rec_epoch_116.png.png  rec_epoch_55.png.png  sample_epoch_182.png\n",
            "rec_epoch_117.png.png  rec_epoch_56.png.png  sample_epoch_183.png\n",
            "rec_epoch_118.png.png  rec_epoch_57.png.png  sample_epoch_184.png\n",
            "rec_epoch_119.png.png  rec_epoch_58.png.png  sample_epoch_185.png\n",
            "rec_epoch_11.png.png   rec_epoch_59.png.png  sample_epoch_186.png\n",
            "rec_epoch_120.png.png  rec_epoch_5.png.png   sample_epoch_187.png\n",
            "rec_epoch_121.png.png  rec_epoch_60.png.png  sample_epoch_188.png\n",
            "rec_epoch_122.png.png  rec_epoch_61.png.png  sample_epoch_189.png\n",
            "rec_epoch_123.png.png  rec_epoch_62.png.png  sample_epoch_18.png\n",
            "rec_epoch_124.png.png  rec_epoch_63.png.png  sample_epoch_190.png\n",
            "rec_epoch_125.png.png  rec_epoch_64.png.png  sample_epoch_191.png\n",
            "rec_epoch_126.png.png  rec_epoch_65.png.png  sample_epoch_192.png\n",
            "rec_epoch_127.png.png  rec_epoch_66.png.png  sample_epoch_193.png\n",
            "rec_epoch_128.png.png  rec_epoch_67.png.png  sample_epoch_194.png\n",
            "rec_epoch_129.png.png  rec_epoch_68.png.png  sample_epoch_195.png\n",
            "rec_epoch_12.png.png   rec_epoch_69.png.png  sample_epoch_196.png\n",
            "rec_epoch_130.png.png  rec_epoch_6.png.png   sample_epoch_197.png\n",
            "rec_epoch_131.png.png  rec_epoch_70.png.png  sample_epoch_198.png\n",
            "rec_epoch_132.png.png  rec_epoch_71.png.png  sample_epoch_199.png\n",
            "rec_epoch_133.png.png  rec_epoch_72.png.png  sample_epoch_19.png\n",
            "rec_epoch_134.png.png  rec_epoch_73.png.png  sample_epoch_1.png\n",
            "rec_epoch_135.png.png  rec_epoch_74.png.png  sample_epoch_200.png\n",
            "rec_epoch_136.png.png  rec_epoch_75.png.png  sample_epoch_201.png\n",
            "rec_epoch_137.png.png  rec_epoch_76.png.png  sample_epoch_202.png\n",
            "rec_epoch_138.png.png  rec_epoch_77.png.png  sample_epoch_203.png\n",
            "rec_epoch_139.png.png  rec_epoch_78.png.png  sample_epoch_204.png\n",
            "rec_epoch_13.png.png   rec_epoch_79.png.png  sample_epoch_205.png\n",
            "rec_epoch_140.png.png  rec_epoch_7.png.png   sample_epoch_206.png\n",
            "rec_epoch_141.png.png  rec_epoch_80.png.png  sample_epoch_207.png\n",
            "rec_epoch_142.png.png  rec_epoch_81.png.png  sample_epoch_208.png\n",
            "rec_epoch_143.png.png  rec_epoch_82.png.png  sample_epoch_209.png\n",
            "rec_epoch_144.png.png  rec_epoch_83.png.png  sample_epoch_20.png\n",
            "rec_epoch_145.png.png  rec_epoch_84.png.png  sample_epoch_21.png\n",
            "rec_epoch_146.png.png  rec_epoch_85.png.png  sample_epoch_22.png\n",
            "rec_epoch_147.png.png  rec_epoch_86.png.png  sample_epoch_23.png\n",
            "rec_epoch_148.png.png  rec_epoch_87.png.png  sample_epoch_24.png\n",
            "rec_epoch_149.png.png  rec_epoch_88.png.png  sample_epoch_25.png\n",
            "rec_epoch_14.png.png   rec_epoch_89.png.png  sample_epoch_26.png\n",
            "rec_epoch_150.png.png  rec_epoch_8.png.png   sample_epoch_27.png\n",
            "rec_epoch_151.png.png  rec_epoch_90.png.png  sample_epoch_28.png\n",
            "rec_epoch_152.png.png  rec_epoch_91.png.png  sample_epoch_29.png\n",
            "rec_epoch_153.png.png  rec_epoch_92.png.png  sample_epoch_2.png\n",
            "rec_epoch_154.png.png  rec_epoch_93.png.png  sample_epoch_30.png\n",
            "rec_epoch_155.png.png  rec_epoch_94.png.png  sample_epoch_31.png\n",
            "rec_epoch_156.png.png  rec_epoch_95.png.png  sample_epoch_32.png\n",
            "rec_epoch_157.png.png  rec_epoch_96.png.png  sample_epoch_33.png\n",
            "rec_epoch_158.png.png  rec_epoch_97.png.png  sample_epoch_34.png\n",
            "rec_epoch_159.png.png  rec_epoch_98.png.png  sample_epoch_35.png\n",
            "rec_epoch_15.png.png   rec_epoch_99.png.png  sample_epoch_36.png\n",
            "rec_epoch_160.png.png  rec_epoch_9.png.png   sample_epoch_37.png\n",
            "rec_epoch_161.png.png  \u001b[0m\u001b[01;34mresults\u001b[0m/              sample_epoch_38.png\n",
            "rec_epoch_162.png.png  sample_epoch_0.png    sample_epoch_39.png\n",
            "rec_epoch_163.png.png  sample_epoch_100.png  sample_epoch_3.png\n",
            "rec_epoch_164.png.png  sample_epoch_101.png  sample_epoch_40.png\n",
            "rec_epoch_165.png.png  sample_epoch_102.png  sample_epoch_41.png\n",
            "rec_epoch_166.png.png  sample_epoch_103.png  sample_epoch_42.png\n",
            "rec_epoch_167.png.png  sample_epoch_104.png  sample_epoch_43.png\n",
            "rec_epoch_168.png.png  sample_epoch_105.png  sample_epoch_44.png\n",
            "rec_epoch_169.png.png  sample_epoch_106.png  sample_epoch_45.png\n",
            "rec_epoch_16.png.png   sample_epoch_107.png  sample_epoch_46.png\n",
            "rec_epoch_170.png.png  sample_epoch_108.png  sample_epoch_47.png\n",
            "rec_epoch_171.png.png  sample_epoch_109.png  sample_epoch_48.png\n",
            "rec_epoch_172.png.png  sample_epoch_10.png   sample_epoch_49.png\n",
            "rec_epoch_173.png.png  sample_epoch_110.png  sample_epoch_4.png\n",
            "rec_epoch_174.png.png  sample_epoch_111.png  sample_epoch_50.png\n",
            "rec_epoch_175.png.png  sample_epoch_112.png  sample_epoch_51.png\n",
            "rec_epoch_176.png.png  sample_epoch_113.png  sample_epoch_52.png\n",
            "rec_epoch_177.png.png  sample_epoch_114.png  sample_epoch_53.png\n",
            "rec_epoch_178.png.png  sample_epoch_115.png  sample_epoch_54.png\n",
            "rec_epoch_179.png.png  sample_epoch_116.png  sample_epoch_55.png\n",
            "rec_epoch_17.png.png   sample_epoch_117.png  sample_epoch_56.png\n",
            "rec_epoch_180.png.png  sample_epoch_118.png  sample_epoch_57.png\n",
            "rec_epoch_181.png.png  sample_epoch_119.png  sample_epoch_58.png\n",
            "rec_epoch_182.png.png  sample_epoch_11.png   sample_epoch_59.png\n",
            "rec_epoch_183.png.png  sample_epoch_120.png  sample_epoch_5.png\n",
            "rec_epoch_184.png.png  sample_epoch_121.png  sample_epoch_60.png\n",
            "rec_epoch_185.png.png  sample_epoch_122.png  sample_epoch_61.png\n",
            "rec_epoch_186.png.png  sample_epoch_123.png  sample_epoch_62.png\n",
            "rec_epoch_187.png.png  sample_epoch_124.png  sample_epoch_63.png\n",
            "rec_epoch_188.png.png  sample_epoch_125.png  sample_epoch_64.png\n",
            "rec_epoch_189.png.png  sample_epoch_126.png  sample_epoch_65.png\n",
            "rec_epoch_18.png.png   sample_epoch_127.png  sample_epoch_66.png\n",
            "rec_epoch_190.png.png  sample_epoch_128.png  sample_epoch_67.png\n",
            "rec_epoch_191.png.png  sample_epoch_129.png  sample_epoch_68.png\n",
            "rec_epoch_192.png.png  sample_epoch_12.png   sample_epoch_69.png\n",
            "rec_epoch_193.png.png  sample_epoch_130.png  sample_epoch_6.png\n",
            "rec_epoch_194.png.png  sample_epoch_131.png  sample_epoch_70.png\n",
            "rec_epoch_195.png.png  sample_epoch_132.png  sample_epoch_71.png\n",
            "rec_epoch_196.png.png  sample_epoch_133.png  sample_epoch_72.png\n",
            "rec_epoch_197.png.png  sample_epoch_134.png  sample_epoch_73.png\n",
            "rec_epoch_198.png.png  sample_epoch_135.png  sample_epoch_74.png\n",
            "rec_epoch_199.png.png  sample_epoch_136.png  sample_epoch_75.png\n",
            "rec_epoch_19.png.png   sample_epoch_137.png  sample_epoch_76.png\n",
            "rec_epoch_1.png.png    sample_epoch_138.png  sample_epoch_77.png\n",
            "rec_epoch_200.png.png  sample_epoch_139.png  sample_epoch_78.png\n",
            "rec_epoch_201.png.png  sample_epoch_13.png   sample_epoch_79.png\n",
            "rec_epoch_202.png.png  sample_epoch_140.png  sample_epoch_7.png\n",
            "rec_epoch_203.png.png  sample_epoch_141.png  sample_epoch_80.png\n",
            "rec_epoch_204.png.png  sample_epoch_142.png  sample_epoch_81.png\n",
            "rec_epoch_205.png.png  sample_epoch_143.png  sample_epoch_82.png\n",
            "rec_epoch_206.png.png  sample_epoch_144.png  sample_epoch_83.png\n",
            "rec_epoch_207.png.png  sample_epoch_145.png  sample_epoch_84.png\n",
            "rec_epoch_208.png.png  sample_epoch_146.png  sample_epoch_85.png\n",
            "rec_epoch_209.png.png  sample_epoch_147.png  sample_epoch_86.png\n",
            "rec_epoch_20.png.png   sample_epoch_148.png  sample_epoch_87.png\n",
            "rec_epoch_21.png.png   sample_epoch_149.png  sample_epoch_88.png\n",
            "rec_epoch_22.png.png   sample_epoch_14.png   sample_epoch_89.png\n",
            "rec_epoch_23.png.png   sample_epoch_150.png  sample_epoch_8.png\n",
            "rec_epoch_24.png.png   sample_epoch_151.png  sample_epoch_90.png\n",
            "rec_epoch_25.png.png   sample_epoch_152.png  sample_epoch_91.png\n",
            "rec_epoch_26.png.png   sample_epoch_153.png  sample_epoch_92.png\n",
            "rec_epoch_27.png.png   sample_epoch_154.png  sample_epoch_93.png\n",
            "rec_epoch_28.png.png   sample_epoch_155.png  sample_epoch_94.png\n",
            "rec_epoch_29.png.png   sample_epoch_156.png  sample_epoch_95.png\n",
            "rec_epoch_2.png.png    sample_epoch_157.png  sample_epoch_96.png\n",
            "rec_epoch_30.png.png   sample_epoch_158.png  sample_epoch_97.png\n",
            "rec_epoch_31.png.png   sample_epoch_159.png  sample_epoch_98.png\n",
            "rec_epoch_32.png.png   sample_epoch_15.png   sample_epoch_99.png\n",
            "rec_epoch_33.png.png   sample_epoch_160.png  sample_epoch_9.png\n",
            "rec_epoch_34.png.png   sample_epoch_161.png  VAE_GAN_D_210.pth\n",
            "rec_epoch_35.png.png   sample_epoch_162.png  VAE_GAN_decoder_210.pth\n",
            "rec_epoch_36.png.png   sample_epoch_163.png  VAE_GAN_encoder_210.pth\n",
            "rec_epoch_37.png.png   sample_epoch_164.png\n",
            "rec_epoch_38.png.png   sample_epoch_165.png\n"
          ],
          "name": "stdout"
        }
      ]
    },
    {
      "metadata": {
        "id": "0V4NHp0JGMaF",
        "colab_type": "code",
        "colab": {}
      },
      "cell_type": "code",
      "source": [
        "## Classifier\n",
        "### Metrics - Base Class For all Metrics\n",
        "class Metric:\n",
        "  def __init__(self):\n",
        "    pass\n",
        "  def __call__(self, outputs, target, loss):\n",
        "    raise NotImplementedError\n",
        "    \n",
        "  def reset(self):\n",
        "    raise NotImplementedError\n",
        "    \n",
        "  def value(self):\n",
        "    raise NotImplementedError\n",
        "    \n",
        "  def name(self):\n",
        "    raise NotImplementedError\n",
        "    \n",
        "## Accuracy Metric\n",
        "class AccumulatedAccuracyMetric(Metric):\n",
        "  def __init__(self):\n",
        "      self.correct = 0\n",
        "      self.total = 0\n",
        "      \n",
        "  def __call__(self, outputs, target):\n",
        "      # Track the accuracy\n",
        "      _, argmax = torch.max(outputs, 1)\n",
        "      accuracy = (target == argmax.squeeze()).float().sum()\n",
        "      self.correct += accuracy \n",
        "      self.total += target.size(0)\n",
        "      return self.value()\n",
        "  \n",
        "  def reset(self):\n",
        "      self.correct = 0\n",
        "      self.total = 0\n",
        "\n",
        "  def value(self):\n",
        "      return 100 * float(self.correct) / self.total\n",
        "\n",
        "  def name(self):\n",
        "      return 'Accuracy'\n",
        "    \n",
        "    "
      ],
      "execution_count": 0,
      "outputs": []
    },
    {
      "metadata": {
        "id": "EiaRTGltHdAT",
        "colab_type": "code",
        "colab": {}
      },
      "cell_type": "code",
      "source": [
        "save_dir = \"\"\n",
        "\n",
        "\"\"\"\n",
        "Traverse Latents\n",
        "\"\"\"\n",
        "def traverse_latents(model, datapoint, nb_latents, epoch, batch_idx, dirpath=save_dir):\n",
        "  model.eval()\n",
        "  datapoint = datapoint.to(device)\n",
        "  if isinstance(model,ConvVAE):\n",
        "    datapoint = datapoint.unsqueeze(0)\n",
        "    mu, _ = model.encode(datapoint)\n",
        "  else:\n",
        "    mu, _ = model.encode(datapoint.view(-1))\n",
        "  \n",
        "  recons = torch.zeros((7, nb_latents, 28, 28))\n",
        "  for zi in range(nb_latents):\n",
        "    muc = mu.squeeze().clone()\n",
        "    for i, val in enumerate(np.linspace(-3, 3, 7)):\n",
        "      muc[zi] = val\n",
        "      \n",
        "      recon = model.decode(muc).cpu()\n",
        "      recons[i, zi] = recon.view(28, 28)\n",
        "\n",
        "  filename = os.path.join(dirpath, 'traversal_' + str(epoch) + '_' + str(batch_idx) + '.png')\n",
        "  save_image(recons.view(-1, 1, 28, 28), filename, nrow=nb_latents, pad_value=1)\n",
        "  \n",
        "  \n",
        "### Plot TSNE for latent space\n",
        "# Show dataset images with T-sne projection of latent space encoding\n",
        "import seaborn as sns\n",
        "palette = np.array(sns.color_palette(\"hls\", 10))\n",
        "def visualize_tsne_of_input(X, labels, model, path):\n",
        "    # Compute latent space representation\n",
        "    print(\"Computing latent space projection...\")\n",
        "    \n",
        "    X_encoded, _ = model.encode(X)\n",
        "    \n",
        "    # Compute t-SNE embedding of latent space\n",
        "    tsne = manifold.TSNE(n_components=2, init='pca', random_state=0)\n",
        "    X_tsne = tsne.fit_transform(X_encoded.data.detach().cpu())\n",
        "\n",
        "    # Plot images according to t-sne embedding\n",
        "    fig, ax = plt.subplots()\n",
        "    im = plt.scatter(X_tsne[:,0], X_tsne[:,1],c=[palette[i] for i in labels])\n",
        "    fig.colorbar(im, ticks=range(10));\n",
        "    fig.savefig(path, dpi=fig.dpi)"
      ],
      "execution_count": 0,
      "outputs": []
    },
    {
      "metadata": {
        "id": "7gXxTanBHhfu",
        "colab_type": "code",
        "colab": {
          "base_uri": "https://localhost:8080/",
          "height": 52
        },
        "outputId": "0244326c-d92d-4ee6-b26b-a8c2d83f1676"
      },
      "cell_type": "code",
      "source": [
        "#!pip install tqdm\n",
        "!pip install opencv-python"
      ],
      "execution_count": 59,
      "outputs": [
        {
          "output_type": "stream",
          "text": [
            "Requirement already satisfied: opencv-python in /usr/local/lib/python3.6/dist-packages (3.4.5.20)\n",
            "Requirement already satisfied: numpy>=1.11.3 in /usr/local/lib/python3.6/dist-packages (from opencv-python) (1.16.2)\n"
          ],
          "name": "stdout"
        }
      ]
    },
    {
      "metadata": {
        "id": "ohEOXRHeHqo-",
        "colab_type": "code",
        "colab": {}
      },
      "cell_type": "code",
      "source": [
        "## Import CV\n",
        "import cv2\n",
        "import numpy\n",
        "\n",
        "\n",
        "def laplacian_variance(images):\n",
        "    return [cv2.Laplacian(image.numpy(), cv2.CV_32F).var() for image in images]\n",
        "\n",
        "\n",
        "def laplacian_variance_numpy(images):\n",
        "    return [cv2.Laplacian(image, cv2.CV_32F).var() for image in images]\n"
      ],
      "execution_count": 0,
      "outputs": []
    },
    {
      "metadata": {
        "id": "DVnDHfJKHtvr",
        "colab_type": "code",
        "colab": {}
      },
      "cell_type": "code",
      "source": [
        "testpoint = torch.Tensor(train_loader.dataset[0][0]).cuda()\n"
      ],
      "execution_count": 0,
      "outputs": []
    },
    {
      "metadata": {
        "id": "dwmxTDtBH9xA",
        "colab_type": "code",
        "colab": {}
      },
      "cell_type": "code",
      "source": [
        "def traverse_latents(model, datapoint, nb_latents, epoch, batch_idx, dirpath=save_dir):\n",
        "  model.eval()\n",
        "  datapoint = datapoint.cuda()\n",
        "  \n",
        "  datapoint = datapoint.unsqueeze(0)\n",
        "  mu, _ = model.encoder(datapoint)\n",
        "  \n",
        "  recons = torch.zeros((7, nb_latents, 28, 28))\n",
        "  for zi in range(nb_latents):\n",
        "    muc = mu.squeeze().clone()\n",
        "    for i, val in enumerate(np.linspace(-3, 3, 7)):\n",
        "      muc[zi] = val\n",
        "      \n",
        "      recon = model.decoder(muc).cpu()\n",
        "      recons[i, zi] = recon.view(28, 28)\n",
        "\n",
        "  filename = os.path.join(dirpath, 'traversal_' + str(epoch) + '_' + str(batch_idx) + '.png')\n",
        "  save_image(recons.view(-1, 1, 28, 28), filename, nrow=nb_latents, pad_value=1)\n",
        "  \n",
        "traverse_latents(G, testpoint,Params.nb_latents, epoch,1,save_dir)"
      ],
      "execution_count": 0,
      "outputs": []
    },
    {
      "metadata": {
        "id": "9-wQcnw-IQ14",
        "colab_type": "code",
        "colab": {
          "base_uri": "https://localhost:8080/",
          "height": 229
        },
        "outputId": "fd2dc381-084c-4ec3-c924-ac4e8d753eee"
      },
      "cell_type": "code",
      "source": [
        "from IPython.display import Image\n",
        "Image(filename=save_dir+f'traversal_210_1.png') "
      ],
      "execution_count": 70,
      "outputs": [
        {
          "output_type": "execute_result",
          "data": {
            "image/png": "[encoded data removed]",
            "text/plain": [
              "<IPython.core.display.Image object>"
            ]
          },
          "metadata": {
            "tags": []
          },
          "execution_count": 70
        }
      ]
    },
    {
      "metadata": {
        "id": "Zu3akOVwIWhr",
        "colab_type": "code",
        "colab": {}
      },
      "cell_type": "code",
      "source": [
        "train_dataset = datasets.MNIST(Params.data_dir,train=True,transform=transforms.ToTensor(),download=True)\n",
        "testing_tsne = torch.utils.data.DataLoader(train_dataset,batch_size=len(train_dataset),shuffle=True)\n",
        "test_data, test_labels = next(iter(testing_tsne))[:10000]\n"
      ],
      "execution_count": 0,
      "outputs": []
    },
    {
      "metadata": {
        "id": "x4I1VP_lIg7a",
        "colab_type": "code",
        "colab": {
          "base_uri": "https://localhost:8080/",
          "height": 365
        },
        "outputId": "b5706d18-ec9c-4df1-e99a-169db7b97c82"
      },
      "cell_type": "code",
      "source": [
        "\n",
        " \n",
        "from scipy.stats import norm\n",
        "from sklearn import manifold\n",
        "path = save_dir+'latent_space.png'\n",
        "def visualize_tsne(X, labels, model, path):\n",
        "    # Compute latent space representation\n",
        "    print(\"Computing latent space projection...\")\n",
        "    \n",
        "    X_encoded, _ = model.encoder(X)\n",
        "    \n",
        "    # Compute t-SNE embedding of latent space\n",
        "    tsne = manifold.TSNE(n_components=2, init='pca', random_state=0)\n",
        "    X_tsne = tsne.fit_transform(X_encoded.data.detach().cpu())\n",
        "\n",
        "    # Plot images according to t-sne embedding\n",
        "    fig, ax = plt.subplots()\n",
        "    im = plt.scatter(X_tsne[:,0], X_tsne[:,1],c=[palette[i] for i in labels])\n",
        "    \n",
        "    fig.savefig(path, dpi=fig.dpi)\n",
        "    \n",
        "visualize_tsne(test_data[:5000].cuda(),test_labels[:5000].cuda(),G,path)\n"
      ],
      "execution_count": 77,
      "outputs": [
        {
          "output_type": "stream",
          "text": [
            "Computing latent space projection...\n"
          ],
          "name": "stdout"
        },
        {
          "output_type": "display_data",
          "data": {
            "image/png": "[encoded data removed]",
            "text/plain": [
              "<Figure size 576x396 with 1 Axes>"
            ]
          },
          "metadata": {
            "tags": []
          }
        }
      ]
    },
    {
      "metadata": {
        "id": "IZFgvF8bKNzK",
        "colab_type": "code",
        "colab": {}
      },
      "cell_type": "code",
      "source": [
        "x_test, y_test = test_data[:2000], test_labels[:2000]\n",
        "not_ones = y_test != 1\n",
        "x_test_not_ones, y_test_not_ones = x_test[not_ones], y_test[not_ones]\n",
        "with torch.no_grad():\n",
        "    reconstructions = np.empty(shape=(len(x_test_not_ones),1,28,28))\n",
        "    \n",
        "    indx = 0\n",
        "    for i, (x,y) in enumerate(zip(x_test_not_ones,y_test_not_ones)):\n",
        "      mean, logvar, rec_enc = G(x.unsqueeze(0).cuda())\n",
        "      reconstructions[indx]=(rec_enc.squeeze(0).detach().cpu())\n",
        "      indx+=1"
      ],
      "execution_count": 0,
      "outputs": []
    },
    {
      "metadata": {
        "id": "OtE4AojJLBP-",
        "colab_type": "code",
        "colab": {
          "base_uri": "https://localhost:8080/",
          "height": 677
        },
        "outputId": "fc6aa897-c045-4eb5-b711-a2d6b379f089"
      },
      "cell_type": "code",
      "source": [
        "x_test_not_ones, y_test_not_ones = x_test[not_ones], y_test[not_ones]\n",
        "len(y_test_not_ones)\n",
        "\n",
        "\n",
        "plt.imshow(x_test_not_ones[5].squeeze(0))\n",
        "plt.show()\n",
        "plt.imshow(reconstructions[5].squeeze(0))\n",
        "plt.show()"
      ],
      "execution_count": 122,
      "outputs": [
        {
          "output_type": "display_data",
          "data": {
            "image/png": "[encoded data removed]",
            "text/plain": [
              "<Figure size 576x396 with 1 Axes>"
            ]
          },
          "metadata": {
            "tags": []
          }
        },
        {
          "output_type": "display_data",
          "data": {
            "image/png": "[encoded data removed]",
            "text/plain": [
              "<Figure size 576x396 with 1 Axes>"
            ]
          },
          "metadata": {
            "tags": []
          }
        }
      ]
    },
    {
      "metadata": {
        "id": "atSR_68OKgAZ",
        "colab_type": "code",
        "colab": {
          "base_uri": "https://localhost:8080/",
          "height": 376
        },
        "outputId": "39280be7-0c5d-4daa-b3c0-b7943e90370e"
      },
      "cell_type": "code",
      "source": [
        "len(x_test[y_test==1])\n",
        "\n",
        "not_ones = y_test != 1\n",
        "\n",
        "lvs_1 = laplacian_variance(x_test[not_ones])\n",
        "lvs_2 = laplacian_variance_numpy(np.array(reconstructions, dtype=np.uint8))\n",
        "def plot_laplacian_variances(lvs_1, lvs_2, title):\n",
        "    plt.hist(lvs_1, bins=50, alpha=0.5 , label='Original images');\n",
        "    plt.hist(lvs_2, bins=50, alpha= 0.5 , label='Images by VAE');\n",
        "    plt.xlabel('Laplacian variance')\n",
        "    plt.title(title)\n",
        "    plt.legend();\n",
        "    \n",
        "plot_laplacian_variances(lvs_1, lvs_2, \"plot laplacian variance of test and vae\")"
      ],
      "execution_count": 123,
      "outputs": [
        {
          "output_type": "display_data",
          "data": {
            "image/png": "[encoded data removed]",
            "text/plain": [
              "<Figure size 576x396 with 1 Axes>"
            ]
          },
          "metadata": {
            "tags": []
          }
        }
      ]
    },
    {
      "metadata": {
        "id": "54YnCMl_JTmq",
        "colab_type": "code",
        "colab": {}
      },
      "cell_type": "code",
      "source": [
        "import torch.nn.functional as F\n",
        "import torch.optim as optim\n",
        "class Classifier(nn.Module):\n",
        "  def __init__(self):\n",
        "    super(Classifier,self).__init__()\n",
        "    \n",
        "    ## Define NN\n",
        "    self.fc1 = nn.Linear(10, 10)\n",
        "    \n",
        "    \n",
        "  def forward(self,x):\n",
        "    ## flat input features\n",
        "    x = x.view(-1, self.num_flat_features(x))\n",
        "    x = self.fc1(x)\n",
        "    \n",
        "    return F.log_softmax(x, dim=1)  \n",
        "  \n",
        "  def num_flat_features(self,x):\n",
        "    size = x.size()[1:] # all dimensions except the batch dimension\n",
        "    num_features = 1\n",
        "    for s in size:\n",
        "      num_features *=s\n",
        "    return num_features"
      ],
      "execution_count": 0,
      "outputs": []
    },
    {
      "metadata": {
        "id": "yrZZWJ_WKDUF",
        "colab_type": "code",
        "colab": {}
      },
      "cell_type": "code",
      "source": [
        "## Training\n",
        "from tqdm import trange\n",
        "\n",
        "criterion = nn.CrossEntropyLoss()\n",
        "classifier = Classifier()\n",
        "classifier = classifier.cuda()\n",
        "\n",
        "# Loss and optimizer\n",
        "learning_rate = 0.001\n",
        "momemtum = 0.9\n",
        "criterion = nn.CrossEntropyLoss()\n",
        "optimizer = torch.optim.Adam(classifier.parameters(), lr=learning_rate)\n",
        "       "
      ],
      "execution_count": 0,
      "outputs": []
    },
    {
      "metadata": {
        "id": "ACmnAkIpNvXB",
        "colab_type": "code",
        "colab": {}
      },
      "cell_type": "code",
      "source": [
        "## Train Classifier with pretrained vae\n",
        "vae_parameters = list(G.encoder.named_parameters())\n",
        "for name, param in vae_parameters:\n",
        "    param.requires_grad = False\n",
        "    \n",
        "## Train Classifier with pretrained vae\n",
        "vae_parameters = list(G.decoder.named_parameters())\n",
        "for name, param in vae_parameters:\n",
        "    param.requires_grad = False"
      ],
      "execution_count": 0,
      "outputs": []
    },
    {
      "metadata": {
        "id": "Qg1WOdkNN4yg",
        "colab_type": "code",
        "colab": {}
      },
      "cell_type": "code",
      "source": [
        "def train_classifier_epoch(epoch):\n",
        "  classifier.train()\n",
        "  metric = AccumulatedAccuracyMetric()\n",
        "  losses = RunningAverage()\n",
        "  for idx, (data, labels) in enumerate(train_loader):\n",
        "    data= data.cuda()\n",
        "    labels = labels.cuda()\n",
        "    \n",
        "    \n",
        "    mu, logvar,recon_batch = G(data)\n",
        "    ## classifier, pass latent vector\n",
        "    outputs = classifier(mu)\n",
        "    classifier_loss = criterion(outputs, labels)\n",
        "    \n",
        "    optimizer.zero_grad()\n",
        "    classifier_loss.backward()\n",
        "    optimizer.step()\n",
        "    \n",
        "    classifier_loss /= data.size(0)\n",
        "    losses.update(classifier_loss)\n",
        "    \n",
        "    metric(outputs, labels)\n",
        "    \n",
        "    \n",
        "  return losses(), metric\n",
        "\n",
        "## Test Epoch\n",
        "\"\"\"\n",
        "Test, classifier on learnt features\n",
        "\"\"\"\n",
        "def test_classifier_epoch(epoch):\n",
        "  classifier.eval()\n",
        "  metric = AccumulatedAccuracyMetric()\n",
        "  losses = RunningAverage()\n",
        "  for idx, (data, labels) in enumerate(test_loader):\n",
        "    data= data.cuda()\n",
        "    labels = labels.cuda()\n",
        "    \n",
        "    \n",
        "    mu, logvar,recon_batch = G(data)\n",
        "    ## classifier, pass latent vector\n",
        "    outputs = classifier(mu)\n",
        "    classifier_loss = criterion(outputs, labels)\n",
        "    \n",
        "    classifier_loss /= data.size(0)\n",
        "    losses.update(classifier_loss)\n",
        "    \n",
        "    metric(outputs, labels)\n",
        "    \n",
        "    \n",
        "  return losses(), metric"
      ],
      "execution_count": 0,
      "outputs": []
    },
    {
      "metadata": {
        "id": "3a13xhqcODMf",
        "colab_type": "code",
        "colab": {
          "base_uri": "https://localhost:8080/",
          "height": 2604
        },
        "outputId": "5f109282-7ed9-4a74-deb0-3e576285ab16"
      },
      "cell_type": "code",
      "source": [
        "train_losses = []\n",
        "train_accuracy = []\n",
        "test_losses = []\n",
        "test_accuracy = []\n",
        "n_epochs = 50\n",
        "for epoch in range(1, n_epochs):\n",
        "  \n",
        "  # Train stage\n",
        "  train_loss, metric = train_classifier_epoch(epoch)\n",
        "  train_losses.append(train_loss)\n",
        "  train_accuracy.append(metric.value())\n",
        "  \n",
        "  message = 'Epoch: {}/{}. Train set: Average loss: {:.4f}'.format(epoch + 1, n_epochs, train_loss)\n",
        "  message += '\\t Average Accuracy: \\t{}: {}'.format(metric.name(), metric.value())\n",
        "  print(message)\n",
        "  \n",
        "  val_loss, metrics = test_classifier_epoch(epoch)\n",
        "  test_losses.append(val_loss)\n",
        "  test_accuracy.append(metrics.value())\n",
        "  \n",
        "  message += '\\nEpoch: {}/{}. Test set: Average loss: {:.4f}'.format(epoch + 1, n_epochs,\n",
        "                                                                                 val_loss)\n",
        "  \n",
        "  message += '\\t Average Accuracy: \\t{}: {}'.format(metrics.name(), metrics.value())\n",
        "\n",
        "  \n",
        "  print(message)"
      ],
      "execution_count": 141,
      "outputs": [
        {
          "output_type": "stream",
          "text": [
            "Epoch: 2/50. Train set: Average loss: 0.0148\t Average Accuracy: \tAccuracy: 48.78333333333333\n",
            "Epoch: 2/50. Train set: Average loss: 0.0148\t Average Accuracy: \tAccuracy: 48.78333333333333\n",
            "Epoch: 2/50. Test set: Average loss: 0.0128\t Average Accuracy: \tAccuracy: 71.89\n",
            "Epoch: 3/50. Train set: Average loss: 0.0100\t Average Accuracy: \tAccuracy: 76.785\n",
            "Epoch: 3/50. Train set: Average loss: 0.0100\t Average Accuracy: \tAccuracy: 76.785\n",
            "Epoch: 3/50. Test set: Average loss: 0.0090\t Average Accuracy: \tAccuracy: 81.3\n",
            "Epoch: 4/50. Train set: Average loss: 0.0076\t Average Accuracy: \tAccuracy: 82.585\n",
            "Epoch: 4/50. Train set: Average loss: 0.0076\t Average Accuracy: \tAccuracy: 82.585\n",
            "Epoch: 4/50. Test set: Average loss: 0.0074\t Average Accuracy: \tAccuracy: 84.75\n",
            "Epoch: 5/50. Train set: Average loss: 0.0062\t Average Accuracy: \tAccuracy: 84.51666666666667\n",
            "Epoch: 5/50. Train set: Average loss: 0.0062\t Average Accuracy: \tAccuracy: 84.51666666666667\n",
            "Epoch: 5/50. Test set: Average loss: 0.0061\t Average Accuracy: \tAccuracy: 85.82\n",
            "Epoch: 6/50. Train set: Average loss: 0.0054\t Average Accuracy: \tAccuracy: 85.35\n",
            "Epoch: 6/50. Train set: Average loss: 0.0054\t Average Accuracy: \tAccuracy: 85.35\n",
            "Epoch: 6/50. Test set: Average loss: 0.0055\t Average Accuracy: \tAccuracy: 86.57\n",
            "Epoch: 7/50. Train set: Average loss: 0.0049\t Average Accuracy: \tAccuracy: 85.89\n",
            "Epoch: 7/50. Train set: Average loss: 0.0049\t Average Accuracy: \tAccuracy: 85.89\n",
            "Epoch: 7/50. Test set: Average loss: 0.0048\t Average Accuracy: \tAccuracy: 87.09\n",
            "Epoch: 8/50. Train set: Average loss: 0.0045\t Average Accuracy: \tAccuracy: 86.36166666666666\n",
            "Epoch: 8/50. Train set: Average loss: 0.0045\t Average Accuracy: \tAccuracy: 86.36166666666666\n",
            "Epoch: 8/50. Test set: Average loss: 0.0046\t Average Accuracy: \tAccuracy: 87.33\n",
            "Epoch: 9/50. Train set: Average loss: 0.0042\t Average Accuracy: \tAccuracy: 86.70166666666667\n",
            "Epoch: 9/50. Train set: Average loss: 0.0042\t Average Accuracy: \tAccuracy: 86.70166666666667\n",
            "Epoch: 9/50. Test set: Average loss: 0.0042\t Average Accuracy: \tAccuracy: 87.69\n",
            "Epoch: 10/50. Train set: Average loss: 0.0039\t Average Accuracy: \tAccuracy: 87.03166666666667\n",
            "Epoch: 10/50. Train set: Average loss: 0.0039\t Average Accuracy: \tAccuracy: 87.03166666666667\n",
            "Epoch: 10/50. Test set: Average loss: 0.0039\t Average Accuracy: \tAccuracy: 87.88\n",
            "Epoch: 11/50. Train set: Average loss: 0.0037\t Average Accuracy: \tAccuracy: 87.31666666666666\n",
            "Epoch: 11/50. Train set: Average loss: 0.0037\t Average Accuracy: \tAccuracy: 87.31666666666666\n",
            "Epoch: 11/50. Test set: Average loss: 0.0041\t Average Accuracy: \tAccuracy: 88.17\n",
            "Epoch: 12/50. Train set: Average loss: 0.0036\t Average Accuracy: \tAccuracy: 87.56333333333333\n",
            "Epoch: 12/50. Train set: Average loss: 0.0036\t Average Accuracy: \tAccuracy: 87.56333333333333\n",
            "Epoch: 12/50. Test set: Average loss: 0.0037\t Average Accuracy: \tAccuracy: 88.3\n",
            "Epoch: 13/50. Train set: Average loss: 0.0035\t Average Accuracy: \tAccuracy: 87.75\n",
            "Epoch: 13/50. Train set: Average loss: 0.0035\t Average Accuracy: \tAccuracy: 87.75\n",
            "Epoch: 13/50. Test set: Average loss: 0.0034\t Average Accuracy: \tAccuracy: 88.45\n",
            "Epoch: 14/50. Train set: Average loss: 0.0034\t Average Accuracy: \tAccuracy: 87.93833333333333\n",
            "Epoch: 14/50. Train set: Average loss: 0.0034\t Average Accuracy: \tAccuracy: 87.93833333333333\n",
            "Epoch: 14/50. Test set: Average loss: 0.0036\t Average Accuracy: \tAccuracy: 88.64\n",
            "Epoch: 15/50. Train set: Average loss: 0.0033\t Average Accuracy: \tAccuracy: 88.14\n",
            "Epoch: 15/50. Train set: Average loss: 0.0033\t Average Accuracy: \tAccuracy: 88.14\n",
            "Epoch: 15/50. Test set: Average loss: 0.0033\t Average Accuracy: \tAccuracy: 88.75\n",
            "Epoch: 16/50. Train set: Average loss: 0.0032\t Average Accuracy: \tAccuracy: 88.24666666666667\n",
            "Epoch: 16/50. Train set: Average loss: 0.0032\t Average Accuracy: \tAccuracy: 88.24666666666667\n",
            "Epoch: 16/50. Test set: Average loss: 0.0032\t Average Accuracy: \tAccuracy: 89.05\n",
            "Epoch: 17/50. Train set: Average loss: 0.0031\t Average Accuracy: \tAccuracy: 88.37833333333333\n",
            "Epoch: 17/50. Train set: Average loss: 0.0031\t Average Accuracy: \tAccuracy: 88.37833333333333\n",
            "Epoch: 17/50. Test set: Average loss: 0.0031\t Average Accuracy: \tAccuracy: 89.14\n",
            "Epoch: 18/50. Train set: Average loss: 0.0031\t Average Accuracy: \tAccuracy: 88.475\n",
            "Epoch: 18/50. Train set: Average loss: 0.0031\t Average Accuracy: \tAccuracy: 88.475\n",
            "Epoch: 18/50. Test set: Average loss: 0.0031\t Average Accuracy: \tAccuracy: 89.27\n",
            "Epoch: 19/50. Train set: Average loss: 0.0030\t Average Accuracy: \tAccuracy: 88.59166666666667\n",
            "Epoch: 19/50. Train set: Average loss: 0.0030\t Average Accuracy: \tAccuracy: 88.59166666666667\n",
            "Epoch: 19/50. Test set: Average loss: 0.0031\t Average Accuracy: \tAccuracy: 89.28\n",
            "Epoch: 20/50. Train set: Average loss: 0.0030\t Average Accuracy: \tAccuracy: 88.62833333333333\n",
            "Epoch: 20/50. Train set: Average loss: 0.0030\t Average Accuracy: \tAccuracy: 88.62833333333333\n",
            "Epoch: 20/50. Test set: Average loss: 0.0033\t Average Accuracy: \tAccuracy: 89.41\n",
            "Epoch: 21/50. Train set: Average loss: 0.0030\t Average Accuracy: \tAccuracy: 88.72333333333333\n",
            "Epoch: 21/50. Train set: Average loss: 0.0030\t Average Accuracy: \tAccuracy: 88.72333333333333\n",
            "Epoch: 21/50. Test set: Average loss: 0.0030\t Average Accuracy: \tAccuracy: 89.49\n",
            "Epoch: 22/50. Train set: Average loss: 0.0029\t Average Accuracy: \tAccuracy: 88.805\n",
            "Epoch: 22/50. Train set: Average loss: 0.0029\t Average Accuracy: \tAccuracy: 88.805\n",
            "Epoch: 22/50. Test set: Average loss: 0.0030\t Average Accuracy: \tAccuracy: 89.61\n",
            "Epoch: 23/50. Train set: Average loss: 0.0029\t Average Accuracy: \tAccuracy: 88.86166666666666\n",
            "Epoch: 23/50. Train set: Average loss: 0.0029\t Average Accuracy: \tAccuracy: 88.86166666666666\n",
            "Epoch: 23/50. Test set: Average loss: 0.0030\t Average Accuracy: \tAccuracy: 89.6\n",
            "Epoch: 24/50. Train set: Average loss: 0.0029\t Average Accuracy: \tAccuracy: 88.92\n",
            "Epoch: 24/50. Train set: Average loss: 0.0029\t Average Accuracy: \tAccuracy: 88.92\n",
            "Epoch: 24/50. Test set: Average loss: 0.0030\t Average Accuracy: \tAccuracy: 89.67\n",
            "Epoch: 25/50. Train set: Average loss: 0.0029\t Average Accuracy: \tAccuracy: 88.97166666666666\n",
            "Epoch: 25/50. Train set: Average loss: 0.0029\t Average Accuracy: \tAccuracy: 88.97166666666666\n",
            "Epoch: 25/50. Test set: Average loss: 0.0029\t Average Accuracy: \tAccuracy: 89.72\n",
            "Epoch: 26/50. Train set: Average loss: 0.0029\t Average Accuracy: \tAccuracy: 88.98333333333333\n",
            "Epoch: 26/50. Train set: Average loss: 0.0029\t Average Accuracy: \tAccuracy: 88.98333333333333\n",
            "Epoch: 26/50. Test set: Average loss: 0.0030\t Average Accuracy: \tAccuracy: 89.75\n",
            "Epoch: 27/50. Train set: Average loss: 0.0028\t Average Accuracy: \tAccuracy: 89.03166666666667\n",
            "Epoch: 27/50. Train set: Average loss: 0.0028\t Average Accuracy: \tAccuracy: 89.03166666666667\n",
            "Epoch: 27/50. Test set: Average loss: 0.0029\t Average Accuracy: \tAccuracy: 89.8\n",
            "Epoch: 28/50. Train set: Average loss: 0.0028\t Average Accuracy: \tAccuracy: 89.065\n",
            "Epoch: 28/50. Train set: Average loss: 0.0028\t Average Accuracy: \tAccuracy: 89.065\n",
            "Epoch: 28/50. Test set: Average loss: 0.0028\t Average Accuracy: \tAccuracy: 89.76\n",
            "Epoch: 29/50. Train set: Average loss: 0.0028\t Average Accuracy: \tAccuracy: 89.10166666666667\n",
            "Epoch: 29/50. Train set: Average loss: 0.0028\t Average Accuracy: \tAccuracy: 89.10166666666667\n",
            "Epoch: 29/50. Test set: Average loss: 0.0029\t Average Accuracy: \tAccuracy: 89.82\n",
            "Epoch: 30/50. Train set: Average loss: 0.0028\t Average Accuracy: \tAccuracy: 89.09833333333333\n",
            "Epoch: 30/50. Train set: Average loss: 0.0028\t Average Accuracy: \tAccuracy: 89.09833333333333\n",
            "Epoch: 30/50. Test set: Average loss: 0.0030\t Average Accuracy: \tAccuracy: 89.79\n",
            "Epoch: 31/50. Train set: Average loss: 0.0028\t Average Accuracy: \tAccuracy: 89.125\n",
            "Epoch: 31/50. Train set: Average loss: 0.0028\t Average Accuracy: \tAccuracy: 89.125\n",
            "Epoch: 31/50. Test set: Average loss: 0.0030\t Average Accuracy: \tAccuracy: 89.82\n",
            "Epoch: 32/50. Train set: Average loss: 0.0028\t Average Accuracy: \tAccuracy: 89.17166666666667\n",
            "Epoch: 32/50. Train set: Average loss: 0.0028\t Average Accuracy: \tAccuracy: 89.17166666666667\n",
            "Epoch: 32/50. Test set: Average loss: 0.0027\t Average Accuracy: \tAccuracy: 89.84\n",
            "Epoch: 33/50. Train set: Average loss: 0.0028\t Average Accuracy: \tAccuracy: 89.17\n",
            "Epoch: 33/50. Train set: Average loss: 0.0028\t Average Accuracy: \tAccuracy: 89.17\n",
            "Epoch: 33/50. Test set: Average loss: 0.0029\t Average Accuracy: \tAccuracy: 89.81\n",
            "Epoch: 34/50. Train set: Average loss: 0.0028\t Average Accuracy: \tAccuracy: 89.195\n",
            "Epoch: 34/50. Train set: Average loss: 0.0028\t Average Accuracy: \tAccuracy: 89.195\n",
            "Epoch: 34/50. Test set: Average loss: 0.0028\t Average Accuracy: \tAccuracy: 89.83\n",
            "Epoch: 35/50. Train set: Average loss: 0.0028\t Average Accuracy: \tAccuracy: 89.23333333333333\n",
            "Epoch: 35/50. Train set: Average loss: 0.0028\t Average Accuracy: \tAccuracy: 89.23333333333333\n",
            "Epoch: 35/50. Test set: Average loss: 0.0030\t Average Accuracy: \tAccuracy: 89.83\n",
            "Epoch: 36/50. Train set: Average loss: 0.0028\t Average Accuracy: \tAccuracy: 89.26\n",
            "Epoch: 36/50. Train set: Average loss: 0.0028\t Average Accuracy: \tAccuracy: 89.26\n",
            "Epoch: 36/50. Test set: Average loss: 0.0028\t Average Accuracy: \tAccuracy: 89.83\n",
            "Epoch: 37/50. Train set: Average loss: 0.0028\t Average Accuracy: \tAccuracy: 89.26833333333333\n",
            "Epoch: 37/50. Train set: Average loss: 0.0028\t Average Accuracy: \tAccuracy: 89.26833333333333\n",
            "Epoch: 37/50. Test set: Average loss: 0.0027\t Average Accuracy: \tAccuracy: 89.88\n",
            "Epoch: 38/50. Train set: Average loss: 0.0027\t Average Accuracy: \tAccuracy: 89.285\n",
            "Epoch: 38/50. Train set: Average loss: 0.0027\t Average Accuracy: \tAccuracy: 89.285\n",
            "Epoch: 38/50. Test set: Average loss: 0.0028\t Average Accuracy: \tAccuracy: 89.89\n",
            "Epoch: 39/50. Train set: Average loss: 0.0027\t Average Accuracy: \tAccuracy: 89.315\n",
            "Epoch: 39/50. Train set: Average loss: 0.0027\t Average Accuracy: \tAccuracy: 89.315\n",
            "Epoch: 39/50. Test set: Average loss: 0.0028\t Average Accuracy: \tAccuracy: 89.96\n",
            "Epoch: 40/50. Train set: Average loss: 0.0027\t Average Accuracy: \tAccuracy: 89.31666666666666\n",
            "Epoch: 40/50. Train set: Average loss: 0.0027\t Average Accuracy: \tAccuracy: 89.31666666666666\n",
            "Epoch: 40/50. Test set: Average loss: 0.0028\t Average Accuracy: \tAccuracy: 89.98\n",
            "Epoch: 41/50. Train set: Average loss: 0.0027\t Average Accuracy: \tAccuracy: 89.33666666666667\n",
            "Epoch: 41/50. Train set: Average loss: 0.0027\t Average Accuracy: \tAccuracy: 89.33666666666667\n",
            "Epoch: 41/50. Test set: Average loss: 0.0027\t Average Accuracy: \tAccuracy: 90.0\n",
            "Epoch: 42/50. Train set: Average loss: 0.0027\t Average Accuracy: \tAccuracy: 89.34666666666666\n",
            "Epoch: 42/50. Train set: Average loss: 0.0027\t Average Accuracy: \tAccuracy: 89.34666666666666\n",
            "Epoch: 42/50. Test set: Average loss: 0.0027\t Average Accuracy: \tAccuracy: 90.02\n",
            "Epoch: 43/50. Train set: Average loss: 0.0027\t Average Accuracy: \tAccuracy: 89.35666666666667\n",
            "Epoch: 43/50. Train set: Average loss: 0.0027\t Average Accuracy: \tAccuracy: 89.35666666666667\n",
            "Epoch: 43/50. Test set: Average loss: 0.0029\t Average Accuracy: \tAccuracy: 90.01\n",
            "Epoch: 44/50. Train set: Average loss: 0.0027\t Average Accuracy: \tAccuracy: 89.36333333333333\n",
            "Epoch: 44/50. Train set: Average loss: 0.0027\t Average Accuracy: \tAccuracy: 89.36333333333333\n",
            "Epoch: 44/50. Test set: Average loss: 0.0028\t Average Accuracy: \tAccuracy: 90.07\n",
            "Epoch: 45/50. Train set: Average loss: 0.0027\t Average Accuracy: \tAccuracy: 89.39166666666667\n",
            "Epoch: 45/50. Train set: Average loss: 0.0027\t Average Accuracy: \tAccuracy: 89.39166666666667\n",
            "Epoch: 45/50. Test set: Average loss: 0.0029\t Average Accuracy: \tAccuracy: 90.07\n",
            "Epoch: 46/50. Train set: Average loss: 0.0027\t Average Accuracy: \tAccuracy: 89.39\n",
            "Epoch: 46/50. Train set: Average loss: 0.0027\t Average Accuracy: \tAccuracy: 89.39\n",
            "Epoch: 46/50. Test set: Average loss: 0.0030\t Average Accuracy: \tAccuracy: 90.05\n",
            "Epoch: 47/50. Train set: Average loss: 0.0027\t Average Accuracy: \tAccuracy: 89.40166666666667\n",
            "Epoch: 47/50. Train set: Average loss: 0.0027\t Average Accuracy: \tAccuracy: 89.40166666666667\n",
            "Epoch: 47/50. Test set: Average loss: 0.0028\t Average Accuracy: \tAccuracy: 90.06\n",
            "Epoch: 48/50. Train set: Average loss: 0.0027\t Average Accuracy: \tAccuracy: 89.43333333333334\n",
            "Epoch: 48/50. Train set: Average loss: 0.0027\t Average Accuracy: \tAccuracy: 89.43333333333334\n",
            "Epoch: 48/50. Test set: Average loss: 0.0031\t Average Accuracy: \tAccuracy: 90.08\n",
            "Epoch: 49/50. Train set: Average loss: 0.0027\t Average Accuracy: \tAccuracy: 89.39333333333333\n",
            "Epoch: 49/50. Train set: Average loss: 0.0027\t Average Accuracy: \tAccuracy: 89.39333333333333\n",
            "Epoch: 49/50. Test set: Average loss: 0.0027\t Average Accuracy: \tAccuracy: 90.1\n",
            "Epoch: 50/50. Train set: Average loss: 0.0027\t Average Accuracy: \tAccuracy: 89.435\n",
            "Epoch: 50/50. Train set: Average loss: 0.0027\t Average Accuracy: \tAccuracy: 89.435\n",
            "Epoch: 50/50. Test set: Average loss: 0.0026\t Average Accuracy: \tAccuracy: 90.07\n"
          ],
          "name": "stdout"
        }
      ]
    },
    {
      "metadata": {
        "id": "B2MvcBU9OF2X",
        "colab_type": "code",
        "colab": {
          "base_uri": "https://localhost:8080/",
          "height": 380
        },
        "outputId": "68504adf-7b44-4d21-957a-47d7580a25e3"
      },
      "cell_type": "code",
      "source": [
        "plt.plot(range(n_epochs-1),train_losses)\n",
        "plt.plot(range(n_epochs-1),test_losses)\n",
        "plt.legend([\"train losses\",\"test losses\"])\n",
        "plt.title(\"train and test loss\")"
      ],
      "execution_count": 143,
      "outputs": [
        {
          "output_type": "execute_result",
          "data": {
            "text/plain": [
              "Text(0.5, 1.0, 'train and test loss')"
            ]
          },
          "metadata": {
            "tags": []
          },
          "execution_count": 143
        },
        {
          "output_type": "display_data",
          "data": {
            "image/png": "[encoded data removed]",
            "text/plain": [
              "<Figure size 576x396 with 1 Axes>"
            ]
          },
          "metadata": {
            "tags": []
          }
        }
      ]
    },
    {
      "metadata": {
        "id": "Q0tko4z5PsPX",
        "colab_type": "code",
        "colab": {
          "base_uri": "https://localhost:8080/",
          "height": 380
        },
        "outputId": "5a43776f-a354-4c71-afe2-66125c24e061"
      },
      "cell_type": "code",
      "source": [
        "plt.plot(range(n_epochs-1),train_accuracy)\n",
        "plt.plot(range(n_epochs-1),test_accuracy)\n",
        "plt.legend([\"train accuracy\",\"test accuracy\"])\n",
        "plt.title(\"train and test accuracy\")\n",
        "\n"
      ],
      "execution_count": 144,
      "outputs": [
        {
          "output_type": "execute_result",
          "data": {
            "text/plain": [
              "Text(0.5, 1.0, 'train and test accuracy')"
            ]
          },
          "metadata": {
            "tags": []
          },
          "execution_count": 144
        },
        {
          "output_type": "display_data",
          "data": {
            "image/png": "[encoded data removed]",
            "text/plain": [
              "<Figure size 576x396 with 1 Axes>"
            ]
          },
          "metadata": {
            "tags": []
          }
        }
      ]
    },
    {
      "metadata": {
        "id": "CvgKv4-vP6qE",
        "colab_type": "code",
        "colab": {}
      },
      "cell_type": "code",
      "source": [
        ""
      ],
      "execution_count": 0,
      "outputs": []
    }
  ]
}