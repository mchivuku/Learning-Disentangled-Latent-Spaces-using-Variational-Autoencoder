{
  "nbformat": 4,
  "nbformat_minor": 0,
  "metadata": {
    "colab": {
      "name": "Homework4_VAE.ipynb",
      "version": "0.3.2",
      "provenance": [],
      "collapsed_sections": [],
      "toc_visible": true,
      "include_colab_link": true
    },
    "kernelspec": {
      "name": "python3",
      "display_name": "Python 3"
    },
    "accelerator": "GPU"
  },
  "cells": [
    {
      "cell_type": "markdown",
      "metadata": {
        "id": "view-in-github",
        "colab_type": "text"
      },
      "source": [
        "<a href=\"https://colab.research.google.com/github/mchivuku/csb659-project/blob/master/Homework4_VAE.ipynb\" target=\"_parent\"><img src=\"https://colab.research.google.com/assets/colab-badge.svg\" alt=\"Open In Colab\"/></a>"
      ]
    },
    {
      "metadata": {
        "id": "zNpjmQcod8U5",
        "colab_type": "text"
      },
      "cell_type": "markdown",
      "source": [
        "# Variational Auto-Encoder"
      ]
    },
    {
      "metadata": {
        "id": "BLNEvG3Gd-Ai",
        "colab_type": "code",
        "outputId": "ae50debd-f06e-40a3-dd96-79b354f1de4a",
        "colab": {
          "base_uri": "https://localhost:8080/",
          "height": 143
        }
      },
      "cell_type": "code",
      "source": [
        "from google.colab import drive\n",
        "drive.mount('/content/drive')\n",
        "\n",
        "%cd /content/drive/My\\ Drive/Masters-DS/Deep\\ Learning\\ -\\ E533/\n"
      ],
      "execution_count": 4,
      "outputs": [
        {
          "output_type": "stream",
          "text": [
            "Go to this URL in a browser: https://accounts.google.com/o/oauth2/auth?client_id=947318989803-6bn6qk8qdgf4n4g3pfee6491hc0brc4i.apps.googleusercontent.com&redirect_uri=urn%3Aietf%3Awg%3Aoauth%3A2.0%3Aoob&scope=email%20https%3A%2F%2Fwww.googleapis.com%2Fauth%2Fdocs.test%20https%3A%2F%2Fwww.googleapis.com%2Fauth%2Fdrive%20https%3A%2F%2Fwww.googleapis.com%2Fauth%2Fdrive.photos.readonly%20https%3A%2F%2Fwww.googleapis.com%2Fauth%2Fpeopleapi.readonly&response_type=code\n",
            "\n",
            "Enter your authorization code:\n",
            "··········\n",
            "Mounted at /content/drive\n",
            "/content/drive/My Drive/Masters-DS/Deep Learning - E533\n"
          ],
          "name": "stdout"
        }
      ]
    },
    {
      "metadata": {
        "id": "A_-jI3vvd-_V",
        "colab_type": "code",
        "outputId": "cef2ce91-c16c-4b82-880c-066a891d871f",
        "colab": {
          "base_uri": "https://localhost:8080/",
          "height": 35
        }
      },
      "cell_type": "code",
      "source": [
        "%cd Homework4"
      ],
      "execution_count": 10,
      "outputs": [
        {
          "output_type": "stream",
          "text": [
            "/content/drive/My Drive/Masters-DS/Deep Learning - E533/Homework4\n"
          ],
          "name": "stdout"
        }
      ]
    },
    {
      "metadata": {
        "id": "Iw9lmt7EX1pK",
        "colab_type": "code",
        "colab": {}
      },
      "cell_type": "code",
      "source": [
        "%%capture\n",
        "!pip install tqdm six\n",
        "\n",
        "\n",
        "!pip install bokeh\n",
        "!pip install tensorboard\n",
        "!pip install livelossplot\n",
        "\n",
        "!pip install tensorboard"
      ],
      "execution_count": 0,
      "outputs": []
    },
    {
      "metadata": {
        "id": "-p_388EkXcEW",
        "colab_type": "text"
      },
      "cell_type": "markdown",
      "source": [
        "## Import Libraries"
      ]
    },
    {
      "metadata": {
        "id": "tDbVU6PfeKib",
        "colab_type": "code",
        "outputId": "38da0841-f6e8-47b8-f753-8e1b9ccd2b79",
        "colab": {
          "base_uri": "https://localhost:8080/",
          "height": 70
        }
      },
      "cell_type": "code",
      "source": [
        "from glob import glob\n",
        "import os\n",
        "import numpy as np\n",
        "import matplotlib.pyplot as plt\n",
        "import shutil\n",
        "from torchvision import transforms\n",
        "from torchvision import models\n",
        "import torchvision\n",
        "import torch\n",
        "from torch.autograd import Variable\n",
        "import torch.nn as nn\n",
        "from torch.optim import lr_scheduler\n",
        "from torch import optim\n",
        "from torchvision.datasets import ImageFolder\n",
        "from torchvision.utils import make_grid\n",
        "import time\n",
        "from torchvision import datasets,transforms\n",
        "import torch.nn.functional as F\n",
        "import torch.optim as optim\n",
        "\n",
        "\n",
        "import os\n",
        "from torchvision.utils import save_image\n",
        "\n",
        "## Plotting library\n",
        "\n",
        "from bokeh.plotting import figure\n",
        "from bokeh.io import show\n",
        "from bokeh.models import LinearAxis, Range1d\n",
        "from livelossplot import PlotLosses\n",
        "\n",
        "\n",
        "plt.style.use('ggplot')\n",
        "\n",
        "print('Torch', torch.__version__, 'CUDA', torch.version.cuda)\n",
        "print('Device:', torch.device('cuda:0'))\n",
        "print(torch.cuda.is_available())\n",
        "\n",
        "is_cuda = torch.cuda.is_available()\n",
        "device = torch.device ( \"cuda:0\" if torch.cuda.is_available () else \"cpu\" )"
      ],
      "execution_count": 6,
      "outputs": [
        {
          "output_type": "stream",
          "text": [
            "Torch 1.0.1.post2 CUDA 10.0.130\n",
            "Device: cuda:0\n",
            "True\n"
          ],
          "name": "stdout"
        }
      ]
    },
    {
      "metadata": {
        "id": "6Vjsb7F1ZGG3",
        "colab_type": "text"
      },
      "cell_type": "markdown",
      "source": [
        "## Helper Functions"
      ]
    },
    {
      "metadata": {
        "id": "41TUEJmmXh0A",
        "colab_type": "code",
        "colab": {}
      },
      "cell_type": "code",
      "source": [
        "## Show image\n",
        "def imshow(img,title=None):\n",
        "  \"\"\"Imshow for Tensor.\"\"\"\n",
        "  img = img.numpy().transpose((1,2,0))\n",
        "  mean = np.array([0.485, 0.456, 0.406])\n",
        "  std = np.array([0.229, 0.224, 0.225])\n",
        "  img = std * img + mean # normalize\n",
        "  img = np.clip(img, 0, 1) # clip image\n",
        "  plt.figure(figsize=(16,4))\n",
        "  plt.axis('off')\n",
        "  plt.imshow(img)\n",
        "  \n",
        "  if title is not None:\n",
        "    plt.title(title)         \n",
        "  \n",
        "def plot_grid(inputs):\n",
        "  # Make a grid from batch \n",
        "  out = torchvision.utils.make_grid(inputs,10,10)\n",
        "  imshow(out, title=\"\")\n",
        "  \n",
        "  \n",
        "  \n",
        "  \n",
        "def plot_loss(y, title):\n",
        "  plt.figure()\n",
        "  plt.plot(y)\n",
        "  plt.title(title)\n",
        "  plt.xlabel('epochs')\n",
        "  plt.ylabel('Loss')\n",
        "  \n",
        "def plot_accuracy(y, title):\n",
        "  plt.figure()\n",
        "  plt.plot(y)\n",
        "  plt.title(title)\n",
        "  plt.xlabel('epochs')\n",
        "  plt.ylabel('accuracy')\n",
        "  "
      ],
      "execution_count": 0,
      "outputs": []
    },
    {
      "metadata": {
        "id": "i8ugsQ7xZNny",
        "colab_type": "text"
      },
      "cell_type": "markdown",
      "source": [
        "## TensorBoard - Utilities"
      ]
    },
    {
      "metadata": {
        "id": "VHrmbMHZZICd",
        "colab_type": "code",
        "colab": {}
      },
      "cell_type": "code",
      "source": [
        "import tensorflow as tf\n",
        "import numpy as np\n",
        "import scipy.misc \n",
        "from PIL import Image \n",
        "try:\n",
        "    from StringIO import StringIO  # Python 2.7\n",
        "except ImportError:\n",
        "    from io import BytesIO         # Python 3.x\n",
        "\n",
        "## Import tensor flow library\n",
        "class TensorBoardLogger(object):\n",
        "  \n",
        "  \"\"\"\n",
        "  Initialize the summary writer\n",
        "  \"\"\"\n",
        "  def __init__(self, log_dir):\n",
        "    \"create summary writer\"\n",
        "    self.writer = tf.summary.FileWriter(log_dir)\n",
        "  \n",
        "  \"\"\"\n",
        "  Add scalar\n",
        "  \"\"\"\n",
        "  def scalar_summary(self, tag, value, step):\n",
        "    summary = tf.Summary(value=[tf.Summary.Value(tag=tag, simple_value=value)])\n",
        "    self.writer.add_summary(summary,step)\n",
        "    \n",
        "  \"\"\"\n",
        "  Add images\n",
        "  \"\"\"\n",
        "  def image_summary(self, tag, images, step):\n",
        "    \"\"\"Log a list of images.\"\"\"\n",
        "\n",
        "    img_summaries = []\n",
        "    for i, img in enumerate(images):\n",
        "        s = BytesIO()\n",
        "        \n",
        "        new_p = Image.fromarray(img)\n",
        "        if new_p.mode != 'L':\n",
        "          new_p = new_p.convert('L')\n",
        "    \n",
        "        new_p.save(s, format=\"png\")\n",
        "\n",
        "        # Create an Image object\n",
        "        img_sum = tf.Summary.Image(encoded_image_string=s.getvalue(),\n",
        "                                   height=img.shape[0],\n",
        "                                   width=img.shape[1])\n",
        "        # Create a Summary value\n",
        "        img_summaries.append(tf.Summary.Value(tag='%s/%d' % (tag, i), image=img_sum))\n",
        "\n",
        "    # Create and write Summary\n",
        "    summary = tf.Summary(value=img_summaries)\n",
        "    self.writer.add_summary(summary, step)\n",
        "        \n",
        "  def histo_summary(self, tag, values, step, bins=1000):\n",
        "      \"\"\"Log a histogram of the tensor of values.\"\"\"\n",
        "\n",
        "      # Create a histogram using numpy\n",
        "      counts, bin_edges = np.histogram(values, bins=bins)\n",
        "\n",
        "      # Fill the fields of the histogram proto\n",
        "      hist = tf.HistogramProto()\n",
        "      hist.min = float(np.min(values))\n",
        "      hist.max = float(np.max(values))\n",
        "      hist.num = int(np.prod(values.shape))\n",
        "      hist.sum = float(np.sum(values))\n",
        "      hist.sum_squares = float(np.sum(values**2))\n",
        "\n",
        "      # Drop the start of the first bin\n",
        "      bin_edges = bin_edges[1:]\n",
        "\n",
        "      # Add bin edges and counts\n",
        "      for edge in bin_edges:\n",
        "          hist.bucket_limit.append(edge)\n",
        "      for c in counts:\n",
        "          hist.bucket.append(c)\n",
        "\n",
        "      # Create and write Summary\n",
        "      summary = tf.Summary(value=[tf.Summary.Value(tag=tag, histo=hist)])\n",
        "      self.writer.add_summary(summary, step)\n",
        "      self.writer.flush()\n",
        "      \n",
        "      \n",
        " "
      ],
      "execution_count": 0,
      "outputs": []
    },
    {
      "metadata": {
        "id": "wd9pkWL9ZWuO",
        "colab_type": "code",
        "outputId": "fabc2b2c-ad97-4498-9b54-61972eaebec8",
        "colab": {
          "base_uri": "https://localhost:8080/",
          "height": 105
        }
      },
      "cell_type": "code",
      "source": [
        "import os\n",
        "\n",
        "def make_dirs(dirname):\n",
        "  if not os.path.exists(dirname):\n",
        "    os.makedirs(dirname)\n",
        "    \n",
        "    \n",
        "#make_dirs(\"logs\")\n",
        "%ls"
      ],
      "execution_count": 12,
      "outputs": [
        {
          "output_type": "stream",
          "text": [
            "homework_4.pdf  \u001b[0m\u001b[01;34mlogs\u001b[0m/                           ngrok-stable-linux-amd64.zip.3\n",
            "hw4_te7.pkl     ngrok                           ngrok-stable-linux-amd64.zip.4\n",
            "hw4_tes.pkl     ngrok-stable-linux-amd64.zip    ngrok-stable-linux-amd64.zip.5\n",
            "hw4_tr7.pkl     ngrok-stable-linux-amd64.zip.1  ngrok-stable-linux-amd64.zip.6\n",
            "hw4_trs.pkl     ngrok-stable-linux-amd64.zip.2\n"
          ],
          "name": "stdout"
        }
      ]
    },
    {
      "metadata": {
        "id": "R5QxokSPZP-B",
        "colab_type": "code",
        "outputId": "9fe4b43c-4e64-4afd-9214-97b326b3a3ce",
        "colab": {
          "base_uri": "https://localhost:8080/",
          "height": 281
        }
      },
      "cell_type": "code",
      "source": [
        "## Logging\n",
        "LOG_DIR = './logs'\n",
        "get_ipython().system_raw(\n",
        "    'tensorboard --logdir {} --host 0.0.0.0 --port 6006 &'\n",
        "    .format(LOG_DIR)\n",
        ")\n",
        "\n",
        "! wget https://bin.equinox.io/c/4VmDzA7iaHb/ngrok-stable-linux-amd64.zip\n",
        "! unzip ngrok-stable-linux-amd64.zip\n",
        "get_ipython().system_raw('./ngrok http 6006 &')\n",
        "! curl -s http://localhost:4040/api/tunnels | python3 -c \\\n",
        "    \"import sys, json; print(json.load(sys.stdin)['tunnels'][0]['public_url'])\"\n",
        "    "
      ],
      "execution_count": 13,
      "outputs": [
        {
          "output_type": "stream",
          "text": [
            "--2019-04-05 00:11:15--  https://bin.equinox.io/c/4VmDzA7iaHb/ngrok-stable-linux-amd64.zip\n",
            "Resolving bin.equinox.io (bin.equinox.io)... 52.21.103.149, 34.204.22.7, 52.73.9.93, ...\n",
            "Connecting to bin.equinox.io (bin.equinox.io)|52.21.103.149|:443... connected.\n",
            "HTTP request sent, awaiting response... 200 OK\n",
            "Length: 14977695 (14M) [application/octet-stream]\n",
            "Saving to: ‘ngrok-stable-linux-amd64.zip.7’\n",
            "\n",
            "ngrok-stable-linux- 100%[===================>]  14.28M  40.0MB/s    in 0.4s    \n",
            "\n",
            "2019-04-05 00:11:15 (40.0 MB/s) - ‘ngrok-stable-linux-amd64.zip.7’ saved [14977695/14977695]\n",
            "\n",
            "Archive:  ngrok-stable-linux-amd64.zip\n",
            "replace ngrok? [y]es, [n]o, [A]ll, [N]one, [r]ename: y\n",
            "  inflating: ngrok                   \n",
            "https://b92019df.ngrok.io\n"
          ],
          "name": "stdout"
        }
      ]
    },
    {
      "metadata": {
        "id": "vykYuxEwaJaq",
        "colab_type": "text"
      },
      "cell_type": "markdown",
      "source": [
        "## Running Average"
      ]
    },
    {
      "metadata": {
        "id": "AUkR914ZaCY1",
        "colab_type": "code",
        "colab": {}
      },
      "cell_type": "code",
      "source": [
        "class RunningAverage ():\n",
        "    \"\"\"A simple class that maintains the running average of a quantity\n",
        "    Example:\n",
        "    ```\n",
        "    loss_avg = RunningAverage()\n",
        "    loss_avg.update(2)\n",
        "    loss_avg.update(4)\n",
        "    loss_avg() = 3\n",
        "    ```\n",
        "    \"\"\"\n",
        "\n",
        "    def __init__( self ):\n",
        "        self.steps = 0\n",
        "        self.total = 0\n",
        "\n",
        "    def update( self, val ):\n",
        "        self.total += val\n",
        "        self.steps += 1\n",
        "\n",
        "    def __call__( self ):\n",
        "        return self.total / float ( self.steps )"
      ],
      "execution_count": 0,
      "outputs": []
    },
    {
      "metadata": {
        "id": "Yc0VijLGaT5R",
        "colab_type": "text"
      },
      "cell_type": "markdown",
      "source": [
        "## DataLoader"
      ]
    },
    {
      "metadata": {
        "id": "Bn5zA9K7aLSD",
        "colab_type": "code",
        "outputId": "4bdf07cb-7b9c-48d0-9dff-d790e0bf77ca",
        "colab": {
          "base_uri": "https://localhost:8080/",
          "height": 35
        }
      },
      "cell_type": "code",
      "source": [
        "import pickle\n",
        "\n",
        "def load_pickle(file):\n",
        "  with open(file, 'rb') as f:\n",
        "    data = pickle.load(f)\n",
        "  return data\n",
        "\n",
        "\n",
        "train_data = load_pickle(\"hw4_tr7.pkl\")\n",
        "test_data = load_pickle(\"hw4_te7.pkl\")\n",
        "\n",
        "print(f\"Train: {train.shape}, test:{test.shape}\")\n",
        "\n",
        "\n"
      ],
      "execution_count": 19,
      "outputs": [
        {
          "output_type": "stream",
          "text": [
            "Train: (6265, 28, 28), test:(1028, 28, 28)\n"
          ],
          "name": "stdout"
        }
      ]
    },
    {
      "metadata": {
        "id": "zUB_SoYAae-h",
        "colab_type": "code",
        "outputId": "434889c4-10b1-4e66-9c3d-b167aa6352c2",
        "colab": {
          "base_uri": "https://localhost:8080/",
          "height": 677
        }
      },
      "cell_type": "code",
      "source": [
        "plt.imshow(np.array(train_data[2]))\n",
        "plt.show()\n",
        "plt.imshow(np.array(train_data[10]))\n",
        "plt.show()"
      ],
      "execution_count": 20,
      "outputs": [
        {
          "output_type": "display_data",
          "data": {
            "image/png": "[encoded data removed]",
            "text/plain": [
              "<Figure size 576x396 with 1 Axes>"
            ]
          },
          "metadata": {
            "tags": []
          }
        },
        {
          "output_type": "display_data",
          "data": {
            "image/png": "[encoded data removed]",
            "text/plain": [
              "<Figure size 576x396 with 1 Axes>"
            ]
          },
          "metadata": {
            "tags": []
          }
        }
      ]
    },
    {
      "metadata": {
        "id": "4_gWBXB7bE6G",
        "colab_type": "code",
        "colab": {}
      },
      "cell_type": "code",
      "source": [
        "batch_size = 128\n",
        "\n",
        "train_loader = torch.utils.data.DataLoader(train_data, num_workers=2, batch_size=batch_size,\n",
        "\t\t\t\t\t\t\t\tshuffle=True, drop_last=True, pin_memory=True)\n",
        "test_loader = torch.utils.data.DataLoader(test_data, num_workers=2, batch_size=batch_size,\n",
        "\t\t\t\t\t\t\t\tshuffle=True, drop_last=True, pin_memory=True)\n"
      ],
      "execution_count": 0,
      "outputs": []
    },
    {
      "metadata": {
        "id": "KySFfsO-c_Bl",
        "colab_type": "code",
        "colab": {}
      },
      "cell_type": "code",
      "source": [
        "sample = next(iter(train_loader))"
      ],
      "execution_count": 0,
      "outputs": []
    },
    {
      "metadata": {
        "id": "2Q1FPJEkgV9E",
        "colab_type": "text"
      },
      "cell_type": "markdown",
      "source": [
        "## Network"
      ]
    },
    {
      "metadata": {
        "id": "Vc-95FWSdDqg",
        "colab_type": "code",
        "outputId": "22dcdeeb-cfc4-4be5-b772-5be9619bd565",
        "colab": {
          "base_uri": "https://localhost:8080/",
          "height": 35
        }
      },
      "cell_type": "code",
      "source": [
        "print(f\"Total number of train images: {train_data.shape[0]}, total number of test images: {test_data.shape[0]}, total number of train batches: {len(train_loader)}\")"
      ],
      "execution_count": 22,
      "outputs": [
        {
          "output_type": "stream",
          "text": [
            "Total number of train images: 6265, total number of test images: 1028, total number of train batches: 48\n"
          ],
          "name": "stdout"
        }
      ]
    },
    {
      "metadata": {
        "id": "nJtLW142dFhU",
        "colab_type": "code",
        "colab": {}
      },
      "cell_type": "code",
      "source": [
        "class Flatten(nn.Module):\n",
        "    def forward(self, input):\n",
        "        return input.view(input.size(0), -1)\n",
        "\n",
        "\n",
        "class UnFlatten(nn.Module):\n",
        "    def forward(self, input, size=1024):\n",
        "        return input.view(input.size(0), size, 1, 1)\n",
        "\n",
        "      \n",
        "class ConvVAE(nn.Module):\n",
        "    def __init__(self, nb_latents):\n",
        "        super(ConvVAE, self).__init__()\n",
        "        self.conv1 = nn.Sequential(\n",
        "            nn.Conv2d(1, 32, kernel_size=5, stride=1, padding=2),\n",
        "            nn.ReLU(),\n",
        "            nn.MaxPool2d(kernel_size=2, stride=2))\n",
        "        self.conv2 = nn.Sequential(\n",
        "            nn.Conv2d(32, 64, kernel_size=5, stride=1, padding=2),\n",
        "            nn.ReLU(),\n",
        "            nn.MaxPool2d(kernel_size=2, stride=2))\n",
        "        \n",
        "        \n",
        "        self.conv3 = nn.Sequential(\n",
        "            nn.Conv2d(64, 128, kernel_size=5, stride=1, padding=2),\n",
        "            nn.ReLU(),\n",
        "            nn.MaxPool2d(kernel_size=2, stride=2))\n",
        "        \n",
        "        self.conv4 = nn.Sequential(\n",
        "            nn.Conv2d(128, 256, kernel_size=2, stride=1),\n",
        "            nn.ReLU())\n",
        "        \n",
        "        self.fc1 = nn.Linear(1024, 256)\n",
        "        \n",
        "        self.fc_mean = nn.Linear(256, nb_latents)\n",
        "        self.fc_std = nn.Linear(256, nb_latents)\n",
        "        \n",
        "        self.fc2 = nn.Linear(nb_latents, 256)\n",
        "        self.fc3 = nn.Linear(256, 1024)\n",
        "        \n",
        "        \n",
        "        \n",
        "        self.fc4 = nn.Linear(1024,7*7*64)\n",
        "        \n",
        "        self.deconv1 = nn.ConvTranspose2d(64, 32, kernel_size=2, stride=2)\n",
        "        self.deconv2 = nn.ConvTranspose2d(32, 1, kernel_size=2, stride=2)\n",
        "    \n",
        "        self.relu = nn.ReLU()\n",
        "        self.sigmoid = nn.Sigmoid()\n",
        "    \n",
        "    def encode(self, x):\n",
        "        x = (self.conv1(x))\n",
        "        x =  (self.conv2(x))\n",
        "        x =  (self.conv3(x))\n",
        "        x =  (self.conv4(x))\n",
        "        x = x.reshape(x.size(0), -1)\n",
        "        x = self.relu(self.fc1(x))\n",
        "        return self.fc_mean(x), self.fc_std(x)\n",
        "\n",
        "    def reparameterize(self, mu, logvar):\n",
        "        if self.training:\n",
        "            std = logvar.mul(0.5).exp_()\n",
        "            eps = Variable(std.data.new(std.size()).normal_())\n",
        "            return eps.mul(std).add_(mu)\n",
        "        else:\n",
        "            return mu\n",
        "    \n",
        "    def decode(self, z):\n",
        "        x = self.relu(self.fc2(z))\n",
        "        x = self.relu(self.fc3(x))\n",
        "        x = self.relu(self.fc4(x))\n",
        "        x = self.relu(self.deconv1(x.view(-1, 64, 7, 7)))\n",
        "        x = self.deconv2(x)\n",
        "        return self.sigmoid(x)\n",
        "        \n",
        "    def forward(self, x):\n",
        "        mu, logvar = self.encode(x.unsqueeze(1))\n",
        "        z = self.reparameterize(mu, logvar)\n",
        "        return self.decode(z), mu, logvar"
      ],
      "execution_count": 0,
      "outputs": []
    },
    {
      "metadata": {
        "id": "hyaFu-GkgYAL",
        "colab_type": "code",
        "outputId": "c79d23e2-681c-406e-a377-40db7a83700c",
        "colab": {
          "base_uri": "https://localhost:8080/",
          "height": 563
        }
      },
      "cell_type": "code",
      "source": [
        "model = ConvVAE(3)\n",
        "if is_cuda:\n",
        "  model = model.to(device)\n",
        "  \n",
        "print(model)"
      ],
      "execution_count": 24,
      "outputs": [
        {
          "output_type": "stream",
          "text": [
            "ConvVAE(\n",
            "  (conv1): Sequential(\n",
            "    (0): Conv2d(1, 32, kernel_size=(5, 5), stride=(1, 1), padding=(2, 2))\n",
            "    (1): ReLU()\n",
            "    (2): MaxPool2d(kernel_size=2, stride=2, padding=0, dilation=1, ceil_mode=False)\n",
            "  )\n",
            "  (conv2): Sequential(\n",
            "    (0): Conv2d(32, 64, kernel_size=(5, 5), stride=(1, 1), padding=(2, 2))\n",
            "    (1): ReLU()\n",
            "    (2): MaxPool2d(kernel_size=2, stride=2, padding=0, dilation=1, ceil_mode=False)\n",
            "  )\n",
            "  (conv3): Sequential(\n",
            "    (0): Conv2d(64, 128, kernel_size=(5, 5), stride=(1, 1), padding=(2, 2))\n",
            "    (1): ReLU()\n",
            "    (2): MaxPool2d(kernel_size=2, stride=2, padding=0, dilation=1, ceil_mode=False)\n",
            "  )\n",
            "  (conv4): Sequential(\n",
            "    (0): Conv2d(128, 256, kernel_size=(2, 2), stride=(1, 1))\n",
            "    (1): ReLU()\n",
            "  )\n",
            "  (fc1): Linear(in_features=1024, out_features=256, bias=True)\n",
            "  (fc_mean): Linear(in_features=256, out_features=3, bias=True)\n",
            "  (fc_std): Linear(in_features=256, out_features=3, bias=True)\n",
            "  (fc2): Linear(in_features=3, out_features=256, bias=True)\n",
            "  (fc3): Linear(in_features=256, out_features=1024, bias=True)\n",
            "  (fc4): Linear(in_features=1024, out_features=3136, bias=True)\n",
            "  (deconv1): ConvTranspose2d(64, 32, kernel_size=(2, 2), stride=(2, 2))\n",
            "  (deconv2): ConvTranspose2d(32, 1, kernel_size=(2, 2), stride=(2, 2))\n",
            "  (relu): ReLU()\n",
            "  (sigmoid): Sigmoid()\n",
            ")\n"
          ],
          "name": "stdout"
        }
      ]
    },
    {
      "metadata": {
        "id": "V_Ni_rVyjMGf",
        "colab_type": "text"
      },
      "cell_type": "markdown",
      "source": [
        "## Loss Function - KL divergence and Reconstruction Loss"
      ]
    },
    {
      "metadata": {
        "id": "gAP2JoG1g0MW",
        "colab_type": "code",
        "colab": {}
      },
      "cell_type": "code",
      "source": [
        "### Loss Function\n",
        "\n",
        "def loss_function(recon_x, x, mu, logvar):\n",
        "  BCE = F.binary_cross_entropy(recon_x,x.view(-1,784),reduction=\"sum\")\n",
        "  # https://arxiv.org/abs/1312.6114\n",
        "  # 0.5 * sum(1 + log(sigma^2) - mu^2 - sigma^2)\n",
        "  KLD = -0.5 * torch.sum(1 + logvar - mu.pow(2) - logvar.exp())\n",
        "  \n",
        "  return BCE + KLD\n"
      ],
      "execution_count": 0,
      "outputs": []
    },
    {
      "metadata": {
        "id": "aaCjMSQ2mAVm",
        "colab_type": "text"
      },
      "cell_type": "markdown",
      "source": [
        "##Params"
      ]
    },
    {
      "metadata": {
        "id": "ijsLxN3GhDT5",
        "colab_type": "code",
        "outputId": "769446f1-5fb6-4837-ede8-d21038a16388",
        "colab": {
          "base_uri": "https://localhost:8080/",
          "height": 35
        }
      },
      "cell_type": "code",
      "source": [
        "params = {\n",
        "    \"batch_size\":128,\n",
        "    \"epochs\" : 20,\n",
        "    \"log_interval\":10,\n",
        "    \"nb_latents\" : 3,\n",
        "    \"save_interval\":10,\n",
        "    \n",
        "}\n",
        "\n",
        "torch.manual_seed(5)"
      ],
      "execution_count": 47,
      "outputs": [
        {
          "output_type": "execute_result",
          "data": {
            "text/plain": [
              "<torch._C.Generator at 0x7f89efbfc190>"
            ]
          },
          "metadata": {
            "tags": []
          },
          "execution_count": 47
        }
      ]
    },
    {
      "metadata": {
        "id": "Ghp-4XYsjcrJ",
        "colab_type": "text"
      },
      "cell_type": "markdown",
      "source": [
        "## Train Network"
      ]
    },
    {
      "metadata": {
        "id": "Rh3bh8G7jdy3",
        "colab_type": "code",
        "colab": {}
      },
      "cell_type": "code",
      "source": [
        " \n",
        "\n",
        "criterion = nn.CrossEntropyLoss()\n",
        "logger = TensorBoardLogger(\"./logs\") \n",
        "optimizer = optim.Adam(model.parameters(), lr=1e-3)\n",
        "\n",
        "\"\"\"\n",
        "Traverse Latents\n",
        "\"\"\"\n",
        "def traverse_latents(model, datapoint, nb_latents, epoch, batch_idx, dirpath=\"logs\",istrain=True):\n",
        "  model.eval()\n",
        "  \n",
        "  if isinstance(model,ConvVAE):\n",
        "    datapoint = datapoint.unsqueeze(0)\n",
        "    datapoint = datapoint.unsqueeze(0).to(device)\n",
        "    mu, _ = model.encode(datapoint)\n",
        "  else:\n",
        "    mu, _ = model.encode(datapoint.view(-1))\n",
        "  \n",
        "  recons = torch.zeros((7, nb_latents, 28, 28))\n",
        "  \n",
        "  ## Loop through 1 latent space\n",
        "  ## Keep other two constant\n",
        "  val1 = torch.randn(1)[0] \n",
        "  val2 = torch.randn(1)[0]\n",
        "  \n",
        "  for zi in range(nb_latents):\n",
        "    muc = mu.squeeze().clone()\n",
        "    \n",
        "    for i, val in enumerate(np.linspace(-3, 3, 7)):\n",
        "      if istrain:\n",
        "        muc[zi] = val\n",
        "      else:\n",
        "        if zi == 1:\n",
        "          muc[zi] = val1\n",
        "        elif zi == 2:\n",
        "          muc[zi] = val2\n",
        "        else:\n",
        "          muc[zi] = val\n",
        "          \n",
        "      recon = model.decode(muc).cpu()\n",
        "      recons[i, zi] = recon.view(28, 28)\n",
        "  if not istrain:\n",
        "    print(muc[zi])\n",
        "  \n",
        "  name = \"train_reconstruction_\" if istrain else \"test_reconstruction_\"\n",
        "  filename = os.path.join(dirpath,  name + str(epoch) + '_' + str(batch_idx) + '.png')\n",
        "  save_image(recons.view(-1, 1, 28, 28), filename, nrow=nb_latents, pad_value=1)\n",
        "  \n",
        "\n",
        "def train(epoch):\n",
        "  model.train()\n",
        "  \n",
        "  \n",
        "  loss_log = RunningAverage()\n",
        "  \n",
        "  ## Test reconstruction test\n",
        "  testpoint = torch.Tensor(train_loader.dataset[0])\n",
        "  \n",
        "  for batch_idx, (data ) in enumerate(train_loader):\n",
        "    data = data.to(device)\n",
        "    \n",
        "    optimizer.zero_grad()\n",
        "    batch_size = data.size(0)\n",
        "    \n",
        "    recon_batch, mu, logvar = model(data)\n",
        "    \n",
        "    \n",
        "    ## Loss of VAE\n",
        "    loss = loss_function(recon_batch.squeeze().view(-1,28*28), data, mu, logvar)\n",
        "    loss.backward()\n",
        "    \n",
        "    loss_log.update(loss.item() / len(data))\n",
        "    \n",
        "    # 1. Log scalar values (scalar summary)\n",
        "    info = { 'loss': loss }\n",
        "\n",
        "    for tag, value in info.items():\n",
        "      logger.scalar_summary(tag, value, epoch+1)\n",
        "\n",
        "    # 2. Log values and gradients of the parameters (histogram summary)\n",
        "    for tag, value in model.named_parameters():\n",
        "      tag = tag.replace('.', '/')\n",
        "      logger.histo_summary(tag, value.data.cpu().numpy(), epoch+1)\n",
        "      logger.histo_summary(tag+'/grad', value.grad.data.cpu().numpy(), epoch+1)\n",
        "\n",
        "    \n",
        "    optimizer.step()\n",
        "    \n",
        "    \n",
        "    ## Accuracy \n",
        "    if batch_idx % params.get(\"log_interval\") == 0:\n",
        "      \n",
        "      print('Train Epoch: {} [{}/{} ({:.0f}%)]\\tLoss: {:.6f}, \\t '.format(\n",
        "                epoch, batch_idx * len(data), len(train_loader.dataset),\n",
        "                100. * batch_idx / len(train_loader),\n",
        "                loss.item() / len(data)))\n",
        "      \n",
        "    if not batch_idx % params.get(\"save_interval\"):\n",
        "      traverse_latents(model, testpoint, params.get(\"nb_latents\"), epoch, batch_idx)\n",
        "    \n",
        "      \n",
        "  print(\"==> Epoch {}, average loss: {:.4f}\".format(epoch, loss_log()))\n",
        "  return loss_log()\n",
        "\n"
      ],
      "execution_count": 0,
      "outputs": []
    },
    {
      "metadata": {
        "id": "han-3Vsqnusx",
        "colab_type": "text"
      },
      "cell_type": "markdown",
      "source": [
        "## Test"
      ]
    },
    {
      "metadata": {
        "id": "BjF1pTT2nwRj",
        "colab_type": "code",
        "colab": {}
      },
      "cell_type": "code",
      "source": [
        "\"\"\"\n",
        "Test\n",
        "\"\"\"\n",
        "def test(epoch):\n",
        "    model.eval()\n",
        "    test_loss = RunningAverage()\n",
        "    \n",
        "    ## Test reconstruction test\n",
        "    testpoint = torch.Tensor(test_loader.dataset[0])\n",
        "  \n",
        "    with torch.no_grad():\n",
        "        for i, (data) in enumerate(test_loader):\n",
        "            data = data.to(device)\n",
        "             \n",
        "            batch_size = data.size(0)\n",
        "            recon_batch, mu, logvar = model(data)\n",
        "            ## Loss of VAE\n",
        "            loss = loss_function(recon_batch.squeeze().view(-1,28*28), data, mu, logvar)\n",
        "            test_loss.update(loss.item() / len(data))\n",
        "            # 1. Log scalar values (scalar summary)\n",
        "            info = { 'test_loss': loss }\n",
        "\n",
        "            for tag, value in info.items():\n",
        "                logger.scalar_summary(tag, value, epoch+1)\n",
        "            if i == 0:\n",
        "                n = min(data.size(0), 8)\n",
        "                p = recon_batch.squeeze().view(-1,28,28)[:n]\n",
        "                comparison = torch.cat([data[:n].view(-1,28,28),p])\n",
        "               \n",
        "                traverse_latents(model, comparison[0], params.get(\"nb_latents\"), epoch, i, istrain=False)\n",
        "\n",
        "   \n",
        "    return test_loss()"
      ],
      "execution_count": 0,
      "outputs": []
    },
    {
      "metadata": {
        "id": "-ekoQ2E4mPAH",
        "colab_type": "code",
        "outputId": "c3450012-fe9d-4ab2-8bb9-d374685e64f6",
        "colab": {
          "base_uri": "https://localhost:8080/",
          "height": 193
        }
      },
      "cell_type": "code",
      "source": [
        "train_loss = []\n",
        "test_loss = []\n",
        "\n",
        "for epoch in range(1, params.get(\"epochs\") + 1):\n",
        "        trainloss = train(epoch)\n",
        "        train_loss.append(trainloss)\n",
        "    \n",
        "        ## test \n",
        "        tes_loss = test(epoch)\n",
        "        test_loss.append(tes_loss)\n",
        "        \n",
        "        \n",
        "\n"
      ],
      "execution_count": 0,
      "outputs": [
        {
          "output_type": "stream",
          "text": [
            "Train Epoch: 1 [0/6265 (0%)]\tLoss: 182.764618, \t \n",
            "Train Epoch: 1 [1280/6265 (21%)]\tLoss: 148.340897, \t \n",
            "Train Epoch: 1 [2560/6265 (42%)]\tLoss: 142.314499, \t \n",
            "Train Epoch: 1 [3840/6265 (62%)]\tLoss: 145.873688, \t \n",
            "Train Epoch: 1 [5120/6265 (83%)]\tLoss: 140.453262, \t \n",
            "==> Epoch 1, average loss: 143.3890\n",
            "tensor(0.9875, device='cuda:0')\n",
            "Train Epoch: 2 [0/6265 (0%)]\tLoss: 187.261780, \t \n",
            "Train Epoch: 2 [1280/6265 (21%)]\tLoss: 137.460922, \t \n",
            "Train Epoch: 2 [2560/6265 (42%)]\tLoss: 133.626190, \t \n"
          ],
          "name": "stdout"
        }
      ]
    },
    {
      "metadata": {
        "id": "qvwDEDwWonHV",
        "colab_type": "code",
        "colab": {
          "base_uri": "https://localhost:8080/",
          "height": 347
        },
        "outputId": "dd9e98f4-0b79-402f-884b-1bcfbdef2a7a"
      },
      "cell_type": "code",
      "source": [
        "plt.plot(range(1, params.get(\"epochs\") + 1),train_loss)\n",
        "plt.plot(range(1, params.get(\"epochs\") + 1),test_loss)\n",
        "plt.legend([\"Train loss\",\"Test loss\"])\n",
        "plt.show()"
      ],
      "execution_count": 44,
      "outputs": [
        {
          "output_type": "display_data",
          "data": {
            "image/png": "[encoded data removed]",
            "text/plain": [
              "<Figure size 576x396 with 1 Axes>"
            ]
          },
          "metadata": {
            "tags": []
          }
        }
      ]
    },
    {
      "metadata": {
        "id": "ZUZmshiBuT1h",
        "colab_type": "code",
        "colab": {}
      },
      "cell_type": "code",
      "source": [
        ""
      ],
      "execution_count": 0,
      "outputs": []
    },
    {
      "metadata": {
        "id": "fFBMEeCJKfcz",
        "colab_type": "text"
      },
      "cell_type": "markdown",
      "source": [
        "One way to prove that you found the latent dimension of interest is to show - the digits generated by the decoder\n",
        "\n",
        "More specifically, you may want to \"generate\" new 7s by feeding a few randomly generated code vectors, that are random samples from K normal distributions that are your VAAE learned. \n",
        "\n",
        "\n",
        "Fix k-1 dimensions with same value over codes, while varying only one of them.\n",
        "\n",
        "\n"
      ]
    },
    {
      "metadata": {
        "id": "sdNPFKh4Ligl",
        "colab_type": "code",
        "colab": {
          "base_uri": "https://localhost:8080/",
          "height": 711
        },
        "outputId": "ca16ce5c-b5d2-4c2b-a91f-280cf975aa54"
      },
      "cell_type": "code",
      "source": [
        "import cv2\n",
        "img = cv2.imread(\"./logs/train_reconstruction_1_0.png\")\n",
        "plt.imshow(np.array(img))\n",
        "plt.axis(\"off\")\n",
        "plt.title(\"Train\")\n",
        "plt.show()\n",
        "\n",
        "img = cv2.imread(\"./logs/test_reconstruction_1_0.png\")\n",
        "plt.imshow(np.array(img))\n",
        "plt.axis(\"off\")\n",
        "plt.title(\"Test\")\n",
        "plt.show()"
      ],
      "execution_count": 46,
      "outputs": [
        {
          "output_type": "display_data",
          "data": {
            "image/png": "[encoded data removed]",
            "text/plain": [
              "<Figure size 576x396 with 1 Axes>"
            ]
          },
          "metadata": {
            "tags": []
          }
        },
        {
          "output_type": "display_data",
          "data": {
            "image/png": "[encoded data removed]",
            "text/plain": [
              "<Figure size 576x396 with 1 Axes>"
            ]
          },
          "metadata": {
            "tags": []
          }
        }
      ]
    },
    {
      "metadata": {
        "id": "1_wnJJYcOgid",
        "colab_type": "code",
        "colab": {
          "base_uri": "https://localhost:8080/",
          "height": 35
        },
        "outputId": "b81222b9-8f9f-4760-a992-def0f2528533"
      },
      "cell_type": "code",
      "source": [
        "import torch\n",
        "torch.randn(1)[0].to(device)"
      ],
      "execution_count": 33,
      "outputs": [
        {
          "output_type": "execute_result",
          "data": {
            "text/plain": [
              "tensor(0.2509, device='cuda:0')"
            ]
          },
          "metadata": {
            "tags": []
          },
          "execution_count": 33
        }
      ]
    },
    {
      "metadata": {
        "id": "-2SKLSh50sb3",
        "colab_type": "code",
        "colab": {}
      },
      "cell_type": "code",
      "source": [
        ""
      ],
      "execution_count": 0,
      "outputs": []
    }
  ]
}