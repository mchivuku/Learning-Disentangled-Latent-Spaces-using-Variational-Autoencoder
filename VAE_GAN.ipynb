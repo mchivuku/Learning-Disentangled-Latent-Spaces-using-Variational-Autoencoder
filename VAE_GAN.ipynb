{
  "nbformat": 4,
  "nbformat_minor": 0,
  "metadata": {
    "colab": {
      "name": "VAE-GAN.ipynb",
      "version": "0.3.2",
      "provenance": [],
      "include_colab_link": true
    },
    "kernelspec": {
      "name": "python3",
      "display_name": "Python 3"
    },
    "accelerator": "GPU"
  },
  "cells": [
    {
      "cell_type": "markdown",
      "metadata": {
        "id": "view-in-github",
        "colab_type": "text"
      },
      "source": [
        "<a href=\"https://colab.research.google.com/github/mchivuku/csb659-project/blob/master/VAE_GAN.ipynb\" target=\"_parent\"><img src=\"https://colab.research.google.com/assets/colab-badge.svg\" alt=\"Open In Colab\"/></a>"
      ]
    },
    {
      "metadata": {
        "id": "3wwEn_8-B0DP",
        "colab_type": "code",
        "colab": {}
      },
      "cell_type": "code",
      "source": [
        "%%capture\n",
        "!pip install tqdm six\n",
        "\n",
        "\n",
        "!pip install bokeh\n",
        "!pip install tensorboard\n",
        "!pip install livelossplot\n",
        "\n",
        "!pip install tensorboard"
      ],
      "execution_count": 0,
      "outputs": []
    },
    {
      "metadata": {
        "id": "uClmlKMKKSsP",
        "colab_type": "text"
      },
      "cell_type": "markdown",
      "source": [
        "# VAE-GAN -\n",
        "\n",
        "Autoencoding beyond pixels using a learned similarity metric\n",
        "\n",
        "https://arxiv.org/pdf/1512.09300.pdf\n",
        "\n",
        "Code is adapted: \n",
        "https://github.com/pravn\n"
      ]
    },
    {
      "metadata": {
        "id": "wmQy1u0oKjOm",
        "colab_type": "code",
        "outputId": "e267ab61-1432-4291-9710-f4f1994bf493",
        "colab": {
          "base_uri": "https://localhost:8080/",
          "height": 122
        }
      },
      "cell_type": "code",
      "source": [
        "from google.colab import drive\n",
        "\n",
        "drive.mount(\"/content/drive\")\n"
      ],
      "execution_count": 0,
      "outputs": [
        {
          "output_type": "stream",
          "text": [
            "Go to this URL in a browser: https://accounts.google.com/o/oauth2/auth?client_id=947318989803-6bn6qk8qdgf4n4g3pfee6491hc0brc4i.apps.googleusercontent.com&redirect_uri=urn%3Aietf%3Awg%3Aoauth%3A2.0%3Aoob&scope=email%20https%3A%2F%2Fwww.googleapis.com%2Fauth%2Fdocs.test%20https%3A%2F%2Fwww.googleapis.com%2Fauth%2Fdrive%20https%3A%2F%2Fwww.googleapis.com%2Fauth%2Fdrive.photos.readonly%20https%3A%2F%2Fwww.googleapis.com%2Fauth%2Fpeopleapi.readonly&response_type=code\n",
            "\n",
            "Enter your authorization code:\n",
            "··········\n",
            "Mounted at /content/drive\n"
          ],
          "name": "stdout"
        }
      ]
    },
    {
      "metadata": {
        "id": "hdFTp_zuK0nl",
        "colab_type": "code",
        "outputId": "a5b7556a-cbe1-4d0e-cb2e-9b8159f6f9ac",
        "colab": {
          "base_uri": "https://localhost:8080/",
          "height": 34
        }
      },
      "cell_type": "code",
      "source": [
        "%cd /content/drive/My\\ Drive/Masters-DS/CSCI-B659/project/examples/vae-gan"
      ],
      "execution_count": 0,
      "outputs": [
        {
          "output_type": "stream",
          "text": [
            "/content/drive/My Drive/Masters-DS/CSCI-B659/project/examples/vae-gan\n"
          ],
          "name": "stdout"
        }
      ]
    },
    {
      "metadata": {
        "id": "aJi8ao-qMTcR",
        "colab_type": "code",
        "outputId": "4e9333c5-fc37-457c-d2e3-78a19ac19102",
        "colab": {
          "base_uri": "https://localhost:8080/",
          "height": 68
        }
      },
      "cell_type": "code",
      "source": [
        "## Imports\n",
        "\n",
        "from __future__ import print_function\n",
        "import argparse\n",
        "import torch\n",
        "import torch.utils.data\n",
        "from torch import nn, optim\n",
        "from torch.autograd import Variable\n",
        "from torch.nn import functional as F\n",
        "from torchvision import datasets, transforms\n",
        "from torchvision.utils import save_image\n",
        "import torchvision.utils as utils\n",
        "\n",
        "import os\n",
        "import matplotlib.pyplot as plt\n",
        "## Plotting library\n",
        "\n",
        "from bokeh.plotting import figure\n",
        "from bokeh.io import show\n",
        "from bokeh.models import LinearAxis, Range1d\n",
        "from livelossplot import PlotLosses\n",
        "\n",
        "\n",
        "plt.style.use('ggplot')\n",
        "\n",
        "print('Torch', torch.__version__, 'CUDA', torch.version.cuda)\n",
        "print('Device:', torch.device('cuda:0'))\n",
        "print(torch.cuda.is_available())\n",
        "\n",
        "is_cuda = torch.cuda.is_available()\n",
        "device = torch.device ( \"cuda:0\" if torch.cuda.is_available () else \"cpu\" )\n"
      ],
      "execution_count": 0,
      "outputs": [
        {
          "output_type": "stream",
          "text": [
            "Torch 1.0.1.post2 CUDA 10.0.130\n",
            "Device: cuda:0\n",
            "True\n"
          ],
          "name": "stdout"
        }
      ]
    },
    {
      "metadata": {
        "id": "LSVT8RsNQjKT",
        "colab_type": "code",
        "colab": {}
      },
      "cell_type": "code",
      "source": [
        "## Data loader\n",
        "batch_size =  100\n",
        "\n",
        "train_loader = torch.utils.data.DataLoader(\n",
        "    datasets.MNIST('../vae/MNIST/data', train=True, download=True,\n",
        "                   transform=transforms.ToTensor()),\n",
        "    batch_size=batch_size, shuffle=True)\n",
        "test_loader = torch.utils.data.DataLoader(\n",
        "    datasets.MNIST('../vae/MNIST/data', train=False, transform=transforms.ToTensor()),\n",
        "    batch_size=batch_size, shuffle=True)"
      ],
      "execution_count": 0,
      "outputs": []
    },
    {
      "metadata": {
        "id": "3AI_ZL2VQ1uB",
        "colab_type": "code",
        "colab": {}
      },
      "cell_type": "code",
      "source": [
        "criterion = nn.BCELoss()"
      ],
      "execution_count": 0,
      "outputs": []
    },
    {
      "metadata": {
        "id": "mbH4Sf47REKg",
        "colab_type": "code",
        "colab": {}
      },
      "cell_type": "code",
      "source": [
        "## Define Models\n",
        "# Generator (VAE), Discriminator (D), Aux\n",
        "\"\"\"\n",
        "VAE Model\n",
        "\"\"\"\n",
        "class VAE(nn.Module):\n",
        "  def __init__(self):\n",
        "    super(VAE, self).__init__()\n",
        "\n",
        "    self.fc1 = nn.Linear(784, 400)\n",
        "    self.fc21 = nn.Linear(400, 20)\n",
        "    self.fc22 = nn.Linear(400, 20)\n",
        "    self.fc3 = nn.Linear(20, 400)\n",
        "    self.fc4 = nn.Linear(400, 784)\n",
        "\n",
        "    self.relu = nn.ReLU()\n",
        "    self.sigmoid = nn.Sigmoid()\n",
        "\n",
        "    self.mu_ = nn.Sequential(\n",
        "        #28x28->12x12\n",
        "        nn.Conv2d(1,8,5,2,0,bias=False),\n",
        "        nn.BatchNorm2d(8),\n",
        "        nn.ReLU(True),\n",
        "        #12x12->4x4\n",
        "        nn.Conv2d(8,64,5,2,0,bias=False),\n",
        "        nn.BatchNorm2d(64),\n",
        "        nn.ReLU(True),\n",
        "        #4x4->1x1: 20,1,1\n",
        "        nn.Conv2d(64,20,4,1,0,bias=False),\n",
        "        nn.ReLU(True)\n",
        "        )\n",
        "\n",
        "\n",
        "    self.logsigma_ = nn.Sequential(\n",
        "        #28x28->12x12\n",
        "        nn.Conv2d(1,8,5,2,0,bias=False),\n",
        "        nn.BatchNorm2d(8),\n",
        "        nn.ReLU(True),\n",
        "        #12x12->4x4\n",
        "        nn.Conv2d(8,64,5,2,0,bias=False),\n",
        "        nn.BatchNorm2d(64),\n",
        "        nn.ReLU(True),\n",
        "        #4x4->1x1: 20,1,1\n",
        "        nn.Conv2d(64,20,4,1,0,bias=False),\n",
        "        nn.ReLU(True)\n",
        "        )\n",
        "\n",
        "\n",
        "    self.dec_ = nn.Sequential(\n",
        "        #1x1->4x4\n",
        "        nn.ConvTranspose2d(20,20*8,4,1,0,bias=False),  #(ic,oc,kernel,stride,padding)\n",
        "        nn.BatchNorm2d(20*8), \n",
        "        nn.ReLU(True),\n",
        "        nn.ConvTranspose2d(20*8,20*16,4,2,1,bias=False), #4x4->8x8\n",
        "        nn.BatchNorm2d(20*16),\n",
        "        nn.ReLU(True),\n",
        "        nn.ConvTranspose2d(20*16,20*32,4,2,1,bias=False), #8x8->16x16\n",
        "        nn.BatchNorm2d(20*32),\n",
        "        nn.ReLU(True),\n",
        "        nn.ConvTranspose2d(20*32,1,2,2,2,bias=False), #16x16->28x28\n",
        "        nn.Sigmoid()\n",
        "        )\n",
        "  def encode(self, x):\n",
        "    h1 = self.relu(self.fc1(x))\n",
        "    return self.fc21(h1), self.fc22(h1)\n",
        "  \n",
        "  def encode_new(self,x):\n",
        "    return self.mu_(x), self.logsigma_(x)\n",
        "\n",
        "  def reparameterize(self, mu, logvar):\n",
        "    if self.training:\n",
        "      std = logvar.mul(0.5).exp_()\n",
        "      eps = Variable(std.data.new(std.size()).normal_())\n",
        "      return eps.mul(std).add_(mu)\n",
        "    else:\n",
        "      return mu\n",
        "\n",
        "\n",
        "  def decode_new(self,z):\n",
        "    z = z.view(-1,z.size(1),1,1)\n",
        "    return(self.dec_(z))\n",
        "  \n",
        "  def decode(self, z):\n",
        "    z = z.view(-1,20)\n",
        "    h3 = self.relu(self.fc3(z))\n",
        "    return self.sigmoid(self.fc4(h3))\n",
        "\n",
        "  def dec_params(self):\n",
        "    return self.fc3, self.fc4\n",
        "\n",
        "  def return_weights(self):\n",
        "    return self.fc3.weight, self.fc4.weight\n",
        "\n",
        "  def forward(self, x):\n",
        "    mu, logvar = self.encode_new(x.view(-1, 1,28,28))\n",
        "    z = self.reparameterize(mu, logvar)\n",
        "    return mu,logvar\n",
        "\n",
        "\n",
        "class Aux(nn.Module):\n",
        "    def __init__(self):\n",
        "        super(Aux,self).__init__()\n",
        "\n",
        "        self.fc3 = nn.Linear(20,400)\n",
        "        self.fc4 = nn.Linear(400,784)\n",
        "        self.relu = nn.ReLU()\n",
        "        self.sigmoid = nn.Sigmoid()\n",
        "\n",
        "    def decode(self,z):\n",
        "        z = z.view(-1,20)\n",
        "        h3 = self.relu(self.fc3(z))\n",
        "        return self.sigmoid(self.fc4(h3))\n",
        "    \n",
        "    def reparameterize(self, mu, logvar):\n",
        "        if self.training:\n",
        "          std = logvar.mul(0.5).exp_()\n",
        "          eps = Variable(std.data.new(std.size()).normal_())\n",
        "          return eps\n",
        "        else:\n",
        "          return mu\n",
        "\n",
        "    def dec_params(self):\n",
        "        return self.fc3,self.fc4\n",
        "\n",
        "    def return_weights(self):\n",
        "        return self.fc3.weight, self.fc4.weight\n",
        "\n",
        "    \n",
        "    def forward(self,z):\n",
        "        #self.fc3.weight = fc3_weight\n",
        "        #self.fc4.weight = fc4_weight\n",
        "        \n",
        "        #z = self.reparameterize(mu,logvar)\n",
        "        #other.fc3,other.fc4 = self.dec_params()\n",
        "        #return self.decode(z).view(-1,28,28)\n",
        "        return self.decode(z)\n",
        "\n",
        "\n",
        "    \n",
        "\n",
        "class NetD(nn.Module):\n",
        "    def __init__(self):\n",
        "        super(NetD, self).__init__()\n",
        "\n",
        "        self.D_l = nn.Sequential(\n",
        "        #state size 1x28x28\n",
        "            #28x28->16x16\n",
        "            nn.Conv2d(1,8,2,2,2,bias=False),\n",
        "            nn.LeakyReLU(0.2, inplace=True),\n",
        "            #16x16->8x8\n",
        "            nn.Conv2d(8,16,4,2,1,bias=False),\n",
        "            nn.BatchNorm2d(16),\n",
        "            nn.LeakyReLU(0.2,inplace=True),\n",
        "            #8x8->4x4\n",
        "            nn.Conv2d(16,32,4,2,1,bias=False),\n",
        "            nn.BatchNorm2d(32),\n",
        "            nn.LeakyReLU(0.2,inplace=True)\n",
        "            #4x4->1x1\n",
        "            #nn.Conv2d(32,1,4,1,0),\n",
        "            #nn.Sigmoid()\n",
        "            )\n",
        "\n",
        "        self.main = nn.Sequential(\n",
        "            #4x4->1x1\n",
        "            nn.Conv2d(32,1,4,1,0),\n",
        "            nn.Sigmoid()\n",
        "            )\n",
        "\n",
        "\n",
        "    def forward(self,x):\n",
        "        d_l = self.D_l(x.view(-1,1,28,28))\n",
        "        o = self.main(d_l)\n",
        "        #o = self.main(x.view(-1,784))\n",
        "        return d_l, o\n",
        "\n",
        "def loss_function(recon_x, x, mu, logvar,bsz=100):\n",
        "    #BCE = F.binary_cross_entropy(recon_x.view(-1,784), x.view(-1, 784))\n",
        "    #MSE = F.mse_loss(recon_x.view(-1,784), x.view(-1,784))\n",
        "    MSE = F.mse_loss(recon_x,x)\n",
        "\n",
        "    # see Appendix B from VAE paper:\n",
        "    # Kingma and Welling. Auto-Encoding Variational Bayes. ICLR, 2014\n",
        "    # https://arxiv.org/abs/1312.6114\n",
        "    # 0.5 * sum(1 + log(sigma^2) - mu^2 - sigma^2)\n",
        "    KLD = -0.5 * torch.sum(1 + logvar - mu.pow(2) - logvar.exp())\n",
        "    # Normalise by same number of elements as in reconstruction\n",
        "    KLD /= bsz * 784\n",
        "\n",
        "    return MSE + KLD\n",
        "    "
      ],
      "execution_count": 0,
      "outputs": []
    },
    {
      "metadata": {
        "id": "fv5HXhHeSuEJ",
        "colab_type": "code",
        "colab": {}
      },
      "cell_type": "code",
      "source": [
        "netG = VAE().cuda()\n",
        "netD = NetD().cuda()\n",
        "aux = Aux().cuda()"
      ],
      "execution_count": 0,
      "outputs": []
    },
    {
      "metadata": {
        "id": "v5VyEEZaSxio",
        "colab_type": "code",
        "colab": {}
      },
      "cell_type": "code",
      "source": [
        "input = torch.FloatTensor(batch_size,28,28)\n",
        "label = torch.FloatTensor(batch_size)\n",
        "real_label=1\n",
        "fake_label=0\n",
        "optimizerD = optim.Adam(netD.parameters(), lr=1e-4)\n",
        "optimizerG = optim.Adam(netG.parameters(), lr=1e-4)\n",
        "optimizer_aux = optim.Adam(aux.parameters(), lr=1e-4)"
      ],
      "execution_count": 0,
      "outputs": []
    },
    {
      "metadata": {
        "id": "t7_hWLY5TDSh",
        "colab_type": "text"
      },
      "cell_type": "markdown",
      "source": [
        "## Training"
      ]
    },
    {
      "metadata": {
        "id": "9TDy-apsS94n",
        "colab_type": "code",
        "outputId": "78c37a50-539a-41f2-c557-6f75174f5370",
        "colab": {
          "base_uri": "https://localhost:8080/",
          "height": 523
        }
      },
      "cell_type": "code",
      "source": [
        "num_epochs = 1000\n",
        "for epoch in range(num_epochs):\n",
        "  for i, (data,_) in enumerate(train_loader):\n",
        "    gamma = 1.0\n",
        "    real_cpu  = data\n",
        "    \n",
        "    \n",
        "    input.resize_as_(real_cpu).copy_(real_cpu)\n",
        "    label.resize_(batch_size).fill_(real_label)\n",
        "    \n",
        "    \n",
        "    \n",
        "    inputv = Variable(input)\n",
        "    labelv = Variable(label.cuda())\n",
        "    \n",
        "    labelv = labelv.to(device)\n",
        "    inputv = inputv.to(device)\n",
        "    ## zero_grad\n",
        "    netD.zero_grad()\n",
        "    netG.zero_grad()\n",
        "    aux.zero_grad()\n",
        "    \n",
        "    \n",
        "    ## \n",
        "    mu, logvar = netG(inputv)\n",
        "    \n",
        "    ## Reparameterize Z\n",
        "    std = logvar.mul(0.5).exp_()\n",
        "    eps = Variable(std.data.new(std.size()).normal_())\n",
        "    z=eps.mul(std).add_(mu)\n",
        "    \n",
        "    ## Auxiliary network\n",
        "    fake = aux(z)\n",
        "    \n",
        "    ## NetD\n",
        "    x_l_tilde, output_fake = netD(fake)\n",
        "    x_l, output_real = netD(inputv)\n",
        "    \n",
        "    output_fake = output_fake.cuda()\n",
        "    output_real = output_real.cuda()\n",
        "    \n",
        "    L_GAN_real = criterion(output_real,labelv)\n",
        "    L_GAN_real.backward(retain_graph=True)\n",
        "    \n",
        "    \n",
        "    labelv = Variable(label.fill_(fake_label).cuda())\n",
        "    \n",
        "    L_GAN_fake = criterion(output_fake,labelv)\n",
        "    \n",
        "    L_GAN_fake.backward(retain_graph = True)\n",
        "    \n",
        "    z_p = Variable(std.data.new(std.size()).normal_())\n",
        "    fake_aux = aux(z_p)\n",
        "    x_l_aux, output_aux = netD(fake_aux)\n",
        "    L_GAN_aux = criterion(output_aux,labelv)\n",
        "    L_GAN_aux.backward(retain_graph=True)\n",
        "    optimizerD.step()\n",
        "           \n",
        "        \n",
        "    #get weights of netG and use in aux\n",
        "    aux.zero_grad()\n",
        "    labelv=Variable(label.fill_(real_label))\n",
        "    \n",
        "    labelv = labelv.to(device)\n",
        "    ## Loss functions\n",
        "    L_dec_vae = gamma*loss_function(x_l_tilde,x_l,mu,logvar)\n",
        "    L_dec_fake = criterion(output_fake,labelv)\n",
        "    L_dec_aux  = criterion(output_aux,labelv)\n",
        "    L_dec_vae.backward(retain_graph=True)\n",
        "    L_dec_fake.backward(retain_graph=True)\n",
        "    L_dec_aux.backward(retain_graph=True)\n",
        "    optimizer_aux.step()\n",
        "    \n",
        "    #encoder loss \n",
        "    netG.zero_grad()\n",
        "    L_enc = loss_function(x_l_tilde, x_l,mu,logvar)\n",
        "    L_enc.backward()\n",
        "    optimizerG.step()\n",
        "\n",
        "    if i % 100 == 0:\n",
        "      #print('real_cpu.size()', real_cpu.size())\n",
        "      utils.save_image(real_cpu,\n",
        "                            './results/real_samples.png',\n",
        "                                normalize=True)\n",
        "      utils.save_image(fake.data.view(-1,1,28,28),\n",
        "                                './results/fake_samples.png',\n",
        "                                normalize=True)\n",
        "\n",
        "    \n",
        "    \n",
        "    \n",
        "    \n",
        "    \n",
        "    "
      ],
      "execution_count": 0,
      "outputs": [
        {
          "output_type": "stream",
          "text": [
            "/usr/local/lib/python3.6/dist-packages/torch/nn/functional.py:2016: UserWarning: Using a target size (torch.Size([100])) that is different to the input size (torch.Size([100, 1, 1, 1])) is deprecated. Please ensure they have the same size.\n",
            "  \"Please ensure they have the same size.\".format(target.size(), input.size()))\n"
          ],
          "name": "stderr"
        },
        {
          "output_type": "error",
          "ename": "KeyboardInterrupt",
          "evalue": "ignored",
          "traceback": [
            "\u001b[0;31m---------------------------------------------------------------------------\u001b[0m",
            "\u001b[0;31mKeyboardInterrupt\u001b[0m                         Traceback (most recent call last)",
            "\u001b[0;32m<ipython-input-40-4810741725af>\u001b[0m in \u001b[0;36m<module>\u001b[0;34m()\u001b[0m\n\u001b[1;32m     48\u001b[0m     \u001b[0mL_GAN_fake\u001b[0m \u001b[0;34m=\u001b[0m \u001b[0mcriterion\u001b[0m\u001b[0;34m(\u001b[0m\u001b[0moutput_fake\u001b[0m\u001b[0;34m,\u001b[0m\u001b[0mlabelv\u001b[0m\u001b[0;34m)\u001b[0m\u001b[0;34m\u001b[0m\u001b[0;34m\u001b[0m\u001b[0m\n\u001b[1;32m     49\u001b[0m \u001b[0;34m\u001b[0m\u001b[0m\n\u001b[0;32m---> 50\u001b[0;31m     \u001b[0mL_GAN_fake\u001b[0m\u001b[0;34m.\u001b[0m\u001b[0mbackward\u001b[0m\u001b[0;34m(\u001b[0m\u001b[0mretain_graph\u001b[0m \u001b[0;34m=\u001b[0m \u001b[0;32mTrue\u001b[0m\u001b[0;34m)\u001b[0m\u001b[0;34m\u001b[0m\u001b[0;34m\u001b[0m\u001b[0m\n\u001b[0m\u001b[1;32m     51\u001b[0m \u001b[0;34m\u001b[0m\u001b[0m\n\u001b[1;32m     52\u001b[0m     \u001b[0mz_p\u001b[0m \u001b[0;34m=\u001b[0m \u001b[0mVariable\u001b[0m\u001b[0;34m(\u001b[0m\u001b[0mstd\u001b[0m\u001b[0;34m.\u001b[0m\u001b[0mdata\u001b[0m\u001b[0;34m.\u001b[0m\u001b[0mnew\u001b[0m\u001b[0;34m(\u001b[0m\u001b[0mstd\u001b[0m\u001b[0;34m.\u001b[0m\u001b[0msize\u001b[0m\u001b[0;34m(\u001b[0m\u001b[0;34m)\u001b[0m\u001b[0;34m)\u001b[0m\u001b[0;34m.\u001b[0m\u001b[0mnormal_\u001b[0m\u001b[0;34m(\u001b[0m\u001b[0;34m)\u001b[0m\u001b[0;34m)\u001b[0m\u001b[0;34m\u001b[0m\u001b[0;34m\u001b[0m\u001b[0m\n",
            "\u001b[0;32m/usr/local/lib/python3.6/dist-packages/torch/tensor.py\u001b[0m in \u001b[0;36mbackward\u001b[0;34m(self, gradient, retain_graph, create_graph)\u001b[0m\n\u001b[1;32m    100\u001b[0m                 \u001b[0mproducts\u001b[0m\u001b[0;34m.\u001b[0m \u001b[0mDefaults\u001b[0m \u001b[0mto\u001b[0m\u001b[0;31m \u001b[0m\u001b[0;31m`\u001b[0m\u001b[0;31m`\u001b[0m\u001b[0;32mFalse\u001b[0m\u001b[0;31m`\u001b[0m\u001b[0;31m`\u001b[0m\u001b[0;34m.\u001b[0m\u001b[0;34m\u001b[0m\u001b[0;34m\u001b[0m\u001b[0m\n\u001b[1;32m    101\u001b[0m         \"\"\"\n\u001b[0;32m--> 102\u001b[0;31m         \u001b[0mtorch\u001b[0m\u001b[0;34m.\u001b[0m\u001b[0mautograd\u001b[0m\u001b[0;34m.\u001b[0m\u001b[0mbackward\u001b[0m\u001b[0;34m(\u001b[0m\u001b[0mself\u001b[0m\u001b[0;34m,\u001b[0m \u001b[0mgradient\u001b[0m\u001b[0;34m,\u001b[0m \u001b[0mretain_graph\u001b[0m\u001b[0;34m,\u001b[0m \u001b[0mcreate_graph\u001b[0m\u001b[0;34m)\u001b[0m\u001b[0;34m\u001b[0m\u001b[0;34m\u001b[0m\u001b[0m\n\u001b[0m\u001b[1;32m    103\u001b[0m \u001b[0;34m\u001b[0m\u001b[0m\n\u001b[1;32m    104\u001b[0m     \u001b[0;32mdef\u001b[0m \u001b[0mregister_hook\u001b[0m\u001b[0;34m(\u001b[0m\u001b[0mself\u001b[0m\u001b[0;34m,\u001b[0m \u001b[0mhook\u001b[0m\u001b[0;34m)\u001b[0m\u001b[0;34m:\u001b[0m\u001b[0;34m\u001b[0m\u001b[0;34m\u001b[0m\u001b[0m\n",
            "\u001b[0;32m/usr/local/lib/python3.6/dist-packages/torch/autograd/__init__.py\u001b[0m in \u001b[0;36mbackward\u001b[0;34m(tensors, grad_tensors, retain_graph, create_graph, grad_variables)\u001b[0m\n\u001b[1;32m     88\u001b[0m     Variable._execution_engine.run_backward(\n\u001b[1;32m     89\u001b[0m         \u001b[0mtensors\u001b[0m\u001b[0;34m,\u001b[0m \u001b[0mgrad_tensors\u001b[0m\u001b[0;34m,\u001b[0m \u001b[0mretain_graph\u001b[0m\u001b[0;34m,\u001b[0m \u001b[0mcreate_graph\u001b[0m\u001b[0;34m,\u001b[0m\u001b[0;34m\u001b[0m\u001b[0;34m\u001b[0m\u001b[0m\n\u001b[0;32m---> 90\u001b[0;31m         allow_unreachable=True)  # allow_unreachable flag\n\u001b[0m\u001b[1;32m     91\u001b[0m \u001b[0;34m\u001b[0m\u001b[0m\n\u001b[1;32m     92\u001b[0m \u001b[0;34m\u001b[0m\u001b[0m\n",
            "\u001b[0;31mKeyboardInterrupt\u001b[0m: "
          ]
        }
      ]
    },
    {
      "metadata": {
        "id": "oV5BJOR8WHFs",
        "colab_type": "code",
        "colab": {}
      },
      "cell_type": "code",
      "source": [
        "os.makedirs(\"./results\")"
      ],
      "execution_count": 0,
      "outputs": []
    },
    {
      "metadata": {
        "id": "hCYOjac4WIsC",
        "colab_type": "code",
        "colab": {}
      },
      "cell_type": "code",
      "source": [
        ""
      ],
      "execution_count": 0,
      "outputs": []
    }
  ]
}