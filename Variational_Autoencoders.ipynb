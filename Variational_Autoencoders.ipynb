{
  "nbformat": 4,
  "nbformat_minor": 0,
  "metadata": {
    "colab": {
      "name": "Variational Autoencoders.ipynb",
      "version": "0.3.2",
      "provenance": [],
      "include_colab_link": true
    },
    "kernelspec": {
      "name": "python3",
      "display_name": "Python 3"
    },
    "accelerator": "GPU"
  },
  "cells": [
    {
      "cell_type": "markdown",
      "metadata": {
        "id": "view-in-github",
        "colab_type": "text"
      },
      "source": [
        "<a href=\"https://colab.research.google.com/github/mchivuku/csb659-project/blob/master/Variational_Autoencoders.ipynb\" target=\"_parent\"><img src=\"https://colab.research.google.com/assets/colab-badge.svg\" alt=\"Open In Colab\"/></a>"
      ]
    },
    {
      "metadata": {
        "id": "u9eWRib8G8nC",
        "colab_type": "text"
      },
      "cell_type": "markdown",
      "source": [
        "#Variational Autoencoders\n",
        "\n",
        "Implementation from the paper - https://arxiv.org/abs/1312.6114 by Kingma and Welling"
      ]
    },
    {
      "metadata": {
        "id": "N6dv-vWLHRJL",
        "colab_type": "text"
      },
      "cell_type": "markdown",
      "source": [
        "## Installations"
      ]
    },
    {
      "metadata": {
        "id": "-kUkpBAnHAtN",
        "colab_type": "code",
        "colab": {}
      },
      "cell_type": "code",
      "source": [
        "%%capture\n",
        "!pip install tqdm six\n"
      ],
      "execution_count": 0,
      "outputs": []
    },
    {
      "metadata": {
        "id": "mdtVmEsxL140",
        "colab_type": "text"
      },
      "cell_type": "markdown",
      "source": [
        "## Connect to google drive"
      ]
    },
    {
      "metadata": {
        "id": "rkA5lG25L4PG",
        "colab_type": "code",
        "outputId": "e2381e77-c803-433f-e9e7-0dd4d582afe7",
        "colab": {
          "base_uri": "https://localhost:8080/",
          "height": 68
        }
      },
      "cell_type": "code",
      "source": [
        "from google.colab import drive\n",
        "\n",
        "drive.mount(\"/content/drive\")\n",
        "\n",
        "\n",
        "%cd /content/drive/My\\ Drive/Masters-DS/CSCI-B659/project/examples/vae/\n",
        "%ls"
      ],
      "execution_count": 4,
      "outputs": [
        {
          "output_type": "stream",
          "text": [
            "Drive already mounted at /content/drive; to attempt to forcibly remount, call drive.mount(\"/content/drive\", force_remount=True).\n",
            "/content/drive/My Drive/Masters-DS/CSCI-B659/project/examples/vae\n",
            "\u001b[0m\u001b[01;34mMNIST\u001b[0m/  \u001b[01;34mresults\u001b[0m/\n"
          ],
          "name": "stdout"
        }
      ]
    },
    {
      "metadata": {
        "id": "dFxqr_XNHgMp",
        "colab_type": "text"
      },
      "cell_type": "markdown",
      "source": [
        "## Imports"
      ]
    },
    {
      "metadata": {
        "id": "lXeXd9wnHW1k",
        "colab_type": "code",
        "colab": {}
      },
      "cell_type": "code",
      "source": [
        "from __future__ import print_function\n",
        "import torch\n",
        "import torch.utils.data\n",
        "from torch import nn, optim\n",
        "from torch.nn import functional as F\n",
        "from torchvision import datasets, transforms\n",
        "from torchvision.utils import save_image"
      ],
      "execution_count": 0,
      "outputs": []
    },
    {
      "metadata": {
        "id": "e0Btm7gIHkmE",
        "colab_type": "text"
      },
      "cell_type": "markdown",
      "source": [
        "## Params"
      ]
    },
    {
      "metadata": {
        "id": "21QvTdS3HfPD",
        "colab_type": "code",
        "outputId": "23401f96-e4c5-4435-faa3-c85d64ac9bc6",
        "colab": {
          "base_uri": "https://localhost:8080/",
          "height": 68
        }
      },
      "cell_type": "code",
      "source": [
        "params = {\n",
        "    \"batch_size\":128,\n",
        "    \"epochs\" : 10,\n",
        "    \"log_interval\":10\n",
        "    \n",
        "}\n",
        "\n",
        "torch.manual_seed(5)\n",
        "\n",
        "print('Torch', torch.__version__, 'CUDA', torch.version.cuda)\n",
        "print('Device:', torch.device('cuda:0'))\n",
        "print(torch.cuda.is_available())\n",
        "\n",
        "is_cuda = torch.cuda.is_available()\n",
        "device = torch.device ( \"cuda:0\" if torch.cuda.is_available () else \"cpu\" )\n",
        "\n"
      ],
      "execution_count": 5,
      "outputs": [
        {
          "output_type": "stream",
          "text": [
            "Torch 1.0.1.post2 CUDA 10.0.130\n",
            "Device: cuda:0\n",
            "True\n"
          ],
          "name": "stdout"
        }
      ]
    },
    {
      "metadata": {
        "id": "h00uHJxoIJAV",
        "colab_type": "text"
      },
      "cell_type": "markdown",
      "source": [
        "## VAE"
      ]
    },
    {
      "metadata": {
        "id": "Iu_i6OuyHveV",
        "colab_type": "code",
        "colab": {}
      },
      "cell_type": "code",
      "source": [
        "\"\"\"\n",
        "VAE object\n",
        "\"\"\"\n",
        "class VAE(nn.Module):\n",
        "  def __init__(self):\n",
        "    super(VAE,self).__init__()\n",
        "    \n",
        "    self.fc1 = nn.Linear(784,400)\n",
        "    self.fc21 = nn.Linear(400,20) # downsample\n",
        "    self.fc22 = nn.Linear(400,20)\n",
        "    self.fc3 = nn.Linear(20,400)\n",
        "    self.fc4 = nn.Linear(400,784) # input image\n",
        "    \n",
        "  ## encode x to latent distribution\n",
        "  def encode(self,x):\n",
        "    h1 = F.relu(self.fc1(x))\n",
        "    return self.fc21(h1), self.fc22(h1)\n",
        "  \n",
        "  \"\"\"\"\n",
        "  Reparameterize - trick\n",
        "  \"\"\"\n",
        "  def reparameterize(self, mu, logvar):\n",
        "    std = torch.exp(0.5*logvar)\n",
        "    eps = torch.rand_like(std)\n",
        "    return eps.mul(std).add_(mu) ## eps*std + mean\n",
        "  \n",
        "  \"\"\"\n",
        "  Decode back to original image\n",
        "  \"\"\"\n",
        "  def decode(self,z):\n",
        "    h3 = F.relu(self.fc3(z))\n",
        "    return torch.sigmoid(self.fc4(h3))\n",
        "  \n",
        "  \"\"\"\n",
        "  Forward\n",
        "  \"\"\"\n",
        "  def forward(self,x):\n",
        "    mu, logvar = self.encode(x.view(-1,784))\n",
        "    z = self.reparameterize(mu, logvar)\n",
        "    return self.decode(z), mu, logvar\n",
        "  \n",
        "  \n",
        "  \n",
        "    \n",
        "    \n",
        "model = VAE().to(device)\n",
        "optimizer = optim.Adam(model.parameters(), lr=1e-3)\n",
        "\n",
        "    \n",
        "    \n",
        "  \n",
        "    "
      ],
      "execution_count": 0,
      "outputs": []
    },
    {
      "metadata": {
        "id": "CTRdUrKeJszf",
        "colab_type": "text"
      },
      "cell_type": "markdown",
      "source": [
        "## Loss function"
      ]
    },
    {
      "metadata": {
        "id": "sd4WXlOlJo-7",
        "colab_type": "code",
        "colab": {}
      },
      "cell_type": "code",
      "source": [
        "\"\"\"\n",
        "Joint loss over all the parameters\n",
        "\"\"\"\n",
        "def loss_function(recon_x, x, mu, logvar):\n",
        "  BCE = F.binary_cross_entropy(recon_x,x.view(-1,784),reduction=\"sum\")\n",
        "  # https://arxiv.org/abs/1312.6114\n",
        "  # 0.5 * sum(1 + log(sigma^2) - mu^2 - sigma^2)\n",
        "  KLD = -0.5 * torch.sum(1 + logvar - mu.pow(2) - logvar.exp())\n",
        "  \n",
        "  return BCE + KLD\n",
        "\n",
        "\n",
        "\n",
        "\n",
        "  "
      ],
      "execution_count": 0,
      "outputs": []
    },
    {
      "metadata": {
        "id": "0q-EdHh2KMm1",
        "colab_type": "text"
      },
      "cell_type": "markdown",
      "source": [
        "## Train"
      ]
    },
    {
      "metadata": {
        "id": "DuYNF7dpKNRJ",
        "colab_type": "code",
        "colab": {}
      },
      "cell_type": "code",
      "source": [
        "\"\"\"\n",
        "Train\n",
        "\"\"\"\n",
        "def train(epoch):\n",
        "  model.train()\n",
        "  train_loss = 0\n",
        "  for batch_idx, (data, _ ) in enumerate(train_loader):\n",
        "    data = data.to(device)\n",
        "    optimizer.zero_grad()\n",
        "    \n",
        "    recon_batch, mu, logvar = model(data)\n",
        "    loss = loss_function(recon_batch, data, mu, logvar)\n",
        "    loss.backward()\n",
        "    \n",
        "    train_loss+=loss.item()\n",
        "    \n",
        "    optimizer.step()\n",
        "    if batch_idx % params.get(\"log_interval\") == 0:\n",
        "      print('Train Epoch: {} [{}/{} ({:.0f}%)]\\tLoss: {:.6f}'.format(\n",
        "                epoch, batch_idx * len(data), len(train_loader.dataset),\n",
        "                100. * batch_idx / len(train_loader),\n",
        "                loss.item() / len(data)))\n",
        "    tl = train_loss/len(train_loader.dataset)\n",
        "    print(\"==> Epoch {}, average loss: {:.4f}\".format(epoch, tl))\n",
        "    \n",
        "    return tl\n",
        "\n",
        "  "
      ],
      "execution_count": 0,
      "outputs": []
    },
    {
      "metadata": {
        "id": "djydSd4tLFOH",
        "colab_type": "code",
        "colab": {}
      },
      "cell_type": "code",
      "source": [
        "\"\"\"\n",
        "Test\n",
        "\"\"\"\n",
        "def test(epoch):\n",
        "    model.eval()\n",
        "    test_loss = 0\n",
        "    with torch.no_grad():\n",
        "        for i, (data, _) in enumerate(test_loader):\n",
        "            data = data.to(device)\n",
        "            recon_batch, mu, logvar = model(data)\n",
        "            test_loss += loss_function(recon_batch, data, mu, logvar).item()\n",
        "            if i == 0:\n",
        "                n = min(data.size(0), 8)\n",
        "                comparison = torch.cat([data[:n],\n",
        "                                      recon_batch.view(params.get(\"batch_size\"), 1, 28, 28)[:n]])\n",
        "                save_image(comparison.cpu(),\n",
        "                         'results/reconstruction_' + str(epoch) + '.png', nrow=n)\n",
        "\n",
        "    test_loss /= len(test_loader.dataset)\n",
        "    print('====> Test set loss: {:.4f}'.format(test_loss))\n",
        "    return test_loss\n",
        "\n",
        "  "
      ],
      "execution_count": 0,
      "outputs": []
    },
    {
      "metadata": {
        "id": "VDbKbFG2LZxz",
        "colab_type": "code",
        "colab": {
          "base_uri": "https://localhost:8080/",
          "height": 255
        },
        "outputId": "dc760e3c-0063-4b00-91e6-d043c7bcf33f"
      },
      "cell_type": "code",
      "source": [
        "## Data Loaders\n",
        "kwargs = {'num_workers': 1, 'pin_memory': True}\n",
        "\n",
        "train_loader = torch.utils.data.DataLoader(\n",
        "    datasets.MNIST('MNIST/data', train=True, download=True,\n",
        "                   transform=transforms.ToTensor()),\n",
        "    batch_size=params.get(\"batch_size\"), shuffle=True, **kwargs)\n",
        "test_loader = torch.utils.data.DataLoader(\n",
        "    datasets.MNIST('MNIST/data', train=False, transform=transforms.ToTensor()),\n",
        "    batch_size=params.get(\"batch_size\"), shuffle=True, **kwargs)\n"
      ],
      "execution_count": 12,
      "outputs": [
        {
          "output_type": "stream",
          "text": [
            "  0%|          | 0/9912422 [00:00<?, ?it/s]"
          ],
          "name": "stderr"
        },
        {
          "output_type": "stream",
          "text": [
            "Downloading http://yann.lecun.com/exdb/mnist/train-images-idx3-ubyte.gz to MNIST/data/MNIST/raw/train-images-idx3-ubyte.gz\n"
          ],
          "name": "stdout"
        },
        {
          "output_type": "stream",
          "text": [
            "9920512it [00:00, 24931539.93it/s]                            \n"
          ],
          "name": "stderr"
        },
        {
          "output_type": "stream",
          "text": [
            "Extracting MNIST/data/MNIST/raw/train-images-idx3-ubyte.gz\n"
          ],
          "name": "stdout"
        },
        {
          "output_type": "stream",
          "text": [
            "32768it [00:00, 445788.92it/s]\n",
            "0it [00:00, ?it/s]"
          ],
          "name": "stderr"
        },
        {
          "output_type": "stream",
          "text": [
            "Downloading http://yann.lecun.com/exdb/mnist/train-labels-idx1-ubyte.gz to MNIST/data/MNIST/raw/train-labels-idx1-ubyte.gz\n",
            "Extracting MNIST/data/MNIST/raw/train-labels-idx1-ubyte.gz\n",
            "Downloading http://yann.lecun.com/exdb/mnist/t10k-images-idx3-ubyte.gz to MNIST/data/MNIST/raw/t10k-images-idx3-ubyte.gz\n"
          ],
          "name": "stdout"
        },
        {
          "output_type": "stream",
          "text": [
            "1654784it [00:00, 6466305.45it/s]                           \n",
            "8192it [00:00, 161321.66it/s]\n"
          ],
          "name": "stderr"
        },
        {
          "output_type": "stream",
          "text": [
            "Extracting MNIST/data/MNIST/raw/t10k-images-idx3-ubyte.gz\n",
            "Downloading http://yann.lecun.com/exdb/mnist/t10k-labels-idx1-ubyte.gz to MNIST/data/MNIST/raw/t10k-labels-idx1-ubyte.gz\n",
            "Extracting MNIST/data/MNIST/raw/t10k-labels-idx1-ubyte.gz\n",
            "Processing...\n",
            "Done!\n"
          ],
          "name": "stdout"
        }
      ]
    },
    {
      "metadata": {
        "id": "dbOKqA2lLQ_1",
        "colab_type": "code",
        "outputId": "f1c2c25b-9612-4e77-85c0-291be8333509",
        "colab": {
          "base_uri": "https://localhost:8080/",
          "height": 527
        }
      },
      "cell_type": "code",
      "source": [
        "train_losses = []\n",
        "test_losses = []\n",
        "for epoch in range(1, params.get(\"epochs\") + 1):\n",
        "        trainloss = train(epoch)\n",
        "        testloss = test(epoch)\n",
        "        train_losses.append(trainloss)\n",
        "        test_losses.append(testloss)\n",
        "        with torch.no_grad():\n",
        "            sample = torch.randn(64, 20).to(device)\n",
        "            sample = model.decode(sample).cpu()\n",
        "            save_image(sample.view(64, 1, 28, 28),\n",
        "                       'results/sample_' + str(epoch) + '.png')"
      ],
      "execution_count": 18,
      "outputs": [
        {
          "output_type": "stream",
          "text": [
            "Train Epoch: 1 [0/60000 (0%)]\tLoss: 87.041412\n",
            "==> Epoch 1, average loss: 0.1857\n",
            "====> Test set loss: 86.3118\n",
            "Train Epoch: 2 [0/60000 (0%)]\tLoss: 85.932518\n",
            "==> Epoch 2, average loss: 0.1833\n",
            "====> Test set loss: 86.5031\n",
            "Train Epoch: 3 [0/60000 (0%)]\tLoss: 87.312256\n",
            "==> Epoch 3, average loss: 0.1863\n",
            "====> Test set loss: 86.4924\n",
            "Train Epoch: 4 [0/60000 (0%)]\tLoss: 85.086716\n",
            "==> Epoch 4, average loss: 0.1815\n",
            "====> Test set loss: 86.6858\n",
            "Train Epoch: 5 [0/60000 (0%)]\tLoss: 88.929428\n",
            "==> Epoch 5, average loss: 0.1897\n",
            "====> Test set loss: 86.5155\n",
            "Train Epoch: 6 [0/60000 (0%)]\tLoss: 81.275902\n",
            "==> Epoch 6, average loss: 0.1734\n",
            "====> Test set loss: 86.4177\n",
            "Train Epoch: 7 [0/60000 (0%)]\tLoss: 89.554169\n",
            "==> Epoch 7, average loss: 0.1910\n",
            "====> Test set loss: 86.4918\n",
            "Train Epoch: 8 [0/60000 (0%)]\tLoss: 86.437637\n",
            "==> Epoch 8, average loss: 0.1844\n",
            "====> Test set loss: 86.5669\n",
            "Train Epoch: 9 [0/60000 (0%)]\tLoss: 84.493195\n",
            "==> Epoch 9, average loss: 0.1803\n",
            "====> Test set loss: 86.5509\n",
            "Train Epoch: 10 [0/60000 (0%)]\tLoss: 88.250458\n",
            "==> Epoch 10, average loss: 0.1883\n",
            "====> Test set loss: 86.4914\n"
          ],
          "name": "stdout"
        }
      ]
    },
    {
      "metadata": {
        "id": "TCc1xkpHPH3-",
        "colab_type": "code",
        "outputId": "a14a9a40-bd52-46d8-bdc6-62eb306ec23e",
        "colab": {
          "base_uri": "https://localhost:8080/",
          "height": 79
        }
      },
      "cell_type": "code",
      "source": [
        "\n",
        "from IPython.display import Image\n",
        "Image(filename='results/reconstruction_10.png') \n",
        "\n"
      ],
      "execution_count": 14,
      "outputs": [
        {
          "output_type": "execute_result",
          "data": {
            "image/png": "[encoded data removed]",
            "text/plain": [
              "<IPython.core.display.Image object>"
            ]
          },
          "metadata": {
            "tags": []
          },
          "execution_count": 14
        }
      ]
    },
    {
      "metadata": {
        "id": "ptbm6f8DQrUa",
        "colab_type": "code",
        "outputId": "99858a45-fe4f-44eb-814f-24170944917b",
        "colab": {
          "base_uri": "https://localhost:8080/",
          "height": 259
        }
      },
      "cell_type": "code",
      "source": [
        "Image(filename='results/sample_10.png') \n"
      ],
      "execution_count": 15,
      "outputs": [
        {
          "output_type": "execute_result",
          "data": {
            "image/png": "[encoded data removed]",
            "text/plain": [
              "<IPython.core.display.Image object>"
            ]
          },
          "metadata": {
            "tags": []
          },
          "execution_count": 15
        }
      ]
    },
    {
      "metadata": {
        "id": "PQWQdoqeSGw9",
        "colab_type": "code",
        "colab": {
          "base_uri": "https://localhost:8080/",
          "height": 347
        },
        "outputId": "9ab48b85-7f16-4b5c-bd1e-d3f2f995fbbb"
      },
      "cell_type": "code",
      "source": [
        "import  matplotlib.pyplot as plt \n",
        "plt.plot(range(1, params.get(\"epochs\") + 1),train_losses)\n",
        "plt.plot(  range(1, params.get(\"epochs\") + 1),test_losses)\n",
        "plt.legend([\"Train loss\",\"Test loss\"])\n",
        "plt.show()"
      ],
      "execution_count": 21,
      "outputs": [
        {
          "output_type": "display_data",
          "data": {
            "image/png": "[encoded data removed]",
            "text/plain": [
              "<Figure size 576x396 with 1 Axes>"
            ]
          },
          "metadata": {
            "tags": []
          }
        }
      ]
    },
    {
      "metadata": {
        "id": "bwmHFlCg4Mf3",
        "colab_type": "code",
        "colab": {}
      },
      "cell_type": "code",
      "source": [
        ""
      ],
      "execution_count": 0,
      "outputs": []
    }
  ]
}