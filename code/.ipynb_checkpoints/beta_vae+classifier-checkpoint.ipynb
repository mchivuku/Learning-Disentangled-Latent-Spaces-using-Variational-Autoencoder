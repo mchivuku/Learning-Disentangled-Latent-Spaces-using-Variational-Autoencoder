{
 "cells": [
  {
   "cell_type": "markdown",
   "metadata": {
    "colab_type": "text",
    "id": "HuBiLiC6F9_R"
   },
   "source": [
    "## Beta -Variational AutoEnoder:\n",
    "\n",
    "If each variable in the inferred latent representation z is only sensitive to one single generative factor and relatively invariant to other factors, we will say this representation is disentangled or factorized. One benefit that often comes with disentangled representation is good interpretability and easy generalization to a variety of tasks.\n",
    "\n",
    "For example, a model trained on photos of human faces might capture the gentle, skin color, hair color, hair length, emotion, whether wearing a pair of glasses and many other relatively independent factors in separate dimensions. Such a disentangled representation is very beneficial to facial image generation.\n",
    "\n",
    "β-VAE (Higgins et al., 2017) is a modification of Variational Autoencoder with a special emphasis to discover disentangled latent factors. Following the same incentive in VAE, we want to maximize the probability of generating real data, while keeping the distance between the real and estimated posterior distributions small (say, under a small constant δ):\n",
    "\n",
    "\n",
    "\n",
    "1. Understanding - disentagled latent spaces\n",
    "2. Using classifier - to understand its performance, VAE (detach updates) + Classifier => performance\n",
    "3. VAE + classifer"
   ]
  },
  {
   "cell_type": "code",
   "execution_count": 0,
   "metadata": {
    "colab": {
     "base_uri": "https://localhost:8080/",
     "height": 68
    },
    "colab_type": "code",
    "id": "AyHXM_7YF9_U",
    "outputId": "cab09e3f-a0a6-432c-8b67-af22b5a6c800"
   },
   "outputs": [
    {
     "name": "stdout",
     "output_type": "stream",
     "text": [
      "Torch 1.0.1.post2 CUDA 10.0.130\n",
      "Device: cuda:0\n",
      "True\n"
     ]
    }
   ],
   "source": [
    "from glob import glob\n",
    "import os\n",
    "import numpy as np\n",
    "import matplotlib.pyplot as plt\n",
    "import shutil\n",
    "from torchvision import transforms\n",
    "from torchvision import models\n",
    "import torchvision\n",
    "import torch\n",
    "from torch.autograd import Variable\n",
    "import torch.nn as nn\n",
    "from torch.optim import lr_scheduler\n",
    "from torch import optim\n",
    "from torchvision.datasets import ImageFolder\n",
    "from torchvision.utils import make_grid\n",
    "import time\n",
    "from torchvision import datasets,transforms\n",
    "import torch.nn.functional as F\n",
    "import torch.optim as optim\n",
    "\n",
    "\n",
    "import os\n",
    "from torchvision.utils import save_image\n",
    "\n",
    "## Plotting library\n",
    "from matplotlib.offsetbox import OffsetImage, AnnotationBbox\n",
    "from matplotlib.backends.backend_agg import FigureCanvasAgg as FigureCanvas\n",
    " \n",
    "from scipy.stats import norm\n",
    "from sklearn import manifold\n",
    "\n",
    " \n",
    "%matplotlib inline\n",
    "\n",
    "print('Torch', torch.__version__, 'CUDA', torch.version.cuda)\n",
    "print('Device:', torch.device('cuda:0'))\n",
    "print(torch.cuda.is_available())\n",
    "\n",
    "is_cuda = torch.cuda.is_available()\n",
    "device = torch.device ( \"cuda:0\" if torch.cuda.is_available () else \"cpu\" )\n"
   ]
  },
  {
   "cell_type": "code",
   "execution_count": 0,
   "metadata": {
    "colab": {},
    "colab_type": "code",
    "id": "VgptUKqiF9_d"
   },
   "outputs": [],
   "source": [
    "## Show image\n",
    "def imshow(img,title=None):\n",
    "  \"\"\"Imshow for Tensor.\"\"\"\n",
    "  img = img.numpy().transpose((1,2,0))\n",
    "  mean = np.array([0.485, 0.456, 0.406])\n",
    "  std = np.array([0.229, 0.224, 0.225])\n",
    "  img = std * img + mean # normalize\n",
    "  img = np.clip(img, 0, 1) # clip image\n",
    "  plt.figure(figsize=(16,4))\n",
    "  plt.axis('off')\n",
    "  plt.imshow(img)\n",
    "  \n",
    "  if title is not None:\n",
    "    plt.title(title)         \n",
    "  \n",
    "def plot_grid(inputs):\n",
    "  # Make a grid from batch \n",
    "  out = torchvision.utils.make_grid(inputs,10,10)\n",
    "  imshow(out, title=\"\")\n",
    "  \n",
    "## Visualize some images in the dataset\n",
    "def visualizeDataset(X):\n",
    "  for i,image in enumerate(X):\n",
    "    cv2.imshow(str(i),image)\n",
    "    cv2.waitKey()\n",
    "    cv2.destroyAllWindows()\n",
    "\n",
    "def plot_loss(y, title):\n",
    "  plt.figure()\n",
    "  plt.plot(y)\n",
    "  plt.title(title)\n",
    "  plt.xlabel('epochs')\n",
    "  plt.ylabel('Loss')\n",
    "  \n",
    "def plot_accuracy(y, title):\n",
    "  plt.figure()\n",
    "  plt.plot(y)\n",
    "  plt.title(title)\n",
    "  plt.xlabel('epochs')\n",
    "  plt.ylabel('accuracy')\n",
    "  \n",
    "\n",
    "## Scatter Plot\n",
    "def scatterplot(x, y, ax, imageData, zoom):\n",
    "  images = []\n",
    "  imageSize = 28\n",
    "  for i in range(len(x)):\n",
    "    x0, y0 = x[i], y[i]\n",
    "    \n",
    "    # Convert to image\n",
    "    img = imageData[i]*255.\n",
    "    img = (img).numpy()\n",
    "    img = img.astype(np.uint8).reshape([imageSize,imageSize])\n",
    "    img = cv2.cvtColor(img,cv2.COLOR_GRAY2RGB)\n",
    "    \n",
    "    # Note: OpenCV uses BGR and plt uses RGB\n",
    "    image = OffsetImage(img, zoom=zoom)\n",
    "    ab = AnnotationBbox(image, (x0, y0), xycoords='data', frameon=False)\n",
    "    images.append(ax.add_artist(ab))\n",
    "    \n",
    "  ax.update_datalim(np.column_stack([x, y]))\n",
    "  ax.autoscale()\n",
    "  \n",
    "  \n",
    "import seaborn as sns\n",
    "palette = np.array(sns.color_palette(\"hls\", 10))\n",
    "\n",
    "def plot_scatter(projection,labels):\n",
    "    plt.scatter(projection[:,0], projection[:,1],c=[palette[i] for i in labels])"
   ]
  },
  {
   "cell_type": "code",
   "execution_count": 0,
   "metadata": {
    "colab": {
     "base_uri": "https://localhost:8080/",
     "height": 34
    },
    "colab_type": "code",
    "id": "0KMnAa-QF9_g",
    "outputId": "16211e6d-5f0c-4bb9-fe50-1c70e660061e"
   },
   "outputs": [
    {
     "data": {
      "text/plain": [
       "<torch._C.Generator at 0x7fa38ae965f0>"
      ]
     },
     "execution_count": 3,
     "metadata": {
      "tags": []
     },
     "output_type": "execute_result"
    }
   ],
   "source": [
    "class Params:\n",
    "  nb_latents = 10\n",
    "  batch_size = 128\n",
    "  epochs = 100\n",
    "  log_interval = 100\n",
    "  save_interval = 1000\n",
    "\n",
    "  \n",
    "torch.manual_seed(5)"
   ]
  },
  {
   "cell_type": "code",
   "execution_count": 0,
   "metadata": {
    "colab": {},
    "colab_type": "code",
    "id": "fehzVrPfKXgX"
   },
   "outputs": [],
   "source": [
    "\"\"\"\n",
    "Traverse Latents\n",
    "\"\"\"\n",
    "def traverse_latents(model, datapoint, nb_latents, file):\n",
    "  model.eval()\n",
    "  datapoint = datapoint.to(device)\n",
    "  if isinstance(model,ConvVAE):\n",
    "    datapoint = datapoint.unsqueeze(0)\n",
    "    mu, _ = model.encode(datapoint)\n",
    "  else:\n",
    "    datapoint = datapoint.unsqueeze(0)\n",
    "    mu, _ = model.encoder(datapoint)\n",
    "  \n",
    "  recons = torch.zeros((7, nb_latents, 28, 28))\n",
    "    \n",
    "  for zi in range(nb_latents):\n",
    "    muc = mu.squeeze().clone()\n",
    "    for i, val in enumerate(np.linspace(-3, 3, 7)):\n",
    "      muc[zi] = val  \n",
    "      recon = model.decode(muc).cpu() if isinstance(model,ConvVAE) \n",
    "                else model.decoder(muc).cpu()\n",
    "      recons[i, zi] = recon.view(28, 28)\n",
    "\n",
    "  torchvision.utils.save_image(recons.view(-1, 1, 28, 28), file, \n",
    "                        nrow=nb_latents, pad_value=1)"
   ]
  },
  {
   "cell_type": "markdown",
   "metadata": {
    "colab_type": "text",
    "id": "Augvzvh8F9_l"
   },
   "source": [
    "## Metrics"
   ]
  },
  {
   "cell_type": "code",
   "execution_count": 0,
   "metadata": {
    "colab": {},
    "colab_type": "code",
    "id": "N76SuVktF9_l"
   },
   "outputs": [],
   "source": [
    "### Metrics - Base Class For all Metrics\n",
    "class Metric:\n",
    "  def __init__(self):\n",
    "    pass\n",
    "  def __call__(self, outputs, target, loss):\n",
    "    raise NotImplementedError\n",
    "    \n",
    "  def reset(self):\n",
    "    raise NotImplementedError\n",
    "    \n",
    "  def value(self):\n",
    "    raise NotImplementedError\n",
    "    \n",
    "  def name(self):\n",
    "    raise NotImplementedError\n",
    "    \n",
    "## Accuracy Metric\n",
    "class AccumulatedAccuracyMetric(Metric):\n",
    "  def __init__(self):\n",
    "      self.correct = 0\n",
    "      self.total = 0\n",
    "      \n",
    "  def __call__(self, outputs, target):\n",
    "      # Track the accuracy\n",
    "      _, argmax = torch.max(outputs, 1)\n",
    "      accuracy = (target == argmax.squeeze()).float().sum()\n",
    "      self.correct += accuracy \n",
    "      self.total += target.size(0)\n",
    "      return self.value()\n",
    "  \n",
    "  def reset(self):\n",
    "      self.correct = 0\n",
    "      self.total = 0\n",
    "\n",
    "  def value(self):\n",
    "      return 100 * float(self.correct) / self.total\n",
    "\n",
    "  def name(self):\n",
    "      return 'Accuracy'\n",
    "    \n",
    "    \n",
    "## Loss\n",
    "class RunningAverage ():\n",
    "    \"\"\"A simple class that maintains the running average of a quantity\n",
    "    Example:\n",
    "    ```\n",
    "    loss_avg = RunningAverage()\n",
    "    loss_avg.update(2)\n",
    "    loss_avg.update(4)\n",
    "    loss_avg() = 3\n",
    "    ```\n",
    "    \"\"\"\n",
    "\n",
    "    def __init__( self ):\n",
    "        self.steps = 0\n",
    "        self.total = 0\n",
    "\n",
    "    def update( self, val ):\n",
    "        self.total += val\n",
    "        self.steps += 1\n",
    "\n",
    "    def __call__( self ):\n",
    "        return self.total / float ( self.steps )"
   ]
  },
  {
   "cell_type": "markdown",
   "metadata": {
    "colab_type": "text",
    "id": "MW9YArDyF9_o"
   },
   "source": [
    "## Dataloader"
   ]
  },
  {
   "cell_type": "code",
   "execution_count": null,
   "metadata": {
    "colab": {
     "base_uri": "https://localhost:8080/",
     "height": 255
    },
    "colab_type": "code",
    "id": "9PhFs9b1F9_p",
    "outputId": "b654f8e9-b92d-4c5e-a0c0-0d88e851e81e"
   },
   "outputs": [],
   "source": [
    "path = \"./vae-classifier/\"\n",
    "transformation = transforms.Compose([transforms.ToTensor(),\n",
    "                transforms.Normalize((0.1307,), (0.3081,))])\n",
    "train_dataset = datasets.MNIST(os.path.join(path,\"MNIST/data\"),\n",
    "                train=True,transform=transformation,download=True)\n",
    "test_dataset = datasets.MNIST(os.path.join(path,\"MNIST/data\"),\n",
    "                train=False,transform=transformation,download=True)\n",
    "train_loader = torch.utils.data.DataLoader(train_dataset,\n",
    "                batch_size=128,shuffle=True)\n",
    "test_loader = torch.utils.data.DataLoader(test_dataset,\n",
    "            batch_size=128,shuffle=True)\n",
    "## Test TSNE plot for reconstrunction on 1000 test samples\n",
    "testing_tsne = torch.utils.data.DataLoader(train_dataset,\n",
    "              batch_size=len(train_dataset),shuffle=True)\n",
    "test_data, test_labels = next(iter(testing_tsne))[:10000]\n"
   ]
  },
  {
   "cell_type": "code",
   "execution_count": 0,
   "metadata": {
    "colab": {
     "base_uri": "https://localhost:8080/",
     "height": 35
    },
    "colab_type": "code",
    "id": "gH6BV70_F9_r",
    "outputId": "1d689961-b3b2-46f1-88c8-2a5880411d22"
   },
   "outputs": [
    {
     "name": "stdout",
     "output_type": "stream",
     "text": [
      "Total number of train images: 60000, total number of test images: 10000, total number of train batches: 469\n"
     ]
    }
   ],
   "source": [
    "print(f\"Total number of train images: {len(train_dataset)}, \" + \n",
    "      f\"total number of test images: {len(test_dataset)},\" + \n",
    "      f\"total number of train batches: {len(train_loader)}\")"
   ]
  },
  {
   "cell_type": "code",
   "execution_count": 0,
   "metadata": {
    "colab": {
     "base_uri": "https://localhost:8080/",
     "height": 34
    },
    "colab_type": "code",
    "id": "cXAY9WhEF9_u",
    "outputId": "b1934eab-877d-4afc-8af9-9b66c806c033"
   },
   "outputs": [
    {
     "name": "stdout",
     "output_type": "stream",
     "text": [
      "\u001b[0m\u001b[01;34mresults\u001b[0m/  \u001b[01;34msample_data\u001b[0m/  \u001b[01;34mvae-classifier\u001b[0m/\n"
     ]
    }
   ],
   "source": [
    "%ls"
   ]
  },
  {
   "cell_type": "markdown",
   "metadata": {
    "colab_type": "text",
    "id": "bo0naooCF9_y"
   },
   "source": [
    "## Model"
   ]
  },
  {
   "cell_type": "code",
   "execution_count": 0,
   "metadata": {
    "colab": {},
    "colab_type": "code",
    "id": "a8VqCnHxF9_z"
   },
   "outputs": [],
   "source": [
    "class ConvVAE(nn.Module):\n",
    "    def __init__(self, nb_latents):\n",
    "        super(ConvVAE, self).__init__()\n",
    "        self.conv1 = nn.Sequential(\n",
    "            nn.Conv2d(1, 32, kernel_size=5, stride=1, padding=2),\n",
    "            nn.ReLU(),\n",
    "            nn.MaxPool2d(kernel_size=2, stride=2))\n",
    "        self.conv2 = nn.Sequential(\n",
    "            nn.Conv2d(32, 64, kernel_size=5, stride=1, padding=2),\n",
    "            nn.ReLU(),\n",
    "            nn.MaxPool2d(kernel_size=2, stride=2))\n",
    "        \n",
    "        \n",
    "        self.conv3 = nn.Sequential(\n",
    "            nn.Conv2d(64, 128, kernel_size=5, stride=1, padding=2),\n",
    "            nn.ReLU(),\n",
    "            nn.MaxPool2d(kernel_size=2, stride=2))\n",
    "        \n",
    "        self.conv4 = nn.Sequential(\n",
    "            nn.Conv2d(128, 256, kernel_size=2, stride=1),\n",
    "            nn.ReLU())\n",
    "        \n",
    "        self.fc1 = nn.Linear(1024, 256)\n",
    "        \n",
    "        self.fc_mean = nn.Linear(256, nb_latents)\n",
    "        self.fc_std = nn.Linear(256, nb_latents)\n",
    "        \n",
    "        self.fc2 = nn.Linear(nb_latents, 256)\n",
    "        self.fc3 = nn.Linear(256, 1024)\n",
    "        \n",
    "        \n",
    "        \n",
    "        self.fc4 = nn.Linear(1024,7*7*64)\n",
    "        \n",
    "        self.deconv1 = nn.ConvTranspose2d(64, 32, \n",
    "                         kernel_size=2, stride=2)\n",
    "        self.deconv2 = nn.ConvTranspose2d(32, 1, \n",
    "                         kernel_size=2, stride=2)\n",
    "    \n",
    "        self.relu = nn.ReLU()\n",
    "        self.sigmoid = nn.Sigmoid()\n",
    "    \n",
    "    def encode(self, x):\n",
    "        x = (self.conv1(x))\n",
    "        x =  (self.conv2(x))\n",
    "        x =  (self.conv3(x))\n",
    "        x =  (self.conv4(x))\n",
    "        x = x.reshape(x.size(0), -1)\n",
    "        x = self.relu(self.fc1(x))\n",
    "        return self.fc_mean(x), self.fc_std(x)\n",
    "\n",
    "    def reparameterize(self, mu, logvar):\n",
    "        if self.training:\n",
    "            std = logvar.mul(0.5).exp_()\n",
    "            eps = Variable(std.data.new(std.size()).normal_())\n",
    "            return eps.mul(std).add_(mu)\n",
    "        else:\n",
    "            return mu\n",
    "    \n",
    "    def decode(self, z):\n",
    "        x = self.relu(self.fc2(z))\n",
    "        x = self.relu(self.fc3(x))\n",
    "        x = self.relu(self.fc4(x))\n",
    "        x = self.relu(self.deconv1(x.view(-1, 64, 7, 7)))\n",
    "        x = self.deconv2(x)\n",
    "        return self.sigmoid(x)\n",
    "        \n",
    "    def forward(self, x):\n",
    "        mu, logvar = self.encode(x)\n",
    "        z = self.reparameterize(mu, logvar)\n",
    "        return self.decode(z), mu, logvar"
   ]
  },
  {
   "cell_type": "code",
   "execution_count": 0,
   "metadata": {
    "colab": {
     "base_uri": "https://localhost:8080/",
     "height": 544
    },
    "colab_type": "code",
    "id": "V8Tw4cwlF9_2",
    "outputId": "45a3b911-475d-45fe-a441-84e394bb9692"
   },
   "outputs": [
    {
     "name": "stdout",
     "output_type": "stream",
     "text": [
      "ConvVAE(\n",
      "  (conv1): Sequential(\n",
      "    (0): Conv2d(1, 32, kernel_size=(5, 5), stride=(1, 1), padding=(2, 2))\n",
      "    (1): ReLU()\n",
      "    (2): MaxPool2d(kernel_size=2, stride=2, padding=0, dilation=1, ceil_mode=False)\n",
      "  )\n",
      "  (conv2): Sequential(\n",
      "    (0): Conv2d(32, 64, kernel_size=(5, 5), stride=(1, 1), padding=(2, 2))\n",
      "    (1): ReLU()\n",
      "    (2): MaxPool2d(kernel_size=2, stride=2, padding=0, dilation=1, ceil_mode=False)\n",
      "  )\n",
      "  (conv3): Sequential(\n",
      "    (0): Conv2d(64, 128, kernel_size=(5, 5), stride=(1, 1), padding=(2, 2))\n",
      "    (1): ReLU()\n",
      "    (2): MaxPool2d(kernel_size=2, stride=2, padding=0, dilation=1, ceil_mode=False)\n",
      "  )\n",
      "  (conv4): Sequential(\n",
      "    (0): Conv2d(128, 256, kernel_size=(2, 2), stride=(1, 1))\n",
      "    (1): ReLU()\n",
      "  )\n",
      "  (fc1): Linear(in_features=1024, out_features=256, bias=True)\n",
      "  (fc_mean): Linear(in_features=256, out_features=10, bias=True)\n",
      "  (fc_std): Linear(in_features=256, out_features=10, bias=True)\n",
      "  (fc2): Linear(in_features=10, out_features=256, bias=True)\n",
      "  (fc3): Linear(in_features=256, out_features=1024, bias=True)\n",
      "  (fc4): Linear(in_features=1024, out_features=3136, bias=True)\n",
      "  (deconv1): ConvTranspose2d(64, 32, kernel_size=(2, 2), stride=(2, 2))\n",
      "  (deconv2): ConvTranspose2d(32, 1, kernel_size=(2, 2), stride=(2, 2))\n",
      "  (relu): ReLU()\n",
      "  (sigmoid): Sigmoid()\n",
      ")\n"
     ]
    }
   ],
   "source": [
    "model = ConvVAE(Params.nb_latents)\n",
    "if is_cuda:\n",
    "  model = model.to(device)\n",
    "  \n",
    "print(model)"
   ]
  },
  {
   "cell_type": "markdown",
   "metadata": {
    "colab_type": "text",
    "id": "j1bkn00iF9_5"
   },
   "source": [
    "## Loss Function"
   ]
  },
  {
   "cell_type": "code",
   "execution_count": 0,
   "metadata": {
    "colab": {},
    "colab_type": "code",
    "id": "lm7wfM3SF9_6"
   },
   "outputs": [],
   "source": [
    "### Loss Function\n",
    "### Loss Function\n",
    "def loss_function(recon_x, x, mu, logvar,beta=6):\n",
    "  \"\"\"\n",
    "  Reconstruction loss  + KL divergence loss over all elements of the batch\n",
    "  \"\"\"\n",
    "  bce = F.binary_cross_entropy(recon_x, \n",
    "            x.view(-1, 28*28), size_average=False)\n",
    "  \n",
    "  kld = -0.5* (1+ logvar -mu.pow(2) -  logvar.exp())\n",
    "  return kld.mean(dim = 0), bce + beta*kld.sum()"
   ]
  },
  {
   "cell_type": "code",
   "execution_count": 0,
   "metadata": {
    "colab": {
     "base_uri": "https://localhost:8080/",
     "height": 34
    },
    "colab_type": "code",
    "id": "_uAEmXatF9_8",
    "outputId": "ebe59536-0c88-49ca-d847-e51242c9a1df"
   },
   "outputs": [
    {
     "name": "stdout",
     "output_type": "stream",
     "text": [
      "\u001b[0m\u001b[01;34mbeta-results\u001b[0m/  \u001b[01;34mresults\u001b[0m/  \u001b[01;34msample_data\u001b[0m/  \u001b[01;34mvae-classifier\u001b[0m/\n"
     ]
    }
   ],
   "source": [
    "import os\n",
    "os.makedirs(\"beta-results\")\n",
    "%ls\n",
    "\n",
    "save_dir = \"beta-results\""
   ]
  },
  {
   "cell_type": "markdown",
   "metadata": {
    "colab_type": "text",
    "id": "EI9EEXy4F-AA"
   },
   "source": [
    "## Latent Space Visualization"
   ]
  },
  {
   "cell_type": "code",
   "execution_count": 0,
   "metadata": {
    "colab": {},
    "colab_type": "code",
    "id": "cAksp2kvF-AB"
   },
   "outputs": [],
   "source": [
    "criterion = nn.CrossEntropyLoss()\n",
    "optimizer = optim.Adam(model.parameters(), lr=1e-3)\n",
    "\n",
    "\"\"\"\n",
    "Traverse Latents\n",
    "\"\"\"\n",
    "def traverse_latents(model, datapoint, nb_latents,\n",
    "                     epoch, batch_idx, dirpath=save_dir):\n",
    "  model.eval()\n",
    "  datapoint = datapoint.to(device)\n",
    "  if isinstance(model,ConvVAE):\n",
    "    datapoint = datapoint.unsqueeze(0)\n",
    "    mu, _ = model.encode(datapoint)\n",
    "  else:\n",
    "    mu, _ = model.encode(datapoint.view(-1))\n",
    "  \n",
    "  recons = torch.zeros((7, nb_latents, 28, 28))\n",
    "  for zi in range(nb_latents):\n",
    "    muc = mu.squeeze().clone()\n",
    "    for i, val in enumerate(np.linspace(-3, 3, 7)):\n",
    "      muc[zi] = val\n",
    "      \n",
    "      recon = model.decode(muc).cpu()\n",
    "      recons[i, zi] = recon.view(28, 28)\n",
    "\n",
    "  filename = os.path.join(dirpath, 'traversal_' + \n",
    "            str(epoch) + '_' + str(batch_idx) + '.png')\n",
    "  save_image(recons.view(-1, 1, 28, 28), \n",
    "             filename, nrow=nb_latents, pad_value=1)\n",
    "  \n",
    "  \n",
    "### Plot TSNE for latent space\n",
    "# Show dataset images with T-sne projection of latent space encoding\n",
    "import seaborn as sns\n",
    "palette = np.array(sns.color_palette(\"hls\", 10))\n",
    "def visualize_tsne_of_input(X, labels, model, path):\n",
    "    # Compute latent space representation\n",
    "    print(\"Computing latent space projection...\")\n",
    "    \n",
    "    X_encoded, _ = model.encode(X)\n",
    "    \n",
    "    # Compute t-SNE embedding of latent space\n",
    "    tsne = manifold.TSNE(n_components=2, init='pca', random_state=0)\n",
    "    X_tsne = tsne.fit_transform(X_encoded.data.detach().cpu())\n",
    "\n",
    "    # Plot images according to t-sne embedding\n",
    "    fig, ax = plt.subplots()\n",
    "    im = plt.scatter(X_tsne[:,0], X_tsne[:,1],\n",
    "                     c=[palette[i] for i in labels])\n",
    "    fig.colorbar(im, ticks=range(10));\n",
    "    fig.savefig(path, dpi=fig.dpi)\n",
    "    "
   ]
  },
  {
   "cell_type": "code",
   "execution_count": 0,
   "metadata": {
    "colab": {},
    "colab_type": "code",
    "id": "QNdh1nUyF-AG",
    "outputId": "9eb88006-d5b4-4307-9f6e-661b314ca7af"
   },
   "outputs": [
    {
     "name": "stdout",
     "output_type": "stream",
     "text": [
      "Requirement already satisfied: opencv-python in /home/chivukula_manju/yes/lib/python3.6/site-packages\n",
      "Requirement already satisfied: numpy>=1.11.3 in /home/chivukula_manju/yes/lib/python3.6/site-packages (from opencv-python)\n",
      "\u001b[33mYou are using pip version 9.0.1, however version 19.0.3 is available.\n",
      "You should consider upgrading via the 'pip install --upgrade pip' command.\u001b[0m\n"
     ]
    }
   ],
   "source": [
    "#!pip install tqdm\n",
    "!pip install opencv-python\n"
   ]
  },
  {
   "cell_type": "markdown",
   "metadata": {
    "colab_type": "text",
    "id": "PLM1C6_AF-AK"
   },
   "source": [
    "## Compute Laplacian Variance for the blur - cv2"
   ]
  },
  {
   "cell_type": "code",
   "execution_count": 0,
   "metadata": {
    "colab": {},
    "colab_type": "code",
    "id": "mTiqu2jSF-AN"
   },
   "outputs": [],
   "source": [
    "## Import CV\n",
    "import cv2\n",
    "import numpy\n",
    "\n",
    "\n",
    "def laplacian_variance(images):\n",
    "    return [cv2.Laplacian(image.numpy(), cv2.CV_32F).var() for image in images]\n",
    "\n",
    "\n",
    "def laplacian_variance_numpy(images):\n",
    "    return [cv2.Laplacian(image, cv2.CV_32F).var() for image in images]\n"
   ]
  },
  {
   "cell_type": "code",
   "execution_count": 0,
   "metadata": {
    "colab": {},
    "colab_type": "code",
    "id": "g0NhmZQAF-AQ"
   },
   "outputs": [],
   "source": [
    "log_interval = 400\n",
    "save_interval = 400\n",
    "testpoint = torch.Tensor(train_loader.dataset[0][0]).to(device)\n",
    " \n",
    "def train_epoch(epoch):\n",
    "    model.train()\n",
    "    train_losses = RunningAverage()\n",
    "    for batch_idx, (data, labels) in enumerate(train_loader):\n",
    "        data = data.to(device)\n",
    "        labels = labels.to(device)\n",
    "        batch_size = data.size(0)\n",
    "        recon_batch, mu, logvar = model(data)\n",
    "\n",
    "        kld, loss = loss_function(recon_batch.squeeze()\n",
    "                        .view(-1,28*28), data, mu, logvar)\n",
    "        ## parameter update\n",
    "        optimizer.zero_grad()\n",
    "        loss.backward()\n",
    "        optimizer.step()\n",
    "\n",
    "\n",
    "        loss /=len(data)\n",
    "        train_losses.update(loss.item())\n",
    "    return train_losses()"
   ]
  },
  {
   "cell_type": "code",
   "execution_count": 0,
   "metadata": {
    "colab": {},
    "colab_type": "code",
    "id": "fflVq_xVF-AV"
   },
   "outputs": [],
   "source": [
    "## Test Epoch\n",
    "\"\"\"\n",
    "Test\n",
    "\"\"\"\n",
    "def test_epoch(epoch):\n",
    "    model.eval()\n",
    "    test_loss = RunningAverage()\n",
    "    \n",
    "    ## Test reconstruction test\n",
    "    testpoint = torch.Tensor(test_loader.dataset[0][0]).to(device)\n",
    "  \n",
    "    with torch.no_grad():\n",
    "        for i, (data,labels) in enumerate(test_loader):\n",
    "            data = data.to(device)\n",
    "             \n",
    "            batch_size = data.size(0)\n",
    "            recon_batch, mu, logvar = model(data)\n",
    "            \n",
    "            ## Loss of VAE\n",
    "            kld, loss = loss_function(recon_batch\n",
    "                        .squeeze().view(-1,28*28), data, mu, logvar)\n",
    "            test_loss.update(loss.item() / len(data))\n",
    "          \n",
    "    return test_loss()"
   ]
  },
  {
   "cell_type": "code",
   "execution_count": 0,
   "metadata": {
    "colab": {},
    "colab_type": "code",
    "id": "CSSCTOIJF-Aa",
    "outputId": "15df8c42-1a0f-4de6-f4a9-de39ea94a02d"
   },
   "outputs": [
    {
     "name": "stderr",
     "output_type": "stream",
     "text": [
      "/home/chivukula_manju/yes/lib/python3.6/site-packages/torch/nn/_reduction.py:49: UserWarning: size_average and reduce args will be deprecated, please use reduction='sum' instead.\n",
      "  warnings.warn(warning.format(ret))\n"
     ]
    },
    {
     "name": "stdout",
     "output_type": "stream",
     "text": [
      "Epoch: 1/100. Train set: Average loss: -10349.4857\n",
      "Epoch: 1/100. Test set: Average loss: -10544.8887\n",
      "Epoch: 2/100. Train set: Average loss: -10452.9163\n",
      "Epoch: 2/100. Test set: Average loss: -10587.9207\n",
      "Epoch: 3/100. Train set: Average loss: -10512.6402\n",
      "Epoch: 3/100. Test set: Average loss: -10684.3192\n",
      "Epoch: 4/100. Train set: Average loss: -10562.4123\n",
      "Epoch: 4/100. Test set: Average loss: -10696.9424\n",
      "Epoch: 5/100. Train set: Average loss: -10611.1751\n",
      "Epoch: 5/100. Test set: Average loss: -10748.8865\n",
      "Epoch: 6/100. Train set: Average loss: -10661.2261\n",
      "Epoch: 6/100. Test set: Average loss: -10813.1165\n",
      "Epoch: 7/100. Train set: Average loss: -10708.5552\n",
      "Epoch: 7/100. Test set: Average loss: -10825.0708\n",
      "Epoch: 8/100. Train set: Average loss: -10744.1072\n",
      "Epoch: 8/100. Test set: Average loss: -10855.0397\n",
      "Epoch: 9/100. Train set: Average loss: -10763.4951\n",
      "Epoch: 9/100. Test set: Average loss: -10909.9545\n",
      "Epoch: 10/100. Train set: Average loss: -10783.4877\n",
      "Epoch: 10/100. Test set: Average loss: -10902.9798\n",
      "Epoch: 11/100. Train set: Average loss: -10799.0980\n",
      "Epoch: 11/100. Test set: Average loss: -10885.9479\n",
      "Epoch: 12/100. Train set: Average loss: -10813.8132\n",
      "Epoch: 12/100. Test set: Average loss: -10896.8893\n",
      "Epoch: 13/100. Train set: Average loss: -10830.2422\n",
      "Epoch: 13/100. Test set: Average loss: -10931.7071\n",
      "Epoch: 14/100. Train set: Average loss: -10835.9709\n",
      "Epoch: 14/100. Test set: Average loss: -10937.8951\n",
      "Epoch: 15/100. Train set: Average loss: -10852.6770\n",
      "Epoch: 15/100. Test set: Average loss: -10942.0391\n",
      "Epoch: 16/100. Train set: Average loss: -10860.5345\n",
      "Epoch: 16/100. Test set: Average loss: -10955.7746\n",
      "Epoch: 17/100. Train set: Average loss: -10869.8607\n",
      "Epoch: 17/100. Test set: Average loss: -10967.9799\n",
      "Epoch: 18/100. Train set: Average loss: -10874.4623\n",
      "Epoch: 18/100. Test set: Average loss: -10985.3355\n",
      "Epoch: 19/100. Train set: Average loss: -10890.4998\n",
      "Epoch: 19/100. Test set: Average loss: -10977.6311\n",
      "Epoch: 20/100. Train set: Average loss: -10899.1664\n",
      "Epoch: 20/100. Test set: Average loss: -10981.4035\n",
      "Epoch: 21/100. Train set: Average loss: -10903.4473\n",
      "Epoch: 21/100. Test set: Average loss: -10978.4739\n",
      "Epoch: 22/100. Train set: Average loss: -10912.3935\n",
      "Epoch: 22/100. Test set: Average loss: -10983.2029\n",
      "Epoch: 23/100. Train set: Average loss: -10915.2949\n",
      "Epoch: 23/100. Test set: Average loss: -10967.9590\n",
      "Epoch: 24/100. Train set: Average loss: -10918.3851\n",
      "Epoch: 24/100. Test set: Average loss: -10977.4329\n",
      "Epoch: 25/100. Train set: Average loss: -10925.6430\n",
      "Epoch: 25/100. Test set: Average loss: -10960.0561\n",
      "Epoch: 26/100. Train set: Average loss: -10930.3654\n",
      "Epoch: 26/100. Test set: Average loss: -10987.0091\n",
      "Epoch: 27/100. Train set: Average loss: -10930.2887\n",
      "Epoch: 27/100. Test set: Average loss: -11004.4141\n",
      "Epoch: 28/100. Train set: Average loss: -10935.9621\n",
      "Epoch: 28/100. Test set: Average loss: -11006.9101\n",
      "Epoch: 29/100. Train set: Average loss: -10939.9603\n",
      "Epoch: 29/100. Test set: Average loss: -10992.1838\n",
      "Epoch: 30/100. Train set: Average loss: -10946.9011\n",
      "Epoch: 30/100. Test set: Average loss: -10975.8259\n",
      "Epoch: 31/100. Train set: Average loss: -10949.9610\n",
      "Epoch: 31/100. Test set: Average loss: -11004.9979\n",
      "Epoch: 32/100. Train set: Average loss: -10952.7151\n",
      "Epoch: 32/100. Test set: Average loss: -11015.1051\n",
      "Epoch: 33/100. Train set: Average loss: -10959.3073\n",
      "Epoch: 33/100. Test set: Average loss: -10982.9964\n",
      "Epoch: 34/100. Train set: Average loss: -10961.4371\n",
      "Epoch: 34/100. Test set: Average loss: -11008.3863\n",
      "Epoch: 35/100. Train set: Average loss: -10963.2451\n",
      "Epoch: 35/100. Test set: Average loss: -11008.2428\n",
      "Epoch: 36/100. Train set: Average loss: -10966.7791\n",
      "Epoch: 36/100. Test set: Average loss: -11011.4464\n",
      "Epoch: 37/100. Train set: Average loss: -10969.2139\n",
      "Epoch: 37/100. Test set: Average loss: -11000.2670\n",
      "Epoch: 38/100. Train set: Average loss: -10973.4729\n",
      "Epoch: 38/100. Test set: Average loss: -11013.9935\n",
      "Epoch: 39/100. Train set: Average loss: -10974.0112\n",
      "Epoch: 39/100. Test set: Average loss: -11007.8988\n",
      "Epoch: 40/100. Train set: Average loss: -10975.1199\n",
      "Epoch: 40/100. Test set: Average loss: -11001.5884\n",
      "Epoch: 41/100. Train set: Average loss: -10978.4597\n",
      "Epoch: 41/100. Test set: Average loss: -11031.9370\n",
      "Epoch: 42/100. Train set: Average loss: -10984.2374\n",
      "Epoch: 42/100. Test set: Average loss: -10990.9801\n",
      "Epoch: 43/100. Train set: Average loss: -10986.2278\n",
      "Epoch: 43/100. Test set: Average loss: -11009.4645\n",
      "Epoch: 44/100. Train set: Average loss: -10986.6053\n",
      "Epoch: 44/100. Test set: Average loss: -11016.3920\n",
      "Epoch: 45/100. Train set: Average loss: -10988.7983\n",
      "Epoch: 45/100. Test set: Average loss: -11015.9668\n",
      "Epoch: 46/100. Train set: Average loss: -10992.2750\n",
      "Epoch: 46/100. Test set: Average loss: -10995.0556\n",
      "Epoch: 47/100. Train set: Average loss: -10992.0277\n",
      "Epoch: 47/100. Test set: Average loss: -10983.6734\n",
      "Epoch: 48/100. Train set: Average loss: -10994.8473\n",
      "Epoch: 48/100. Test set: Average loss: -11002.2136\n",
      "Epoch: 49/100. Train set: Average loss: -10995.0274\n",
      "Epoch: 49/100. Test set: Average loss: -11023.6951\n",
      "Epoch: 50/100. Train set: Average loss: -10997.7335\n",
      "Epoch: 50/100. Test set: Average loss: -11019.6370\n",
      "Epoch: 51/100. Train set: Average loss: -11002.3454\n",
      "Epoch: 51/100. Test set: Average loss: -11006.3942\n",
      "Epoch: 52/100. Train set: Average loss: -11001.4557\n",
      "Epoch: 52/100. Test set: Average loss: -11022.6608\n",
      "Epoch: 53/100. Train set: Average loss: -11003.6703\n",
      "Epoch: 53/100. Test set: Average loss: -11003.6906\n",
      "Epoch: 54/100. Train set: Average loss: -11005.1104\n",
      "Epoch: 54/100. Test set: Average loss: -10993.1252\n",
      "Epoch: 55/100. Train set: Average loss: -11006.1172\n",
      "Epoch: 55/100. Test set: Average loss: -10999.5482\n",
      "Epoch: 56/100. Train set: Average loss: -11008.0077\n",
      "Epoch: 56/100. Test set: Average loss: -11021.4441\n",
      "Epoch: 57/100. Train set: Average loss: -11008.7850\n",
      "Epoch: 57/100. Test set: Average loss: -11020.0875\n",
      "Epoch: 58/100. Train set: Average loss: -11011.2379\n",
      "Epoch: 58/100. Test set: Average loss: -11015.5271\n",
      "Epoch: 59/100. Train set: Average loss: -11013.7164\n",
      "Epoch: 59/100. Test set: Average loss: -11026.9246\n",
      "Epoch: 60/100. Train set: Average loss: -11012.7646\n",
      "Epoch: 60/100. Test set: Average loss: -11012.6244\n",
      "Epoch: 61/100. Train set: Average loss: -11013.7034\n",
      "Epoch: 61/100. Test set: Average loss: -11010.1708\n",
      "Epoch: 62/100. Train set: Average loss: -11016.8086\n",
      "Epoch: 62/100. Test set: Average loss: -11031.8402\n",
      "Epoch: 63/100. Train set: Average loss: -11017.4972\n",
      "Epoch: 63/100. Test set: Average loss: -11021.7985\n",
      "Epoch: 64/100. Train set: Average loss: -11016.6438\n",
      "Epoch: 64/100. Test set: Average loss: -10994.2679\n",
      "Epoch: 65/100. Train set: Average loss: -11019.7879\n",
      "Epoch: 65/100. Test set: Average loss: -11008.0334\n",
      "Epoch: 66/100. Train set: Average loss: -11018.8163\n",
      "Epoch: 66/100. Test set: Average loss: -11001.5700\n",
      "Epoch: 67/100. Train set: Average loss: -11021.1522\n",
      "Epoch: 67/100. Test set: Average loss: -11028.0907\n",
      "Epoch: 68/100. Train set: Average loss: -11022.9235\n",
      "Epoch: 68/100. Test set: Average loss: -11006.5722\n",
      "Epoch: 69/100. Train set: Average loss: -11023.1485\n",
      "Epoch: 69/100. Test set: Average loss: -11008.3074\n",
      "Epoch: 70/100. Train set: Average loss: -11024.1373\n",
      "Epoch: 70/100. Test set: Average loss: -11010.4841\n",
      "Epoch: 71/100. Train set: Average loss: -11026.2412\n",
      "Epoch: 71/100. Test set: Average loss: -11011.2571\n",
      "Epoch: 72/100. Train set: Average loss: -11027.5816\n",
      "Epoch: 72/100. Test set: Average loss: -11031.9309\n",
      "Epoch: 73/100. Train set: Average loss: -11029.1204\n",
      "Epoch: 73/100. Test set: Average loss: -10991.2853\n",
      "Epoch: 74/100. Train set: Average loss: -11026.8116\n",
      "Epoch: 74/100. Test set: Average loss: -11024.3664\n",
      "Epoch: 75/100. Train set: Average loss: -11029.0669\n",
      "Epoch: 75/100. Test set: Average loss: -10992.8561\n",
      "Epoch: 76/100. Train set: Average loss: -11031.9145\n",
      "Epoch: 76/100. Test set: Average loss: -11003.8241\n",
      "Epoch: 77/100. Train set: Average loss: -11032.3702\n",
      "Epoch: 77/100. Test set: Average loss: -11022.3059\n",
      "Epoch: 78/100. Train set: Average loss: -11032.2286\n",
      "Epoch: 78/100. Test set: Average loss: -11029.7318\n",
      "Epoch: 79/100. Train set: Average loss: -11034.1605\n",
      "Epoch: 79/100. Test set: Average loss: -11016.2777\n",
      "Epoch: 80/100. Train set: Average loss: -11036.1964\n",
      "Epoch: 80/100. Test set: Average loss: -11026.5891\n",
      "Epoch: 81/100. Train set: Average loss: -11036.9252\n",
      "Epoch: 81/100. Test set: Average loss: -11008.2321\n",
      "Epoch: 82/100. Train set: Average loss: -11037.5574\n",
      "Epoch: 82/100. Test set: Average loss: -10998.7115\n",
      "Epoch: 83/100. Train set: Average loss: -11036.8492\n",
      "Epoch: 83/100. Test set: Average loss: -11009.0513\n",
      "Epoch: 84/100. Train set: Average loss: -11039.0210\n",
      "Epoch: 84/100. Test set: Average loss: -11020.4130\n",
      "Epoch: 85/100. Train set: Average loss: -11038.9508\n",
      "Epoch: 85/100. Test set: Average loss: -11016.6073\n",
      "Epoch: 86/100. Train set: Average loss: -11039.4227\n",
      "Epoch: 86/100. Test set: Average loss: -11011.6423\n",
      "Epoch: 87/100. Train set: Average loss: -11040.1777\n",
      "Epoch: 87/100. Test set: Average loss: -11015.3848\n",
      "Epoch: 88/100. Train set: Average loss: -11038.0958\n",
      "Epoch: 88/100. Test set: Average loss: -11004.8606\n",
      "Epoch: 89/100. Train set: Average loss: -11040.6147\n",
      "Epoch: 89/100. Test set: Average loss: -11020.3086\n",
      "Epoch: 90/100. Train set: Average loss: -11041.2143\n",
      "Epoch: 90/100. Test set: Average loss: -11002.2994\n",
      "Epoch: 91/100. Train set: Average loss: -11043.8785\n",
      "Epoch: 91/100. Test set: Average loss: -11019.4219\n",
      "Epoch: 92/100. Train set: Average loss: -11045.6124\n",
      "Epoch: 92/100. Test set: Average loss: -10999.1384\n",
      "Epoch: 93/100. Train set: Average loss: -11043.5832\n",
      "Epoch: 93/100. Test set: Average loss: -11004.1811\n",
      "Epoch: 94/100. Train set: Average loss: -11043.8821\n",
      "Epoch: 94/100. Test set: Average loss: -10998.8833\n",
      "Epoch: 95/100. Train set: Average loss: -11046.3663\n",
      "Epoch: 95/100. Test set: Average loss: -11007.7211\n",
      "Epoch: 96/100. Train set: Average loss: -11046.6947\n",
      "Epoch: 96/100. Test set: Average loss: -11008.7210\n",
      "Epoch: 97/100. Train set: Average loss: -11047.7590\n",
      "Epoch: 97/100. Test set: Average loss: -10996.8445\n",
      "Epoch: 98/100. Train set: Average loss: -11046.2223\n",
      "Epoch: 98/100. Test set: Average loss: -11001.2824\n",
      "Epoch: 99/100. Train set: Average loss: -11047.3682\n",
      "Epoch: 99/100. Test set: Average loss: -11009.4789\n",
      "Epoch: 100/100. Train set: Average loss: -11047.8037\n",
      "Epoch: 100/100. Test set: Average loss: -11005.8705\n"
     ]
    },
    {
     "ename": "TypeError",
     "evalue": "traverse_latents() missing 1 required positional argument: 'batch_idx'",
     "output_type": "error",
     "traceback": [
      "\u001b[0;31m---------------------------------------------------------------------------\u001b[0m",
      "\u001b[0;31mTypeError\u001b[0m                                 Traceback (most recent call last)",
      "\u001b[0;32m<ipython-input-49-1f4fefb2aaed>\u001b[0m in \u001b[0;36m<module>\u001b[0;34m()\u001b[0m\n\u001b[1;32m     12\u001b[0m \u001b[0;34m\u001b[0m\u001b[0m\n\u001b[1;32m     13\u001b[0m \u001b[0;34m\u001b[0m\u001b[0m\n\u001b[0;32m---> 14\u001b[0;31m \u001b[0mtraverse_latents\u001b[0m\u001b[0;34m(\u001b[0m\u001b[0mmodel\u001b[0m\u001b[0;34m,\u001b[0m \u001b[0mParams\u001b[0m\u001b[0;34m.\u001b[0m\u001b[0mnb_latents\u001b[0m\u001b[0;34m,\u001b[0m \u001b[0mepoch\u001b[0m\u001b[0;34m,\u001b[0m\u001b[0msave_dir\u001b[0m\u001b[0;34m)\u001b[0m\u001b[0;34m\u001b[0m\u001b[0;34m\u001b[0m\u001b[0m\n\u001b[0m\u001b[1;32m     15\u001b[0m \u001b[0mplt\u001b[0m\u001b[0;34m.\u001b[0m\u001b[0mplot\u001b[0m\u001b[0;34m(\u001b[0m\u001b[0mrange\u001b[0m\u001b[0;34m(\u001b[0m\u001b[0mParams\u001b[0m\u001b[0;34m.\u001b[0m\u001b[0mepochs\u001b[0m\u001b[0;34m)\u001b[0m\u001b[0;34m,\u001b[0m\u001b[0mtrain_losses\u001b[0m\u001b[0;34m)\u001b[0m\u001b[0;34m\u001b[0m\u001b[0;34m\u001b[0m\u001b[0m\n\u001b[1;32m     16\u001b[0m \u001b[0mplt\u001b[0m\u001b[0;34m.\u001b[0m\u001b[0mplot\u001b[0m\u001b[0;34m(\u001b[0m\u001b[0mrange\u001b[0m\u001b[0;34m(\u001b[0m\u001b[0mParams\u001b[0m\u001b[0;34m.\u001b[0m\u001b[0mepochs\u001b[0m\u001b[0;34m)\u001b[0m\u001b[0;34m,\u001b[0m\u001b[0mtest_losses\u001b[0m\u001b[0;34m)\u001b[0m\u001b[0;34m\u001b[0m\u001b[0;34m\u001b[0m\u001b[0m\n",
      "\u001b[0;31mTypeError\u001b[0m: traverse_latents() missing 1 required positional argument: 'batch_idx'"
     ]
    }
   ],
   "source": [
    "train_losses = []\n",
    "test_losses = []\n",
    "for epoch in range(Params.epochs):\n",
    "  train_loss = train_epoch(epoch)\n",
    "  train_losses.append(train_loss)\n",
    "  message = 'Epoch: {}/{}. Train set: Average loss: {:.4f}'.format(epoch + 1, Params.epochs, train_loss)\n",
    "  print(message)\n",
    "  test_loss = test_epoch(epoch)\n",
    "  message = 'Epoch: {}/{}. Test set: Average loss: {:.4f}'.format(epoch + 1, Params.epochs, test_loss)\n",
    "  test_losses.append(test_loss)\n",
    "  print(message)\n",
    "  \n",
    "     \n"
   ]
  },
  {
   "cell_type": "code",
   "execution_count": 0,
   "metadata": {
    "colab": {},
    "colab_type": "code",
    "id": "9EPVhhQ9F-Ae",
    "outputId": "deb0d020-bde3-415b-a715-6e8c5330273a"
   },
   "outputs": [
    {
     "name": "stderr",
     "output_type": "stream",
     "text": [
      "/home/chivukula_manju/yes/lib/python3.6/site-packages/matplotlib/font_manager.py:1328: UserWarning: findfont: Font family ['sans-serif'] not found. Falling back to DejaVu Sans\n",
      "  (prop.get_family(), self.defaultFamily[fontext]))\n"
     ]
    },
    {
     "data": {
      "image/png": "[encoded data removed]",
      "text/plain": [
       "<Figure size 432x288 with 1 Axes>"
      ]
     },
     "metadata": {
      "tags": []
     },
     "output_type": "display_data"
    }
   ],
   "source": [
    "# Plot Losses\n",
    "plt.plot(range(Params.epochs),train_losses)\n",
    "plt.plot(range(Params.epochs),test_losses)\n",
    "plt.legend([\"Train loss\",\"Test loss\"])\n",
    "plt.show()\n"
   ]
  },
  {
   "cell_type": "code",
   "execution_count": 0,
   "metadata": {
    "colab": {},
    "colab_type": "code",
    "id": "JrSgRQxVF-Ah"
   },
   "outputs": [],
   "source": [
    "## save_model\n",
    "## Save model\n",
    "def save_model(model,path):\n",
    "    \n",
    "    torch.save(model.state_dict(),path)\n",
    "    \n",
    "    \n",
    "def load_model(model,path):\n",
    "  model.load_state_dict(torch.load(path))\n",
    "\n",
    "path = save_dir+ \"/model_state_\" + str(epoch) + \".pth\"\n",
    "save_model(model,path)"
   ]
  },
  {
   "cell_type": "markdown",
   "metadata": {
    "colab_type": "text",
    "id": "FSCj9RA3F-Aj"
   },
   "source": [
    "## Reconstructions"
   ]
  },
  {
   "cell_type": "code",
   "execution_count": 0,
   "metadata": {
    "colab": {},
    "colab_type": "code",
    "id": "lkNjWuzvF-Ak"
   },
   "outputs": [],
   "source": [
    "epoch = 99\n",
    "path = save_dir+ \"/model_state_\" + str(epoch) + \".pth\"\n",
    "\n",
    "model.load_state_dict(torch.load(path))"
   ]
  },
  {
   "cell_type": "code",
   "execution_count": 0,
   "metadata": {
    "colab": {},
    "colab_type": "code",
    "id": "F7w7ybksF-Ao"
   },
   "outputs": [],
   "source": [
    "def reconstruction(data,epoch, is_train = True):\n",
    "    n = min(data.size(0), 8)\n",
    "    recon_batch, mu, logvar = model(data)\n",
    "    comparison = torch.cat([data[:n],recon_batch[:n]])\n",
    "    if is_train:\n",
    "        name = save_dir + \"/train_reconstruction_\" + str(epoch) + '.png' \n",
    "    else:\n",
    "        name = save_dir + \"/test_reconstruction_\"\n",
    "        + str(epoch) + '.png' \n",
    "    save_image(comparison.cpu(),name, nrow=n)\n",
    "\n",
    "    \n",
    "train_batch, train_label = next(iter(train_loader))\n",
    "test_batch, test_label = next(iter(test_loader))\n",
    "reconstruction(train_batch.to(device), epoch, True)\n",
    "reconstruction(test_batch.to(device), epoch, False)"
   ]
  },
  {
   "cell_type": "code",
   "execution_count": 0,
   "metadata": {
    "colab": {},
    "colab_type": "code",
    "id": "-M_nQgE-F-Aq",
    "outputId": "1061c563-d73c-402b-d8c7-3c5a14e60e5c"
   },
   "outputs": [
    {
     "data": {
      "text/plain": [
       "'/home/chivukula_manju/vae'"
      ]
     },
     "execution_count": 58,
     "metadata": {
      "tags": []
     },
     "output_type": "execute_result"
    }
   ],
   "source": [
    "%pwd"
   ]
  },
  {
   "cell_type": "markdown",
   "metadata": {
    "colab_type": "text",
    "id": "RTTTOwoKF-Au"
   },
   "source": [
    "### Train Reconstruction"
   ]
  },
  {
   "cell_type": "code",
   "execution_count": 0,
   "metadata": {
    "colab": {},
    "colab_type": "code",
    "id": "4rgr4XpQF-Au",
    "outputId": "5d80a54b-133f-40e4-939b-679e84189775"
   },
   "outputs": [
    {
     "data": {
      "image/png": "[encoded data removed]",
      "text/plain": [
       "<IPython.core.display.Image object>"
      ]
     },
     "execution_count": 59,
     "metadata": {
      "tags": []
     },
     "output_type": "execute_result"
    }
   ],
   "source": [
    "from IPython.display import Image\n",
    "Image(filename=save_dir+'/train_reconstruction_99.png') "
   ]
  },
  {
   "cell_type": "markdown",
   "metadata": {
    "colab_type": "text",
    "id": "SBaJe4biF-Ax"
   },
   "source": [
    "### Test Reconstruction"
   ]
  },
  {
   "cell_type": "code",
   "execution_count": 0,
   "metadata": {
    "colab": {},
    "colab_type": "code",
    "id": "-DXXf2tEF-Ay",
    "outputId": "51671c58-79b2-4bb9-c935-6a9a5c395ab5"
   },
   "outputs": [
    {
     "data": {
      "image/png": "[encoded data removed]",
      "text/plain": [
       "<IPython.core.display.Image object>"
      ]
     },
     "execution_count": 60,
     "metadata": {
      "tags": []
     },
     "output_type": "execute_result"
    }
   ],
   "source": [
    "Image(filename=save_dir+'/test_reconstruction_99.png') "
   ]
  },
  {
   "cell_type": "markdown",
   "metadata": {
    "colab_type": "text",
    "id": "FsMycB7JF-A1"
   },
   "source": [
    "## Generated Samples"
   ]
  },
  {
   "cell_type": "code",
   "execution_count": 0,
   "metadata": {
    "colab": {},
    "colab_type": "code",
    "id": "gD7vcqqTF-A4"
   },
   "outputs": [],
   "source": [
    "# Generate samples of reconstruction\n",
    "with torch.no_grad():\n",
    "    sample = torch.randn(64, Params.nb_latents).to(device)\n",
    "    sample = model.decode(sample).cpu()\n",
    "    save_image(sample.view(64, 1, 28, 28),\n",
    "         save_dir + '/sample_' + str(epoch) + '.png')  "
   ]
  },
  {
   "cell_type": "code",
   "execution_count": 0,
   "metadata": {
    "colab": {},
    "colab_type": "code",
    "id": "sSmNwxDxF-A8",
    "outputId": "ba5c7a87-c6d0-48ce-bdc5-92a9254ef594"
   },
   "outputs": [
    {
     "data": {
      "image/png": "[encoded data removed]",
      "text/plain": [
       "<IPython.core.display.Image object>"
      ]
     },
     "execution_count": 63,
     "metadata": {
      "tags": []
     },
     "output_type": "execute_result"
    }
   ],
   "source": [
    "from IPython.display import Image\n",
    "Image(filename=save_dir+'/sample_99.png') "
   ]
  },
  {
   "cell_type": "markdown",
   "metadata": {
    "colab_type": "text",
    "id": "yHbS8vtfF-A_"
   },
   "source": [
    "## Latent Traversals"
   ]
  },
  {
   "cell_type": "code",
   "execution_count": 0,
   "metadata": {
    "colab": {},
    "colab_type": "code",
    "id": "-aZ-f6H7F-A_"
   },
   "outputs": [],
   "source": [
    "testpoint = torch.Tensor(train_loader.dataset[0][0]).to(device)\n",
    "traverse_latents(model, testpoint,\n",
    "    Params.nb_latents, epoch,1,save_dir)"
   ]
  },
  {
   "cell_type": "code",
   "execution_count": 0,
   "metadata": {
    "colab": {},
    "colab_type": "code",
    "id": "d3gAGFJ0F-BB",
    "outputId": "b6d77402-dc29-42f1-b982-b532e4f0ecf4"
   },
   "outputs": [
    {
     "data": {
      "image/png": "[encoded data removed]",
      "text/plain": [
       "<IPython.core.display.Image object>"
      ]
     },
     "execution_count": 67,
     "metadata": {
      "tags": []
     },
     "output_type": "execute_result"
    }
   ],
   "source": [
    "Image(filename=save_dir+'/traversal_99_1.png') "
   ]
  },
  {
   "cell_type": "code",
   "execution_count": 0,
   "metadata": {
    "colab": {},
    "colab_type": "code",
    "id": "nyRZpyy1F-BE",
    "scrolled": true
   },
   "outputs": [],
   "source": [
    "\n",
    "\n"
   ]
  },
  {
   "cell_type": "markdown",
   "metadata": {
    "colab_type": "text",
    "id": "IC4epG50F-BG"
   },
   "source": [
    "## TSNE Plot"
   ]
  },
  {
   "cell_type": "code",
   "execution_count": 0,
   "metadata": {
    "colab": {},
    "colab_type": "code",
    "id": "jcyDTA6TF-BG",
    "outputId": "3a244adf-0075-48d6-dddf-8590b871878d"
   },
   "outputs": [
    {
     "name": "stdout",
     "output_type": "stream",
     "text": [
      "Computing latent space projection...\n"
     ]
    },
    {
     "name": "stderr",
     "output_type": "stream",
     "text": [
      "/home/chivukula_manju/yes/lib/python3.6/site-packages/matplotlib/font_manager.py:1328: UserWarning: findfont: Font family ['sans-serif'] not found. Falling back to DejaVu Sans\n",
      "  (prop.get_family(), self.defaultFamily[fontext]))\n"
     ]
    },
    {
     "data": {
      "image/png": "[encoded data removed]",
      "text/plain": [
       "<Figure size 432x288 with 1 Axes>"
      ]
     },
     "metadata": {
      "tags": []
     },
     "output_type": "display_data"
    }
   ],
   "source": [
    "path = save_dir+'/latent_space.png'\n",
    "def visualize_tsne(X, labels, model, path):\n",
    "    # Compute latent space representation\n",
    "    print(\"Computing latent space projection...\")\n",
    "    \n",
    "    X_encoded, _ = model.encode(X)\n",
    "    \n",
    "    # Compute t-SNE embedding of latent space\n",
    "    tsne = manifold.TSNE(n_components=2, init='pca', \n",
    "            random_state=0)\n",
    "    X_tsne = tsne.fit_transform(X_encoded.data.detach().cpu())\n",
    "\n",
    "    # Plot images according to t-sne embedding\n",
    "    fig, ax = plt.subplots()\n",
    "    im = plt.scatter(X_tsne[:,0], X_tsne[:,1],c=[palette[i] \n",
    "                for i in labels])\n",
    "    \n",
    "    fig.savefig(path, dpi=fig.dpi)\n",
    "    \n",
    "visualize_tsne(test_data[:5000].to(device),\n",
    "            test_labels[:5000].to(device),model,path)\n"
   ]
  },
  {
   "cell_type": "markdown",
   "metadata": {
    "colab_type": "text",
    "id": "Av0MwEUNF-BJ"
   },
   "source": [
    "## Load model"
   ]
  },
  {
   "cell_type": "code",
   "execution_count": 0,
   "metadata": {
    "colab": {},
    "colab_type": "code",
    "id": "Jb_SvLw1F-BK"
   },
   "outputs": [],
   "source": [
    "load_model(model,\"./vae-classifier/results/model_state_99.pth\")"
   ]
  },
  {
   "cell_type": "code",
   "execution_count": 0,
   "metadata": {
    "colab": {},
    "colab_type": "code",
    "id": "DDgPb3PuF-BL"
   },
   "outputs": [],
   "source": [
    "x_test, y_test = test_data[:2000], test_labels[:2000]\n",
    "laplacian_variances = [laplacian_variance(\n",
    "    x_test[y_test == i]) for i in range(10)]"
   ]
  },
  {
   "cell_type": "code",
   "execution_count": 0,
   "metadata": {
    "colab": {},
    "colab_type": "code",
    "id": "dza7vGFAF-BN",
    "outputId": "116248b4-4f16-432b-8872-095b2fd0dd9f"
   },
   "outputs": [
    {
     "name": "stderr",
     "output_type": "stream",
     "text": [
      "/home/chivukula_manju/yes/lib/python3.6/site-packages/matplotlib/font_manager.py:1328: UserWarning: findfont: Font family ['sans-serif'] not found. Falling back to DejaVu Sans\n",
      "  (prop.get_family(), self.defaultFamily[fontext]))\n"
     ]
    },
    {
     "data": {
      "image/png": "[encoded data removed]",
      "text/plain": [
       "<Figure size 576x396 with 1 Axes>"
      ]
     },
     "metadata": {
      "tags": []
     },
     "output_type": "display_data"
    }
   ],
   "source": [
    "plt.boxplot(laplacian_variances, labels=range(10));\n",
    "plt.xlabel('Digit class')\n",
    "plt.ylabel('Laplacian variance')\n",
    "plt.title('Laplacian variance statistics per digit class');"
   ]
  },
  {
   "cell_type": "code",
   "execution_count": 0,
   "metadata": {
    "colab": {},
    "colab_type": "code",
    "id": "7X2IN5PCF-BQ"
   },
   "outputs": [],
   "source": [
    "with torch.no_grad():\n",
    "    reconstructions = np.empty(shape=(227,1,28,28))\n",
    "    indx = 0\n",
    "    for i, (x,y) in enumerate(zip(x_test,y_test)):\n",
    "        if y == 1:\n",
    "            recon_batch, mu, logvar = model(x.unsqueeze(1).to(device))\n",
    "            reconstructions[indx]=\n",
    "            (recon_batch.squeeze(0).detach().cpu())\n",
    "            indx+=1\n",
    "       "
   ]
  },
  {
   "cell_type": "code",
   "execution_count": 0,
   "metadata": {
    "colab": {},
    "colab_type": "code",
    "id": "tFPFNVfXF-BS",
    "outputId": "62b75f29-8e44-4a1b-a1a3-4c5ea6c80e9d"
   },
   "outputs": [
    {
     "data": {
      "text/plain": [
       "<matplotlib.image.AxesImage at 0x7fdebee7b470>"
      ]
     },
     "execution_count": 95,
     "metadata": {
      "tags": []
     },
     "output_type": "execute_result"
    },
    {
     "name": "stderr",
     "output_type": "stream",
     "text": [
      "/home/chivukula_manju/yes/lib/python3.6/site-packages/matplotlib/font_manager.py:1328: UserWarning: findfont: Font family ['sans-serif'] not found. Falling back to DejaVu Sans\n",
      "  (prop.get_family(), self.defaultFamily[fontext]))\n"
     ]
    },
    {
     "data": {
      "image/png": "[encoded data removed]",
      "text/plain": [
       "<Figure size 576x396 with 1 Axes>"
      ]
     },
     "metadata": {
      "tags": []
     },
     "output_type": "display_data"
    }
   ],
   "source": [
    "plt.imshow(np.array(reconstructions)[0].squeeze())"
   ]
  },
  {
   "cell_type": "code",
   "execution_count": 0,
   "metadata": {
    "colab": {},
    "colab_type": "code",
    "id": "jDK6vB2GF-BU"
   },
   "outputs": [],
   "source": [
    "laplacian_variances_recons = [laplacian_variance_numpy\n",
    "                    (np.array(reconstructions[y_test == i], dtype=np.uint8))\n",
    "                        for i in range(10)]"
   ]
  },
  {
   "cell_type": "code",
   "execution_count": 0,
   "metadata": {
    "colab": {},
    "colab_type": "code",
    "id": "hI3pJZgRF-Bc",
    "outputId": "455e3b50-850d-4e2d-c210-ba0b42d1e361",
    "scrolled": true
   },
   "outputs": [
    {
     "name": "stderr",
     "output_type": "stream",
     "text": [
      "/home/chivukula_manju/yes/lib/python3.6/site-packages/matplotlib/font_manager.py:1328: UserWarning: findfont: Font family ['sans-serif'] not found. Falling back to DejaVu Sans\n",
      "  (prop.get_family(), self.defaultFamily[fontext]))\n"
     ]
    },
    {
     "data": {
      "image/png": "[encoded data removed]",
      "text/plain": [
       "<Figure size 576x396 with 1 Axes>"
      ]
     },
     "metadata": {
      "tags": []
     },
     "output_type": "display_data"
    }
   ],
   "source": [
    "not_ones = y_test != 1\n",
    "\n",
    "lvs_1 = laplacian_variance(x_test[not_ones])\n",
    "lvs_2 = laplacian_variance_numpy(np.array\n",
    "                (reconstructions, dtype=np.uint8))\n",
    "def plot_laplacian_variances(lvs_1, lvs_2, title):\n",
    "    plt.hist(lvs_1, bins=50, alpha=0.5 , label='Original images');\n",
    "    plt.hist(lvs_2, bins=50, alpha= 0.5 , label='Images by VAE');\n",
    "    plt.xlabel('Laplacian variance')\n",
    "    plt.title(title)\n",
    "    plt.legend();\n",
    "    \n",
    "plot_laplacian_variances(lvs_1, lvs_2, \"plot laplacian variance of test and vae\")"
   ]
  },
  {
   "cell_type": "markdown",
   "metadata": {
    "colab_type": "text",
    "id": "BkDeUFgHF-Bg"
   },
   "source": [
    "The Laplacian variance increases with increased focus of an image or decreases with increased blur.Furthermore, images with a smaller amount of edges tend to have a smaller Laplacian variance (the Laplacian kernel is often used for edge detection in images). Therefore we first have to analyze the Laplacian variances for digit classes 0-9 in the MNIST test set before we can compare blur differences in generated images:"
   ]
  },
  {
   "cell_type": "markdown",
   "metadata": {
    "colab_type": "text",
    "id": "xAYz_36iF-Bg"
   },
   "source": [
    "## Model 1\n",
    "\n",
    "- Train VAE\n",
    "- Test Classifier"
   ]
  },
  {
   "cell_type": "code",
   "execution_count": 0,
   "metadata": {
    "colab": {},
    "colab_type": "code",
    "id": "T3b9p5FOF-Bh",
    "outputId": "60037267-2966-4eea-93b3-d4de7ff821f8"
   },
   "outputs": [
    {
     "data": {
      "text/plain": [
       "<torch._C.Generator at 0x7f535c0d2c10>"
      ]
     },
     "execution_count": 53,
     "metadata": {
      "tags": []
     },
     "output_type": "execute_result"
    }
   ],
   "source": [
    "\n",
    "  \n",
    "torch.manual_seed(5)"
   ]
  },
  {
   "cell_type": "code",
   "execution_count": 0,
   "metadata": {
    "colab": {},
    "colab_type": "code",
    "id": "ton1yQB3F-Bj"
   },
   "outputs": [],
   "source": [
    "class Classifier(nn.Module):\n",
    "  def __init__(self):\n",
    "    super(Classifier,self).__init__()\n",
    "    \n",
    "    ## Define NN\n",
    "    self.fc1 = nn.Linear(10, 10)\n",
    "    \n",
    "    \n",
    "  def forward(self,x):\n",
    "    ## flat input features\n",
    "    x = x.view(-1, self.num_flat_features(x))\n",
    "    x = self.fc1(x)\n",
    "    \n",
    "    return F.log_softmax(x, dim=1)  \n",
    "  \n",
    "  def num_flat_features(self,x):\n",
    "    size = x.size()[1:]\n",
    "    # all dimensions except the batch dimension\n",
    "    num_features = 1\n",
    "    for s in size:\n",
    "      num_features *=s\n",
    "    return num_features"
   ]
  },
  {
   "cell_type": "code",
   "execution_count": 0,
   "metadata": {
    "colab": {},
    "colab_type": "code",
    "id": "3lx_wsWRF-Bn",
    "outputId": "1cb928fe-34e7-4f6f-cab6-bc2d96429476"
   },
   "outputs": [
    {
     "name": "stdout",
     "output_type": "stream",
     "text": [
      "Classifier(\n",
      "  (fc1): Linear(in_features=10, out_features=10, bias=True)\n",
      ")\n"
     ]
    }
   ],
   "source": [
    "## Training\n",
    "from tqdm import trange\n",
    "\n",
    "criterion = nn.CrossEntropyLoss()\n",
    "classifier = Classifier()\n",
    "if is_cuda:\n",
    "  classifier = classifier.to(device)\n",
    "\n",
    "# Loss and optimizer\n",
    "learning_rate = 0.001\n",
    "momemtum = 0.9\n",
    "criterion = nn.CrossEntropyLoss()\n",
    "optimizer = torch.optim.Adam(classifier.parameters(),\n",
    "                             lr=learning_rate)\n",
    "scheduler = lr_scheduler.StepLR(optimizer,\n",
    "                                step_size = 7,gamma = 0.1)\n",
    "print(classifier)"
   ]
  },
  {
   "cell_type": "code",
   "execution_count": 0,
   "metadata": {
    "colab": {},
    "colab_type": "code",
    "id": "Fv7Ip9goF-Br"
   },
   "outputs": [],
   "source": [
    "## Train Classifier with pretrained vae\n",
    "vae_parameters = list(model.named_parameters())\n",
    "for name, param in vae_parameters:\n",
    "    param.requires_grad = False"
   ]
  },
  {
   "cell_type": "code",
   "execution_count": 0,
   "metadata": {
    "colab": {},
    "colab_type": "code",
    "id": "oBDu0NTqF-Bt"
   },
   "outputs": [],
   "source": [
    "def train_classifier_epoch(epoch):\n",
    "  classifier.train()\n",
    "  metric = AccumulatedAccuracyMetric()\n",
    "  losses = RunningAverage()\n",
    "  for idx, (data, labels) in enumerate(train_loader):\n",
    "    data= data.to(device)\n",
    "    labels = labels.to(device)\n",
    "    \n",
    "    \n",
    "    recon_batch, mu, logvar = model(data)\n",
    "    ## classifier, pass latent vector\n",
    "    outputs = classifier(mu)\n",
    "    classifier_loss = criterion(outputs, labels)\n",
    "    \n",
    "    optimizer.zero_grad()\n",
    "    classifier_loss.backward()\n",
    "    optimizer.step()\n",
    "    \n",
    "    classifier_loss /= data.size(0)\n",
    "    losses.update(classifier_loss)\n",
    "    \n",
    "    metric(outputs, labels)\n",
    "    \n",
    "    \n",
    "  return losses(), metric\n",
    " "
   ]
  },
  {
   "cell_type": "code",
   "execution_count": 0,
   "metadata": {
    "colab": {},
    "colab_type": "code",
    "id": "icAxI0DBF-Bv"
   },
   "outputs": [],
   "source": [
    "## Test Epoch\n",
    "\"\"\"\n",
    "Test, classifier on learnt features\n",
    "\"\"\"\n",
    "def test_classifier_epoch(epoch):\n",
    "  classifier.eval()\n",
    "  metric = AccumulatedAccuracyMetric()\n",
    "  losses = RunningAverage()\n",
    "  for idx, (data, labels) in enumerate(test_loader):\n",
    "    data= data.to(device)\n",
    "    labels = labels.to(device)\n",
    "    \n",
    "    \n",
    "    recon_batch, mu, logvar = model(data)\n",
    "    ## classifier, pass latent vector\n",
    "    outputs = classifier(mu)\n",
    "    classifier_loss = criterion(outputs, labels)\n",
    "    \n",
    "    classifier_loss /= data.size(0)\n",
    "    losses.update(classifier_loss)\n",
    "    \n",
    "    metric(outputs, labels)\n",
    "    \n",
    "    \n",
    "  return losses(), metric"
   ]
  },
  {
   "cell_type": "code",
   "execution_count": 0,
   "metadata": {
    "colab": {},
    "colab_type": "code",
    "id": "ywBrO0ObF-Bz",
    "outputId": "aec50803-dcb9-4a4b-dedc-b8365256f0e9"
   },
   "outputs": [
    {
     "name": "stdout",
     "output_type": "stream",
     "text": [
      "Epoch: 2/50. Train set: Average loss: 0.0134\t Average Accuracy: \tAccuracy: 52.31\n",
      "Epoch: 2/50. Train set: Average loss: 0.0134\t Average Accuracy: \tAccuracy: 52.31\n",
      "Epoch: 2/50. Test set: Average loss: 0.0099\t Average Accuracy: \tAccuracy: 85.35\n",
      "Epoch: 3/50. Train set: Average loss: 0.0071\t Average Accuracy: \tAccuracy: 88.91166666666666\n",
      "Epoch: 3/50. Train set: Average loss: 0.0071\t Average Accuracy: \tAccuracy: 88.91166666666666\n",
      "Epoch: 3/50. Test set: Average loss: 0.0063\t Average Accuracy: \tAccuracy: 91.46\n",
      "Epoch: 4/50. Train set: Average loss: 0.0048\t Average Accuracy: \tAccuracy: 91.64166666666667\n",
      "Epoch: 4/50. Train set: Average loss: 0.0048\t Average Accuracy: \tAccuracy: 91.64166666666667\n",
      "Epoch: 4/50. Test set: Average loss: 0.0045\t Average Accuracy: \tAccuracy: 92.62\n",
      "Epoch: 5/50. Train set: Average loss: 0.0037\t Average Accuracy: \tAccuracy: 92.61666666666666\n",
      "Epoch: 5/50. Train set: Average loss: 0.0037\t Average Accuracy: \tAccuracy: 92.61666666666666\n",
      "Epoch: 5/50. Test set: Average loss: 0.0036\t Average Accuracy: \tAccuracy: 93.16\n",
      "Epoch: 6/50. Train set: Average loss: 0.0031\t Average Accuracy: \tAccuracy: 93.11333333333333\n",
      "Epoch: 6/50. Train set: Average loss: 0.0031\t Average Accuracy: \tAccuracy: 93.11333333333333\n",
      "Epoch: 6/50. Test set: Average loss: 0.0032\t Average Accuracy: \tAccuracy: 93.48\n",
      "Epoch: 7/50. Train set: Average loss: 0.0027\t Average Accuracy: \tAccuracy: 93.40833333333333\n",
      "Epoch: 7/50. Train set: Average loss: 0.0027\t Average Accuracy: \tAccuracy: 93.40833333333333\n",
      "Epoch: 7/50. Test set: Average loss: 0.0028\t Average Accuracy: \tAccuracy: 93.76\n",
      "Epoch: 8/50. Train set: Average loss: 0.0024\t Average Accuracy: \tAccuracy: 93.625\n",
      "Epoch: 8/50. Train set: Average loss: 0.0024\t Average Accuracy: \tAccuracy: 93.625\n",
      "Epoch: 8/50. Test set: Average loss: 0.0024\t Average Accuracy: \tAccuracy: 93.85\n",
      "Epoch: 9/50. Train set: Average loss: 0.0022\t Average Accuracy: \tAccuracy: 93.815\n",
      "Epoch: 9/50. Train set: Average loss: 0.0022\t Average Accuracy: \tAccuracy: 93.815\n",
      "Epoch: 9/50. Test set: Average loss: 0.0022\t Average Accuracy: \tAccuracy: 93.94\n",
      "Epoch: 10/50. Train set: Average loss: 0.0021\t Average Accuracy: \tAccuracy: 93.93666666666667\n",
      "Epoch: 10/50. Train set: Average loss: 0.0021\t Average Accuracy: \tAccuracy: 93.93666666666667\n",
      "Epoch: 10/50. Test set: Average loss: 0.0021\t Average Accuracy: \tAccuracy: 94.01\n",
      "Epoch: 11/50. Train set: Average loss: 0.0020\t Average Accuracy: \tAccuracy: 94.045\n",
      "Epoch: 11/50. Train set: Average loss: 0.0020\t Average Accuracy: \tAccuracy: 94.045\n",
      "Epoch: 11/50. Test set: Average loss: 0.0020\t Average Accuracy: \tAccuracy: 94.12\n",
      "Epoch: 12/50. Train set: Average loss: 0.0019\t Average Accuracy: \tAccuracy: 94.11666666666666\n",
      "Epoch: 12/50. Train set: Average loss: 0.0019\t Average Accuracy: \tAccuracy: 94.11666666666666\n",
      "Epoch: 12/50. Test set: Average loss: 0.0020\t Average Accuracy: \tAccuracy: 94.17\n",
      "Epoch: 13/50. Train set: Average loss: 0.0018\t Average Accuracy: \tAccuracy: 94.22833333333334\n",
      "Epoch: 13/50. Train set: Average loss: 0.0018\t Average Accuracy: \tAccuracy: 94.22833333333334\n",
      "Epoch: 13/50. Test set: Average loss: 0.0020\t Average Accuracy: \tAccuracy: 94.27\n",
      "Epoch: 14/50. Train set: Average loss: 0.0018\t Average Accuracy: \tAccuracy: 94.275\n",
      "Epoch: 14/50. Train set: Average loss: 0.0018\t Average Accuracy: \tAccuracy: 94.275\n",
      "Epoch: 14/50. Test set: Average loss: 0.0024\t Average Accuracy: \tAccuracy: 94.25\n",
      "Epoch: 15/50. Train set: Average loss: 0.0018\t Average Accuracy: \tAccuracy: 94.33\n",
      "Epoch: 15/50. Train set: Average loss: 0.0018\t Average Accuracy: \tAccuracy: 94.33\n",
      "Epoch: 15/50. Test set: Average loss: 0.0017\t Average Accuracy: \tAccuracy: 94.32\n",
      "Epoch: 16/50. Train set: Average loss: 0.0017\t Average Accuracy: \tAccuracy: 94.36833333333334\n",
      "Epoch: 16/50. Train set: Average loss: 0.0017\t Average Accuracy: \tAccuracy: 94.36833333333334\n",
      "Epoch: 16/50. Test set: Average loss: 0.0018\t Average Accuracy: \tAccuracy: 94.33\n",
      "Epoch: 17/50. Train set: Average loss: 0.0017\t Average Accuracy: \tAccuracy: 94.41833333333334\n",
      "Epoch: 17/50. Train set: Average loss: 0.0017\t Average Accuracy: \tAccuracy: 94.41833333333334\n",
      "Epoch: 17/50. Test set: Average loss: 0.0017\t Average Accuracy: \tAccuracy: 94.38\n",
      "Epoch: 18/50. Train set: Average loss: 0.0017\t Average Accuracy: \tAccuracy: 94.44\n",
      "Epoch: 18/50. Train set: Average loss: 0.0017\t Average Accuracy: \tAccuracy: 94.44\n",
      "Epoch: 18/50. Test set: Average loss: 0.0018\t Average Accuracy: \tAccuracy: 94.42\n",
      "Epoch: 19/50. Train set: Average loss: 0.0016\t Average Accuracy: \tAccuracy: 94.48\n",
      "Epoch: 19/50. Train set: Average loss: 0.0016\t Average Accuracy: \tAccuracy: 94.48\n",
      "Epoch: 19/50. Test set: Average loss: 0.0016\t Average Accuracy: \tAccuracy: 94.52\n",
      "Epoch: 20/50. Train set: Average loss: 0.0016\t Average Accuracy: \tAccuracy: 94.48\n",
      "Epoch: 20/50. Train set: Average loss: 0.0016\t Average Accuracy: \tAccuracy: 94.48\n",
      "Epoch: 20/50. Test set: Average loss: 0.0016\t Average Accuracy: \tAccuracy: 94.51\n",
      "Epoch: 21/50. Train set: Average loss: 0.0016\t Average Accuracy: \tAccuracy: 94.50333333333333\n",
      "Epoch: 21/50. Train set: Average loss: 0.0016\t Average Accuracy: \tAccuracy: 94.50333333333333\n",
      "Epoch: 21/50. Test set: Average loss: 0.0016\t Average Accuracy: \tAccuracy: 94.53\n",
      "Epoch: 22/50. Train set: Average loss: 0.0016\t Average Accuracy: \tAccuracy: 94.53833333333333\n",
      "Epoch: 22/50. Train set: Average loss: 0.0016\t Average Accuracy: \tAccuracy: 94.53833333333333\n",
      "Epoch: 22/50. Test set: Average loss: 0.0016\t Average Accuracy: \tAccuracy: 94.59\n",
      "Epoch: 23/50. Train set: Average loss: 0.0016\t Average Accuracy: \tAccuracy: 94.55\n",
      "Epoch: 23/50. Train set: Average loss: 0.0016\t Average Accuracy: \tAccuracy: 94.55\n",
      "Epoch: 23/50. Test set: Average loss: 0.0017\t Average Accuracy: \tAccuracy: 94.57\n",
      "Epoch: 24/50. Train set: Average loss: 0.0016\t Average Accuracy: \tAccuracy: 94.565\n",
      "Epoch: 24/50. Train set: Average loss: 0.0016\t Average Accuracy: \tAccuracy: 94.565\n",
      "Epoch: 24/50. Test set: Average loss: 0.0019\t Average Accuracy: \tAccuracy: 94.63\n",
      "Epoch: 25/50. Train set: Average loss: 0.0016\t Average Accuracy: \tAccuracy: 94.59333333333333\n",
      "Epoch: 25/50. Train set: Average loss: 0.0016\t Average Accuracy: \tAccuracy: 94.59333333333333\n",
      "Epoch: 25/50. Test set: Average loss: 0.0016\t Average Accuracy: \tAccuracy: 94.6\n",
      "Epoch: 26/50. Train set: Average loss: 0.0016\t Average Accuracy: \tAccuracy: 94.62333333333333\n",
      "Epoch: 26/50. Train set: Average loss: 0.0016\t Average Accuracy: \tAccuracy: 94.62333333333333\n",
      "Epoch: 26/50. Test set: Average loss: 0.0016\t Average Accuracy: \tAccuracy: 94.62\n",
      "Epoch: 27/50. Train set: Average loss: 0.0016\t Average Accuracy: \tAccuracy: 94.63333333333334\n",
      "Epoch: 27/50. Train set: Average loss: 0.0016\t Average Accuracy: \tAccuracy: 94.63333333333334\n",
      "Epoch: 27/50. Test set: Average loss: 0.0020\t Average Accuracy: \tAccuracy: 94.66\n",
      "Epoch: 28/50. Train set: Average loss: 0.0016\t Average Accuracy: \tAccuracy: 94.61666666666666\n",
      "Epoch: 28/50. Train set: Average loss: 0.0016\t Average Accuracy: \tAccuracy: 94.61666666666666\n",
      "Epoch: 28/50. Test set: Average loss: 0.0017\t Average Accuracy: \tAccuracy: 94.66\n",
      "Epoch: 29/50. Train set: Average loss: 0.0016\t Average Accuracy: \tAccuracy: 94.645\n",
      "Epoch: 29/50. Train set: Average loss: 0.0016\t Average Accuracy: \tAccuracy: 94.645\n",
      "Epoch: 29/50. Test set: Average loss: 0.0015\t Average Accuracy: \tAccuracy: 94.63\n",
      "Epoch: 30/50. Train set: Average loss: 0.0016\t Average Accuracy: \tAccuracy: 94.65333333333334\n",
      "Epoch: 30/50. Train set: Average loss: 0.0016\t Average Accuracy: \tAccuracy: 94.65333333333334\n",
      "Epoch: 30/50. Test set: Average loss: 0.0015\t Average Accuracy: \tAccuracy: 94.65\n",
      "Epoch: 31/50. Train set: Average loss: 0.0015\t Average Accuracy: \tAccuracy: 94.66333333333333\n",
      "Epoch: 31/50. Train set: Average loss: 0.0015\t Average Accuracy: \tAccuracy: 94.66333333333333\n",
      "Epoch: 31/50. Test set: Average loss: 0.0017\t Average Accuracy: \tAccuracy: 94.66\n",
      "Epoch: 32/50. Train set: Average loss: 0.0015\t Average Accuracy: \tAccuracy: 94.68666666666667\n",
      "Epoch: 32/50. Train set: Average loss: 0.0015\t Average Accuracy: \tAccuracy: 94.68666666666667\n",
      "Epoch: 32/50. Test set: Average loss: 0.0017\t Average Accuracy: \tAccuracy: 94.67\n",
      "Epoch: 33/50. Train set: Average loss: 0.0015\t Average Accuracy: \tAccuracy: 94.69166666666666\n",
      "Epoch: 33/50. Train set: Average loss: 0.0015\t Average Accuracy: \tAccuracy: 94.69166666666666\n",
      "Epoch: 33/50. Test set: Average loss: 0.0016\t Average Accuracy: \tAccuracy: 94.68\n",
      "Epoch: 34/50. Train set: Average loss: 0.0015\t Average Accuracy: \tAccuracy: 94.69833333333334\n",
      "Epoch: 34/50. Train set: Average loss: 0.0015\t Average Accuracy: \tAccuracy: 94.69833333333334\n",
      "Epoch: 34/50. Test set: Average loss: 0.0015\t Average Accuracy: \tAccuracy: 94.7\n",
      "Epoch: 35/50. Train set: Average loss: 0.0015\t Average Accuracy: \tAccuracy: 94.695\n",
      "Epoch: 35/50. Train set: Average loss: 0.0015\t Average Accuracy: \tAccuracy: 94.695\n",
      "Epoch: 35/50. Test set: Average loss: 0.0016\t Average Accuracy: \tAccuracy: 94.69\n",
      "Epoch: 36/50. Train set: Average loss: 0.0015\t Average Accuracy: \tAccuracy: 94.70833333333333\n",
      "Epoch: 36/50. Train set: Average loss: 0.0015\t Average Accuracy: \tAccuracy: 94.70833333333333\n",
      "Epoch: 36/50. Test set: Average loss: 0.0016\t Average Accuracy: \tAccuracy: 94.66\n",
      "Epoch: 37/50. Train set: Average loss: 0.0015\t Average Accuracy: \tAccuracy: 94.71666666666667\n",
      "Epoch: 37/50. Train set: Average loss: 0.0015\t Average Accuracy: \tAccuracy: 94.71666666666667\n",
      "Epoch: 37/50. Test set: Average loss: 0.0018\t Average Accuracy: \tAccuracy: 94.7\n",
      "Epoch: 38/50. Train set: Average loss: 0.0015\t Average Accuracy: \tAccuracy: 94.75166666666667\n",
      "Epoch: 38/50. Train set: Average loss: 0.0015\t Average Accuracy: \tAccuracy: 94.75166666666667\n",
      "Epoch: 38/50. Test set: Average loss: 0.0015\t Average Accuracy: \tAccuracy: 94.69\n",
      "Epoch: 39/50. Train set: Average loss: 0.0015\t Average Accuracy: \tAccuracy: 94.71333333333334\n",
      "Epoch: 39/50. Train set: Average loss: 0.0015\t Average Accuracy: \tAccuracy: 94.71333333333334\n",
      "Epoch: 39/50. Test set: Average loss: 0.0015\t Average Accuracy: \tAccuracy: 94.66\n",
      "Epoch: 40/50. Train set: Average loss: 0.0015\t Average Accuracy: \tAccuracy: 94.74333333333334\n",
      "Epoch: 40/50. Train set: Average loss: 0.0015\t Average Accuracy: \tAccuracy: 94.74333333333334\n",
      "Epoch: 40/50. Test set: Average loss: 0.0016\t Average Accuracy: \tAccuracy: 94.7\n",
      "Epoch: 41/50. Train set: Average loss: 0.0015\t Average Accuracy: \tAccuracy: 94.73666666666666\n",
      "Epoch: 41/50. Train set: Average loss: 0.0015\t Average Accuracy: \tAccuracy: 94.73666666666666\n",
      "Epoch: 41/50. Test set: Average loss: 0.0016\t Average Accuracy: \tAccuracy: 94.7\n",
      "Epoch: 42/50. Train set: Average loss: 0.0015\t Average Accuracy: \tAccuracy: 94.73333333333333\n",
      "Epoch: 42/50. Train set: Average loss: 0.0015\t Average Accuracy: \tAccuracy: 94.73333333333333\n",
      "Epoch: 42/50. Test set: Average loss: 0.0017\t Average Accuracy: \tAccuracy: 94.71\n",
      "Epoch: 43/50. Train set: Average loss: 0.0015\t Average Accuracy: \tAccuracy: 94.755\n",
      "Epoch: 43/50. Train set: Average loss: 0.0015\t Average Accuracy: \tAccuracy: 94.755\n",
      "Epoch: 43/50. Test set: Average loss: 0.0016\t Average Accuracy: \tAccuracy: 94.69\n",
      "Epoch: 44/50. Train set: Average loss: 0.0015\t Average Accuracy: \tAccuracy: 94.72166666666666\n",
      "Epoch: 44/50. Train set: Average loss: 0.0015\t Average Accuracy: \tAccuracy: 94.72166666666666\n",
      "Epoch: 44/50. Test set: Average loss: 0.0016\t Average Accuracy: \tAccuracy: 94.71\n",
      "Epoch: 45/50. Train set: Average loss: 0.0015\t Average Accuracy: \tAccuracy: 94.74833333333333\n",
      "Epoch: 45/50. Train set: Average loss: 0.0015\t Average Accuracy: \tAccuracy: 94.74833333333333\n",
      "Epoch: 45/50. Test set: Average loss: 0.0016\t Average Accuracy: \tAccuracy: 94.71\n",
      "Epoch: 46/50. Train set: Average loss: 0.0015\t Average Accuracy: \tAccuracy: 94.75\n",
      "Epoch: 46/50. Train set: Average loss: 0.0015\t Average Accuracy: \tAccuracy: 94.75\n",
      "Epoch: 46/50. Test set: Average loss: 0.0016\t Average Accuracy: \tAccuracy: 94.73\n",
      "Epoch: 47/50. Train set: Average loss: 0.0015\t Average Accuracy: \tAccuracy: 94.745\n",
      "Epoch: 47/50. Train set: Average loss: 0.0015\t Average Accuracy: \tAccuracy: 94.745\n",
      "Epoch: 47/50. Test set: Average loss: 0.0015\t Average Accuracy: \tAccuracy: 94.73\n",
      "Epoch: 48/50. Train set: Average loss: 0.0015\t Average Accuracy: \tAccuracy: 94.75166666666667\n",
      "Epoch: 48/50. Train set: Average loss: 0.0015\t Average Accuracy: \tAccuracy: 94.75166666666667\n",
      "Epoch: 48/50. Test set: Average loss: 0.0017\t Average Accuracy: \tAccuracy: 94.72\n",
      "Epoch: 49/50. Train set: Average loss: 0.0015\t Average Accuracy: \tAccuracy: 94.74666666666667\n",
      "Epoch: 49/50. Train set: Average loss: 0.0015\t Average Accuracy: \tAccuracy: 94.74666666666667\n",
      "Epoch: 49/50. Test set: Average loss: 0.0017\t Average Accuracy: \tAccuracy: 94.7\n",
      "Epoch: 50/50. Train set: Average loss: 0.0015\t Average Accuracy: \tAccuracy: 94.765\n",
      "Epoch: 50/50. Train set: Average loss: 0.0015\t Average Accuracy: \tAccuracy: 94.765\n",
      "Epoch: 50/50. Test set: Average loss: 0.0015\t Average Accuracy: \tAccuracy: 94.72\n"
     ]
    }
   ],
   "source": [
    "train_losses = []\n",
    "train_accuracy = []\n",
    "test_losses = []\n",
    "test_accuracy = []\n",
    "n_epochs = 50\n",
    "for epoch in range(1, n_epochs):\n",
    "  \n",
    "  # Train stage\n",
    "  train_loss, metric = train_classifier_epoch(epoch)\n",
    "  train_losses.append(train_loss)\n",
    "  train_accuracy.append(metric.value())\n",
    "  \n",
    "  message = 'Epoch: {}/{}. Train set: Average loss: {:.4f}'\n",
    "     .format(epoch + 1, n_epochs, train_loss)\n",
    "  message += '\\t Average Accuracy: \\t{}: {}'\n",
    "     .format(metric.name(), metric.value())\n",
    "  print(message)\n",
    "  \n",
    "  val_loss, metrics = test_classifier_epoch(epoch)\n",
    "  test_losses.append(val_loss)\n",
    "  test_accuracy.append(metrics.value())\n",
    "  \n",
    "  message += '\\nEpoch: {}/{}. Test set: Average loss: {:.4f}'\n",
    "      .format(epoch + 1, n_epochs, val_loss)\n",
    "  \n",
    "  message += '\\t Average Accuracy: \\t{}: {}'\n",
    "  .format(metrics.name(), metrics.value())\n",
    "\n",
    "  \n",
    "  print(message)"
   ]
  },
  {
   "cell_type": "markdown",
   "metadata": {
    "colab_type": "text",
    "id": "7SfsXf20F-B1"
   },
   "source": [
    "### Save Classifier"
   ]
  },
  {
   "cell_type": "code",
   "execution_count": 0,
   "metadata": {
    "colab": {},
    "colab_type": "code",
    "id": "QTgat49HF-B1"
   },
   "outputs": [],
   "source": [
    "path =save_dir+\"/classifier_model_state_\"+str(epoch)+\".pth\"  \n",
    "torch.save(classifier.state_dict(),path)"
   ]
  },
  {
   "cell_type": "code",
   "execution_count": 0,
   "metadata": {
    "colab": {},
    "colab_type": "code",
    "id": "zjA0xRe3F-B3"
   },
   "outputs": [],
   "source": [
    "path =\"classifier_model_state_\"+str(49)+\".pth\"  \n",
    "load_model(classifier, path)"
   ]
  },
  {
   "cell_type": "markdown",
   "metadata": {
    "colab_type": "text",
    "id": "n39ayafXF-B7"
   },
   "source": [
    "## Plots"
   ]
  },
  {
   "cell_type": "code",
   "execution_count": 0,
   "metadata": {
    "colab": {},
    "colab_type": "code",
    "id": "zwGGa9duF-B7",
    "outputId": "b3ba610b-8f48-4884-de94-c9d04423c4ce"
   },
   "outputs": [
    {
     "data": {
      "text/plain": [
       "<matplotlib.legend.Legend at 0x7fb7497064a8>"
      ]
     },
     "execution_count": 26,
     "metadata": {
      "tags": []
     },
     "output_type": "execute_result"
    },
    {
     "name": "stderr",
     "output_type": "stream",
     "text": [
      "/home/chivukula_manju/yes/lib/python3.6/site-packages/matplotlib/font_manager.py:1328: UserWarning: findfont: Font family ['sans-serif'] not found. Falling back to DejaVu Sans\n",
      "  (prop.get_family(), self.defaultFamily[fontext]))\n"
     ]
    },
    {
     "data": {
      "image/png": "[encoded data removed]",
      "text/plain": [
       "<Figure size 432x288 with 1 Axes>"
      ]
     },
     "metadata": {
      "tags": []
     },
     "output_type": "display_data"
    }
   ],
   "source": [
    "plt.plot(range(1,n_epochs),train_accuracy)\n",
    "plt.plot(range(1,n_epochs),test_accuracy)\n",
    "plt.title(\"Classification accuracy of classifier\")\n",
    "plt.legend([\"train accuracy\",\"test accuracy\"])"
   ]
  },
  {
   "cell_type": "code",
   "execution_count": 0,
   "metadata": {
    "colab": {},
    "colab_type": "code",
    "id": "6X8xxte-F-B9",
    "outputId": "3b69a514-1a85-46e7-a1b4-839b22542a53"
   },
   "outputs": [
    {
     "data": {
      "text/plain": [
       "<matplotlib.legend.Legend at 0x7fb748f34898>"
      ]
     },
     "execution_count": 27,
     "metadata": {
      "tags": []
     },
     "output_type": "execute_result"
    },
    {
     "name": "stderr",
     "output_type": "stream",
     "text": [
      "/home/chivukula_manju/yes/lib/python3.6/site-packages/matplotlib/font_manager.py:1328: UserWarning: findfont: Font family ['sans-serif'] not found. Falling back to DejaVu Sans\n",
      "  (prop.get_family(), self.defaultFamily[fontext]))\n"
     ]
    },
    {
     "data": {
      "image/png": "[encoded data removed]",
      "text/plain": [
       "<Figure size 432x288 with 1 Axes>"
      ]
     },
     "metadata": {
      "tags": []
     },
     "output_type": "display_data"
    }
   ],
   "source": [
    "plt.plot(range(1,n_epochs),train_losses)\n",
    "plt.plot(range(1,n_epochs),test_losses)\n",
    "plt.title(\"Classification loss of classifier\")\n",
    "plt.legend([\"train loss\",\"test loss\"])"
   ]
  },
  {
   "cell_type": "code",
   "execution_count": 0,
   "metadata": {
    "colab": {},
    "colab_type": "code",
    "id": "EIkoXxUaF-CB"
   },
   "outputs": [],
   "source": []
  },
  {
   "cell_type": "code",
   "execution_count": 0,
   "metadata": {
    "colab": {},
    "colab_type": "code",
    "id": "Qgpn2H8DGhgQ"
   },
   "outputs": [],
   "source": []
  },
  {
   "cell_type": "markdown",
   "metadata": {
    "colab_type": "text",
    "id": "Xslb8jKCGiYQ"
   },
   "source": [
    "## Model 3"
   ]
  },
  {
   "cell_type": "code",
   "execution_count": 0,
   "metadata": {
    "colab": {},
    "colab_type": "code",
    "id": "0nr07eJNGjNg"
   },
   "outputs": [],
   "source": [
    "classifier = Classifier()\n",
    "model = ConvVAE(Params.nb_latents)\n",
    "\n",
    "if is_cuda:\n",
    "  classifier = classifier.to(device)\n",
    "  model  = model.cuda()\n",
    "\n",
    "## VAE is trained\n",
    "criterion = nn.CrossEntropyLoss()\n",
    "optimizer = optim.Adam(list(model.parameters()) \n",
    "                       + list(classifier.parameters()), lr=1e-3)\n",
    "\n",
    "\"\"\"\n",
    "Train VAE + but not classifier\n",
    "\"\"\"\n",
    "def train_classifier_all(epoch):\n",
    "\n",
    "  model.train()\n",
    "  classifier.train()\n",
    "  metric = AccumulatedAccuracyMetric()\n",
    "  losses = RunningAverage()\n",
    "  for idx, (data, labels) in enumerate(train_loader):\n",
    "    \n",
    "    data = data.to(device)\n",
    "    labels = labels.to(device)\n",
    "    \n",
    "    recon_batch, mu, logvar = model(data)\n",
    "    kld, loss = loss_function(recon_batch.squeeze().view(-1,28*28), \n",
    "                              data, mu, logvar)\n",
    "    \n",
    "    ## classifier, pass latent vector\n",
    "    outputs = classifier(mu)\n",
    "    classifier_loss =  criterion(outputs, labels)\n",
    "    \n",
    "    ## Add all losses.\n",
    "    loss = loss + classifier_loss\n",
    "    \n",
    "    ## parameter update\n",
    "    optimizer.zero_grad()\n",
    "    loss.backward()\n",
    "    optimizer.step()\n",
    "    \n",
    "    loss /=len(data)\n",
    "    \n",
    "    losses.update(loss)\n",
    "    \n",
    "    metric(outputs, labels)\n",
    "    \n",
    "    \n",
    "  return losses(), metric\n",
    "\n",
    "\n",
    "\n",
    "## Test Epoch\n",
    "\"\"\"\n",
    "Test, classifier on learnt features\n",
    "\"\"\"\n",
    "def test_with_all_training(epoch):\n",
    "  classifier.eval()\n",
    "  model.eval()\n",
    "  metric = AccumulatedAccuracyMetric()\n",
    "  #losses = RunningAverage()\n",
    "  for idx, (data, labels) in enumerate(test_loader):\n",
    "    \n",
    "    data, labels = data.to(device), labels.to(device)\n",
    "    \n",
    "    recon_batch, mu, logvar = model(data)\n",
    "    \n",
    "    ## classifier, pass latent vector\n",
    "    outputs = classifier(mu)\n",
    "    \n",
    "    metric(outputs, labels)\n",
    "    \n",
    "    \n",
    "  return 0.0, metric\n",
    "\n"
   ]
  },
  {
   "cell_type": "code",
   "execution_count": 0,
   "metadata": {
    "colab": {
     "base_uri": "https://localhost:8080/",
     "height": 2604
    },
    "colab_type": "code",
    "id": "KTq3BXjdGkri",
    "outputId": "461342e3-a2dd-4984-a4bc-ad609ac51ceb"
   },
   "outputs": [
    {
     "name": "stdout",
     "output_type": "stream",
     "text": [
      "Epoch: 2/50. Train set: Average loss: -7492.7246\t Average Accuracy: \tAccuracy: 27.77\n",
      "Epoch: 2/50. Train set: Average loss: -7492.7246\t Average Accuracy: \tAccuracy: 27.77\n",
      "Epoch: 2/50. Test set: Average loss: 0.0000\t Average Accuracy: \tAccuracy: 52.34\n",
      "Epoch: 3/50. Train set: Average loss: -8900.7314\t Average Accuracy: \tAccuracy: 66.995\n",
      "Epoch: 3/50. Train set: Average loss: -8900.7314\t Average Accuracy: \tAccuracy: 66.995\n",
      "Epoch: 3/50. Test set: Average loss: 0.0000\t Average Accuracy: \tAccuracy: 75.07\n",
      "Epoch: 4/50. Train set: Average loss: -9718.1816\t Average Accuracy: \tAccuracy: 80.74666666666667\n",
      "Epoch: 4/50. Train set: Average loss: -9718.1816\t Average Accuracy: \tAccuracy: 80.74666666666667\n",
      "Epoch: 4/50. Test set: Average loss: 0.0000\t Average Accuracy: \tAccuracy: 84.7\n",
      "Epoch: 5/50. Train set: Average loss: -10135.1260\t Average Accuracy: \tAccuracy: 86.38\n",
      "Epoch: 5/50. Train set: Average loss: -10135.1260\t Average Accuracy: \tAccuracy: 86.38\n",
      "Epoch: 5/50. Test set: Average loss: 0.0000\t Average Accuracy: \tAccuracy: 88.17\n",
      "Epoch: 6/50. Train set: Average loss: -10354.4287\t Average Accuracy: \tAccuracy: 88.23333333333333\n",
      "Epoch: 6/50. Train set: Average loss: -10354.4287\t Average Accuracy: \tAccuracy: 88.23333333333333\n",
      "Epoch: 6/50. Test set: Average loss: 0.0000\t Average Accuracy: \tAccuracy: 89.86\n",
      "Epoch: 7/50. Train set: Average loss: -10497.6748\t Average Accuracy: \tAccuracy: 89.75333333333333\n",
      "Epoch: 7/50. Train set: Average loss: -10497.6748\t Average Accuracy: \tAccuracy: 89.75333333333333\n",
      "Epoch: 7/50. Test set: Average loss: 0.0000\t Average Accuracy: \tAccuracy: 91.05\n",
      "Epoch: 8/50. Train set: Average loss: -10583.9287\t Average Accuracy: \tAccuracy: 90.03666666666666\n",
      "Epoch: 8/50. Train set: Average loss: -10583.9287\t Average Accuracy: \tAccuracy: 90.03666666666666\n",
      "Epoch: 8/50. Test set: Average loss: 0.0000\t Average Accuracy: \tAccuracy: 90.33\n",
      "Epoch: 9/50. Train set: Average loss: -10666.1738\t Average Accuracy: \tAccuracy: 90.52166666666666\n",
      "Epoch: 9/50. Train set: Average loss: -10666.1738\t Average Accuracy: \tAccuracy: 90.52166666666666\n",
      "Epoch: 9/50. Test set: Average loss: 0.0000\t Average Accuracy: \tAccuracy: 92.25\n",
      "Epoch: 10/50. Train set: Average loss: -10721.1650\t Average Accuracy: \tAccuracy: 91.74333333333334\n",
      "Epoch: 10/50. Train set: Average loss: -10721.1650\t Average Accuracy: \tAccuracy: 91.74333333333334\n",
      "Epoch: 10/50. Test set: Average loss: 0.0000\t Average Accuracy: \tAccuracy: 92.61\n",
      "Epoch: 11/50. Train set: Average loss: -10751.0410\t Average Accuracy: \tAccuracy: 92.26333333333334\n",
      "Epoch: 11/50. Train set: Average loss: -10751.0410\t Average Accuracy: \tAccuracy: 92.26333333333334\n",
      "Epoch: 11/50. Test set: Average loss: 0.0000\t Average Accuracy: \tAccuracy: 92.88\n",
      "Epoch: 12/50. Train set: Average loss: -10840.1602\t Average Accuracy: \tAccuracy: 92.64333333333333\n",
      "Epoch: 12/50. Train set: Average loss: -10840.1602\t Average Accuracy: \tAccuracy: 92.64333333333333\n",
      "Epoch: 12/50. Test set: Average loss: 0.0000\t Average Accuracy: \tAccuracy: 93.58\n",
      "Epoch: 13/50. Train set: Average loss: -10870.8945\t Average Accuracy: \tAccuracy: 93.015\n",
      "Epoch: 13/50. Train set: Average loss: -10870.8945\t Average Accuracy: \tAccuracy: 93.015\n",
      "Epoch: 13/50. Test set: Average loss: 0.0000\t Average Accuracy: \tAccuracy: 93.55\n",
      "Epoch: 14/50. Train set: Average loss: -10885.9775\t Average Accuracy: \tAccuracy: 93.30666666666667\n",
      "Epoch: 14/50. Train set: Average loss: -10885.9775\t Average Accuracy: \tAccuracy: 93.30666666666667\n",
      "Epoch: 14/50. Test set: Average loss: 0.0000\t Average Accuracy: \tAccuracy: 93.73\n",
      "Epoch: 15/50. Train set: Average loss: -10899.6182\t Average Accuracy: \tAccuracy: 93.37333333333333\n",
      "Epoch: 15/50. Train set: Average loss: -10899.6182\t Average Accuracy: \tAccuracy: 93.37333333333333\n",
      "Epoch: 15/50. Test set: Average loss: 0.0000\t Average Accuracy: \tAccuracy: 93.86\n",
      "Epoch: 16/50. Train set: Average loss: -10924.0127\t Average Accuracy: \tAccuracy: 93.535\n",
      "Epoch: 16/50. Train set: Average loss: -10924.0127\t Average Accuracy: \tAccuracy: 93.535\n",
      "Epoch: 16/50. Test set: Average loss: 0.0000\t Average Accuracy: \tAccuracy: 93.96\n",
      "Epoch: 17/50. Train set: Average loss: -10940.0918\t Average Accuracy: \tAccuracy: 93.71333333333334\n",
      "Epoch: 17/50. Train set: Average loss: -10940.0918\t Average Accuracy: \tAccuracy: 93.71333333333334\n",
      "Epoch: 17/50. Test set: Average loss: 0.0000\t Average Accuracy: \tAccuracy: 94.11\n",
      "Epoch: 18/50. Train set: Average loss: -10950.1260\t Average Accuracy: \tAccuracy: 93.84833333333333\n",
      "Epoch: 18/50. Train set: Average loss: -10950.1260\t Average Accuracy: \tAccuracy: 93.84833333333333\n",
      "Epoch: 18/50. Test set: Average loss: 0.0000\t Average Accuracy: \tAccuracy: 94.2\n",
      "Epoch: 19/50. Train set: Average loss: -10966.4785\t Average Accuracy: \tAccuracy: 93.97333333333333\n",
      "Epoch: 19/50. Train set: Average loss: -10966.4785\t Average Accuracy: \tAccuracy: 93.97333333333333\n",
      "Epoch: 19/50. Test set: Average loss: 0.0000\t Average Accuracy: \tAccuracy: 94.35\n",
      "Epoch: 20/50. Train set: Average loss: -10970.7021\t Average Accuracy: \tAccuracy: 94.11666666666666\n",
      "Epoch: 20/50. Train set: Average loss: -10970.7021\t Average Accuracy: \tAccuracy: 94.11666666666666\n",
      "Epoch: 20/50. Test set: Average loss: 0.0000\t Average Accuracy: \tAccuracy: 94.5\n",
      "Epoch: 21/50. Train set: Average loss: -10981.4531\t Average Accuracy: \tAccuracy: 94.135\n",
      "Epoch: 21/50. Train set: Average loss: -10981.4531\t Average Accuracy: \tAccuracy: 94.135\n",
      "Epoch: 21/50. Test set: Average loss: 0.0000\t Average Accuracy: \tAccuracy: 94.53\n",
      "Epoch: 22/50. Train set: Average loss: -10987.8828\t Average Accuracy: \tAccuracy: 94.23833333333333\n",
      "Epoch: 22/50. Train set: Average loss: -10987.8828\t Average Accuracy: \tAccuracy: 94.23833333333333\n",
      "Epoch: 22/50. Test set: Average loss: 0.0000\t Average Accuracy: \tAccuracy: 94.47\n",
      "Epoch: 23/50. Train set: Average loss: -10999.9141\t Average Accuracy: \tAccuracy: 94.385\n",
      "Epoch: 23/50. Train set: Average loss: -10999.9141\t Average Accuracy: \tAccuracy: 94.385\n",
      "Epoch: 23/50. Test set: Average loss: 0.0000\t Average Accuracy: \tAccuracy: 94.59\n",
      "Epoch: 24/50. Train set: Average loss: -11008.8711\t Average Accuracy: \tAccuracy: 94.45\n",
      "Epoch: 24/50. Train set: Average loss: -11008.8711\t Average Accuracy: \tAccuracy: 94.45\n",
      "Epoch: 24/50. Test set: Average loss: 0.0000\t Average Accuracy: \tAccuracy: 94.43\n",
      "Epoch: 25/50. Train set: Average loss: -11015.1982\t Average Accuracy: \tAccuracy: 94.535\n",
      "Epoch: 25/50. Train set: Average loss: -11015.1982\t Average Accuracy: \tAccuracy: 94.535\n",
      "Epoch: 25/50. Test set: Average loss: 0.0000\t Average Accuracy: \tAccuracy: 94.71\n",
      "Epoch: 26/50. Train set: Average loss: -11022.5439\t Average Accuracy: \tAccuracy: 94.53166666666667\n",
      "Epoch: 26/50. Train set: Average loss: -11022.5439\t Average Accuracy: \tAccuracy: 94.53166666666667\n",
      "Epoch: 26/50. Test set: Average loss: 0.0000\t Average Accuracy: \tAccuracy: 94.64\n",
      "Epoch: 27/50. Train set: Average loss: -11034.2051\t Average Accuracy: \tAccuracy: 94.595\n",
      "Epoch: 27/50. Train set: Average loss: -11034.2051\t Average Accuracy: \tAccuracy: 94.595\n",
      "Epoch: 27/50. Test set: Average loss: 0.0000\t Average Accuracy: \tAccuracy: 94.63\n",
      "Epoch: 28/50. Train set: Average loss: -11042.3604\t Average Accuracy: \tAccuracy: 94.57833333333333\n",
      "Epoch: 28/50. Train set: Average loss: -11042.3604\t Average Accuracy: \tAccuracy: 94.57833333333333\n",
      "Epoch: 28/50. Test set: Average loss: 0.0000\t Average Accuracy: \tAccuracy: 94.71\n",
      "Epoch: 29/50. Train set: Average loss: -11049.2451\t Average Accuracy: \tAccuracy: 94.67\n",
      "Epoch: 29/50. Train set: Average loss: -11049.2451\t Average Accuracy: \tAccuracy: 94.67\n",
      "Epoch: 29/50. Test set: Average loss: 0.0000\t Average Accuracy: \tAccuracy: 94.9\n",
      "Epoch: 30/50. Train set: Average loss: -11056.2949\t Average Accuracy: \tAccuracy: 94.63833333333334\n",
      "Epoch: 30/50. Train set: Average loss: -11056.2949\t Average Accuracy: \tAccuracy: 94.63833333333334\n",
      "Epoch: 30/50. Test set: Average loss: 0.0000\t Average Accuracy: \tAccuracy: 94.59\n",
      "Epoch: 31/50. Train set: Average loss: -11061.5225\t Average Accuracy: \tAccuracy: 94.75833333333334\n",
      "Epoch: 31/50. Train set: Average loss: -11061.5225\t Average Accuracy: \tAccuracy: 94.75833333333334\n",
      "Epoch: 31/50. Test set: Average loss: 0.0000\t Average Accuracy: \tAccuracy: 94.89\n",
      "Epoch: 32/50. Train set: Average loss: -11066.0996\t Average Accuracy: \tAccuracy: 94.81333333333333\n",
      "Epoch: 32/50. Train set: Average loss: -11066.0996\t Average Accuracy: \tAccuracy: 94.81333333333333\n",
      "Epoch: 32/50. Test set: Average loss: 0.0000\t Average Accuracy: \tAccuracy: 94.7\n",
      "Epoch: 33/50. Train set: Average loss: -11070.9443\t Average Accuracy: \tAccuracy: 94.83666666666667\n",
      "Epoch: 33/50. Train set: Average loss: -11070.9443\t Average Accuracy: \tAccuracy: 94.83666666666667\n",
      "Epoch: 33/50. Test set: Average loss: 0.0000\t Average Accuracy: \tAccuracy: 94.95\n",
      "Epoch: 34/50. Train set: Average loss: -11070.9668\t Average Accuracy: \tAccuracy: 94.85166666666667\n",
      "Epoch: 34/50. Train set: Average loss: -11070.9668\t Average Accuracy: \tAccuracy: 94.85166666666667\n",
      "Epoch: 34/50. Test set: Average loss: 0.0000\t Average Accuracy: \tAccuracy: 94.75\n",
      "Epoch: 35/50. Train set: Average loss: -11076.9082\t Average Accuracy: \tAccuracy: 94.885\n",
      "Epoch: 35/50. Train set: Average loss: -11076.9082\t Average Accuracy: \tAccuracy: 94.885\n",
      "Epoch: 35/50. Test set: Average loss: 0.0000\t Average Accuracy: \tAccuracy: 95.09\n",
      "Epoch: 36/50. Train set: Average loss: -11081.7422\t Average Accuracy: \tAccuracy: 94.91\n",
      "Epoch: 36/50. Train set: Average loss: -11081.7422\t Average Accuracy: \tAccuracy: 94.91\n",
      "Epoch: 36/50. Test set: Average loss: 0.0000\t Average Accuracy: \tAccuracy: 94.93\n",
      "Epoch: 37/50. Train set: Average loss: -11083.2842\t Average Accuracy: \tAccuracy: 94.935\n",
      "Epoch: 37/50. Train set: Average loss: -11083.2842\t Average Accuracy: \tAccuracy: 94.935\n",
      "Epoch: 37/50. Test set: Average loss: 0.0000\t Average Accuracy: \tAccuracy: 94.96\n",
      "Epoch: 38/50. Train set: Average loss: -11087.9932\t Average Accuracy: \tAccuracy: 95.025\n",
      "Epoch: 38/50. Train set: Average loss: -11087.9932\t Average Accuracy: \tAccuracy: 95.025\n",
      "Epoch: 38/50. Test set: Average loss: 0.0000\t Average Accuracy: \tAccuracy: 94.99\n",
      "Epoch: 39/50. Train set: Average loss: -11091.5830\t Average Accuracy: \tAccuracy: 94.96333333333334\n",
      "Epoch: 39/50. Train set: Average loss: -11091.5830\t Average Accuracy: \tAccuracy: 94.96333333333334\n",
      "Epoch: 39/50. Test set: Average loss: 0.0000\t Average Accuracy: \tAccuracy: 95.19\n",
      "Epoch: 40/50. Train set: Average loss: -11091.2021\t Average Accuracy: \tAccuracy: 94.98833333333333\n",
      "Epoch: 40/50. Train set: Average loss: -11091.2021\t Average Accuracy: \tAccuracy: 94.98833333333333\n",
      "Epoch: 40/50. Test set: Average loss: 0.0000\t Average Accuracy: \tAccuracy: 95.23\n",
      "Epoch: 41/50. Train set: Average loss: -11095.1436\t Average Accuracy: \tAccuracy: 94.99833333333333\n",
      "Epoch: 41/50. Train set: Average loss: -11095.1436\t Average Accuracy: \tAccuracy: 94.99833333333333\n",
      "Epoch: 41/50. Test set: Average loss: 0.0000\t Average Accuracy: \tAccuracy: 95.02\n",
      "Epoch: 42/50. Train set: Average loss: -11097.5859\t Average Accuracy: \tAccuracy: 94.975\n",
      "Epoch: 42/50. Train set: Average loss: -11097.5859\t Average Accuracy: \tAccuracy: 94.975\n",
      "Epoch: 42/50. Test set: Average loss: 0.0000\t Average Accuracy: \tAccuracy: 95.05\n",
      "Epoch: 43/50. Train set: Average loss: -11100.3613\t Average Accuracy: \tAccuracy: 95.02833333333334\n",
      "Epoch: 43/50. Train set: Average loss: -11100.3613\t Average Accuracy: \tAccuracy: 95.02833333333334\n",
      "Epoch: 43/50. Test set: Average loss: 0.0000\t Average Accuracy: \tAccuracy: 95.02\n",
      "Epoch: 44/50. Train set: Average loss: -11101.3418\t Average Accuracy: \tAccuracy: 95.07666666666667\n",
      "Epoch: 44/50. Train set: Average loss: -11101.3418\t Average Accuracy: \tAccuracy: 95.07666666666667\n",
      "Epoch: 44/50. Test set: Average loss: 0.0000\t Average Accuracy: \tAccuracy: 95.06\n",
      "Epoch: 45/50. Train set: Average loss: -11102.9395\t Average Accuracy: \tAccuracy: 95.05833333333334\n",
      "Epoch: 45/50. Train set: Average loss: -11102.9395\t Average Accuracy: \tAccuracy: 95.05833333333334\n",
      "Epoch: 45/50. Test set: Average loss: 0.0000\t Average Accuracy: \tAccuracy: 95.09\n",
      "Epoch: 46/50. Train set: Average loss: -11106.3555\t Average Accuracy: \tAccuracy: 95.11\n",
      "Epoch: 46/50. Train set: Average loss: -11106.3555\t Average Accuracy: \tAccuracy: 95.11\n",
      "Epoch: 46/50. Test set: Average loss: 0.0000\t Average Accuracy: \tAccuracy: 95.22\n",
      "Epoch: 47/50. Train set: Average loss: -11109.7627\t Average Accuracy: \tAccuracy: 95.07333333333334\n",
      "Epoch: 47/50. Train set: Average loss: -11109.7627\t Average Accuracy: \tAccuracy: 95.07333333333334\n",
      "Epoch: 47/50. Test set: Average loss: 0.0000\t Average Accuracy: \tAccuracy: 95.18\n",
      "Epoch: 48/50. Train set: Average loss: -11109.0449\t Average Accuracy: \tAccuracy: 95.13833333333334\n",
      "Epoch: 48/50. Train set: Average loss: -11109.0449\t Average Accuracy: \tAccuracy: 95.13833333333334\n",
      "Epoch: 48/50. Test set: Average loss: 0.0000\t Average Accuracy: \tAccuracy: 95.2\n",
      "Epoch: 49/50. Train set: Average loss: -11112.1162\t Average Accuracy: \tAccuracy: 95.09\n",
      "Epoch: 49/50. Train set: Average loss: -11112.1162\t Average Accuracy: \tAccuracy: 95.09\n",
      "Epoch: 49/50. Test set: Average loss: 0.0000\t Average Accuracy: \tAccuracy: 95.32\n",
      "Epoch: 50/50. Train set: Average loss: -11115.4043\t Average Accuracy: \tAccuracy: 95.09666666666666\n",
      "Epoch: 50/50. Train set: Average loss: -11115.4043\t Average Accuracy: \tAccuracy: 95.09666666666666\n",
      "Epoch: 50/50. Test set: Average loss: 0.0000\t Average Accuracy: \tAccuracy: 95.06\n"
     ]
    }
   ],
   "source": [
    "import warnings\n",
    "\n",
    "warnings.filterwarnings(\"ignore\")\n",
    "train_losses = []\n",
    "train_accuracy = []\n",
    "test_losses = []\n",
    "test_accuracy = []\n",
    "n_epochs = 50\n",
    "for epoch in range(1, n_epochs):\n",
    "  \n",
    "  # Train stage\n",
    "  train_loss, metric = train_classifier_all(epoch)\n",
    "  train_losses.append(train_loss)\n",
    "  train_accuracy.append(metric.value())\n",
    "  \n",
    "  message = 'Epoch: {}/{}. Train set: Average loss: {:.4f}'\n",
    "    .format(epoch + 1, n_epochs, train_loss)\n",
    "  message += '\\t Average Accuracy: \\t{}: {}'\n",
    "     .format(metric.name(), metric.value())\n",
    "  print(message)\n",
    "  \n",
    "  val_loss, metrics = test_with_all_training(epoch)\n",
    "  test_losses.append(val_loss)\n",
    "  test_accuracy.append(metrics.value())\n",
    "  \n",
    "  message += '\\nEpoch: {}/{}. Test set: Average loss: {:.4f}'\n",
    "   .format(epoch + 1, n_epochs,  val_loss)\n",
    "  \n",
    "  message += '\\t Average Accuracy: \\t{}: {}'\n",
    "    .format(metrics.name(), metrics.value())\n",
    "\n",
    "  \n",
    "  print(message)"
   ]
  },
  {
   "cell_type": "code",
   "execution_count": 0,
   "metadata": {
    "colab": {
     "base_uri": "https://localhost:8080/",
     "height": 380
    },
    "colab_type": "code",
    "id": "2sDkZ2RbGuZx",
    "outputId": "b306e491-859a-41a1-d7dc-01971091434c"
   },
   "outputs": [
    {
     "data": {
      "text/plain": [
       "<matplotlib.legend.Legend at 0x7f996178d4a8>"
      ]
     },
     "execution_count": 14,
     "metadata": {
      "tags": []
     },
     "output_type": "execute_result"
    },
    {
     "data": {
      "image/png": "[encoded data removed]",
      "text/plain": [
       "<Figure size 576x396 with 1 Axes>"
      ]
     },
     "metadata": {
      "tags": []
     },
     "output_type": "display_data"
    }
   ],
   "source": [
    "plt.style.use(\"seaborn\")\n",
    "plt.plot(range(1,n_epochs),train_accuracy)\n",
    "plt.plot(range(1,n_epochs),test_accuracy)\n",
    "plt.title(\"Classification accuracy of classifier\")\n",
    "plt.legend([\"train accuracy\",\"test accuracy\"])\n",
    "\n",
    "print(max(train_accuracy),max(test_accuracy))"
   ]
  },
  {
   "cell_type": "code",
   "execution_count": 0,
   "metadata": {
    "colab": {
     "base_uri": "https://localhost:8080/",
     "height": 369
    },
    "colab_type": "code",
    "id": "1O-_EprzHYo9",
    "outputId": "fc91206c-6d05-4ca0-93da-5800dbc7a73a"
   },
   "outputs": [
    {
     "name": "stdout",
     "output_type": "stream",
     "text": [
      "Computing latent space projection...\n"
     ]
    },
    {
     "data": {
      "image/png": "[encoded data removed]",
      "text/plain": [
       "<Figure size 576x396 with 2 Axes>"
      ]
     },
     "metadata": {
      "tags": []
     },
     "output_type": "display_data"
    }
   ],
   "source": [
    "path = \"tsne_bvae+classifier+vae+train.png\"\n",
    "def visualize_tsne(X, labels, model, path):\n",
    "    # Compute latent space representation\n",
    "    print(\"Computing latent space projection...\")\n",
    "    \n",
    "    X_encoded, _ = model.encode(X)\n",
    "    \n",
    "    # Compute t-SNE embedding of latent space\n",
    "    tsne = manifold.TSNE(n_components=2, init='pca', \n",
    "                         random_state=0)\n",
    "    X_tsne = tsne.fit_transform(X_encoded.data.detach().cpu())\n",
    "\n",
    "    # Plot images according to t-sne embedding\n",
    "    fig, ax = plt.subplots()\n",
    "   \n",
    "    plt.scatter(X_tsne[:,0], X_tsne[:,1], c=labels, \n",
    "                cmap=plt.cm.get_cmap(\"viridis\", 10))\n",
    "    plt.colorbar(ticks=range(10))\n",
    "    fig.savefig(path, dpi=fig.dpi)\n",
    "    \n",
    "visualize_tsne(test_data[:5000].to(device),test_labels[:5000],model,path)"
   ]
  },
  {
   "cell_type": "code",
   "execution_count": 0,
   "metadata": {
    "colab": {},
    "colab_type": "code",
    "id": "0rIUzQHjKVCs"
   },
   "outputs": [],
   "source": []
  },
  {
   "cell_type": "code",
   "execution_count": 0,
   "metadata": {
    "colab": {},
    "colab_type": "code",
    "id": "_OSa0CM-JW2n"
   },
   "outputs": [],
   "source": [
    "## latent traversals\n",
    "\n",
    "testpoint1, testpointlabel1 = train_loader.dataset[0]\n",
    "testpoint2, testpoint2label2 = train_loader.dataset[1]\n",
    "testpoint3, testpoint3label3 = train_loader.dataset[2]\n",
    "filename = 'beta-results/vae_traversal_testpoint_5.png'\n",
    "traverse_latents(model, testpoint1, Params.nb_latents, filename)\n",
    "\n",
    "filename = 'beta-results/vae_traversal_testpoint_0.png'\n",
    "traverse_latents(model, testpoint2, Params.nb_latents, filename)\n",
    "\n",
    "filename = 'beta-results/vae_traversal_testpoint_4.png'\n",
    "traverse_latents(model, testpoint3, Params.nb_latents, filename)\n",
    "\n"
   ]
  },
  {
   "cell_type": "code",
   "execution_count": 0,
   "metadata": {
    "colab": {},
    "colab_type": "code",
    "id": "nd5d7cjqJlUi"
   },
   "outputs": [],
   "source": []
  }
 ],
 "metadata": {
  "accelerator": "GPU",
  "colab": {
   "collapsed_sections": [
    "PLM1C6_AF-AK",
    "FSCj9RA3F-Aj",
    "RTTTOwoKF-Au",
    "SBaJe4biF-Ax",
    "FsMycB7JF-A1",
    "yHbS8vtfF-A_",
    "Av0MwEUNF-BJ",
    "7SfsXf20F-B1"
   ],
   "name": "beta-vae+classifier.ipynb",
   "provenance": [],
   "toc_visible": true,
   "version": "0.3.2"
  },
  "kernelspec": {
   "display_name": "Python 3",
   "language": "python",
   "name": "python3"
  },
  "language_info": {
   "codemirror_mode": {
    "name": "ipython",
    "version": 3
   },
   "file_extension": ".py",
   "mimetype": "text/x-python",
   "name": "python",
   "nbconvert_exporter": "python",
   "pygments_lexer": "ipython3",
   "version": "3.7.3"
  }
 },
 "nbformat": 4,
 "nbformat_minor": 1
}
