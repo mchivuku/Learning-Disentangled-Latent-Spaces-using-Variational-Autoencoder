{
  "nbformat": 4,
  "nbformat_minor": 0,
  "metadata": {
    "colab": {
      "name": "DCGAN.ipynb",
      "version": "0.3.2",
      "provenance": [],
      "include_colab_link": true
    },
    "kernelspec": {
      "name": "python3",
      "display_name": "Python 3"
    },
    "accelerator": "GPU"
  },
  "cells": [
    {
      "cell_type": "markdown",
      "metadata": {
        "id": "view-in-github",
        "colab_type": "text"
      },
      "source": [
        "<a href=\"https://colab.research.google.com/github/mchivuku/csb659-project/blob/master/DCGAN.ipynb\" target=\"_parent\"><img src=\"https://colab.research.google.com/assets/colab-badge.svg\" alt=\"Open In Colab\"/></a>"
      ]
    },
    {
      "metadata": {
        "id": "5u8OikcCIMQI",
        "colab_type": "text"
      },
      "cell_type": "markdown",
      "source": [
        "#DCGAN in Pytorch\n",
        "##Network architecture\n",
        "\n",
        "![alt text](https://github.com/last-one/DCGAN-Pytorch/blob/master/DCGAN.png?raw=true)\n",
        "\n",
        "PyTorch implementation of Deep Convolutional Generative Adversarial Networks (DCGAN), which is a stabilize Generative Adversarial Networks. The origin code can be found here.\n",
        "\n",
        "\n",
        "### Generator\n",
        "\n",
        "\n",
        "*   input: a vector with z_size\n",
        "*   hidden layers: Four 4x4 transposed convolutional layers (1024, 512, 256, and 128 kernels, respectively) with ReLU\n",
        "*   output layer: 4x4 transposed convolutional layer (channel_size kernels, 4096 nodes = 64x64 size image) with Tanh.\n",
        "*   BatchNormalization is used except for output layer.\n",
        "\n",
        "\n",
        "### Discriminator\n",
        "\n",
        "\n",
        "*   input: a vector with channel_size * image_size * image_size.\n",
        "\n",
        "*   hidden layers: Four 4x4 convolutional layers (128, 256, 512, and 1024 kernels, respectively) with LeakyReLU (negative slope is 0.2).\n",
        "\n",
        "*  output layer: 4x4 convolutional layer (1 node) with Sigmoid.\n",
        "\n",
        "*  BatchNormalization is used except for 1st hidden layer and output layer.\n",
        "\n",
        "\n",
        "\n",
        "All of the transposed convolutional layer and convolutional layer are initilized by a normal distribution with 0.0 mean and 0.02 std\n",
        "\n",
        "\n",
        "For MNIST image, the channel_size is 1 and image_size is 64.\n",
        "\n",
        "\n",
        "\n",
        "\n",
        "\n",
        "\n",
        "\n"
      ]
    },
    {
      "metadata": {
        "id": "gzAKzWL6KYeN",
        "colab_type": "code",
        "outputId": "82015b31-aa24-4c84-f040-7988c910b2d0",
        "colab": {
          "base_uri": "https://localhost:8080/",
          "height": 139
        }
      },
      "cell_type": "code",
      "source": [
        "from google.colab import drive\n",
        "\n",
        "drive.mount(\"/content/drive\")\n",
        "\n",
        "%cd /content/drive/My\\ Drive/Masters-DS/CSCI-B659/project/examples/dcgan"
      ],
      "execution_count": 1,
      "outputs": [
        {
          "output_type": "stream",
          "text": [
            "Go to this URL in a browser: https://accounts.google.com/o/oauth2/auth?client_id=947318989803-6bn6qk8qdgf4n4g3pfee6491hc0brc4i.apps.googleusercontent.com&redirect_uri=urn%3Aietf%3Awg%3Aoauth%3A2.0%3Aoob&scope=email%20https%3A%2F%2Fwww.googleapis.com%2Fauth%2Fdocs.test%20https%3A%2F%2Fwww.googleapis.com%2Fauth%2Fdrive%20https%3A%2F%2Fwww.googleapis.com%2Fauth%2Fdrive.photos.readonly%20https%3A%2F%2Fwww.googleapis.com%2Fauth%2Fpeopleapi.readonly&response_type=code\n",
            "\n",
            "Enter your authorization code:\n",
            "··········\n",
            "Mounted at /content/drive\n",
            "/content/drive/My Drive/Masters-DS/CSCI-B659/project/examples/dcgan\n"
          ],
          "name": "stdout"
        }
      ]
    },
    {
      "metadata": {
        "id": "CITqqpGuJQY_",
        "colab_type": "text"
      },
      "cell_type": "markdown",
      "source": [
        "## Models"
      ]
    },
    {
      "metadata": {
        "id": "B6Fd7HUbIWnv",
        "colab_type": "code",
        "colab": {}
      },
      "cell_type": "code",
      "source": [
        "from __future__ import print_function\n",
        "\n",
        "import torch\n",
        "import torch.nn as nn\n",
        "import torch.nn.functional as F\n",
        "\n",
        "# G(z)\n",
        "class generator(nn.Module):\n",
        "    '''\n",
        "        Generative Network\n",
        "    '''\n",
        "    def __init__(self, z_size=100, out_size=3, ngf=128):\n",
        "        super(generator, self).__init__()\n",
        "        self.z_size = z_size\n",
        "        self.ngf = ngf\n",
        "        self.out_size = out_size\n",
        "\n",
        "        self.main = nn.Sequential(\n",
        "            # input size is z_size\n",
        "            nn.ConvTranspose2d(self.z_size, self.ngf * 8, 4, 1, 0, bias=False),\n",
        "            nn.BatchNorm2d(self.ngf * 8),\n",
        "            nn.ReLU(inplace=True),\n",
        "            # state size: (ngf * 8) x 4 x 4\n",
        "            nn.ConvTranspose2d(self.ngf * 8, self.ngf * 4, 4, 2, 1, bias=False),\n",
        "            nn.BatchNorm2d(self.ngf * 4),\n",
        "            nn.ReLU(inplace=True),\n",
        "            # state size: (ngf * 4) x 8 x 8\n",
        "            nn.ConvTranspose2d(self.ngf * 4, self.ngf * 2, 4, 2, 1, bias=False),\n",
        "            nn.BatchNorm2d(self.ngf * 2),\n",
        "            nn.ReLU(inplace=True),\n",
        "            # state size: (ngf * 2) x 16 x 16\n",
        "            nn.ConvTranspose2d(self.ngf * 2, self.ngf, 4, 2, 1, bias=False),\n",
        "            nn.BatchNorm2d(self.ngf),\n",
        "            nn.ReLU(inplace=True),\n",
        "            # state size: ngf x 32 x 32\n",
        "            nn.ConvTranspose2d(self.ngf, self.out_size, 4, 2, 1, bias=False),\n",
        "            nn.Tanh()\n",
        "            # state size: out_size x 64 x 64\n",
        "        )\n",
        "\n",
        "        for m in self.modules():\n",
        "            if isinstance(m, nn.ConvTranspose2d):\n",
        "                m.weight.data.normal_(0.0, 0.02)\n",
        "                if m.bias is not None:\n",
        "                    m.bias.data.zero_()\n",
        "\n",
        "    def forward(self, input):\n",
        "\n",
        "        output = self.main(input)\n",
        "\n",
        "        return output\n",
        "      \n",
        "      \n",
        "      \n",
        "# D\n",
        "class discriminator(nn.Module):\n",
        "    '''\n",
        "        Discriminative Network\n",
        "    '''\n",
        "    def __init__(self, in_size=3, ndf=128):\n",
        "        super(discriminator, self).__init__()\n",
        "        self.in_size = in_size\n",
        "        self.ndf = ndf\n",
        "\n",
        "        self.main = nn.Sequential(\n",
        "            # input size is in_size x 64 x 64\n",
        "            nn.Conv2d(self.in_size, self.ndf, 4, 2, 1, bias=False),\n",
        "            nn.LeakyReLU(0.2, inplace=True),\n",
        "            # state size: ndf x 32 x 32\n",
        "            nn.Conv2d(self.ndf, self.ndf * 2, 4, 2, 1, bias=False),\n",
        "            nn.BatchNorm2d(self.ndf * 2),\n",
        "            nn.LeakyReLU(0.2, inplace=True),\n",
        "            # state size: (ndf * 2) x 16 x 16\n",
        "            nn.Conv2d(self.ndf * 2, self.ndf * 4, 4, 2, 1, bias=False),\n",
        "            nn.BatchNorm2d(self.ndf * 4),\n",
        "            nn.LeakyReLU(0.2, inplace=True),\n",
        "            # state size: (ndf * 4) x 8 x 8\n",
        "            nn.Conv2d(self.ndf * 4, self.ndf * 8, 4, 2, 1, bias=False),\n",
        "            nn.BatchNorm2d(self.ndf * 8),\n",
        "            nn.LeakyReLU(0.2, inplace=True),\n",
        "            # state size: (ndf * 8) x 4 x 4\n",
        "            nn.Conv2d(self.ndf * 8, 1, 4, 1, 0, bias=False),\n",
        "            nn.Sigmoid()\n",
        "            # state size: 1 x 1 x 1\n",
        "        )\n",
        "\n",
        "        for m in self.modules():\n",
        "            if isinstance(m, nn.Conv2d):\n",
        "                m.weight.data.normal_(0.0, 0.02)\n",
        "                if m.bias is not None:\n",
        "                    m.bias.data.zero_()\n",
        "\n",
        "    def forward(self, input):\n",
        "\n",
        "        output = self.main(input)\n",
        "\n",
        "        return output\n",
        "      "
      ],
      "execution_count": 0,
      "outputs": []
    },
    {
      "metadata": {
        "id": "K9jtsuL_JqKG",
        "colab_type": "text"
      },
      "cell_type": "markdown",
      "source": [
        "## Params"
      ]
    },
    {
      "metadata": {
        "id": "2DLGiZfCJa7V",
        "colab_type": "code",
        "colab": {}
      },
      "cell_type": "code",
      "source": [
        "workers= 6\n",
        "display= 100\n",
        "epoches= 20\n",
        "batch_size= 128\n",
        "base_lr= 0.0002\n",
        "beta1= 0.5\n",
        "\n",
        "dataset= 'MNIST'\n",
        "image_size= 64\n",
        "z_size= 100\n",
        "channel_size=1\n",
        "ngf= 128\n",
        "ndf= 128\n",
        "  "
      ],
      "execution_count": 0,
      "outputs": []
    },
    {
      "metadata": {
        "id": "7OVVLMFkKHRu",
        "colab_type": "text"
      },
      "cell_type": "markdown",
      "source": [
        "## Helper functions"
      ]
    },
    {
      "metadata": {
        "id": "5K_clehYJrsl",
        "colab_type": "code",
        "colab": {}
      },
      "cell_type": "code",
      "source": [
        "import time\n",
        "import torch\n",
        "import torch.utils.data as data\n",
        "import matplotlib\n",
        "matplotlib.use('Agg')\n",
        "import matplotlib.pyplot as plt\n",
        "import os\n",
        "import sys\n",
        "import numpy as np\n",
        "import time\n",
        "\n",
        "def plot_loss(d_loss, g_loss, num_epoch, epoches, save_dir):\n",
        "    \n",
        "    fig, ax = plt.subplots()\n",
        "    ax.set_xlim(0,epoches + 1)\n",
        "    ax.set_ylim(0, max(np.max(g_loss), np.max(d_loss)) * 1.1)\n",
        "    plt.xlabel('Epoch {}'.format(num_epoch))\n",
        "    plt.ylabel('Loss')\n",
        "    \n",
        "    plt.plot(range(1, num_epoch + 1), d_loss, label='Discriminator', color='red', linewidth=3)\n",
        "    plt.plot(range(1, num_epoch + 1), g_loss, label='Generator', color='mediumblue', linewidth=3)\n",
        "    \n",
        "    plt.legend()\n",
        "    plt.savefig(os.path.join(save_dir, 'DCGAN_loss_epoch_{}.png'.format(num_epoch)))\n",
        "    plt.close()\n",
        "    \n",
        "    \n",
        "def plot_result(G, fixed_noise, image_size, num_epoch, save_dir, fig_size=(8, 8), is_gray=False):\n",
        "\n",
        "    G.eval()\n",
        "    generate_images = G(fixed_noise)\n",
        "    G.train()\n",
        "    \n",
        "    n_rows = n_cols = 8\n",
        "    fig, axes = plt.subplots(n_rows, n_cols, figsize=fig_size)\n",
        "    \n",
        "    for ax, img in zip(axes.flatten(), generate_images):\n",
        "        ax.axis('off')\n",
        "        ax.set_adjustable('box-forced')\n",
        "        if is_gray:\n",
        "            img = img.cpu().data.view(image_size, image_size).numpy()\n",
        "            ax.imshow(img, cmap='gray', aspect='equal')\n",
        "        else:\n",
        "            img = (((img - img.min()) * 255) / (img.max() - img.min())).cpu().data.numpy().transpose(1, 2, 0).astype(np.uint8)\n",
        "            ax.imshow(img, cmap=None, aspect='equal')\n",
        "    plt.subplots_adjust(wspace=0, hspace=0)\n",
        "    title = 'Epoch {0}'.format(num_epoch)\n",
        "    fig.text(0.5, 0.04, title, ha='center')\n",
        "    \n",
        "    plt.savefig(os.path.join(save_dir, 'DCGAN_epoch_{}.png'.format(num_epoch)))\n",
        "    plt.close()\n",
        "    \n",
        "    \n",
        "    \n",
        "## Save checkpoint\n",
        "def save_checkpoint(state, filename='checkpoint'):\n",
        "    \n",
        "    torch.save(state, filename + '.pth.tar')\n",
        "\n",
        "    \n",
        "\"\"\"\n",
        "Print logs\n",
        "\"\"\"\n",
        "def print_log(epoch, epoches, iteration, iters, learning_rate,\n",
        "              display, D_losses, G_losses):\n",
        "    print('epoch: [{}/{}] iteration: [{}/{}]\\t Learning rate: {}, D_loss: {:.4f}, G_loss:{:.4f}'.format(epoch, epoches, iteration, iters, learning_rate,D_losses(),G_losses()))\n",
        "   \n",
        "   "
      ],
      "execution_count": 0,
      "outputs": []
    },
    {
      "metadata": {
        "id": "UWTkzgseLBBs",
        "colab_type": "text"
      },
      "cell_type": "markdown",
      "source": [
        "## Running Average"
      ]
    },
    {
      "metadata": {
        "id": "d6yjVv1KJsz9",
        "colab_type": "code",
        "colab": {}
      },
      "cell_type": "code",
      "source": [
        "class RunningAverage ():\n",
        "    \"\"\"A simple class that maintains the running average of a quantity\n",
        "    Example:\n",
        "    ```\n",
        "    loss_avg = RunningAverage()\n",
        "    loss_avg.update(2)\n",
        "    loss_avg.update(4)\n",
        "    loss_avg() = 3\n",
        "    ```\n",
        "    \"\"\"\n",
        "\n",
        "    def __init__( self ):\n",
        "        self.steps = 0\n",
        "        self.total = 0\n",
        "\n",
        "    def update( self, val ):\n",
        "        self.total += val\n",
        "        self.steps += 1\n",
        "    \n",
        "    def reset(self):\n",
        "        self.steps = 0.\n",
        "        self.total = 0.\n",
        "        \n",
        "        \n",
        "        \n",
        "    def __call__( self ):\n",
        "        return self.total / float ( self.steps )"
      ],
      "execution_count": 0,
      "outputs": []
    },
    {
      "metadata": {
        "id": "Lq4Ue0MfLCij",
        "colab_type": "code",
        "outputId": "9dffb8cf-439f-4ee8-8886-a62ec3b507fb",
        "colab": {
          "base_uri": "https://localhost:8080/",
          "height": 646
        }
      },
      "cell_type": "code",
      "source": [
        "G = generator(z_size=z_size, out_size=channel_size, ngf=ngf).cuda()\n",
        "print('G network structure')\n",
        "print(G)\n",
        "D = discriminator(in_size=channel_size, ndf=ndf).cuda()\n",
        "print('D network structure')\n",
        "print(D)"
      ],
      "execution_count": 97,
      "outputs": [
        {
          "output_type": "stream",
          "text": [
            "G network structure\n",
            "generator(\n",
            "  (main): Sequential(\n",
            "    (0): ConvTranspose2d(100, 1024, kernel_size=(4, 4), stride=(1, 1), bias=False)\n",
            "    (1): BatchNorm2d(1024, eps=1e-05, momentum=0.1, affine=True, track_running_stats=True)\n",
            "    (2): ReLU(inplace)\n",
            "    (3): ConvTranspose2d(1024, 512, kernel_size=(4, 4), stride=(2, 2), padding=(1, 1), bias=False)\n",
            "    (4): BatchNorm2d(512, eps=1e-05, momentum=0.1, affine=True, track_running_stats=True)\n",
            "    (5): ReLU(inplace)\n",
            "    (6): ConvTranspose2d(512, 256, kernel_size=(4, 4), stride=(2, 2), padding=(1, 1), bias=False)\n",
            "    (7): BatchNorm2d(256, eps=1e-05, momentum=0.1, affine=True, track_running_stats=True)\n",
            "    (8): ReLU(inplace)\n",
            "    (9): ConvTranspose2d(256, 128, kernel_size=(4, 4), stride=(2, 2), padding=(1, 1), bias=False)\n",
            "    (10): BatchNorm2d(128, eps=1e-05, momentum=0.1, affine=True, track_running_stats=True)\n",
            "    (11): ReLU(inplace)\n",
            "    (12): ConvTranspose2d(128, 1, kernel_size=(4, 4), stride=(2, 2), padding=(1, 1), bias=False)\n",
            "    (13): Tanh()\n",
            "  )\n",
            ")\n",
            "D network structure\n",
            "discriminator(\n",
            "  (main): Sequential(\n",
            "    (0): Conv2d(1, 128, kernel_size=(4, 4), stride=(2, 2), padding=(1, 1), bias=False)\n",
            "    (1): LeakyReLU(negative_slope=0.2, inplace)\n",
            "    (2): Conv2d(128, 256, kernel_size=(4, 4), stride=(2, 2), padding=(1, 1), bias=False)\n",
            "    (3): BatchNorm2d(256, eps=1e-05, momentum=0.1, affine=True, track_running_stats=True)\n",
            "    (4): LeakyReLU(negative_slope=0.2, inplace)\n",
            "    (5): Conv2d(256, 512, kernel_size=(4, 4), stride=(2, 2), padding=(1, 1), bias=False)\n",
            "    (6): BatchNorm2d(512, eps=1e-05, momentum=0.1, affine=True, track_running_stats=True)\n",
            "    (7): LeakyReLU(negative_slope=0.2, inplace)\n",
            "    (8): Conv2d(512, 1024, kernel_size=(4, 4), stride=(2, 2), padding=(1, 1), bias=False)\n",
            "    (9): BatchNorm2d(1024, eps=1e-05, momentum=0.1, affine=True, track_running_stats=True)\n",
            "    (10): LeakyReLU(negative_slope=0.2, inplace)\n",
            "    (11): Conv2d(1024, 1, kernel_size=(4, 4), stride=(1, 1), bias=False)\n",
            "    (12): Sigmoid()\n",
            "  )\n",
            ")\n"
          ],
          "name": "stdout"
        }
      ]
    },
    {
      "metadata": {
        "id": "bRZ55PX3MEWk",
        "colab_type": "text"
      },
      "cell_type": "markdown",
      "source": [
        "## Training"
      ]
    },
    {
      "metadata": {
        "id": "7hYe5Ae1LYNa",
        "colab_type": "code",
        "colab": {}
      },
      "cell_type": "code",
      "source": [
        "from torch.autograd import Variable\n",
        "import torch.backends.cudnn as cudnn\n",
        "\n",
        "%matplotlib inline\n",
        "# setup loss function\n",
        "criterion = nn.BCELoss().cuda()\n",
        "\n",
        "# setup optimizer\n",
        "optimizerD = torch.optim.Adam(D.parameters(), lr=base_lr, betas=(beta1, 0.999))\n",
        "optimizerG = torch.optim.Adam(G.parameters(), lr=base_lr, betas=(beta1, 0.999))\n",
        "\n",
        "\n",
        "# setup some varibles\n",
        "batch_time = RunningAverage()\n",
        "data_time = RunningAverage()\n",
        "D_losses = RunningAverage()\n",
        "G_losses = RunningAverage()\n",
        "\n",
        "\n",
        "fixed_noise = torch.FloatTensor(8 * 8,  z_size, 1, 1).normal_(0, 1)\n",
        "fixed_noise = Variable(fixed_noise.cuda())"
      ],
      "execution_count": 0,
      "outputs": []
    },
    {
      "metadata": {
        "id": "KzM21Y2UMKNA",
        "colab_type": "code",
        "colab": {
          "base_uri": "https://localhost:8080/",
          "height": 71
        },
        "outputId": "768a8111-3ca7-4739-a241-9d873b7be5b6"
      },
      "cell_type": "code",
      "source": [
        "import torchvision.transforms as transforms\n",
        "import torchvision.datasets as datasets\n",
        "\n",
        "\n",
        "path=\"\"\n",
        "\n",
        "train_loader = torch.utils.data.DataLoader(\n",
        "                datasets.MNIST(\"./data/\", True,\n",
        "                    transforms.Compose([transforms.Scale(image_size),\n",
        "                        transforms.ToTensor(),\n",
        "                        transforms.Normalize(mean=(0.5,), std=(0.5,)),\n",
        "                ]), download=True),\n",
        "                batch_size=batch_size, shuffle=True,\n",
        "                num_workers=workers, pin_memory=True)"
      ],
      "execution_count": 99,
      "outputs": [
        {
          "output_type": "stream",
          "text": [
            "/usr/local/lib/python3.6/dist-packages/torchvision/transforms/transforms.py:208: UserWarning: The use of the transforms.Scale transform is deprecated, please use transforms.Resize instead.\n",
            "  \"please use transforms.Resize instead.\")\n"
          ],
          "name": "stderr"
        }
      ]
    },
    {
      "metadata": {
        "id": "zvp-tSqeF1HW",
        "colab_type": "code",
        "colab": {}
      },
      "cell_type": "code",
      "source": [
        "## Show image\n",
        "import torchvision\n",
        "def show_image(img,title=None):\n",
        "  \n",
        "  \"\"\"Imshow for Tensor.\"\"\"\n",
        "  \n",
        "  plt.figure(figsize=(16,4))\n",
        "  plt.axis('off')\n",
        "  plt.imshow(img)\n",
        "  plt.show()\n",
        "  \n",
        "def plot_grid(inputs):\n",
        "  # Make a grid from batch \n",
        "  out = torchvision.utils.make_grid(inputs,10,10)\n",
        "  show_image(out, title=\"\")\n",
        "  \n",
        "\n"
      ],
      "execution_count": 0,
      "outputs": []
    },
    {
      "metadata": {
        "id": "pEooi3W1M8GX",
        "colab_type": "code",
        "colab": {
          "base_uri": "https://localhost:8080/",
          "height": 299
        },
        "outputId": "e2515587-dc5f-4987-8136-775a3f8a8152"
      },
      "cell_type": "code",
      "source": [
        "# enable training for the models\n",
        "D.train()\n",
        "G.train()\n",
        "D_loss_list = []\n",
        "G_loss_list = []\n",
        "cudnn.benchmark = True\n",
        "save_dir=\"./results/\"\n",
        "for epoch in range(epoches):\n",
        "  for i, (input, _) in enumerate(train_loader):\n",
        "   \n",
        "    batch_size = input.size(0)\n",
        "    input_var = Variable(input.cuda())\n",
        "    \n",
        "    # Train discriminator with real data\n",
        "    real_labels = torch.ones(batch_size)\n",
        "    label_real_var = Variable(real_labels.cuda())\n",
        "    \n",
        "    D_real_result = D(input_var)\n",
        "    \n",
        "    D_real_loss = criterion(D_real_result.squeeze(),label_real_var)\n",
        "    \n",
        "    ## Train discriminator on fake data\n",
        "    fake_labels = torch.zeros(batch_size)\n",
        "    label_fake_var = Variable(fake_labels.cuda())\n",
        "\n",
        "    noise = torch.randn((batch_size, z_size)).view(-1,z_size,1,1)\n",
        "    noise_var = Variable(noise.cuda())\n",
        "    \n",
        "    G_result = G(noise_var)\n",
        "    \n",
        "    D_fake_result = D(G_result).squeeze()\n",
        "    D_fake_loss = criterion(D_fake_result, label_fake_var)\n",
        "    \n",
        "    ## back propagation - Discriminator\n",
        "    D_total_loss = D_real_loss + D_fake_loss\n",
        "    D_losses.update(D_total_loss.item())\n",
        "    \n",
        "    D.zero_grad()\n",
        "    D_total_loss.backward()\n",
        "    optimizerD.step()\n",
        "    \n",
        "    \"\"\"\n",
        "    Generator\n",
        "    \"\"\"\n",
        "    noise = torch.randn((batch_size, z_size)).view(-1, z_size, 1, 1)\n",
        "    noise_var = Variable(noise.cuda())\n",
        "    G_result = G(noise_var)\n",
        "    D_fake_result = D(G_result).squeeze()\n",
        "    G_loss = criterion(D_fake_result, label_real_var)\n",
        "    \n",
        "    G_losses.update(G_loss.item())\n",
        "    ##back propagate\n",
        "    G.zero_grad()\n",
        "    G_loss.backward()\n",
        "    optimizerG.step()\n",
        "    \n",
        "    if (i + 1) % display == 0:\n",
        "      print_log(epoch + 1, epoches, i + 1, len(train_loader), base_lr,\n",
        "                  display, D_losses, G_losses)\n",
        "      \n",
        "  \n",
        "  D_loss_list.append(D_losses())\n",
        "  G_loss_list.append(G_losses())\n",
        "  D_losses.reset()\n",
        "  G_losses.reset()  \n",
        "  \n",
        "  # plt the generate images and loss curve\n",
        "  plot_result(G, fixed_noise, image_size, epoch + 1, save_dir=save_dir  is_gray=(channel_size == 1))\n",
        "  plot_loss(D_loss_list, G_loss_list, epoch + 1, epoches, save_dir)\n",
        "  # save the D and G.\n",
        "  save_checkpoint({'epoch': epoch, 'state_dict': D.state_dict(),}, os.path.join(save_dir, 'D_epoch_{}'.format(epoch)))\n",
        "  save_checkpoint({'epoch': epoch, 'state_dict': G.state_dict(),}, os.path.join(save_dir, 'G_epoch_{}'.format(epoch)))\n",
        "\n",
        "  \n",
        "  \n",
        "        \n",
        "     \n",
        "    "
      ],
      "execution_count": 116,
      "outputs": [
        {
          "output_type": "stream",
          "text": [
            "epoch: [1/20] iteration: [100/469]\t Learning rate: 0.0002, D_loss: 0.9100, G_loss:2.3411\n",
            "epoch: [1/20] iteration: [200/469]\t Learning rate: 0.0002, D_loss: 0.8388, G_loss:2.3285\n",
            "epoch: [1/20] iteration: [300/469]\t Learning rate: 0.0002, D_loss: 0.7849, G_loss:2.3875\n",
            "epoch: [1/20] iteration: [400/469]\t Learning rate: 0.0002, D_loss: 0.7446, G_loss:2.4682\n"
          ],
          "name": "stdout"
        },
        {
          "output_type": "error",
          "ename": "TypeError",
          "evalue": "ignored",
          "traceback": [
            "\u001b[0;31m---------------------------------------------------------------------------\u001b[0m",
            "\u001b[0;31mTypeError\u001b[0m                                 Traceback (most recent call last)",
            "\u001b[0;32m<ipython-input-116-5706f456dc8e>\u001b[0m in \u001b[0;36m<module>\u001b[0;34m()\u001b[0m\n\u001b[1;32m     65\u001b[0m \u001b[0;34m\u001b[0m\u001b[0m\n\u001b[1;32m     66\u001b[0m   \u001b[0;31m# plt the generate images and loss curve\u001b[0m\u001b[0;34m\u001b[0m\u001b[0;34m\u001b[0m\u001b[0;34m\u001b[0m\u001b[0m\n\u001b[0;32m---> 67\u001b[0;31m   \u001b[0mplot_result\u001b[0m\u001b[0;34m(\u001b[0m\u001b[0mG\u001b[0m\u001b[0;34m,\u001b[0m \u001b[0mfixed_noise\u001b[0m\u001b[0;34m,\u001b[0m \u001b[0mimage_size\u001b[0m\u001b[0;34m,\u001b[0m \u001b[0mepoch\u001b[0m \u001b[0;34m+\u001b[0m \u001b[0;36m1\u001b[0m\u001b[0;34m,\u001b[0m   \u001b[0mis_gray\u001b[0m\u001b[0;34m=\u001b[0m\u001b[0;34m(\u001b[0m\u001b[0mchannel_size\u001b[0m \u001b[0;34m==\u001b[0m \u001b[0;36m1\u001b[0m\u001b[0;34m)\u001b[0m\u001b[0;34m)\u001b[0m\u001b[0;34m\u001b[0m\u001b[0;34m\u001b[0m\u001b[0m\n\u001b[0m\u001b[1;32m     68\u001b[0m   \u001b[0mplot_loss\u001b[0m\u001b[0;34m(\u001b[0m\u001b[0mD_loss_list\u001b[0m\u001b[0;34m,\u001b[0m \u001b[0mG_loss_list\u001b[0m\u001b[0;34m,\u001b[0m \u001b[0mepoch\u001b[0m \u001b[0;34m+\u001b[0m \u001b[0;36m1\u001b[0m\u001b[0;34m,\u001b[0m \u001b[0mepoches\u001b[0m\u001b[0;34m,\u001b[0m \u001b[0msave_dir\u001b[0m\u001b[0;34m)\u001b[0m\u001b[0;34m\u001b[0m\u001b[0;34m\u001b[0m\u001b[0m\n\u001b[1;32m     69\u001b[0m   \u001b[0;31m# save the D and G.\u001b[0m\u001b[0;34m\u001b[0m\u001b[0;34m\u001b[0m\u001b[0;34m\u001b[0m\u001b[0m\n",
            "\u001b[0;31mTypeError\u001b[0m: plot_result() missing 1 required positional argument: 'save_dir'"
          ]
        }
      ]
    },
    {
      "metadata": {
        "id": "iPVaijp3Dynf",
        "colab_type": "code",
        "colab": {}
      },
      "cell_type": "code",
      "source": [
        "D_losses.reset()"
      ],
      "execution_count": 0,
      "outputs": []
    },
    {
      "metadata": {
        "id": "jCwG0XNPPXTO",
        "colab_type": "code",
        "colab": {
          "base_uri": "https://localhost:8080/",
          "height": 286
        },
        "outputId": "e7ef15a9-ab8c-4194-d699-47bf1744eb38"
      },
      "cell_type": "code",
      "source": [
        "#os.makedirs(\"./results/\")\n",
        "#plot_result(G, fixed_noise, image_size, epoch + 1, save_dir=save_dir , is_gray=(channel_size == 1))\n",
        "import imageio\n",
        "\n",
        "plt.imshow(imageio.imread(\"./results/DCGAN_epoch_1.png\"))\n",
        "plt.axis(\"off\")\n",
        "\n"
      ],
      "execution_count": 124,
      "outputs": [
        {
          "output_type": "stream",
          "text": [
            "DCGAN_epoch_1.png\n"
          ],
          "name": "stdout"
        },
        {
          "output_type": "display_data",
          "data": {
            "image/png": "[encoded data removed]",
            "text/plain": [
              "<Figure size 432x288 with 1 Axes>"
            ]
          },
          "metadata": {
            "tags": []
          }
        }
      ]
    },
    {
      "metadata": {
        "id": "cmurYXHySB84",
        "colab_type": "code",
        "colab": {
          "base_uri": "https://localhost:8080/",
          "height": 34
        },
        "outputId": "82796645-f924-4df6-e2b0-ef82363141d9"
      },
      "cell_type": "code",
      "source": [
        "%ls ./results"
      ],
      "execution_count": 125,
      "outputs": [
        {
          "output_type": "stream",
          "text": [
            "DCGAN_epoch_1.png  DCGAN_loss_epoch_1.png\n"
          ],
          "name": "stdout"
        }
      ]
    },
    {
      "metadata": {
        "id": "urIUEicfSquG",
        "colab_type": "code",
        "colab": {
          "base_uri": "https://localhost:8080/",
          "height": 286
        },
        "outputId": "81059077-c1ed-4002-e8b3-49a0c84f3d6b"
      },
      "cell_type": "code",
      "source": [
        "plt.imshow(imageio.imread(\"./results/DCGAN_loss_epoch_1.png\"))\n",
        "plt.axis(\"off\")"
      ],
      "execution_count": 126,
      "outputs": [
        {
          "output_type": "execute_result",
          "data": {
            "text/plain": [
              "(-0.5, 431.5, 287.5, -0.5)"
            ]
          },
          "metadata": {
            "tags": []
          },
          "execution_count": 126
        },
        {
          "output_type": "display_data",
          "data": {
            "image/png": "[encoded data removed]",
            "text/plain": [
              "<Figure size 432x288 with 1 Axes>"
            ]
          },
          "metadata": {
            "tags": []
          }
        }
      ]
    },
    {
      "metadata": {
        "id": "dH8J1gXeStuO",
        "colab_type": "code",
        "colab": {}
      },
      "cell_type": "code",
      "source": [
        ""
      ],
      "execution_count": 0,
      "outputs": []
    }
  ]
}