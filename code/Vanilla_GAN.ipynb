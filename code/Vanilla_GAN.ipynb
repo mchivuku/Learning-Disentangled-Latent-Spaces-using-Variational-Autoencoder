{
  "nbformat": 4,
  "nbformat_minor": 0,
  "metadata": {
    "colab": {
      "name": "Vanilla GAN.ipynb",
      "version": "0.3.2",
      "provenance": [],
      "include_colab_link": true
    },
    "kernelspec": {
      "name": "python3",
      "display_name": "Python 3"
    },
    "accelerator": "GPU"
  },
  "cells": [
    {
      "cell_type": "markdown",
      "metadata": {
        "id": "view-in-github",
        "colab_type": "text"
      },
      "source": [
        "<a href=\"https://colab.research.google.com/github/mchivuku/csb659-project/blob/master/Vanilla_GAN.ipynb\" target=\"_parent\"><img src=\"https://colab.research.google.com/assets/colab-badge.svg\" alt=\"Open In Colab\"/></a>"
      ]
    },
    {
      "metadata": {
        "id": "LpUk2W9IHNR5",
        "colab_type": "text"
      },
      "cell_type": "markdown",
      "source": [
        ""
      ]
    },
    {
      "metadata": {
        "id": "n7dGc4ZfHSeR",
        "colab_type": "code",
        "colab": {}
      },
      "cell_type": "code",
      "source": [
        "%%capture\n",
        "!pip install tqdm six\n",
        "\n",
        "!pip install bokeh\n",
        "!pip install tensorboard\n",
        "!pip install livelossplot\n",
        "!pip install tensorboard"
      ],
      "execution_count": 0,
      "outputs": []
    },
    {
      "metadata": {
        "id": "jcVEU224IX-S",
        "colab_type": "text"
      },
      "cell_type": "markdown",
      "source": [
        "## Connect To Google Drive - Project Folder"
      ]
    },
    {
      "metadata": {
        "id": "9oewzneAIK6C",
        "colab_type": "code",
        "outputId": "be18e858-a965-4850-a2b2-a41c3010179d",
        "colab": {
          "base_uri": "https://localhost:8080/",
          "height": 122
        }
      },
      "cell_type": "code",
      "source": [
        "from google.colab import drive\n",
        "\n",
        "drive.mount(\"/content/drive\")"
      ],
      "execution_count": 2,
      "outputs": [
        {
          "output_type": "stream",
          "text": [
            "Go to this URL in a browser: https://accounts.google.com/o/oauth2/auth?client_id=947318989803-6bn6qk8qdgf4n4g3pfee6491hc0brc4i.apps.googleusercontent.com&redirect_uri=urn%3Aietf%3Awg%3Aoauth%3A2.0%3Aoob&scope=email%20https%3A%2F%2Fwww.googleapis.com%2Fauth%2Fdocs.test%20https%3A%2F%2Fwww.googleapis.com%2Fauth%2Fdrive%20https%3A%2F%2Fwww.googleapis.com%2Fauth%2Fdrive.photos.readonly%20https%3A%2F%2Fwww.googleapis.com%2Fauth%2Fpeopleapi.readonly&response_type=code\n",
            "\n",
            "Enter your authorization code:\n",
            "··········\n",
            "Mounted at /content/drive\n"
          ],
          "name": "stdout"
        }
      ]
    },
    {
      "metadata": {
        "id": "F-Yv6O7RIbsC",
        "colab_type": "code",
        "outputId": "add429e2-9d71-4779-c8e2-cb92aed8fe97",
        "colab": {
          "base_uri": "https://localhost:8080/",
          "height": 34
        }
      },
      "cell_type": "code",
      "source": [
        "%cd /content/drive/My\\ Drive/Masters-DS/CSCI-B659/project/examples/dcgan"
      ],
      "execution_count": 7,
      "outputs": [
        {
          "output_type": "stream",
          "text": [
            "/content/drive/My Drive/Masters-DS/CSCI-B659/project/examples/dcgan\n"
          ],
          "name": "stdout"
        }
      ]
    },
    {
      "metadata": {
        "id": "ZaR8XVqDJOTj",
        "colab_type": "text"
      },
      "cell_type": "markdown",
      "source": [
        "## Import"
      ]
    },
    {
      "metadata": {
        "id": "xOFDdLgNJMGz",
        "colab_type": "code",
        "colab": {
          "base_uri": "https://localhost:8080/",
          "height": 68
        },
        "outputId": "7f28d5c1-6843-429c-963b-f1de24a37819"
      },
      "cell_type": "code",
      "source": [
        "# Importing the libraries\n",
        "from __future__ import print_function\n",
        "import torch\n",
        "import torch.nn as nn\n",
        "import torch.nn.parallel\n",
        "import torch.optim as optim\n",
        "import torch.utils.data\n",
        "import torchvision\n",
        "import torchvision.datasets as datasets\n",
        "import torchvision.transforms as transforms\n",
        "import torchvision.utils as vutils\n",
        "from torch.autograd import Variable\n",
        "import os\n",
        "import numpy as np\n",
        "## Plotting libraries\n",
        "\n",
        "from bokeh.plotting import figure\n",
        "from bokeh.io import show\n",
        "from bokeh.models import LinearAxis, Range1d\n",
        "from livelossplot import PlotLosses\n",
        "\n",
        "import matplotlib.pyplot as plt \n",
        "plt.style.use('ggplot')\n",
        "\n",
        "print('Torch', torch.__version__, 'CUDA', torch.version.cuda)\n",
        "print('Device:', torch.device('cuda:0'))\n",
        "print(torch.cuda.is_available())\n",
        "\n",
        "is_cuda = torch.cuda.is_available()\n",
        "device = torch.device ( \"cuda:0\" if torch.cuda.is_available () else \"cpu\" )\n",
        "\n"
      ],
      "execution_count": 26,
      "outputs": [
        {
          "output_type": "stream",
          "text": [
            "Torch 1.0.1.post2 CUDA 10.0.130\n",
            "Device: cuda:0\n",
            "True\n"
          ],
          "name": "stdout"
        }
      ]
    },
    {
      "metadata": {
        "id": "nt-M0Qni32oA",
        "colab_type": "text"
      },
      "cell_type": "markdown",
      "source": [
        "## Helper functions"
      ]
    },
    {
      "metadata": {
        "id": "Jl-3gW2x2ycZ",
        "colab_type": "code",
        "colab": {}
      },
      "cell_type": "code",
      "source": [
        "class_names = ['0 - zero', '1 - one', '2 - two', '3 - three', '4 - four',\n",
        "               '5 - five', '6 - six', '7 - seven', '8 - eight', '9 - nine']\n",
        "\"\"\"\n",
        "Show image\n",
        "\"\"\"\n",
        "def imshow(img, title=\"None\"):\n",
        "  img = img.numpy().transpose((1,2,0))\n",
        "  mean = np.array([0.485, 0.456, 0.406])\n",
        "  std = np.array([0.229, 0.224, 0.225])\n",
        "  img = std * img + mean # normalize\n",
        "  img = np.clip(img, 0, 1) # clip image\n",
        "  plt.figure(figsize=(16,4))\n",
        "  plt.axis('off')\n",
        "  plt.imshow(img)\n",
        "  \n",
        "  if title is not None:\n",
        "    plt.title(title)\n",
        "  \n",
        "\"\"\"\n",
        "Show image grid\n",
        "\"\"\"\n",
        "\n",
        "def plot_grid(inputs, classes):\n",
        "  # make grid from batch\n",
        "  out = torchvision.utils.make_grid(inputs, 10, 10)\n",
        "  imshow(out, title=\"\")\n",
        "  print([class_names[x] for x in classes])\n",
        "  "
      ],
      "execution_count": 0,
      "outputs": []
    },
    {
      "metadata": {
        "id": "t0o1gBhz5LYN",
        "colab_type": "code",
        "colab": {}
      },
      "cell_type": "code",
      "source": [
        ""
      ],
      "execution_count": 0,
      "outputs": []
    },
    {
      "metadata": {
        "id": "on1gQQbn4dKv",
        "colab_type": "text"
      },
      "cell_type": "markdown",
      "source": [
        "## Data Loader"
      ]
    },
    {
      "metadata": {
        "id": "QWLKlcNk4YWe",
        "colab_type": "code",
        "colab": {}
      },
      "cell_type": "code",
      "source": [
        "path=\"\"\n",
        "\n",
        "transformation = transforms.Compose([transforms.ToTensor(),transforms.Normalize((0.1307,), (0.3081,))])\n",
        "train_dataset = datasets.MNIST(os.path.join(path,\"../vae/MNIST/data\"),train=True,transform=transformation,download=True)\n",
        "test_dataset = datasets.MNIST(os.path.join(path,\"../vae/MNIST/data\"),train=False,transform=transformation,download=True)\n",
        "train_loader = torch.utils.data.DataLoader(train_dataset,batch_size=128,shuffle=True)\n",
        "test_loader = torch.utils.data.DataLoader(test_dataset,batch_size=128,shuffle=True)"
      ],
      "execution_count": 0,
      "outputs": []
    },
    {
      "metadata": {
        "id": "6L63f3UK4lem",
        "colab_type": "code",
        "colab": {
          "base_uri": "https://localhost:8080/",
          "height": 306
        },
        "outputId": "fb8aee14-5b7d-42eb-e243-620898d53ff5"
      },
      "cell_type": "code",
      "source": [
        "\n",
        "inputs, classes = next(iter(train_loader))\n",
        "plot_grid(inputs, classes)"
      ],
      "execution_count": 30,
      "outputs": [
        {
          "output_type": "stream",
          "text": [
            "['7 - seven', '1 - one', '6 - six', '8 - eight', '6 - six', '4 - four', '5 - five', '4 - four', '6 - six', '8 - eight', '8 - eight', '0 - zero', '3 - three', '4 - four', '0 - zero', '1 - one', '5 - five', '6 - six', '9 - nine', '9 - nine', '3 - three', '5 - five', '9 - nine', '1 - one', '6 - six', '5 - five', '3 - three', '6 - six', '1 - one', '9 - nine', '9 - nine', '1 - one', '5 - five', '1 - one', '6 - six', '0 - zero', '0 - zero', '1 - one', '3 - three', '4 - four', '0 - zero', '1 - one', '0 - zero', '8 - eight', '2 - two', '1 - one', '1 - one', '8 - eight', '3 - three', '8 - eight', '1 - one', '8 - eight', '0 - zero', '3 - three', '3 - three', '5 - five', '0 - zero', '9 - nine', '3 - three', '3 - three', '9 - nine', '7 - seven', '0 - zero', '2 - two', '4 - four', '1 - one', '6 - six', '0 - zero', '1 - one', '9 - nine', '3 - three', '4 - four', '1 - one', '6 - six', '7 - seven', '7 - seven', '2 - two', '8 - eight', '2 - two', '2 - two', '2 - two', '0 - zero', '8 - eight', '7 - seven', '7 - seven', '6 - six', '7 - seven', '2 - two', '6 - six', '1 - one', '7 - seven', '4 - four', '4 - four', '6 - six', '6 - six', '0 - zero', '2 - two', '9 - nine', '3 - three', '2 - two', '1 - one', '8 - eight', '6 - six', '9 - nine', '8 - eight', '4 - four', '1 - one', '1 - one', '9 - nine', '0 - zero', '0 - zero', '9 - nine', '4 - four', '8 - eight', '8 - eight', '9 - nine', '7 - seven', '1 - one', '5 - five', '9 - nine', '7 - seven', '3 - three', '5 - five', '3 - three', '6 - six', '4 - four', '2 - two', '2 - two']\n"
          ],
          "name": "stdout"
        },
        {
          "output_type": "display_data",
          "data": {
            "image/png": "[encoded data removed]",
            "text/plain": [
              "<Figure size 1152x288 with 1 Axes>"
            ]
          },
          "metadata": {
            "tags": []
          }
        }
      ]
    },
    {
      "metadata": {
        "id": "13YN6cC25vdP",
        "colab_type": "text"
      },
      "cell_type": "markdown",
      "source": [
        "## Tensor board utilities"
      ]
    },
    {
      "metadata": {
        "id": "HXfkDNyC49VW",
        "colab_type": "code",
        "colab": {}
      },
      "cell_type": "code",
      "source": [
        "import tensorflow as tf\n",
        "import numpy as np\n",
        "import scipy.misc \n",
        "from PIL import Image \n",
        "try:\n",
        "    from StringIO import StringIO  # Python 2.7\n",
        "except ImportError:\n",
        "    from io import BytesIO         # Python 3.x\n",
        "\n",
        "## Import tensor flow library\n",
        "class TensorBoardLogger(object):\n",
        "  \n",
        "  \"\"\"\n",
        "  Initialize the summary writer\n",
        "  \"\"\"\n",
        "  def __init__(self, log_dir):\n",
        "    \"create summary writer\"\n",
        "    self.writer = tf.summary.FileWriter(log_dir)\n",
        "  \n",
        "  \"\"\"\n",
        "  Add scalar\n",
        "  \"\"\"\n",
        "  def scalar_summary(self, tag, value, step):\n",
        "    summary = tf.Summary(value=[tf.Summary.Value(tag=tag, simple_value=value)])\n",
        "    self.writer.add_summary(summary,step)\n",
        "    \n",
        "  \"\"\"\n",
        "  Add images\n",
        "  \"\"\"\n",
        "  def image_summary(self, tag, images, step):\n",
        "    \"\"\"Log a list of images.\"\"\"\n",
        "\n",
        "    img_summaries = []\n",
        "    for i, img in enumerate(images):\n",
        "        s = BytesIO()\n",
        "        \n",
        "        new_p = Image.fromarray(img)\n",
        "        if new_p.mode != 'L':\n",
        "          new_p = new_p.convert('L')\n",
        "    \n",
        "        new_p.save(s, format=\"png\")\n",
        "\n",
        "        # Create an Image object\n",
        "        img_sum = tf.Summary.Image(encoded_image_string=s.getvalue(),\n",
        "                                   height=img.shape[0],\n",
        "                                   width=img.shape[1])\n",
        "        # Create a Summary value\n",
        "        img_summaries.append(tf.Summary.Value(tag='%s/%d' % (tag, i), image=img_sum))\n",
        "\n",
        "    # Create and write Summary\n",
        "    summary = tf.Summary(value=img_summaries)\n",
        "    self.writer.add_summary(summary, step)\n",
        "        \n",
        "  def histo_summary(self, tag, values, step, bins=1000):\n",
        "      \"\"\"Log a histogram of the tensor of values.\"\"\"\n",
        "\n",
        "      # Create a histogram using numpy\n",
        "      counts, bin_edges = np.histogram(values, bins=bins)\n",
        "\n",
        "      # Fill the fields of the histogram proto\n",
        "      hist = tf.HistogramProto()\n",
        "      hist.min = float(np.min(values))\n",
        "      hist.max = float(np.max(values))\n",
        "      hist.num = int(np.prod(values.shape))\n",
        "      hist.sum = float(np.sum(values))\n",
        "      hist.sum_squares = float(np.sum(values**2))\n",
        "\n",
        "      # Drop the start of the first bin\n",
        "      bin_edges = bin_edges[1:]\n",
        "\n",
        "      # Add bin edges and counts\n",
        "      for edge in bin_edges:\n",
        "          hist.bucket_limit.append(edge)\n",
        "      for c in counts:\n",
        "          hist.bucket.append(c)\n",
        "\n",
        "      # Create and write Summary\n",
        "      summary = tf.Summary(value=[tf.Summary.Value(tag=tag, histo=hist)])\n",
        "      self.writer.add_summary(summary, step)\n",
        "      self.writer.flush()"
      ],
      "execution_count": 0,
      "outputs": []
    },
    {
      "metadata": {
        "id": "4RpVEEA15zTr",
        "colab_type": "code",
        "colab": {
          "base_uri": "https://localhost:8080/",
          "height": 272
        },
        "outputId": "87e17f19-0e0f-4973-fddc-d765e6d8c932"
      },
      "cell_type": "code",
      "source": [
        "LOG_DIR = './logs/'\n",
        "get_ipython().system_raw(\n",
        "    'tensorboard --logdir {} --host 0.0.0.0 --port 6006 &'\n",
        "    .format(LOG_DIR)\n",
        ")\n",
        "\n",
        "\n",
        "! wget https://bin.equinox.io/c/4VmDzA7iaHb/ngrok-stable-linux-amd64.zip\n",
        "! unzip ngrok-stable-linux-amd64.zip\n",
        "get_ipython().system_raw('./ngrok http 6006 &')\n",
        "! curl -s http://localhost:4040/api/tunnels | python3 -c \\\n",
        "    \"import sys, json; print(json.load(sys.stdin)['tunnels'][0]['public_url'])\""
      ],
      "execution_count": 33,
      "outputs": [
        {
          "output_type": "stream",
          "text": [
            "--2019-03-12 21:56:00--  https://bin.equinox.io/c/4VmDzA7iaHb/ngrok-stable-linux-amd64.zip\n",
            "Resolving bin.equinox.io (bin.equinox.io)... 52.72.145.109, 52.72.250.2, 52.71.139.107, ...\n",
            "Connecting to bin.equinox.io (bin.equinox.io)|52.72.145.109|:443... connected.\n",
            "HTTP request sent, awaiting response... 200 OK\n",
            "Length: 14893410 (14M) [application/octet-stream]\n",
            "Saving to: ‘ngrok-stable-linux-amd64.zip.1’\n",
            "\n",
            "ngrok-stable-linux- 100%[===================>]  14.20M  4.02MB/s    in 3.5s    \n",
            "\n",
            "2019-03-12 21:56:04 (4.02 MB/s) - ‘ngrok-stable-linux-amd64.zip.1’ saved [14893410/14893410]\n",
            "\n",
            "Archive:  ngrok-stable-linux-amd64.zip\n",
            "replace ngrok? [y]es, [n]o, [A]ll, [N]one, [r]ename: y\n",
            "  inflating: ngrok                   \n",
            "https://ce982c38.ngrok.io\n"
          ],
          "name": "stdout"
        }
      ]
    },
    {
      "metadata": {
        "id": "VfwXjv8q5_Tc",
        "colab_type": "text"
      },
      "cell_type": "markdown",
      "source": [
        "## Running Average"
      ]
    },
    {
      "metadata": {
        "id": "zOBjt2Ve54XD",
        "colab_type": "code",
        "colab": {}
      },
      "cell_type": "code",
      "source": [
        "class RunningAverage ():\n",
        "    \"\"\"A simple class that maintains the running average of a quantity\n",
        "    Example:\n",
        "    ```\n",
        "    loss_avg = RunningAverage()\n",
        "    loss_avg.update(2)\n",
        "    loss_avg.update(4)\n",
        "    loss_avg() = 3\n",
        "    ```\n",
        "    \"\"\"\n",
        "\n",
        "    def __init__( self ):\n",
        "        self.steps = 0\n",
        "        self.total = 0\n",
        "\n",
        "    def update( self, val ):\n",
        "        self.total += val\n",
        "        self.steps += 1\n",
        "\n",
        "    def __call__( self ):\n",
        "        return self.total / float ( self.steps )"
      ],
      "execution_count": 0,
      "outputs": []
    },
    {
      "metadata": {
        "id": "93npoHJu6OjN",
        "colab_type": "text"
      },
      "cell_type": "markdown",
      "source": [
        "## GAN - Network \n",
        "\n",
        "A GAN is comprised of two adversarial networks, a discriminator and a generator."
      ]
    },
    {
      "metadata": {
        "id": "wzfl5Rjb6RK8",
        "colab_type": "text"
      },
      "cell_type": "markdown",
      "source": [
        "### Discriminator\n",
        "\n",
        "Discriminator is a linear classifier. In order for a universal function approximator, atleast one hidden layer having Leaky Relu activation function applied on its output.\n",
        "\n",
        "Leaky Relu - allows gradients to flow backwards through the layer unimpeded. A leaky Relu is like a normal ReLU except that there is a small non-zero output for negative input values\n",
        "\n",
        "Sigmoid Output:\n",
        "Stable loss function. - BCEWithLogistsLoss - which combines sigmoid activation function and binary cross entropy loss in one function.\n",
        "\n",
        "So final output layer should not have activation aplied to it.\n"
      ]
    },
    {
      "metadata": {
        "id": "IzvShG3E6CDj",
        "colab_type": "code",
        "colab": {}
      },
      "cell_type": "code",
      "source": [
        "class Discriminator(nn.Module):\n",
        "  \n",
        "  def __init__(self, input_size, hidden_dim, output_size):\n",
        "    super(Discriminator,self).__init__()\n",
        "    \n",
        "    ## hidden layers\n",
        "    self.fc1 = nn.Linear(input_size, hidden_dim*4)\n",
        "    self.fc2 = nn.Linear(hidden_dim*4, hidden_dim*2)\n",
        "    self.fc3 = nn.Linear(hidden_dim*2, hidden_dim)\n",
        "    \n",
        "    ## finally fully connected layer\n",
        "    self.fc4 = nn.Linear(hidden_dim, output_size)\n",
        "    \n",
        "    # dropout layer\n",
        "    self.dropout = nn.Dropout(0.3)\n",
        "    \n",
        "    \n",
        "  def forward(self,x):\n",
        "    ## flatten the image\n",
        "    x = x.view(-1,28*28)\n",
        "    \n",
        "    x = F.leaky_relu(self.fc1(x),0.2) #\n",
        "    x = self.dropout(x)\n",
        "    \n",
        "    x = F.leaky_relu(self.fc2(x),0.2) #\n",
        "    x = self.dropout(x)\n",
        "    \n",
        "    x = F.leaky_relu(self.fc3(x),0.2) #\n",
        "    x = self.dropout(x)\n",
        "    \n",
        "    out = self.fc4(x) #\n",
        "    \n",
        "    return out\n",
        "    \n",
        "    "
      ],
      "execution_count": 0,
      "outputs": []
    },
    {
      "metadata": {
        "id": "u46U0Ucp8TbC",
        "colab_type": "text"
      },
      "cell_type": "markdown",
      "source": [
        "### Generator\n",
        "\n",
        "Generator is exactly same as discriminator - except we are applying tanh activation to output layer"
      ]
    },
    {
      "metadata": {
        "id": "-50UHnSk8SNH",
        "colab_type": "code",
        "colab": {}
      },
      "cell_type": "code",
      "source": [
        "class Generator(nn.Module):\n",
        "\n",
        "    def __init__(self, input_size, hidden_dim, output_size):\n",
        "        super(Generator, self).__init__()\n",
        "        \n",
        "        # define hidden linear layers\n",
        "        self.fc1 = nn.Linear(input_size, hidden_dim)\n",
        "        self.fc2 = nn.Linear(hidden_dim, hidden_dim*2)\n",
        "        self.fc3 = nn.Linear(hidden_dim*2, hidden_dim*4)\n",
        "        \n",
        "        # final fully-connected layer\n",
        "        self.fc4 = nn.Linear(hidden_dim*4, output_size)\n",
        "        \n",
        "        # dropout layer \n",
        "        self.dropout = nn.Dropout(0.3)\n",
        "\n",
        "    def forward(self, x):\n",
        "        # all hidden layers\n",
        "        x = F.leaky_relu(self.fc1(x), 0.2) # (input, negative_slope=0.2)\n",
        "        x = self.dropout(x)\n",
        "        x = F.leaky_relu(self.fc2(x), 0.2)\n",
        "        x = self.dropout(x)\n",
        "        x = F.leaky_relu(self.fc3(x), 0.2)\n",
        "        x = self.dropout(x)\n",
        "        # final layer with tanh applied\n",
        "        out = torch.tanh(self.fc4(x))\n",
        "\n",
        "        return out"
      ],
      "execution_count": 0,
      "outputs": []
    },
    {
      "metadata": {
        "id": "Gbkm0Rrl8oxY",
        "colab_type": "text"
      },
      "cell_type": "markdown",
      "source": [
        "### Model Parameters"
      ]
    },
    {
      "metadata": {
        "id": "Ogh-gzba8nNu",
        "colab_type": "code",
        "colab": {}
      },
      "cell_type": "code",
      "source": [
        "params = {\n",
        "    ## Discriminator params\n",
        "    \n",
        "    \"input_size\": 784,\n",
        "    \"d_output_size\":1,\n",
        "    \"d_hidden_size\":32,\n",
        "    \n",
        "    ## Generator params\n",
        "    ## latent vector\n",
        "    \"z_size\":100,\n",
        "    \"g_output_size\":784,\n",
        "    \"g_hidden_size\":32\n",
        "}\n",
        "\n"
      ],
      "execution_count": 0,
      "outputs": []
    },
    {
      "metadata": {
        "id": "StcMrLom86Ne",
        "colab_type": "code",
        "colab": {}
      },
      "cell_type": "code",
      "source": [
        "D = Discriminator(params.get(\"input_size\"),params.get(\"d_hidden_size\"),params.get(\"d_output_size\"))\n",
        "G = Generator(params.get(\"z_size\"),params.get(\"g_hidden_size\"),params.get(\"g_output_size\"))\n",
        "\n",
        "if is_cuda:\n",
        "  D = D.to(device)\n",
        "  G = G.to(device)"
      ],
      "execution_count": 0,
      "outputs": []
    },
    {
      "metadata": {
        "id": "ELuHBXsq9YpF",
        "colab_type": "code",
        "colab": {
          "base_uri": "https://localhost:8080/",
          "height": 272
        },
        "outputId": "ad964960-4866-4acc-e7af-3c785b155498"
      },
      "cell_type": "code",
      "source": [
        "print(D)\n",
        "print()\n",
        "print(G)"
      ],
      "execution_count": 72,
      "outputs": [
        {
          "output_type": "stream",
          "text": [
            "Discriminator(\n",
            "  (fc1): Linear(in_features=784, out_features=128, bias=True)\n",
            "  (fc2): Linear(in_features=128, out_features=64, bias=True)\n",
            "  (fc3): Linear(in_features=64, out_features=32, bias=True)\n",
            "  (fc4): Linear(in_features=32, out_features=1, bias=True)\n",
            "  (dropout): Dropout(p=0.3)\n",
            ")\n",
            "\n",
            "Generator(\n",
            "  (fc1): Linear(in_features=100, out_features=32, bias=True)\n",
            "  (fc2): Linear(in_features=32, out_features=64, bias=True)\n",
            "  (fc3): Linear(in_features=64, out_features=128, bias=True)\n",
            "  (fc4): Linear(in_features=128, out_features=784, bias=True)\n",
            "  (dropout): Dropout(p=0.3)\n",
            ")\n"
          ],
          "name": "stdout"
        }
      ]
    },
    {
      "metadata": {
        "id": "GDCnMnZk9gnf",
        "colab_type": "text"
      },
      "cell_type": "markdown",
      "source": [
        "### Loss functions\n",
        "\n",
        "d_loss = d_real_loss + d_fake_loss"
      ]
    },
    {
      "metadata": {
        "id": "fH4AuNR79e7m",
        "colab_type": "code",
        "colab": {}
      },
      "cell_type": "code",
      "source": [
        "## Calculate Losses\n",
        "def real_loss(D_out, smooth = False):\n",
        "  batch_size  = D_out.size(0)\n",
        "  if smooth:\n",
        "    labels = torch.ones(batch_size)*0.9\n",
        "  else:\n",
        "    labels = torch.ones(batch_size) ## real labels\n",
        "  \n",
        "  labels = labels.to(device)\n",
        "  ## numerically stable loss\n",
        "  criterion = nn.BCEWithLogitsLoss()\n",
        "  # calculate loss\n",
        "  loss = criterion(D_out.squeeze(),labels)\n",
        "  return loss\n",
        "\n",
        "\n",
        "\n",
        "\"\"\"\n",
        "Fake loss - generator outputs\n",
        "\"\"\"\n",
        "def fake_loss(D_out):\n",
        "  batch_size = D_out.size(0)\n",
        "  labels = torch.zeros(batch_size).to(device)\n",
        "  criterion = nn.BCEWithLogitsLoss()\n",
        "  # calculate loss\n",
        "  loss = criterion(D_out.squeeze(),labels)\n",
        "  return loss\n",
        "  "
      ],
      "execution_count": 0,
      "outputs": []
    },
    {
      "metadata": {
        "id": "RqMoDaZI-YiO",
        "colab_type": "text"
      },
      "cell_type": "markdown",
      "source": [
        "### Optimizers"
      ]
    },
    {
      "metadata": {
        "id": "sQORrmTk-XP7",
        "colab_type": "code",
        "colab": {}
      },
      "cell_type": "code",
      "source": [
        "import torch.optim as optim\n",
        "\n",
        "lr = 0.002\n",
        "\n",
        "## two optimizers\n",
        "d_optimizer = optim.Adam(D.parameters(), lr)\n",
        "g_optimizer = optim.Adam(G.parameters(),lr)"
      ],
      "execution_count": 0,
      "outputs": []
    },
    {
      "metadata": {
        "id": "uAw_pvq6-mDM",
        "colab_type": "text"
      },
      "cell_type": "markdown",
      "source": [
        "## Training\n",
        "\n",
        "Training\n",
        "Training will involve alternating between training the discriminator and the generator. We'll use our functions real_loss and fake_loss to help us calculate the discriminator losses in all of the following cases.\n",
        "\n",
        "Discriminator training\n",
        "Compute the discriminator loss on real, training images\n",
        "Generate fake images\n",
        "Compute the discriminator loss on fake, generated images\n",
        "Add up real and fake loss\n",
        "Perform backpropagation + an optimization step to update the discriminator's weights\n",
        "Generator training\n",
        "Generate fake images\n",
        "Compute the discriminator loss on fake images, using flipped labels!\n",
        "Perform backpropagation + an optimization step to update the generator's weights"
      ]
    },
    {
      "metadata": {
        "id": "lKbv8tck-kv7",
        "colab_type": "code",
        "colab": {
          "base_uri": "https://localhost:8080/",
          "height": 357
        },
        "outputId": "462c379d-d215-41f9-cb3f-6346b0aad959"
      },
      "cell_type": "code",
      "source": [
        "import pickle as pkl\n",
        "import torch.nn.functional as F\n",
        "\n",
        "## Tensorboard logger\n",
        "logger = TensorBoardLogger(\"./logs\") \n",
        "\n",
        "## training params\n",
        "num_epochs = 10\n",
        "\n",
        "## samples\n",
        "samples = []\n",
        "losses = []\n",
        "\n",
        "log_interval = 300\n",
        "\n",
        "sample_size = 16\n",
        "fixed_z = np.random.uniform(-1,1,size=(sample_size,params.get(\"z_size\")))\n",
        "fixed_z  = torch.from_numpy(fixed_z).float()\n",
        "fixed_z = fixed_z.to(device)\n",
        "\n",
        "D.train()\n",
        "G.train()\n",
        "\n",
        "for epoch in range(num_epochs):\n",
        "  for batch_i, (real_images, _) in enumerate(train_loader):\n",
        "    \n",
        "    batch_size = real_images.size(0)\n",
        "    \n",
        "    real_images = real_images*2 - 1 ## rescale\n",
        "    real_images = Variable(real_images.to(device))\n",
        "    \n",
        "    #### Train Discriminator\n",
        "    d_optimizer.zero_grad()\n",
        "    \n",
        "    D_real = D(real_images)\n",
        "    d_real_loss = real_loss(D_real, smooth = True)\n",
        "    \n",
        "    ## Generate fake images\n",
        "    z = np.random.uniform(-1,1,size=(batch_size,params.get(\"z_size\")))\n",
        "    z = Variable(torch.from_numpy(z).float()).to(device)\n",
        "    fake_images  = G(z)\n",
        "    \n",
        "    \n",
        "    ## compute discriminator loss\n",
        "    D_fake = D(fake_images)\n",
        "    d_fake_loss = fake_loss(D_fake)\n",
        "    \n",
        "    ## total loss of discriminator - real + fake\n",
        "    d_loss = d_real_loss + d_fake_loss\n",
        "    d_loss.backward()\n",
        "    d_optimizer.step()\n",
        "    \n",
        "    ## Train Generator\n",
        "    g_optimizer.zero_grad()\n",
        "    ## Generate fake images\n",
        "    z = np.random.uniform(-1,1,size=(batch_size,params.get(\"z_size\")))\n",
        "    z = Variable(torch.from_numpy(z).float()).to(device)\n",
        "    fake_images = G(z)\n",
        "    \n",
        "    D_fake = D(fake_images)\n",
        "    g_loss = real_loss(D_fake)\n",
        "    \n",
        "    g_loss.backward()\n",
        "    g_optimizer.step()\n",
        "    \n",
        "    if batch_i % log_interval == 0:\n",
        "            # print discriminator and generator loss\n",
        "            print('Epoch [{:5d}/{:5d}] | d_loss: {:6.4f} | g_loss: {:6.4f}'.format(\n",
        "                    epoch+1, num_epochs, d_loss.item(), g_loss.item()))\n",
        "          \n",
        "          \n",
        "    # 1. Log scalar values (scalar summary)\n",
        "    info = { 'g_loss': g_loss, 'd_loss': d_loss }\n",
        "\n",
        "    for tag, value in info.items():\n",
        "      logger.scalar_summary(tag, value, epoch+1)\n",
        "\n",
        "    # 2. Log values and gradients of the parameters (histogram summary)\n",
        "    for tag, value in D.named_parameters():\n",
        "      tag = tag.replace('.', '/')\n",
        "      logger.histo_summary(tag, value.data.cpu().numpy(), epoch+1)\n",
        "      logger.histo_summary(tag+'/grad', value.grad.data.cpu().numpy(), epoch+1)\n",
        "      \n",
        "    # 2. Log values and gradients of the parameters (histogram summary)\n",
        "    for tag, value in G.named_parameters():\n",
        "      tag = tag.replace('.', '/')\n",
        "      logger.histo_summary(tag, value.data.cpu().numpy(), epoch+1)\n",
        "      logger.histo_summary(tag+'/grad', value.grad.data.cpu().numpy(), epoch+1)\n",
        "      \n",
        "\n",
        "    \n",
        "    ## AFTER EACH EPOCH##\n",
        "    # append discriminator loss and generator loss\n",
        "    losses.append((d_loss.item(), g_loss.item()))\n",
        "    \n",
        "    # generate and save sample, fake images\n",
        "    G.eval() # eval mode for generating samples\n",
        "    samples_z = G(fixed_z)\n",
        "    samples.append(samples_z)\n",
        "    G.train() # back to train mode\n",
        "    \n",
        "    # 3. Log training images (image summary)\n",
        "    info = { 'images': fake_images.detach().view(-1, 28, 28)[:10].cpu().numpy() }\n",
        "\n",
        "    for tag, images in info.items():\n",
        "      logger.image_summary(tag, images, epoch+1)\n",
        "    \n",
        "    \n",
        "    \n",
        "# Save training generator samples\n",
        "with open('train_samples.pkl', 'wb') as f:\n",
        "    pkl.dump(samples, f)\n",
        "    "
      ],
      "execution_count": 73,
      "outputs": [
        {
          "output_type": "stream",
          "text": [
            "Epoch [    1/   10] | d_loss: 1.3596 | g_loss: 0.7662\n",
            "Epoch [    1/   10] | d_loss: 1.3604 | g_loss: 0.7655\n",
            "Epoch [    2/   10] | d_loss: 1.3588 | g_loss: 0.7655\n",
            "Epoch [    2/   10] | d_loss: 1.3616 | g_loss: 0.7672\n",
            "Epoch [    3/   10] | d_loss: 1.3591 | g_loss: 0.7652\n",
            "Epoch [    3/   10] | d_loss: 1.3619 | g_loss: 0.7659\n",
            "Epoch [    4/   10] | d_loss: 1.3480 | g_loss: 0.7642\n",
            "Epoch [    4/   10] | d_loss: 1.3654 | g_loss: 0.7663\n",
            "Epoch [    5/   10] | d_loss: 1.3572 | g_loss: 0.7676\n",
            "Epoch [    5/   10] | d_loss: 1.3597 | g_loss: 0.7657\n",
            "Epoch [    6/   10] | d_loss: 1.3696 | g_loss: 0.7650\n",
            "Epoch [    6/   10] | d_loss: 1.3517 | g_loss: 0.7670\n",
            "Epoch [    7/   10] | d_loss: 1.3545 | g_loss: 0.7661\n",
            "Epoch [    7/   10] | d_loss: 1.3556 | g_loss: 0.7655\n",
            "Epoch [    8/   10] | d_loss: 1.3509 | g_loss: 0.7645\n",
            "Epoch [    8/   10] | d_loss: 1.3563 | g_loss: 0.7659\n",
            "Epoch [    9/   10] | d_loss: 1.3543 | g_loss: 0.7651\n",
            "Epoch [    9/   10] | d_loss: 1.3563 | g_loss: 0.7652\n",
            "Epoch [   10/   10] | d_loss: 1.3590 | g_loss: 0.7658\n",
            "Epoch [   10/   10] | d_loss: 1.3568 | g_loss: 0.7663\n"
          ],
          "name": "stdout"
        }
      ]
    },
    {
      "metadata": {
        "id": "DpPNI2LVAU_A",
        "colab_type": "code",
        "colab": {}
      },
      "cell_type": "code",
      "source": [
        ""
      ],
      "execution_count": 0,
      "outputs": []
    },
    {
      "metadata": {
        "id": "7R99mOalFD_6",
        "colab_type": "text"
      },
      "cell_type": "markdown",
      "source": [
        "## Loss plots\n"
      ]
    },
    {
      "metadata": {
        "id": "Y7FVV4r5FG25",
        "colab_type": "code",
        "colab": {
          "base_uri": "https://localhost:8080/",
          "height": 381
        },
        "outputId": "0b17f6b3-80b0-4734-d91c-b62350e0f4e6"
      },
      "cell_type": "code",
      "source": [
        "fig, ax = plt.subplots()\n",
        "losses = np.array(losses)\n",
        "plt.plot(losses.T[0], label='Discriminator')\n",
        "plt.plot(losses.T[1], label='Generator')\n",
        "plt.title(\"Training Losses\")\n",
        "plt.legend()"
      ],
      "execution_count": 74,
      "outputs": [
        {
          "output_type": "execute_result",
          "data": {
            "text/plain": [
              "<matplotlib.legend.Legend at 0x7f4919f43588>"
            ]
          },
          "metadata": {
            "tags": []
          },
          "execution_count": 74
        },
        {
          "output_type": "display_data",
          "data": {
            "image/png": "[encoded data removed]",
            "text/plain": [
              "<Figure size 576x396 with 1 Axes>"
            ]
          },
          "metadata": {
            "tags": []
          }
        }
      ]
    },
    {
      "metadata": {
        "id": "ZfNZf2dEFMbp",
        "colab_type": "text"
      },
      "cell_type": "markdown",
      "source": [
        "## Samples\n",
        "\n"
      ]
    },
    {
      "metadata": {
        "id": "hK6414yUFOqe",
        "colab_type": "code",
        "colab": {
          "base_uri": "https://localhost:8080/",
          "height": 411
        },
        "outputId": "a079dae3-420c-4052-cd9f-73be51539fe5"
      },
      "cell_type": "code",
      "source": [
        "# helper function for viewing a list of passed in sample images\n",
        "def view_samples(epoch, samples):\n",
        "    fig, axes = plt.subplots(figsize=(7,7), nrows=4, ncols=4, sharey=True, sharex=True)\n",
        "    for ax, img in zip(axes.flatten(), samples[epoch]):\n",
        "        img = img.detach().cpu()\n",
        "        ax.xaxis.set_visible(False)\n",
        "        ax.yaxis.set_visible(False)\n",
        "        im = ax.imshow(img.reshape((28,28)), cmap='Greys_r')\n",
        "        \n",
        "## Load samples\n",
        "# Load samples from generator, taken while training\n",
        "with open('train_samples.pkl', 'rb') as f:\n",
        "    samples = pkl.load(f)\n",
        "\n",
        "# -1 indicates final epoch's samples (the last in the list)\n",
        "view_samples(-1, samples)\n"
      ],
      "execution_count": 77,
      "outputs": [
        {
          "output_type": "display_data",
          "data": {
            "image/png": "[encoded data removed]",
            "text/plain": [
              "<Figure size 504x504 with 16 Axes>"
            ]
          },
          "metadata": {
            "tags": []
          }
        }
      ]
    },
    {
      "metadata": {
        "id": "9W4uBO4sHBlK",
        "colab_type": "code",
        "colab": {}
      },
      "cell_type": "code",
      "source": [
        ""
      ],
      "execution_count": 0,
      "outputs": []
    }
  ]
}