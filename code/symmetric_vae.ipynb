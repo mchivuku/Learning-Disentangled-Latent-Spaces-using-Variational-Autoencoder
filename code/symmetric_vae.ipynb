{
 "cells": [
  {
   "cell_type": "markdown",
   "metadata": {
    "colab_type": "text",
    "id": "p6lHqYC9CItE"
   },
   "source": [
    "# Symmetric VAE - pytorch\n",
    "This is the implementation for AISTATS 2018 paper:\n",
    "\n",
    "[Symmetric Variational Autoencoder and Connections to Adversarial Learning](https://arxiv.org/pdf/1709.01846.pdf)\n",
    "\n",
    "Code adapted from: https://github.com/LiqunChen0606/Symmetric-VAE"
   ]
  },
  {
   "cell_type": "code",
   "execution_count": 0,
   "metadata": {
    "colab": {
     "base_uri": "https://localhost:8080/",
     "height": 34
    },
    "colab_type": "code",
    "id": "lhhSJDgfCMTd",
    "outputId": "1779bc49-7b90-490d-c438-934fbeb9fe56"
   },
   "outputs": [
    {
     "name": "stdout",
     "output_type": "stream",
     "text": [
      "Drive already mounted at /content/drive; to attempt to forcibly remount, call drive.mount(\"/content/drive\", force_remount=True).\n"
     ]
    }
   ],
   "source": [
    "from google.colab import drive\n",
    "drive.mount('/content/drive')\n",
    "\n",
    "\n",
    "%cd /content/drive/My\\ Drive/Masters-DS/CSCI-B659/project/symmetric-vae"
   ]
  },
  {
   "cell_type": "markdown",
   "metadata": {
    "colab_type": "text",
    "id": "pGWGxZ9cDsRS"
   },
   "source": [
    "## Import Libraries"
   ]
  },
  {
   "cell_type": "code",
   "execution_count": 0,
   "metadata": {
    "colab": {
     "base_uri": "https://localhost:8080/",
     "height": 68
    },
    "colab_type": "code",
    "id": "XSqxzFBxDtbj",
    "outputId": "443a3923-d105-4ae4-aeba-5bb27e766c40"
   },
   "outputs": [
    {
     "name": "stdout",
     "output_type": "stream",
     "text": [
      "Torch 1.0.1.post2 CUDA 10.0.130\n",
      "Device: cuda:0\n",
      "True\n"
     ]
    }
   ],
   "source": [
    "from glob import glob\n",
    "import os\n",
    "import numpy as np\n",
    "import matplotlib.pyplot as plt\n",
    "import shutil\n",
    "from torchvision import transforms\n",
    "from torchvision import models\n",
    "import torchvision\n",
    "import torch\n",
    "from torch.autograd import Variable\n",
    "import torch.nn as nn\n",
    "from torch.optim import lr_scheduler\n",
    "from torch import optim\n",
    "from torchvision.datasets import ImageFolder\n",
    "from torchvision.utils import make_grid\n",
    "import time\n",
    "from torchvision import datasets,transforms\n",
    "import torch.nn.functional as F\n",
    "import torch.optim as optim\n",
    "\n",
    "\n",
    "import os\n",
    "from torchvision.utils import save_image\n",
    "#import torchnet as tnt\n",
    "\n",
    "## Plotting library\n",
    "from matplotlib.offsetbox import OffsetImage, AnnotationBbox\n",
    "from matplotlib.backends.backend_agg import FigureCanvasAgg as FigureCanvas\n",
    "import matplotlib.gridspec as gridspec\n",
    "import cv2\n",
    "from scipy.stats import norm\n",
    "from sklearn import manifold\n",
    "\n",
    "plt.style.use('seaborn')\n",
    "%matplotlib inline\n",
    "\n",
    "print('Torch', torch.__version__, 'CUDA', torch.version.cuda)\n",
    "print('Device:', torch.device('cuda:0'))\n",
    "print(torch.cuda.is_available())\n",
    "\n",
    "is_cuda = torch.cuda.is_available()\n",
    "device = torch.device ( \"cuda:0\" if torch.cuda.is_available () else \"cpu\" )"
   ]
  },
  {
   "cell_type": "code",
   "execution_count": 0,
   "metadata": {
    "colab": {
     "base_uri": "https://localhost:8080/",
     "height": 34
    },
    "colab_type": "code",
    "id": "Mhrf-fUgDvyR",
    "outputId": "a5dc742b-7501-4318-c9e5-1d4ebf145c14"
   },
   "outputs": [
    {
     "data": {
      "text/plain": [
       "'/content/drive/My Drive/Masters-DS/CSCI-B659/project/symmetric-vae'"
      ]
     },
     "execution_count": 45,
     "metadata": {
      "tags": []
     },
     "output_type": "execute_result"
    }
   ],
   "source": [
    "%pwd\n"
   ]
  },
  {
   "cell_type": "markdown",
   "metadata": {
    "colab_type": "text",
    "id": "0hgIYx18D_zb"
   },
   "source": [
    "## Plotting Libraries"
   ]
  },
  {
   "cell_type": "code",
   "execution_count": 0,
   "metadata": {
    "colab": {
     "base_uri": "https://localhost:8080/",
     "height": 34
    },
    "colab_type": "code",
    "id": "_317fY6XEBez",
    "outputId": "0f5a21f5-b557-4a97-d07a-42015eebe545"
   },
   "outputs": [
    {
     "name": "stdout",
     "output_type": "stream",
     "text": [
      "cifar_h5  \u001b[0m\u001b[01;34mdata\u001b[0m/  \u001b[01;34mlogs\u001b[0m/  \u001b[01;34mmodel\u001b[0m/  url.txt  visdomlog.txt\n"
     ]
    }
   ],
   "source": [
    "## Show image\n",
    "def imshow(img,title=None):\n",
    "  \"\"\"Imshow for Tensor.\"\"\"\n",
    "  img = img.numpy().transpose((1,2,0))\n",
    "  mean = np.array([0.485, 0.456, 0.406])\n",
    "  std = np.array([0.229, 0.224, 0.225])\n",
    "  img = std * img + mean # normalize\n",
    "  img = np.clip(img, 0, 1) # clip image\n",
    "  plt.figure(figsize=(16,4))\n",
    "  plt.axis('off')\n",
    "  plt.imshow(img)\n",
    "  \n",
    "  if title is not None:\n",
    "    plt.title(title)         \n",
    "  \n",
    "def plot_grid(inputs):\n",
    "  # Make a grid from batch \n",
    "  out = torchvision.utils.make_grid(inputs,10,10)\n",
    "  imshow(out, title=\"\")\n",
    "  \n",
    "## Visualize some images in the dataset\n",
    "def visualizeDataset(X):\n",
    "  for i,image in enumerate(X):\n",
    "    cv2.imshow(str(i),image)\n",
    "    cv2.waitKey()\n",
    "    cv2.destroyAllWindows()\n",
    "\n",
    "def plot_loss(y, title):\n",
    "  plt.figure()\n",
    "  plt.plot(y)\n",
    "  plt.title(title)\n",
    "  plt.xlabel('epochs')\n",
    "  plt.ylabel('Loss')\n",
    "  \n",
    "def plot_accuracy(y, title):\n",
    "  plt.figure()\n",
    "  plt.plot(y)\n",
    "  plt.title(title)\n",
    "  plt.xlabel('epochs')\n",
    "  plt.ylabel('accuracy')\n",
    "  \n",
    "\n",
    "## Scatter Plot\n",
    "def scatterplot(x, y, ax, imageData, zoom):\n",
    "  images = []\n",
    "  imageSize = 28\n",
    "  for i in range(len(x)):\n",
    "    x0, y0 = x[i], y[i]\n",
    "    \n",
    "    # Convert to image\n",
    "    img = imageData[i]*255.\n",
    "    img = (img).numpy()\n",
    "    img = img.astype(np.uint8).reshape([imageSize,imageSize])\n",
    "    img = cv2.cvtColor(img,cv2.COLOR_GRAY2RGB)\n",
    "    \n",
    "    # Note: OpenCV uses BGR and plt uses RGB\n",
    "    image = OffsetImage(img, zoom=zoom)\n",
    "    ab = AnnotationBbox(image, (x0, y0), xycoords='data', frameon=False)\n",
    "    images.append(ax.add_artist(ab))\n",
    "    \n",
    "  ax.update_datalim(np.column_stack([x, y]))\n",
    "  ax.autoscale()\n",
    "  \n",
    "  \n",
    "import seaborn as sns\n",
    "palette = np.array(sns.color_palette(\"hls\", 10))\n",
    "\n",
    "def plot_scatter(projection,labels):\n",
    "    plt.scatter(projection[:,0], projection[:,1],c=[palette[i] for i in labels])\n",
    "    \n",
    "  \n",
    "  \n",
    "# Show dataset images with T-sne projection of pixel space\n",
    "def tsne_projection_latent_space(X, image_size, display=True):\n",
    "    # Compute t-SNE embedding of latent space\n",
    "    \n",
    "    \n",
    "    tsne = manifold.TSNE(n_components=2, init='pca', random_state=0)\n",
    "    X_tsne = tsne.fit_transform(X.reshape([-1,image_size*image_size*1]))\n",
    "\n",
    "    # Plot images according to t-sne embedding\n",
    "    if display:\n",
    "        \n",
    "        fig, ax = plt.subplots()\n",
    "        scatterplot(X_tsne[:, 0], X_tsne[:, 1], imageData=X, ax=ax, zoom=0.6)\n",
    "        plt.show()\n",
    "    else:\n",
    "        return X_tsne\n",
    "      \n",
    "      \n",
    "# Show dataset images with T-sne projection of pixel space\n",
    "def tsne_projection_latent_space2(X, Y, image_size, display=True):\n",
    "    # Compute t-SNE embedding of latent space\n",
    "    \n",
    "    print(\"tsne projection of latent space...\")\n",
    "    tsne = manifold.TSNE(n_components=2, init='pca', random_state=0)\n",
    "    X_tsne = tsne.fit_transform(X.reshape([-1,image_size*image_size*1]))\n",
    "\n",
    "    # Plot images according to t-sne embedding\n",
    "    if display:\n",
    "        print(\"Plotting t-SNE visualization...\")\n",
    "        fig, ax = plt.subplots()\n",
    "        plot_scatter(X_tsne, Y)\n",
    "        plt.show\n",
    "        \n",
    "        \n",
    "    else:\n",
    "        return X_tsne\n",
    "      \n",
    "#os.makedirs(\"./logs\")\n",
    "%ls"
   ]
  },
  {
   "cell_type": "markdown",
   "metadata": {
    "colab_type": "text",
    "id": "jufWsddHEFEQ"
   },
   "source": [
    "## TensorBoard Utilities"
   ]
  },
  {
   "cell_type": "code",
   "execution_count": 0,
   "metadata": {
    "colab": {
     "base_uri": "https://localhost:8080/",
     "height": 272
    },
    "colab_type": "code",
    "id": "rDbLsHRCEB0W",
    "outputId": "b0dbb9f1-f7b8-4d5d-e7aa-a7441ab04a8c"
   },
   "outputs": [
    {
     "name": "stdout",
     "output_type": "stream",
     "text": [
      "cifar_h5  \u001b[0m\u001b[01;34mdata\u001b[0m/  \u001b[01;34mlogs\u001b[0m/  \u001b[01;34mmodel\u001b[0m/  url.txt  visdomlog.txt\n",
      "--2019-04-19 21:35:53--  https://bin.equinox.io/c/4VmDzA7iaHb/ngrok-stable-linux-amd64.zip\n",
      "Resolving bin.equinox.io (bin.equinox.io)... 52.200.123.104, 52.73.9.93, 52.21.103.149, ...\n",
      "Connecting to bin.equinox.io (bin.equinox.io)|52.200.123.104|:443... connected.\n",
      "HTTP request sent, awaiting response... 200 OK\n",
      "Length: 14977695 (14M) [application/octet-stream]\n",
      "Saving to: ‘ngrok-stable-linux-amd64.zip’\n",
      "\n",
      "ngrok-stable-linux- 100%[===================>]  14.28M  38.2MB/s    in 0.4s    \n",
      "\n",
      "2019-04-19 21:35:53 (38.2 MB/s) - ‘ngrok-stable-linux-amd64.zip’ saved [14977695/14977695]\n",
      "\n",
      "Archive:  ngrok-stable-linux-amd64.zip\n",
      "  inflating: ngrok                   \n",
      "http://70a5934e.ngrok.io\n"
     ]
    }
   ],
   "source": [
    "import tensorflow as tf\n",
    "import numpy as np\n",
    "import scipy.misc \n",
    "from PIL import Image \n",
    "try:\n",
    "    from StringIO import StringIO  # Python 2.7\n",
    "except ImportError:\n",
    "    from io import BytesIO         # Python 3.x\n",
    "\n",
    "## Import tensor flow library\n",
    "class TensorBoardLogger(object):\n",
    "  \n",
    "  \"\"\"\n",
    "  Initialize the summary writer\n",
    "  \"\"\"\n",
    "  def __init__(self, log_dir):\n",
    "    \"create summary writer\"\n",
    "    self.writer = tf.summary.FileWriter(log_dir)\n",
    "  \n",
    "  \"\"\"\n",
    "  Add scalar\n",
    "  \"\"\"\n",
    "  def scalar_summary(self, tag, value, step):\n",
    "    summary = tf.Summary(value=[tf.Summary.Value(tag=tag, simple_value=value)])\n",
    "    self.writer.add_summary(summary,step)\n",
    "    \n",
    "  \"\"\"\n",
    "  Add images\n",
    "  \"\"\"\n",
    "  def image_summary(self, tag, images, step):\n",
    "    \"\"\"Log a list of images.\"\"\"\n",
    "\n",
    "    img_summaries = []\n",
    "    for i, img in enumerate(images):\n",
    "        s = BytesIO()\n",
    "        \n",
    "        new_p = Image.fromarray(img)\n",
    "        if new_p.mode != 'L':\n",
    "          new_p = new_p.convert('L')\n",
    "    \n",
    "        new_p.save(s, format=\"png\")\n",
    "\n",
    "        # Create an Image object\n",
    "        img_sum = tf.Summary.Image(encoded_image_string=s.getvalue(),\n",
    "                                   height=img.shape[0],\n",
    "                                   width=img.shape[1])\n",
    "        # Create a Summary value\n",
    "        img_summaries.append(tf.Summary.Value(tag='%s/%d' % (tag, i), image=img_sum))\n",
    "\n",
    "    # Create and write Summary\n",
    "    summary = tf.Summary(value=img_summaries)\n",
    "    self.writer.add_summary(summary, step)\n",
    "        \n",
    "  def histo_summary(self, tag, values, step, bins=1000):\n",
    "      \"\"\"Log a histogram of the tensor of values.\"\"\"\n",
    "\n",
    "      # Create a histogram using numpy\n",
    "      counts, bin_edges = np.histogram(values, bins=bins)\n",
    "\n",
    "      # Fill the fields of the histogram proto\n",
    "      hist = tf.HistogramProto()\n",
    "      hist.min = float(np.min(values))\n",
    "      hist.max = float(np.max(values))\n",
    "      hist.num = int(np.prod(values.shape))\n",
    "      hist.sum = float(np.sum(values))\n",
    "      hist.sum_squares = float(np.sum(values**2))\n",
    "\n",
    "      # Drop the start of the first bin\n",
    "      bin_edges = bin_edges[1:]\n",
    "\n",
    "      # Add bin edges and counts\n",
    "      for edge in bin_edges:\n",
    "          hist.bucket_limit.append(edge)\n",
    "      for c in counts:\n",
    "          hist.bucket.append(c)\n",
    "\n",
    "      # Create and write Summary\n",
    "      summary = tf.Summary(value=[tf.Summary.Value(tag=tag, histo=hist)])\n",
    "      self.writer.add_summary(summary, step)\n",
    "      self.writer.flush()\n",
    "      \n",
    "      \n",
    "      \n",
    "import os\n",
    "\n",
    "def make_dirs(dirname):\n",
    "  if not os.path.exists(dirname):\n",
    "    os.makedirs(dirname)\n",
    "    \n",
    "    \n",
    "#make_dirs(\"logs\")\n",
    "%ls\n",
    "\n",
    "## Logging\n",
    "LOG_DIR = './logs'\n",
    "get_ipython().system_raw(\n",
    "    'tensorboard --logdir {} --host 0.0.0.0 --port 6006 &'\n",
    "    .format(LOG_DIR)\n",
    ")\n",
    "\n",
    "! wget https://bin.equinox.io/c/4VmDzA7iaHb/ngrok-stable-linux-amd64.zip\n",
    "! unzip ngrok-stable-linux-amd64.zip\n",
    "get_ipython().system_raw('./ngrok http 6006 &')\n",
    "! curl -s http://localhost:4040/api/tunnels | python3 -c \\\n",
    "    \"import sys, json; print(json.load(sys.stdin)['tunnels'][0]['public_url'])\"\n",
    "      "
   ]
  },
  {
   "cell_type": "markdown",
   "metadata": {
    "colab_type": "text",
    "id": "RSgW9nn7EnDG"
   },
   "source": [
    "## Params"
   ]
  },
  {
   "cell_type": "code",
   "execution_count": 0,
   "metadata": {
    "colab": {
     "base_uri": "https://localhost:8080/",
     "height": 34
    },
    "colab_type": "code",
    "id": "jlDIWDtyEHG2",
    "outputId": "8027e837-e9fc-4c6f-8707-d8e2f23def15"
   },
   "outputs": [
    {
     "data": {
      "text/plain": [
       "<torch._C.Generator at 0x7fcc9c5e2eb0>"
      ]
     },
     "execution_count": 48,
     "metadata": {
      "tags": []
     },
     "output_type": "execute_result"
    }
   ],
   "source": [
    "class Params:\n",
    "  n_epochs = 101 ## number of epochs\n",
    "  mb_size = 64 ## mini batch size \n",
    "  lr = 1e-4 ## learning rate\n",
    "  Z_dim = 128 * 2\n",
    "  pa, pb = 0., 0.\n",
    "  lamb = 1.\n",
    "  \n",
    "\n",
    "torch.manual_seed(5)"
   ]
  },
  {
   "cell_type": "code",
   "execution_count": 0,
   "metadata": {
    "colab": {},
    "colab_type": "code",
    "id": "hodcATM1En_e"
   },
   "outputs": [],
   "source": [
    "def log(x):\n",
    "    return torch.log(x + 1e-8)\n"
   ]
  },
  {
   "cell_type": "markdown",
   "metadata": {
    "colab_type": "text",
    "id": "zM-8Dx7LF_nN"
   },
   "source": [
    "## Data Loader"
   ]
  },
  {
   "cell_type": "code",
   "execution_count": 0,
   "metadata": {
    "colab": {
     "base_uri": "https://localhost:8080/",
     "height": 34
    },
    "colab_type": "code",
    "id": "gRIl4nm6FyTz",
    "outputId": "186598e8-0e33-4e08-cdf6-213e22b9ff01"
   },
   "outputs": [
    {
     "name": "stdout",
     "output_type": "stream",
     "text": [
      "Files already downloaded and verified\n"
     ]
    }
   ],
   "source": [
    "transform = transforms.Compose(\n",
    "    [transforms.ToTensor(),\n",
    "     transforms.Normalize((0.5, 0.5, 0.5), (0.5, 0.5, 0.5))])\n",
    "\n",
    "trainset = torchvision.datasets.CIFAR10(root='./data', train=True,\n",
    "                                        download=True, transform=transform)\n",
    "trainloader = torch.utils.data.DataLoader(trainset, batch_size=Params.mb_size,\n",
    "                                          shuffle=True, num_workers=2)\n"
   ]
  },
  {
   "cell_type": "code",
   "execution_count": 0,
   "metadata": {
    "colab": {
     "base_uri": "https://localhost:8080/",
     "height": 286
    },
    "colab_type": "code",
    "id": "1SrKKyx1GAuA",
    "outputId": "d66f9ab4-73b1-4c87-ec01-d0a5878933fc"
   },
   "outputs": [
    {
     "data": {
      "image/png": "[encoded data removed]",
      "text/plain": [
       "<Figure size 432x288 with 1 Axes>"
      ]
     },
     "metadata": {
      "tags": []
     },
     "output_type": "display_data"
    },
    {
     "name": "stdout",
     "output_type": "stream",
     "text": [
      "  dog  frog plane truck\n"
     ]
    }
   ],
   "source": [
    "classes = ('plane', 'car', 'bird', 'cat',\n",
    "           'deer', 'dog', 'frog', 'horse', 'ship', 'truck')\n",
    "\n",
    "\n",
    "def imshow(img):\n",
    "    img = img / 2 + 0.5     # unnormalize\n",
    "    npimg = img.numpy()\n",
    "    plt.imshow(np.transpose(npimg, (1, 2, 0)))\n",
    "    plt.axis(\"off\")\n",
    "    plt.show()\n",
    "\n",
    "\n",
    "# get some random training images\n",
    "dataiter = iter(trainloader)\n",
    "images, labels = dataiter.next()\n",
    "\n",
    "# show images\n",
    "imshow(torchvision.utils.make_grid(images))\n",
    "# print labels\n",
    "print(' '.join('%5s' % classes[labels[j]] for j in range(4)))"
   ]
  },
  {
   "cell_type": "code",
   "execution_count": 0,
   "metadata": {
    "colab": {
     "base_uri": "https://localhost:8080/",
     "height": 269
    },
    "colab_type": "code",
    "id": "Ey6uGrEDHaEy",
    "outputId": "371ab52a-b89c-492c-db59-1b98748dc951"
   },
   "outputs": [
    {
     "data": {
      "image/png": "[encoded data removed]",
      "text/plain": [
       "<Figure size 432x288 with 1 Axes>"
      ]
     },
     "metadata": {
      "tags": []
     },
     "output_type": "display_data"
    }
   ],
   "source": [
    "## print number of training examples\n",
    "num_train = len(trainset)\n",
    "test_image = trainset[1][0]\n",
    "%matplotlib inline\n",
    "def show(img):\n",
    "    npimg = img.numpy()\n",
    "    plt.imshow(np.transpose(npimg, (1,2,0)), interpolation='nearest')\n",
    "    \n",
    "img2 = transforms.Compose([\n",
    "    transforms.ToPILImage(),\n",
    "    transforms.Resize(255),\n",
    "    transforms.ToTensor(),\n",
    "])(test_image)\n",
    "show(img2)"
   ]
  },
  {
   "cell_type": "code",
   "execution_count": 0,
   "metadata": {
    "colab": {
     "base_uri": "https://localhost:8080/",
     "height": 34
    },
    "colab_type": "code",
    "id": "W64xHBWclxxz",
    "outputId": "17b41a68-c4c7-49e6-d1b3-8c6e2d05f1cf"
   },
   "outputs": [
    {
     "data": {
      "text/plain": [
       "64"
      ]
     },
     "execution_count": 53,
     "metadata": {
      "tags": []
     },
     "output_type": "execute_result"
    }
   ],
   "source": [
    "t1,t2 = (next(iter(trainloader)))\n",
    "len(t1)"
   ]
  },
  {
   "cell_type": "markdown",
   "metadata": {
    "colab_type": "text",
    "id": "_CSGPJVoIksY"
   },
   "source": [
    "## Util Functions"
   ]
  },
  {
   "cell_type": "code",
   "execution_count": 0,
   "metadata": {
    "colab": {},
    "colab_type": "code",
    "id": "m9lapllgGkzu"
   },
   "outputs": [],
   "source": [
    "## Sample from X and Y\n",
    "def sample_XY(X, Y, size):\n",
    "    start_idx = np.random.randint(0, X.shape[0] - size)\n",
    "    return X[start_idx:start_idx + size], Y[start_idx:start_idx + size]\n",
    "\n",
    "## Sample from X\n",
    "def sample_X(X, size):\n",
    "    start_idx = np.random.randint(0, X.shape[0] - size)\n",
    "    return X[start_idx:start_idx + size]\n",
    "\n",
    "# Sample only from Y\n",
    "def sample_Y(Y, size):\n",
    "    start_idx = np.random.randint(0, Y.shape[0] - size)\n",
    "    return Y[start_idx:start_idx + size]\n",
    "\n",
    "## Sample z\n",
    "def sample_Z(m, n):\n",
    "    return np.array(np.random.uniform(-1., 1., size=[m, n]),dtype=np.float32)\n"
   ]
  },
  {
   "cell_type": "markdown",
   "metadata": {
    "colab_type": "text",
    "id": "LiYmpe3OJL0w"
   },
   "source": [
    "####Test"
   ]
  },
  {
   "cell_type": "code",
   "execution_count": 0,
   "metadata": {
    "colab": {
     "base_uri": "https://localhost:8080/",
     "height": 119
    },
    "colab_type": "code",
    "id": "oQmpxDPKJQq8",
    "outputId": "979382b8-a5db-4eb5-f2d9-67de54d05132"
   },
   "outputs": [
    {
     "name": "stdout",
     "output_type": "stream",
     "text": [
      "Sample z [[ 0.13984515  0.18054472  0.3723878 ]\n",
      " [-0.04984898 -0.07973368  0.67753357]\n",
      " [ 0.96554357 -0.298521    0.77980363]]\n",
      "Sample Y [7 8]\n",
      "Sample X [0 1]\n",
      "Sample XY (array([5, 6, 7, 8]), array([5, 6, 7, 8]))\n"
     ]
    }
   ],
   "source": [
    "print(\"Sample z\",sample_Z(3,3))\n",
    "print(\"Sample Y\",sample_Y(np.arange(10),2))\n",
    "print(\"Sample X\",sample_X(np.arange(10),2))\n",
    "print(\"Sample XY\",sample_XY(np.arange(10),np.arange(20),4))"
   ]
  },
  {
   "cell_type": "markdown",
   "metadata": {
    "colab_type": "text",
    "id": "FE9KZn1UJs1O"
   },
   "source": [
    "## Plots"
   ]
  },
  {
   "cell_type": "code",
   "execution_count": 0,
   "metadata": {
    "colab": {},
    "colab_type": "code",
    "id": "rBeW5xbPJsH-"
   },
   "outputs": [],
   "source": [
    "def plot(samples,m = 8):\n",
    "  fig = plt.figure(figsize= (m,m))\n",
    "  gs = gridspec.GridSpec(m,m)\n",
    "  gs.update(wspace = 0.05, hspace = 0.05)\n",
    "  \n",
    "  for i, sample in enumerate(samples):\n",
    "    ax  = plt.subplot(gs[i])\n",
    "    plt.axis(\"off\")\n",
    "    ax.set_xticklabels([])\n",
    "    ax.set_yticklabels([])\n",
    "    ax.set_aspect(\"equal\")\n",
    "    plt.imshow(sample)\n",
    "    \n",
    "  return fig\n",
    "\n",
    "\n",
    "#plot([trainset[i][0] for i in range(8)])"
   ]
  },
  {
   "cell_type": "markdown",
   "metadata": {
    "colab_type": "text",
    "id": "7DB8U21FI9x3"
   },
   "source": [
    "## Models\n",
    "1. Encoder 1\n",
    "2. Encoder 2\n",
    "3. Discriminator 1\n",
    "4. Discriminator 2"
   ]
  },
  {
   "cell_type": "markdown",
   "metadata": {
    "colab_type": "text",
    "id": "9kt9Ljec20Ly"
   },
   "source": [
    "### Encoder1"
   ]
  },
  {
   "cell_type": "code",
   "execution_count": 0,
   "metadata": {
    "colab": {
     "base_uri": "https://localhost:8080/",
     "height": 221
    },
    "colab_type": "code",
    "id": "n35uIlnoIjlW",
    "outputId": "13e0d0c8-007c-4435-a30a-f80e22628533"
   },
   "outputs": [
    {
     "data": {
      "text/plain": [
       "Encoder1(\n",
       "  (conv1): Conv2d(4, 32, kernel_size=(5, 5), stride=(2, 2), padding=(2, 2))\n",
       "  (bn1): BatchNorm2d(32, eps=1e-05, momentum=0.1, affine=True, track_running_stats=True)\n",
       "  (conv2): Conv2d(32, 64, kernel_size=(5, 5), stride=(2, 2))\n",
       "  (bn2): BatchNorm2d(64, eps=1e-05, momentum=0.1, affine=True, track_running_stats=True)\n",
       "  (conv3): Conv2d(64, 128, kernel_size=(5, 5), stride=(2, 2), padding=(2, 2))\n",
       "  (bn3): BatchNorm2d(128, eps=1e-05, momentum=0.1, affine=True, track_running_stats=True)\n",
       "  (conv4): Conv2d(128, 256, kernel_size=(5, 5), stride=(2, 2), padding=(2, 2))\n",
       "  (bn4): BatchNorm2d(256, eps=1e-05, momentum=0.1, affine=True, track_running_stats=True)\n",
       "  (fc): Linear(in_features=1024, out_features=256, bias=True)\n",
       "  (relu): ReLU()\n",
       ")"
      ]
     },
     "execution_count": 69,
     "metadata": {
      "tags": []
     },
     "output_type": "execute_result"
    }
   ],
   "source": [
    "from torch.distributions import uniform\n",
    "\n",
    "\"\"\"\n",
    "Initialize weights in pytorch\n",
    "\"\"\"\n",
    "def init_weights(m):\n",
    "    if type(m) == nn.Linear or type(m) == nn.Conv2d:\n",
    "        torch.nn.init.xavier_uniform_(m.weight)\n",
    "        m.bias.data.fill_(0.01)\n",
    "        \n",
    "class Encoder1(nn.Module):\n",
    "    def __init__(self, mb_size, hidden_dim):\n",
    "        super(Encoder1, self).__init__()\n",
    "        \n",
    "        self.hidden_dim =  hidden_dim\n",
    "        #16, 16, 32\n",
    "        self.conv1 = nn.Conv2d(4, 32, kernel_size=5, stride=2, padding = 2)\n",
    "        self.bn1 = nn.BatchNorm2d(32)\n",
    "\n",
    "        \n",
    "        self.conv2 = nn.Conv2d(32, 64, kernel_size=5, stride=2)\n",
    "        self.bn2 = nn.BatchNorm2d(64)\n",
    "        \n",
    "        \n",
    "        self.conv3 = nn.Conv2d(64, 128, kernel_size=5, stride=2,padding = 2)\n",
    "        \n",
    "        self.bn3 = nn.BatchNorm2d(128)\n",
    "        \n",
    "        self.conv4 = nn.Conv2d(128,256,kernel_size = 5, stride = 2, padding = 2)\n",
    "        self.bn4 = nn.BatchNorm2d(256)\n",
    "        \n",
    "        self.fc = nn.Linear(256*2*2,self.hidden_dim)\n",
    "        self.relu = nn.ReLU()\n",
    "        \n",
    "    \n",
    "    def forward(self,x):\n",
    "         \n",
    "        distribution = uniform.Uniform(torch.Tensor([-1]),torch.Tensor([1]))\n",
    "        noise = distribution.sample(torch.Size([x.size(0),1, 32,32]))\n",
    "        noise = noise.squeeze(4)\n",
    "        noise = noise.to(device)\n",
    "        \n",
    "        x = torch.cat([x,noise],dim = 1)\n",
    "        x = self.relu(self.bn1(self.conv1(x)))\n",
    "        \n",
    "        x = self.relu(self.bn2(self.conv2(x)))\n",
    "        x = self.relu(self.bn3(self.conv3(x)))\n",
    "        x = self.relu(self.bn4(self.conv4(x)))\n",
    "        \n",
    "        ## Fully connected layers\n",
    "        x = x.reshape(x.size(0), -1)\n",
    "        x = torch.tanh(self.fc(x))\n",
    "        return x\n",
    "      \n",
    "Z_dim = 128*2\n",
    "encoder1 = Encoder1(Params.mb_size,Z_dim)\n",
    "encoder1.apply(init_weights)\n",
    "\n",
    "if is_cuda:\n",
    "  encoder1 = encoder1.to(device)\n",
    "  \n",
    "  \n",
    "encoder1"
   ]
  },
  {
   "cell_type": "markdown",
   "metadata": {
    "colab_type": "text",
    "id": "5ziBjm1524aw"
   },
   "source": [
    "### Encoder2"
   ]
  },
  {
   "cell_type": "code",
   "execution_count": 0,
   "metadata": {
    "colab": {},
    "colab_type": "code",
    "id": "vdPnHewOl5T5"
   },
   "outputs": [],
   "source": [
    "# noise = tf.random_normal([mb_size, 10])\n",
    "def lrelu(x, leak=0.2, name=\"lrelu\"):\n",
    "      f1 = 0.5 * (1 + leak)\n",
    "      f2 = 0.5 * (1 - leak)\n",
    "      return f1 * x + f2 * abs(x)\n",
    "noise_dim = 20\n",
    "class Encoder2(nn.Module):\n",
    "    \n",
    "    def __init__(self, mb_size):\n",
    "        super(Encoder2, self).__init__()\n",
    "        \n",
    "        self.fc  = nn.Linear(276, 64 * 8 * 4 * 4)\n",
    "        self.bn = nn.BatchNorm1d(64 * 8 * 4 * 4)\n",
    "        \n",
    "        self.deconv1 = nn.ConvTranspose2d(8 * 64 , 64 * 4, 6, stride=2,padding = 2)\n",
    "        self.bn1 = nn.BatchNorm2d(64 * 4)\n",
    "        \n",
    "        \n",
    "        self.deconv2 = nn.ConvTranspose2d(64 * 4 , 64 * 2, 6, stride=2,padding = 2)\n",
    "        self.bn2 = nn.BatchNorm2d(64 * 2)\n",
    "        \n",
    "        self.deconv3 = nn.ConvTranspose2d(64 * 2 , 3, 6, stride=2,padding = 2)\n",
    "        \n",
    "        self.lrelu = lrelu\n",
    "        self.relu = F.relu\n",
    "        \n",
    "    def forward(self,x):\n",
    "        distribution = uniform.Uniform(torch.Tensor([-1]),torch.Tensor([1]))\n",
    "        noise = distribution.sample(torch.Size([x.size(0), 20])).squeeze()\n",
    "        \n",
    "        x = torch.cat([x, noise.to(device)],dim = 1)\n",
    "        \n",
    "        x = self.relu(self.bn(self.fc(x)))\n",
    "        x = x.reshape([-1, 64 * 8, 4, 4])\n",
    "        \n",
    "\n",
    "        x = self.lrelu(self.bn1(self.deconv1(x)))\n",
    "        \n",
    "        x = self.relu(self.bn2(self.deconv2(x)))\n",
    "        \n",
    "        x = torch.tanh(self.deconv3(x))\n",
    "\n",
    "        return x"
   ]
  },
  {
   "cell_type": "code",
   "execution_count": 0,
   "metadata": {
    "colab": {
     "base_uri": "https://localhost:8080/",
     "height": 170
    },
    "colab_type": "code",
    "id": "Uu0u74dupzOC",
    "outputId": "79898707-d45a-4e5f-8098-836e8a045fe9"
   },
   "outputs": [
    {
     "name": "stdout",
     "output_type": "stream",
     "text": [
      "Encoder2(\n",
      "  (fc): Linear(in_features=276, out_features=8192, bias=True)\n",
      "  (bn): BatchNorm1d(8192, eps=1e-05, momentum=0.1, affine=True, track_running_stats=True)\n",
      "  (deconv1): ConvTranspose2d(512, 256, kernel_size=(6, 6), stride=(2, 2), padding=(2, 2))\n",
      "  (bn1): BatchNorm2d(256, eps=1e-05, momentum=0.1, affine=True, track_running_stats=True)\n",
      "  (deconv2): ConvTranspose2d(256, 128, kernel_size=(6, 6), stride=(2, 2), padding=(2, 2))\n",
      "  (bn2): BatchNorm2d(128, eps=1e-05, momentum=0.1, affine=True, track_running_stats=True)\n",
      "  (deconv3): ConvTranspose2d(128, 3, kernel_size=(6, 6), stride=(2, 2), padding=(2, 2))\n",
      ")\n"
     ]
    }
   ],
   "source": [
    "encoder2 = Encoder2(Params.mb_size)\n",
    "encoder2.apply(init_weights)\n",
    "if is_cuda:\n",
    "  encoder2 = encoder2.to(device)\n",
    "  \n",
    "print(encoder2)"
   ]
  },
  {
   "cell_type": "markdown",
   "metadata": {
    "colab_type": "text",
    "id": "ZdXro3PX27l-"
   },
   "source": [
    "### Discriminator"
   ]
  },
  {
   "cell_type": "code",
   "execution_count": 0,
   "metadata": {
    "colab": {
     "base_uri": "https://localhost:8080/",
     "height": 228
    },
    "colab_type": "code",
    "id": "gcOvbgE4ffl9",
    "outputId": "285861d8-2aac-4b1d-9c46-568e3b82a93e"
   },
   "outputs": [
    {
     "name": "stdout",
     "output_type": "stream",
     "text": [
      "Discriminator(\n",
      "  (conv1): Conv2d(4, 64, kernel_size=(5, 5), stride=(2, 2), padding=(2, 2))\n",
      "  (bn1): BatchNorm2d(64, eps=1e-05, momentum=0.1, affine=True, track_running_stats=True)\n",
      "  (conv2): Conv2d(64, 128, kernel_size=(5, 5), stride=(2, 2), padding=(2, 2))\n",
      "  (bn2): BatchNorm2d(128, eps=1e-05, momentum=0.1, affine=True, track_running_stats=True)\n",
      "  (conv3): Conv2d(128, 256, kernel_size=(5, 5), stride=(2, 2), padding=(2, 2))\n",
      "  (bn3): BatchNorm2d(256, eps=1e-05, momentum=0.1, affine=True, track_running_stats=True)\n",
      "  (conv4): Conv2d(256, 512, kernel_size=(5, 5), stride=(2, 2), padding=(2, 2))\n",
      "  (bn4): BatchNorm2d(512, eps=1e-05, momentum=0.1, affine=True, track_running_stats=True)\n",
      "  (fc1): Linear(in_features=276, out_features=2048, bias=True)\n",
      "  (fc2): Linear(in_features=4096, out_features=1, bias=True)\n",
      ")\n"
     ]
    }
   ],
   "source": [
    "## Discriminator\n",
    "class Discriminator(nn.Module):\n",
    "  def __init__(self):\n",
    "    super(Discriminator, self).__init__()\n",
    "     \n",
    "      #16, 16, 64\n",
    "    self.conv1 = nn.Conv2d(4, 64, kernel_size=5, stride=2, padding = 2)\n",
    "    self.bn1 = nn.BatchNorm2d(64)\n",
    "      \n",
    "      #8, 8 , 128\n",
    "    self.conv2 = nn.Conv2d(64, 128, kernel_size=5, stride=2,padding = 2)\n",
    "    self.bn2 = nn.BatchNorm2d(128)\n",
    "      \n",
    "      # 4, 4, 256\n",
    "    self.conv3 = nn.Conv2d(128, 256, kernel_size=5, stride=2,padding = 2)\n",
    "        \n",
    "    self.bn3 = nn.BatchNorm2d(256)\n",
    "      \n",
    "      # 2, 2, 512\n",
    "      \n",
    "    self.conv4 = nn.Conv2d(256, 512, kernel_size=5, stride=2,padding = 2)\n",
    "    self.bn4 = nn.BatchNorm2d(512)\n",
    "      \n",
    "      ## Linear\n",
    "    self.fc1 = nn.Linear(276,2*2*512)\n",
    "      \n",
    "    self.fc2 = nn.Linear(4096,1)\n",
    "   \n",
    "  def forward(self,x,y):\n",
    "    distribution = uniform.Uniform(torch.Tensor([-1]),torch.Tensor([1]))\n",
    "    noise = distribution.sample(torch.Size([x.size(0),1, 32,32]))\n",
    "    noise = noise.squeeze(4)\n",
    "\n",
    "    h = torch.cat([x, noise.to(device)], dim=1)\n",
    "    \n",
    "    h = lrelu(self.bn1(self.conv1(h)))\n",
    "    h = lrelu(self.bn2(self.conv2(h)))\n",
    "    h = lrelu(self.bn3(self.conv3(h)))\n",
    "    h = lrelu(self.bn4(self.conv4(h)))\n",
    "    h = h.view(-1,2048)\n",
    "    \n",
    "    noise_z = distribution.sample(torch.Size([x.size(0),20])).squeeze().to(device)\n",
    "    y = torch.cat([y,noise_z],dim=1)\n",
    "    \n",
    "    zh = lrelu(self.fc1(y))\n",
    "    h = torch.cat([h, zh], dim=1)\n",
    "    h = (self.fc2(h))\n",
    "    \n",
    "   \n",
    "    return h, torch.sigmoid(h)\n",
    "      \n",
    "      \n",
    "  \n",
    "discriminator = Discriminator()\n",
    "discriminator.apply(init_weights)\n",
    "if is_cuda:\n",
    "  discriminator = discriminator.to(device)\n",
    "  \n",
    "  \n",
    "print(discriminator)"
   ]
  },
  {
   "cell_type": "code",
   "execution_count": 0,
   "metadata": {
    "colab": {},
    "colab_type": "code",
    "id": "mOsoAE175dA_"
   },
   "outputs": [],
   "source": [
    "## conv conditional concat\n",
    "def conv_cond_concat(x, y):\n",
    "    \"\"\"Concatenate conditioning vector on feature map axis.\"\"\"\n",
    "    x_shapes = x.size()\n",
    "    y_shapes = y.size()\n",
    "    return torch.cat([\n",
    "        x, y * torch.ones([x_shapes[0], x_shapes[1], x_shapes[2], y_shapes[3]])], 3)\n"
   ]
  },
  {
   "cell_type": "code",
   "execution_count": 0,
   "metadata": {
    "colab": {},
    "colab_type": "code",
    "id": "J4CEM5gq-8dn"
   },
   "outputs": [],
   "source": [
    "## Z dimension -> X\n",
    "def generative_Y2X(z, reuse=None):\n",
    "    h = encoder2(z)\n",
    "    return h\n",
    "  \n",
    "## Encode - X -> latent representation Z\n",
    "def generative_X2Y(x, reuse=None):\n",
    "    h = encoder1(x)\n",
    "    return h"
   ]
  },
  {
   "cell_type": "code",
   "execution_count": 0,
   "metadata": {
    "colab": {},
    "colab_type": "code",
    "id": "zON4kOfL_hwz"
   },
   "outputs": [],
   "source": [
    "def data_network(x, y, reuse=None):\n",
    "    f, d = discriminator(x, y)\n",
    "    return f.squeeze(1), d.squeeze(1)"
   ]
  },
  {
   "cell_type": "code",
   "execution_count": 0,
   "metadata": {
    "colab": {},
    "colab_type": "code",
    "id": "0uv5XllI_rtE"
   },
   "outputs": [],
   "source": [
    "N =  Params.mb_size\n",
    "X = torch.randn(N, 3, 32, 32, device=device)\n",
    "z = torch.randn(N, Z_dim, device=device)\n",
    "z_gen = generative_X2Y(X)\n",
    "y_gen = generative_Y2X(z)\n",
    "fxz, Dxz = data_network(X, z_gen)\n",
    "fzx, Dzx = data_network(y_gen, z)"
   ]
  },
  {
   "cell_type": "code",
   "execution_count": 0,
   "metadata": {
    "colab": {
     "base_uri": "https://localhost:8080/",
     "height": 35
    },
    "colab_type": "code",
    "id": "RWb3N5A5X3P5",
    "outputId": "525394fb-87af-4265-97aa-be050057bff0"
   },
   "outputs": [
    {
     "name": "stdout",
     "output_type": "stream",
     "text": [
      "tensor(0.3048, device='cuda:0', grad_fn=<AddBackward0>)\n"
     ]
    }
   ],
   "source": [
    "## Discriminator Loss \n",
    "\n",
    "D_loss = torch.mean(torch.log(Dzx) - torch.log(1- Dxz))\n",
    "\n",
    "## Generator Loss\n",
    "L_x = -torch.mean((fxz))\n",
    "L_z = torch.mean(fzx)\n",
    "\n",
    "## Total Generator Loss\n",
    "G_loss = L_x + L_z\n",
    "\n",
    "print(G_loss)"
   ]
  },
  {
   "cell_type": "code",
   "execution_count": 0,
   "metadata": {
    "colab": {},
    "colab_type": "code",
    "id": "EbeO85myYC3N"
   },
   "outputs": [],
   "source": [
    "## Reconstruction\n",
    "X_rec = generative_Y2X(z_gen)\n",
    "z_rec = generative_X2Y(y_gen)"
   ]
  },
  {
   "cell_type": "code",
   "execution_count": 0,
   "metadata": {
    "colab": {},
    "colab_type": "code",
    "id": "1fvgZKM6fEbE"
   },
   "outputs": [],
   "source": [
    "X_rec_loss = torch.mean(torch.abs(X-X_rec))\n",
    "Z_rec_loss = torch.mean(torch.abs(z-z_rec))"
   ]
  },
  {
   "cell_type": "code",
   "execution_count": 0,
   "metadata": {
    "colab": {
     "base_uri": "https://localhost:8080/",
     "height": 35
    },
    "colab_type": "code",
    "id": "1w0cE88OhgsK",
    "outputId": "828f7ea7-48f3-40ed-ab06-6791b78b7fcc"
   },
   "outputs": [
    {
     "name": "stdout",
     "output_type": "stream",
     "text": [
      "tensor(1.1647, device='cuda:0', grad_fn=<MeanBackward1>) tensor(0.7903, device='cuda:0', grad_fn=<MeanBackward1>)\n"
     ]
    }
   ],
   "source": [
    "print(X_rec_loss,Z_rec_loss)"
   ]
  },
  {
   "cell_type": "code",
   "execution_count": 0,
   "metadata": {
    "colab": {},
    "colab_type": "code",
    "id": "jdqzXHNZhjny"
   },
   "outputs": [],
   "source": [
    "G_solver = optim.Adam(list(encoder1.parameters()) + list(encoder2.parameters()),\n",
    "                      lr= Params.lr,betas =[0.5,0.5])\n",
    "D_solver = optim.Adam(discriminator.parameters(), lr= Params.lr,\n",
    "                      betas =[0.5,0.5])\n"
   ]
  },
  {
   "cell_type": "code",
   "execution_count": 0,
   "metadata": {
    "colab": {},
    "colab_type": "code",
    "id": "mWout8QBh_2Z"
   },
   "outputs": [],
   "source": []
  },
  {
   "cell_type": "markdown",
   "metadata": {
    "colab_type": "text",
    "id": "sn338sKemRnt"
   },
   "source": [
    "## Training"
   ]
  },
  {
   "cell_type": "code",
   "execution_count": 0,
   "metadata": {
    "colab": {},
    "colab_type": "code",
    "id": "n95cRWJ3izqG"
   },
   "outputs": [],
   "source": [
    "## Training\n",
    "D_losses = []\n",
    "G_losses = []\n",
    "\n",
    "disc_steps = 1\n",
    "gen_steps = 1\n",
    "for epoch in range(100):\n",
    "  dlosses = []\n",
    "  glosses = []\n",
    "  for idx, (data,labels) in enumerate(trainloader):\n",
    "    \n",
    "    ## generator loss, discriminator loss\n",
    "    _x = data\n",
    "    _x = _x/ 127.5 - 1\n",
    "    _x = _x.to(device)\n",
    "    \n",
    "    \n",
    "    z_sample = sample_Z(_x.size(0), Z_dim)\n",
    "    z_sample = torch.from_numpy(z_sample).to(device)\n",
    "    \n",
    "    ## Pass\n",
    "    for k in range(disc_steps):\n",
    "      z_gen = generative_X2Y(_x)\n",
    "      x_gen = generative_Y2X(z_sample)\n",
    "\n",
    "      # discriminator\n",
    "      fxz, Dxz = data_network(_x, z_gen)\n",
    "      fzx, Dzx = data_network(x_gen, z_sample)\n",
    "      \n",
    "      \n",
    "      D_solver.zero_grad()\n",
    "      D_loss = -torch.mean(log(Dzx) + log(1-Dxz))\n",
    "      D_loss.backward()\n",
    "      D_solver.step()\n",
    "    \n",
    "    \n",
    "    ## generator\n",
    "    for j in range(gen_steps):\n",
    "      z_gen = generative_X2Y(_x)\n",
    "      x_gen = generative_Y2X(z_sample)\n",
    "\n",
    "      # discriminator\n",
    "      fxz, Dxz = data_network(_x, z_gen)\n",
    "      fzx, Dzx = data_network(x_gen, z_sample)\n",
    "      \n",
    "      L_x = -torch.mean(fxz)\n",
    "      L_z = torch.mean(fzx)\n",
    "      G_loss = L_x + L_z\n",
    "      \n",
    "      X_rec = generative_Y2X(z_gen)\n",
    "      z_rec = generative_X2Y(x_gen)\n",
    "      \n",
    "      ## reconstruction.\n",
    "      X_rec_loss = torch.mean(torch.abs(_x-X_rec))\n",
    "      Z_rec_loss = torch.mean(torch.abs(z_sample-z_rec)) \n",
    "      \n",
    "      G_loss = G_loss +  Params.lamb * X_rec_loss + Params.lamb * Z_rec_loss\n",
    "      \n",
    "      \n",
    "      G_solver.zero_grad()\n",
    "      G_loss.backward()\n",
    "      \n",
    "      \n",
    "    \n",
    "    ##\n",
    "    if idx% 50 == 0:\n",
    "      #torch.save(model.state_dict(), PATH)\n",
    "      print(\"epoch: {}, iteration: {}, D_loss: {:.4}; G_loss: {:.4}\"\n",
    "            .format(epoch, idx,  D_loss.item(), G_loss.item()))\n",
    "      \n",
    "      ## test generated samples\n",
    "      zz = sample_Z(Params.mb_size, Z_dim)\n",
    "      zz_sample = torch.from_numpy(zz).to(device)\n",
    "      \n",
    "      ## generated z\n",
    "      A =  generative_Y2X(zz_sample)\n",
    "                \n",
    "      imshow(torchvision.utils.make_grid(A.detach().cpu()))\n",
    "      plt.show()\n",
    "      \n",
    "      \n",
    "    G_solver.step()\n",
    "    D_solver.step()\n",
    "    \n",
    "    dlosses.append(D_loss.item())\n",
    "    glosses.append(G_loss.item())\n",
    "        \n",
    "    \n",
    "  D_losses.append(np.mean(dlosses))\n",
    "  G_losses.append(np.mean(glosses))\n",
    "  \n",
    "  \n",
    "    "
   ]
  },
  {
   "cell_type": "code",
   "execution_count": 0,
   "metadata": {
    "colab": {},
    "colab_type": "code",
    "id": "dlLLRwhHrrmn"
   },
   "outputs": [],
   "source": []
  }
 ],
 "metadata": {
  "accelerator": "GPU",
  "colab": {
   "collapsed_sections": [],
   "name": "symmetric-vae.ipynb",
   "provenance": [],
   "toc_visible": true,
   "version": "0.3.2"
  },
  "kernelspec": {
   "display_name": "Python 3",
   "language": "python",
   "name": "python3"
  },
  "language_info": {
   "codemirror_mode": {
    "name": "ipython",
    "version": 3
   },
   "file_extension": ".py",
   "mimetype": "text/x-python",
   "name": "python",
   "nbconvert_exporter": "python",
   "pygments_lexer": "ipython3",
   "version": "3.7.3"
  }
 },
 "nbformat": 4,
 "nbformat_minor": 1
}
