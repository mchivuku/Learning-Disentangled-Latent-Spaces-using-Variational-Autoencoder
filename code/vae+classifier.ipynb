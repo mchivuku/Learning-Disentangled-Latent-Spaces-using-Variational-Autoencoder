{
 "cells": [
  {
   "cell_type": "markdown",
   "metadata": {
    "colab_type": "text",
    "id": "kQafwxlY_b4q"
   },
   "source": [
    "## Variational AutoEnoder:\n",
    "\n",
    "1. Understanding - disentagled latent spaces\n",
    "2. Using classifier - to understand its performance, VAE (detach updates) + Classifier => performance\n",
    "3. Using VAE+ classifier - to understand its performance"
   ]
  },
  {
   "cell_type": "code",
   "execution_count": 0,
   "metadata": {
    "colab": {
     "base_uri": "https://localhost:8080/",
     "height": 70
    },
    "colab_type": "code",
    "id": "sDQ4u7bm_b4r",
    "outputId": "2adcfc2e-e02d-4e36-f06f-dbc280197bfb"
   },
   "outputs": [
    {
     "name": "stdout",
     "output_type": "stream",
     "text": [
      "Torch 1.0.1.post2 CUDA 10.0.130\n",
      "Device: cuda:0\n",
      "True\n"
     ]
    }
   ],
   "source": [
    "from glob import glob\n",
    "import os\n",
    "import numpy as np\n",
    "import matplotlib.pyplot as plt\n",
    "import shutil\n",
    "from torchvision import transforms\n",
    "from torchvision import models\n",
    "import torchvision\n",
    "import torch\n",
    "from torch.autograd import Variable\n",
    "import torch.nn as nn\n",
    "from torch.optim import lr_scheduler\n",
    "from torch import optim\n",
    "from torchvision.datasets import ImageFolder\n",
    "from torchvision.utils import make_grid\n",
    "import time\n",
    "from torchvision import datasets,transforms\n",
    "import torch.nn.functional as F\n",
    "import torch.optim as optim\n",
    "\n",
    "\n",
    "import os\n",
    "from torchvision.utils import save_image\n",
    "\n",
    "## Plotting library\n",
    "from matplotlib.offsetbox import OffsetImage, AnnotationBbox\n",
    "from matplotlib.backends.backend_agg import FigureCanvasAgg as FigureCanvas\n",
    " \n",
    "from scipy.stats import norm\n",
    "from sklearn import manifold\n",
    "\n",
    "plt.style.use('fivethirtyeight')\n",
    "%matplotlib inline\n",
    "\n",
    "print('Torch', torch.__version__, 'CUDA', torch.version.cuda)\n",
    "print('Device:', torch.device('cuda:0'))\n",
    "print(torch.cuda.is_available())\n",
    "\n",
    "is_cuda = torch.cuda.is_available()\n",
    "device = torch.device ( \"cuda:0\" if torch.cuda.is_available () else \"cpu\" )\n"
   ]
  },
  {
   "cell_type": "code",
   "execution_count": 0,
   "metadata": {
    "colab": {},
    "colab_type": "code",
    "id": "YErhvOEs_b4x"
   },
   "outputs": [],
   "source": [
    "## Show image\n",
    "def imshow(img,title=None):\n",
    "  \"\"\"Imshow for Tensor.\"\"\"\n",
    "  img = img.numpy().transpose((1,2,0))\n",
    "  mean = np.array([0.485, 0.456, 0.406])\n",
    "  std = np.array([0.229, 0.224, 0.225])\n",
    "  img = std * img + mean # normalize\n",
    "  img = np.clip(img, 0, 1) # clip image\n",
    "  plt.figure(figsize=(16,4))\n",
    "  plt.axis('off')\n",
    "  plt.imshow(img)\n",
    "  \n",
    "  if title is not None:\n",
    "    plt.title(title)         \n",
    "  \n",
    "def plot_grid(inputs):\n",
    "  # Make a grid from batch \n",
    "  out = torchvision.utils.make_grid(inputs,10,10)\n",
    "  imshow(out, title=\"\")\n",
    "  \n",
    "## Visualize some images in the dataset\n",
    "def visualizeDataset(X):\n",
    "  for i,image in enumerate(X):\n",
    "    cv2.imshow(str(i),image)\n",
    "    cv2.waitKey()\n",
    "    cv2.destroyAllWindows()\n",
    "\n",
    "def plot_loss(y, title):\n",
    "  plt.figure()\n",
    "  plt.plot(y)\n",
    "  plt.title(title)\n",
    "  plt.xlabel('epochs')\n",
    "  plt.ylabel('Loss')\n",
    "  \n",
    "def plot_accuracy(y, title):\n",
    "  plt.figure()\n",
    "  plt.plot(y)\n",
    "  plt.title(title)\n",
    "  plt.xlabel('epochs')\n",
    "  plt.ylabel('accuracy')\n",
    "  \n",
    "\n",
    "## Scatter Plot\n",
    "def scatterplot(x, y, ax, imageData, zoom):\n",
    "  images = []\n",
    "  imageSize = 28\n",
    "  for i in range(len(x)):\n",
    "    x0, y0 = x[i], y[i]\n",
    "    \n",
    "    # Convert to image\n",
    "    img = imageData[i]*255.\n",
    "    img = (img).numpy()\n",
    "    img = img.astype(np.uint8).reshape([imageSize,imageSize])\n",
    "    img = cv2.cvtColor(img,cv2.COLOR_GRAY2RGB)\n",
    "    \n",
    "    # Note: OpenCV uses BGR and plt uses RGB\n",
    "    image = OffsetImage(img, zoom=zoom)\n",
    "    ab = AnnotationBbox(image, (x0, y0), xycoords='data', frameon=False)\n",
    "    images.append(ax.add_artist(ab))\n",
    "    \n",
    "  ax.update_datalim(np.column_stack([x, y]))\n",
    "  ax.autoscale()\n",
    "  \n",
    "  \n",
    "import seaborn as sns\n",
    "palette = np.array(sns.color_palette(\"hls\", 10))\n",
    "\n",
    "def plot_scatter(projection,labels):\n",
    "    plt.scatter(projection[:,0], projection[:,1],c=[palette[i] for i in labels])"
   ]
  },
  {
   "cell_type": "code",
   "execution_count": 0,
   "metadata": {
    "colab": {
     "base_uri": "https://localhost:8080/",
     "height": 35
    },
    "colab_type": "code",
    "id": "iKCpqwVz_b40",
    "outputId": "cced60d9-d5f5-499a-bf2c-3aac746bfd75"
   },
   "outputs": [
    {
     "data": {
      "text/plain": [
       "<torch._C.Generator at 0x7f3e918c16f0>"
      ]
     },
     "execution_count": 3,
     "metadata": {
      "tags": []
     },
     "output_type": "execute_result"
    }
   ],
   "source": [
    "class Params:\n",
    "  nb_latents = 10\n",
    "  batch_size = 128\n",
    "  epochs = 100\n",
    "  log_interval = 100\n",
    "  save_interval = 1000\n",
    "\n",
    "  \n",
    "torch.manual_seed(5)"
   ]
  },
  {
   "cell_type": "markdown",
   "metadata": {
    "colab_type": "text",
    "id": "GgkWUvox_b46"
   },
   "source": [
    "## Metrics"
   ]
  },
  {
   "cell_type": "code",
   "execution_count": 0,
   "metadata": {
    "colab": {},
    "colab_type": "code",
    "id": "OUg2Wmyj_b46"
   },
   "outputs": [],
   "source": [
    "### Metrics - Base Class For all Metrics\n",
    "class Metric:\n",
    "  def __init__(self):\n",
    "    pass\n",
    "  def __call__(self, outputs, target, loss):\n",
    "    raise NotImplementedError\n",
    "    \n",
    "  def reset(self):\n",
    "    raise NotImplementedError\n",
    "    \n",
    "  def value(self):\n",
    "    raise NotImplementedError\n",
    "    \n",
    "  def name(self):\n",
    "    raise NotImplementedError\n",
    "    \n",
    "## Accuracy Metric\n",
    "class AccumulatedAccuracyMetric(Metric):\n",
    "  def __init__(self):\n",
    "      self.correct = 0\n",
    "      self.total = 0\n",
    "      \n",
    "  def __call__(self, outputs, target):\n",
    "      # Track the accuracy\n",
    "      _, argmax = torch.max(outputs, 1)\n",
    "      accuracy = (target == argmax.squeeze()).float().sum()\n",
    "      self.correct += accuracy \n",
    "      self.total += target.size(0)\n",
    "      return self.value()\n",
    "  \n",
    "  def reset(self):\n",
    "      self.correct = 0\n",
    "      self.total = 0\n",
    "\n",
    "  def value(self):\n",
    "      return 100 * float(self.correct) / self.total\n",
    "\n",
    "  def name(self):\n",
    "      return 'Accuracy'\n",
    "    \n",
    "    \n",
    "## Loss\n",
    "class RunningAverage ():\n",
    "    \"\"\"A simple class that maintains the running average of a quantity\n",
    "    Example:\n",
    "    ```\n",
    "    loss_avg = RunningAverage()\n",
    "    loss_avg.update(2)\n",
    "    loss_avg.update(4)\n",
    "    loss_avg() = 3\n",
    "    ```\n",
    "    \"\"\"\n",
    "\n",
    "    def __init__( self ):\n",
    "        self.steps = 0\n",
    "        self.total = 0\n",
    "\n",
    "    def update( self, val ):\n",
    "        self.total += val\n",
    "        self.steps += 1\n",
    "\n",
    "    def __call__( self ):\n",
    "        return self.total / float ( self.steps )"
   ]
  },
  {
   "cell_type": "markdown",
   "metadata": {
    "colab_type": "text",
    "id": "zNr1j0yE_b49"
   },
   "source": [
    "## Dataloader"
   ]
  },
  {
   "cell_type": "code",
   "execution_count": 0,
   "metadata": {
    "colab": {},
    "colab_type": "code",
    "id": "hXkaXmWl_b4-"
   },
   "outputs": [],
   "source": [
    "path = \"./vae-classifier/\"\n",
    "transformation = transforms.Compose([transforms.ToTensor(),transforms.Normalize((0.1307,), (0.3081,))])\n",
    "train_dataset = datasets.MNIST(os.path.join(path,\"MNIST/data\"),train=True,transform=transformation,download=True)\n",
    "test_dataset = datasets.MNIST(os.path.join(path,\"MNIST/data\"),train=False,transform=transformation,download=True)\n",
    "train_loader = torch.utils.data.DataLoader(train_dataset,batch_size=128,shuffle=True)\n",
    "test_loader = torch.utils.data.DataLoader(test_dataset,batch_size=128,shuffle=True)\n",
    "## Test TSNE plot for reconstrunction on 1000 test samples\n",
    "testing_tsne = torch.utils.data.DataLoader(test_dataset,batch_size=len(train_dataset),shuffle=True)\n",
    "test_data, test_labels = next(iter(testing_tsne))[:10000]\n"
   ]
  },
  {
   "cell_type": "code",
   "execution_count": 0,
   "metadata": {
    "colab": {
     "base_uri": "https://localhost:8080/",
     "height": 35
    },
    "colab_type": "code",
    "id": "qRts4U2u_b5B",
    "outputId": "f190f17d-30b0-4f8f-b78e-6961e5c9a3d7"
   },
   "outputs": [
    {
     "name": "stdout",
     "output_type": "stream",
     "text": [
      "Total number of train images: 60000, total number of test images: 10000, total number of train batches: 469\n"
     ]
    }
   ],
   "source": [
    "print(f\"Total number of train images: {len(train_dataset)}, total number of test images: {len(test_dataset)}, total number of train batches: {len(train_loader)}\")"
   ]
  },
  {
   "cell_type": "code",
   "execution_count": 0,
   "metadata": {
    "colab": {
     "base_uri": "https://localhost:8080/",
     "height": 52
    },
    "colab_type": "code",
    "id": "GIY8xUrc_b5E",
    "outputId": "77b9ab7e-4022-4984-aaaf-a269f0f155b4"
   },
   "outputs": [
    {
     "name": "stdout",
     "output_type": "stream",
     "text": [
      "\u001b[0m\u001b[01;34mbeta-results\u001b[0m/     \u001b[01;34mresults\u001b[0m/      \u001b[01;34mvae-classifier\u001b[0m/    VAE_GAN_decoder_249.pth\n",
      "latent_space.png  \u001b[01;34msample_data\u001b[0m/  VAE_GAN_D_249.pth  VAE_GAN_encoder_249.pth\n"
     ]
    }
   ],
   "source": [
    "%ls\n",
    "import os\n",
    "os.makedirs(\"vae-classifier/results\")"
   ]
  },
  {
   "cell_type": "markdown",
   "metadata": {
    "colab_type": "text",
    "id": "4PikG6-g_b5I"
   },
   "source": [
    "## Model"
   ]
  },
  {
   "cell_type": "code",
   "execution_count": 0,
   "metadata": {
    "colab": {},
    "colab_type": "code",
    "id": "zgFy3IrF_b5J"
   },
   "outputs": [],
   "source": [
    "class ConvVAE(nn.Module):\n",
    "    def __init__(self, nb_latents):\n",
    "        super(ConvVAE, self).__init__()\n",
    "        self.conv1 = nn.Sequential(\n",
    "            nn.Conv2d(1, 32, kernel_size=5, stride=1, padding=2),\n",
    "            nn.ReLU(),\n",
    "            nn.MaxPool2d(kernel_size=2, stride=2))\n",
    "        self.conv2 = nn.Sequential(\n",
    "            nn.Conv2d(32, 64, kernel_size=5, stride=1, padding=2),\n",
    "            nn.ReLU(),\n",
    "            nn.MaxPool2d(kernel_size=2, stride=2))\n",
    "        \n",
    "        \n",
    "        self.conv3 = nn.Sequential(\n",
    "            nn.Conv2d(64, 128, kernel_size=5, stride=1, padding=2),\n",
    "            nn.ReLU(),\n",
    "            nn.MaxPool2d(kernel_size=2, stride=2))\n",
    "        \n",
    "        self.conv4 = nn.Sequential(\n",
    "            nn.Conv2d(128, 256, kernel_size=2, stride=1),\n",
    "            nn.ReLU())\n",
    "        \n",
    "        self.fc1 = nn.Linear(1024, 256)\n",
    "        \n",
    "        self.fc_mean = nn.Linear(256, nb_latents)\n",
    "        self.fc_std = nn.Linear(256, nb_latents)\n",
    "        \n",
    "        self.fc2 = nn.Linear(nb_latents, 256)\n",
    "        self.fc3 = nn.Linear(256, 1024)\n",
    "        \n",
    "        \n",
    "        \n",
    "        self.fc4 = nn.Linear(1024,7*7*64)\n",
    "        \n",
    "        self.deconv1 = nn.ConvTranspose2d(64, 32, kernel_size=2, stride=2)\n",
    "        self.deconv2 = nn.ConvTranspose2d(32, 1, kernel_size=2, stride=2)\n",
    "    \n",
    "        self.relu = nn.ReLU()\n",
    "        self.sigmoid = nn.Sigmoid()\n",
    "    \n",
    "    def encode(self, x):\n",
    "        x = (self.conv1(x))\n",
    "        x =  (self.conv2(x))\n",
    "        x =  (self.conv3(x))\n",
    "        x =  (self.conv4(x))\n",
    "        x = x.reshape(x.size(0), -1)\n",
    "        x = self.relu(self.fc1(x))\n",
    "        return self.fc_mean(x), self.fc_std(x)\n",
    "\n",
    "    def reparameterize(self, mu, logvar):\n",
    "        if self.training:\n",
    "            std = logvar.mul(0.5).exp_()\n",
    "            eps = Variable(std.data.new(std.size()).normal_())\n",
    "            return eps.mul(std).add_(mu)\n",
    "        else:\n",
    "            return mu\n",
    "    \n",
    "    def decode(self, z):\n",
    "        x = self.relu(self.fc2(z))\n",
    "        x = self.relu(self.fc3(x))\n",
    "        x = self.relu(self.fc4(x))\n",
    "        x = self.relu(self.deconv1(x.view(-1, 64, 7, 7)))\n",
    "        x = self.deconv2(x)\n",
    "        return self.sigmoid(x)\n",
    "        \n",
    "    def forward(self, x):\n",
    "        mu, logvar = self.encode(x)\n",
    "        z = self.reparameterize(mu, logvar)\n",
    "        return self.decode(z), mu, logvar"
   ]
  },
  {
   "cell_type": "code",
   "execution_count": 0,
   "metadata": {
    "colab": {
     "base_uri": "https://localhost:8080/",
     "height": 563
    },
    "colab_type": "code",
    "id": "dHVT-Kk1_b5M",
    "outputId": "8953fdfa-9238-4e81-8872-8d421bb9d03c"
   },
   "outputs": [
    {
     "name": "stdout",
     "output_type": "stream",
     "text": [
      "ConvVAE(\n",
      "  (conv1): Sequential(\n",
      "    (0): Conv2d(1, 32, kernel_size=(5, 5), stride=(1, 1), padding=(2, 2))\n",
      "    (1): ReLU()\n",
      "    (2): MaxPool2d(kernel_size=2, stride=2, padding=0, dilation=1, ceil_mode=False)\n",
      "  )\n",
      "  (conv2): Sequential(\n",
      "    (0): Conv2d(32, 64, kernel_size=(5, 5), stride=(1, 1), padding=(2, 2))\n",
      "    (1): ReLU()\n",
      "    (2): MaxPool2d(kernel_size=2, stride=2, padding=0, dilation=1, ceil_mode=False)\n",
      "  )\n",
      "  (conv3): Sequential(\n",
      "    (0): Conv2d(64, 128, kernel_size=(5, 5), stride=(1, 1), padding=(2, 2))\n",
      "    (1): ReLU()\n",
      "    (2): MaxPool2d(kernel_size=2, stride=2, padding=0, dilation=1, ceil_mode=False)\n",
      "  )\n",
      "  (conv4): Sequential(\n",
      "    (0): Conv2d(128, 256, kernel_size=(2, 2), stride=(1, 1))\n",
      "    (1): ReLU()\n",
      "  )\n",
      "  (fc1): Linear(in_features=1024, out_features=256, bias=True)\n",
      "  (fc_mean): Linear(in_features=256, out_features=10, bias=True)\n",
      "  (fc_std): Linear(in_features=256, out_features=10, bias=True)\n",
      "  (fc2): Linear(in_features=10, out_features=256, bias=True)\n",
      "  (fc3): Linear(in_features=256, out_features=1024, bias=True)\n",
      "  (fc4): Linear(in_features=1024, out_features=3136, bias=True)\n",
      "  (deconv1): ConvTranspose2d(64, 32, kernel_size=(2, 2), stride=(2, 2))\n",
      "  (deconv2): ConvTranspose2d(32, 1, kernel_size=(2, 2), stride=(2, 2))\n",
      "  (relu): ReLU()\n",
      "  (sigmoid): Sigmoid()\n",
      ")\n"
     ]
    }
   ],
   "source": [
    "model = ConvVAE(Params.nb_latents)\n",
    "if is_cuda:\n",
    "  model = model.to(device)\n",
    "  \n",
    "print(model)"
   ]
  },
  {
   "cell_type": "markdown",
   "metadata": {
    "colab_type": "text",
    "id": "KXr8mSdX_b5S"
   },
   "source": [
    "## Loss Function"
   ]
  },
  {
   "cell_type": "code",
   "execution_count": 0,
   "metadata": {
    "colab": {},
    "colab_type": "code",
    "id": "PBMwd7eH_b5S"
   },
   "outputs": [],
   "source": [
    "### Loss Function\n",
    "### Loss Function\n",
    "def loss_function(recon_x, x, mu, logvar,beta=1):\n",
    "  \"\"\"\n",
    "  Reconstruction loss  + KL divergence loss over all elements of the batch\n",
    "  \"\"\"\n",
    "  bce = F.binary_cross_entropy(recon_x, x.view(-1, 28*28), size_average=False)\n",
    "  \n",
    "  kld = -0.5* (1+ logvar -mu.pow(2) -  logvar.exp())\n",
    "  return kld.mean(dim = 0), bce + beta*kld.sum()"
   ]
  },
  {
   "cell_type": "code",
   "execution_count": 0,
   "metadata": {
    "colab": {
     "base_uri": "https://localhost:8080/",
     "height": 35
    },
    "colab_type": "code",
    "id": "Qm_R7DhP_b5X",
    "outputId": "ef3fe028-b0f1-4960-858a-0a7f82083d8b"
   },
   "outputs": [
    {
     "name": "stdout",
     "output_type": "stream",
     "text": [
      "\u001b[0m\u001b[01;34mresults\u001b[0m/  \u001b[01;34msample_data\u001b[0m/  \u001b[01;34mvae-classifier\u001b[0m/\n"
     ]
    }
   ],
   "source": [
    "import os\n",
    "os.makedirs(\"vae-classifier/results\")\n",
    "%ls"
   ]
  },
  {
   "cell_type": "markdown",
   "metadata": {
    "colab_type": "text",
    "id": "g869SMhX_b5c"
   },
   "source": [
    "## Latent Space Visualization"
   ]
  },
  {
   "cell_type": "code",
   "execution_count": 0,
   "metadata": {
    "colab": {},
    "colab_type": "code",
    "id": "_hlXnGhK_b5d"
   },
   "outputs": [],
   "source": [
    "criterion = nn.CrossEntropyLoss()\n",
    "optimizer = optim.Adam(model.parameters(), lr=1e-3)\n",
    "\n",
    "\"\"\"\n",
    "Traverse Latents\n",
    "\"\"\"\n",
    "def traverse_latents(model, datapoint, nb_latents, epoch, batch_idx, dirpath=\"./results\"):\n",
    "  model.eval()\n",
    "  datapoint = datapoint.to(device)\n",
    "  if isinstance(model,ConvVAE):\n",
    "    datapoint = datapoint.unsqueeze(0)\n",
    "    mu, _ = model.encode(datapoint)\n",
    "  else:\n",
    "    mu, _ = model.encode(datapoint.view(-1))\n",
    "  \n",
    "  recons = torch.zeros((7, nb_latents, 28, 28))\n",
    "  for zi in range(nb_latents):\n",
    "    muc = mu.squeeze().clone()\n",
    "    for i, val in enumerate(np.linspace(-3, 3, 7)):\n",
    "      muc[zi] = val\n",
    "      \n",
    "      recon = model.decode(muc).cpu()\n",
    "      recons[i, zi] = recon.view(28, 28)\n",
    "\n",
    "  filename = os.path.join(dirpath, 'traversal_' + str(epoch) + '_' + str(batch_idx) + '.png')\n",
    "  save_image(recons.view(-1, 1, 28, 28), filename, nrow=nb_latents, pad_value=1)\n",
    "  \n",
    "  \n"
   ]
  },
  {
   "cell_type": "code",
   "execution_count": 0,
   "metadata": {
    "colab": {},
    "colab_type": "code",
    "id": "LntACcwq_b5f"
   },
   "outputs": [],
   "source": [
    "## Load Model state\n",
    "## Save model\n",
    "def save_model(model,path):\n",
    "    \n",
    "    torch.save(model.state_dict(),path)\n",
    "    \n",
    "    \n",
    "def load_model(model,path):\n",
    "  model.load_state_dict(torch.load(path))\n",
    "\n",
    "\n",
    "load_model(model,\"./vae-classifier/results/model_state_99.pth\")"
   ]
  },
  {
   "cell_type": "code",
   "execution_count": 0,
   "metadata": {
    "colab": {},
    "colab_type": "code",
    "id": "ESSMv4EL_b5j"
   },
   "outputs": [],
   "source": [
    "#!pip install tqdm\n",
    "!pip install opencv-python\n"
   ]
  },
  {
   "cell_type": "markdown",
   "metadata": {
    "colab_type": "text",
    "id": "3SwLTcgj_b5n"
   },
   "source": [
    "## Compute Laplacian Variance for the blur - cv2"
   ]
  },
  {
   "cell_type": "code",
   "execution_count": 0,
   "metadata": {
    "colab": {},
    "colab_type": "code",
    "id": "AF3868MT_b5o"
   },
   "outputs": [],
   "source": [
    "## Import CV\n",
    "import cv2\n",
    "import numpy\n",
    "\n",
    "\n",
    "def laplacian_variance(images):\n",
    "    return [cv2.Laplacian(image.numpy(), cv2.CV_32F).var() for image in images]\n",
    "\n",
    "\n",
    "def laplacian_variance_numpy(images):\n",
    "    return [cv2.Laplacian(image, cv2.CV_32F).var() for image in images]\n"
   ]
  },
  {
   "cell_type": "code",
   "execution_count": 0,
   "metadata": {
    "colab": {},
    "colab_type": "code",
    "id": "dfJvI4Df_b5s"
   },
   "outputs": [],
   "source": [
    "log_interval = 400\n",
    "save_interval = 400\n",
    "testpoint = torch.Tensor(train_loader.dataset[0][0]).to(device)\n",
    "save_results = \"./results/\"\n",
    "def train_epoch(epoch):\n",
    "  model.train()\n",
    "  train_losses = RunningAverage()\n",
    "  for batch_idx, (data, labels) in enumerate(train_loader):\n",
    "    data = data.to(device)\n",
    "    labels = labels.to(device)\n",
    "    batch_size = data.size(0)\n",
    "    recon_batch, mu, logvar = model(data)\n",
    "    \n",
    "    kld, loss = loss_function(recon_batch.squeeze().view(-1,28*28), data, mu, logvar)\n",
    "    ## parameter update\n",
    "    optimizer.zero_grad()\n",
    "    loss.backward()\n",
    "    optimizer.step()\n",
    "      \n",
    "    \n",
    "    loss /=len(data)\n",
    "    train_losses.update(loss.item())\n",
    "    if batch_idx % log_interval == 0:\n",
    "      print(\"Epoch {}, batch: {}/{}, loss: {:.2f}\".format(\n",
    "              epoch, batch_idx, len(train_loader), loss))\n",
    "    \n",
    "  return train_losses()"
   ]
  },
  {
   "cell_type": "code",
   "execution_count": 0,
   "metadata": {
    "colab": {},
    "colab_type": "code",
    "collapsed": true,
    "id": "HNP_FP60_b5w"
   },
   "outputs": [],
   "source": [
    "## Test Epoch\n",
    "\"\"\"\n",
    "Test\n",
    "\"\"\"\n",
    "def test_epoch(epoch):\n",
    "    model.eval()\n",
    "    test_loss = RunningAverage()\n",
    "    \n",
    "    ## Test reconstruction test\n",
    "    testpoint = torch.Tensor(test_loader.dataset[0][0]).to(device)\n",
    "  \n",
    "    with torch.no_grad():\n",
    "        for i, (data,labels) in enumerate(test_loader):\n",
    "            data = data.to(device)\n",
    "             \n",
    "            batch_size = data.size(0)\n",
    "            recon_batch, mu, logvar = model(data)\n",
    "            \n",
    "            ## Loss of VAE\n",
    "            kld, loss = loss_function(recon_batch.squeeze().view(-1,28*28), data, mu, logvar)\n",
    "            \n",
    "            test_loss.update(loss.item() / len(data))\n",
    "            \n",
    "    return test_loss()"
   ]
  },
  {
   "cell_type": "code",
   "execution_count": 0,
   "metadata": {
    "colab": {},
    "colab_type": "code",
    "id": "VSMoOwUa_b5z",
    "outputId": "07a7dd65-99b0-4571-cae5-556497ed17f6"
   },
   "outputs": [
    {
     "name": "stderr",
     "output_type": "stream",
     "text": [
      "/home/chivukula_manju/yes/lib/python3.6/site-packages/torch/nn/_reduction.py:49: UserWarning: size_average and reduce args will be deprecated, please use reduction='sum' instead.\n",
      "  warnings.warn(warning.format(ret))\n"
     ]
    },
    {
     "name": "stdout",
     "output_type": "stream",
     "text": [
      "Epoch 0, batch: 0/469, loss: -11185.63\n",
      "Epoch 0, batch: 400/469, loss: -11298.16\n",
      "Epoch 1, batch: 0/469, loss: -11267.52\n",
      "Epoch 1, batch: 400/469, loss: -11227.96\n",
      "Epoch 2, batch: 0/469, loss: -11326.61\n",
      "Epoch 2, batch: 400/469, loss: -11165.04\n",
      "Epoch 3, batch: 0/469, loss: -11360.92\n",
      "Epoch 3, batch: 400/469, loss: -11202.07\n",
      "Epoch 4, batch: 0/469, loss: -11215.79\n",
      "Epoch 4, batch: 400/469, loss: -11148.99\n",
      "Epoch 5, batch: 0/469, loss: -11297.42\n",
      "Epoch 5, batch: 400/469, loss: -11143.45\n",
      "Epoch 6, batch: 0/469, loss: -11193.46\n",
      "Epoch 6, batch: 400/469, loss: -11238.29\n",
      "Epoch 7, batch: 0/469, loss: -11163.70\n",
      "Epoch 7, batch: 400/469, loss: -11278.06\n",
      "Epoch 8, batch: 0/469, loss: -11306.77\n",
      "Epoch 8, batch: 400/469, loss: -11321.87\n",
      "Epoch 9, batch: 0/469, loss: -11192.15\n",
      "Epoch 9, batch: 400/469, loss: -11207.91\n",
      "Epoch 10, batch: 0/469, loss: -11279.09\n",
      "Epoch 10, batch: 400/469, loss: -11185.44\n",
      "Epoch 11, batch: 0/469, loss: -11338.42\n",
      "Epoch 11, batch: 400/469, loss: -11197.82\n",
      "Epoch 12, batch: 0/469, loss: -11444.47\n",
      "Epoch 12, batch: 400/469, loss: -11431.17\n",
      "Epoch 13, batch: 0/469, loss: -11046.42\n",
      "Epoch 13, batch: 400/469, loss: -11271.06\n",
      "Epoch 14, batch: 0/469, loss: -11226.61\n",
      "Epoch 14, batch: 400/469, loss: -11239.33\n",
      "Epoch 15, batch: 0/469, loss: -11340.82\n",
      "Epoch 15, batch: 400/469, loss: -11190.63\n",
      "Epoch 16, batch: 0/469, loss: -11313.45\n",
      "Epoch 16, batch: 400/469, loss: -11242.71\n",
      "Epoch 17, batch: 0/469, loss: -11254.94\n",
      "Epoch 17, batch: 400/469, loss: -11239.55\n",
      "Epoch 18, batch: 0/469, loss: -11342.11\n",
      "Epoch 18, batch: 400/469, loss: -11109.28\n",
      "Epoch 19, batch: 0/469, loss: -11267.64\n",
      "Epoch 19, batch: 400/469, loss: -11215.08\n",
      "Epoch 20, batch: 0/469, loss: -11136.83\n",
      "Epoch 20, batch: 400/469, loss: -11262.31\n",
      "Epoch 21, batch: 0/469, loss: -11237.15\n",
      "Epoch 21, batch: 400/469, loss: -11452.75\n",
      "Epoch 22, batch: 0/469, loss: -11316.09\n",
      "Epoch 22, batch: 400/469, loss: -11309.62\n",
      "Epoch 23, batch: 0/469, loss: -11258.09\n",
      "Epoch 23, batch: 400/469, loss: -11177.51\n",
      "Epoch 24, batch: 0/469, loss: -11159.50\n",
      "Epoch 24, batch: 400/469, loss: -11172.05\n",
      "Epoch 25, batch: 0/469, loss: -11299.92\n",
      "Epoch 25, batch: 400/469, loss: -11311.95\n",
      "Epoch 26, batch: 0/469, loss: -11214.66\n",
      "Epoch 26, batch: 400/469, loss: -11371.07\n",
      "Epoch 27, batch: 0/469, loss: -11238.23\n",
      "Epoch 27, batch: 400/469, loss: -11337.68\n",
      "Epoch 28, batch: 0/469, loss: -11133.16\n",
      "Epoch 28, batch: 400/469, loss: -11116.90\n",
      "Epoch 29, batch: 0/469, loss: -11208.38\n",
      "Epoch 29, batch: 400/469, loss: -11383.78\n",
      "Epoch 30, batch: 0/469, loss: -11318.38\n",
      "Epoch 30, batch: 400/469, loss: -11176.62\n",
      "Epoch 31, batch: 0/469, loss: -11361.70\n",
      "Epoch 31, batch: 400/469, loss: -11146.33\n",
      "Epoch 32, batch: 0/469, loss: -11312.34\n",
      "Epoch 32, batch: 400/469, loss: -11254.66\n",
      "Epoch 33, batch: 0/469, loss: -11167.90\n",
      "Epoch 33, batch: 400/469, loss: -11129.65\n",
      "Epoch 34, batch: 0/469, loss: -11245.61\n",
      "Epoch 34, batch: 400/469, loss: -11304.05\n",
      "Epoch 35, batch: 0/469, loss: -11225.67\n",
      "Epoch 35, batch: 400/469, loss: -11278.12\n",
      "Epoch 36, batch: 0/469, loss: -11219.12\n",
      "Epoch 36, batch: 400/469, loss: -11254.66\n",
      "Epoch 37, batch: 0/469, loss: -11274.40\n",
      "Epoch 37, batch: 400/469, loss: -11127.90\n",
      "Epoch 38, batch: 0/469, loss: -11397.62\n",
      "Epoch 38, batch: 400/469, loss: -11167.00\n",
      "Epoch 39, batch: 0/469, loss: -11222.82\n",
      "Epoch 39, batch: 400/469, loss: -11233.03\n",
      "Epoch 40, batch: 0/469, loss: -11230.74\n",
      "Epoch 40, batch: 400/469, loss: -11221.88\n",
      "Epoch 41, batch: 0/469, loss: -11192.66\n",
      "Epoch 41, batch: 400/469, loss: -11409.42\n",
      "Epoch 42, batch: 0/469, loss: -11315.82\n",
      "Epoch 42, batch: 400/469, loss: -11241.08\n",
      "Epoch 43, batch: 0/469, loss: -11283.51\n",
      "Epoch 43, batch: 400/469, loss: -11255.81\n",
      "Epoch 44, batch: 0/469, loss: -11337.77\n",
      "Epoch 44, batch: 400/469, loss: -11398.83\n",
      "Epoch 45, batch: 0/469, loss: -11241.06\n",
      "Epoch 45, batch: 400/469, loss: -11165.84\n",
      "Epoch 46, batch: 0/469, loss: -11187.24\n",
      "Epoch 46, batch: 400/469, loss: -11428.44\n",
      "Epoch 47, batch: 0/469, loss: -11288.18\n",
      "Epoch 47, batch: 400/469, loss: -11089.81\n",
      "Epoch 48, batch: 0/469, loss: -11167.10\n",
      "Epoch 48, batch: 400/469, loss: -11120.99\n",
      "Epoch 49, batch: 0/469, loss: -11163.09\n",
      "Epoch 49, batch: 400/469, loss: -11015.25\n",
      "Epoch 50, batch: 0/469, loss: -11234.59\n",
      "Epoch 50, batch: 400/469, loss: -11310.05\n",
      "Epoch 51, batch: 0/469, loss: -11319.05\n",
      "Epoch 51, batch: 400/469, loss: -11188.44\n",
      "Epoch 52, batch: 0/469, loss: -11366.91\n",
      "Epoch 52, batch: 400/469, loss: -11375.14\n",
      "Epoch 53, batch: 0/469, loss: -11237.67\n",
      "Epoch 53, batch: 400/469, loss: -11245.77\n",
      "Epoch 54, batch: 0/469, loss: -11323.61\n",
      "Epoch 54, batch: 400/469, loss: -11415.95\n",
      "Epoch 55, batch: 0/469, loss: -11275.73\n",
      "Epoch 55, batch: 400/469, loss: -11351.73\n",
      "Epoch 56, batch: 0/469, loss: -11306.99\n",
      "Epoch 56, batch: 400/469, loss: -11206.51\n",
      "Epoch 57, batch: 0/469, loss: -11523.84\n",
      "Epoch 57, batch: 400/469, loss: -11063.80\n",
      "Epoch 58, batch: 0/469, loss: -11176.46\n",
      "Epoch 58, batch: 400/469, loss: -11262.54\n",
      "Epoch 59, batch: 0/469, loss: -11485.71\n",
      "Epoch 59, batch: 400/469, loss: -11450.83\n",
      "Epoch 60, batch: 0/469, loss: -11154.47\n",
      "Epoch 60, batch: 400/469, loss: -11235.35\n",
      "Epoch 61, batch: 0/469, loss: -11256.90\n",
      "Epoch 61, batch: 400/469, loss: -11280.53\n",
      "Epoch 62, batch: 0/469, loss: -11368.22\n",
      "Epoch 62, batch: 400/469, loss: -11356.50\n",
      "Epoch 63, batch: 0/469, loss: -11183.44\n",
      "Epoch 63, batch: 400/469, loss: -11238.67\n",
      "Epoch 64, batch: 0/469, loss: -11177.21\n",
      "Epoch 64, batch: 400/469, loss: -11338.27\n",
      "Epoch 65, batch: 0/469, loss: -11106.60\n",
      "Epoch 65, batch: 400/469, loss: -11321.24\n",
      "Epoch 66, batch: 0/469, loss: -11308.42\n",
      "Epoch 66, batch: 400/469, loss: -11249.77\n",
      "Epoch 67, batch: 0/469, loss: -11173.26\n",
      "Epoch 67, batch: 400/469, loss: -11161.37\n",
      "Epoch 68, batch: 0/469, loss: -11095.59\n",
      "Epoch 68, batch: 400/469, loss: -11343.83\n",
      "Epoch 69, batch: 0/469, loss: -11210.80\n",
      "Epoch 69, batch: 400/469, loss: -11190.92\n",
      "Epoch 70, batch: 0/469, loss: -11217.82\n",
      "Epoch 70, batch: 400/469, loss: -11375.70\n",
      "Epoch 71, batch: 0/469, loss: -11367.38\n",
      "Epoch 71, batch: 400/469, loss: -11419.90\n",
      "Epoch 72, batch: 0/469, loss: -11227.61\n",
      "Epoch 72, batch: 400/469, loss: -11320.68\n",
      "Epoch 73, batch: 0/469, loss: -11225.68\n",
      "Epoch 73, batch: 400/469, loss: -11178.75\n",
      "Epoch 74, batch: 0/469, loss: -11006.33\n",
      "Epoch 74, batch: 400/469, loss: -11146.27\n",
      "Epoch 75, batch: 0/469, loss: -11104.97\n",
      "Epoch 75, batch: 400/469, loss: -11298.81\n",
      "Epoch 76, batch: 0/469, loss: -11300.87\n",
      "Epoch 76, batch: 400/469, loss: -11231.55\n",
      "Epoch 77, batch: 0/469, loss: -11236.34\n",
      "Epoch 77, batch: 400/469, loss: -11331.01\n",
      "Epoch 78, batch: 0/469, loss: -11350.61\n",
      "Epoch 78, batch: 400/469, loss: -11344.79\n",
      "Epoch 79, batch: 0/469, loss: -11253.50\n",
      "Epoch 79, batch: 400/469, loss: -11144.26\n",
      "Epoch 80, batch: 0/469, loss: -11381.91\n",
      "Epoch 80, batch: 400/469, loss: -11386.23\n",
      "Epoch 81, batch: 0/469, loss: -11287.51\n",
      "Epoch 81, batch: 400/469, loss: -11225.97\n",
      "Epoch 82, batch: 0/469, loss: -11413.30\n",
      "Epoch 82, batch: 400/469, loss: -11090.85\n",
      "Epoch 83, batch: 0/469, loss: -11247.80\n",
      "Epoch 83, batch: 400/469, loss: -11235.80\n",
      "Epoch 84, batch: 0/469, loss: -11209.45\n",
      "Epoch 84, batch: 400/469, loss: -11313.77\n",
      "Epoch 85, batch: 0/469, loss: -11341.40\n",
      "Epoch 85, batch: 400/469, loss: -11210.36\n",
      "Epoch 86, batch: 0/469, loss: -11321.11\n",
      "Epoch 86, batch: 400/469, loss: -11160.73\n",
      "Epoch 87, batch: 0/469, loss: -11396.13\n",
      "Epoch 87, batch: 400/469, loss: -11193.14\n",
      "Epoch 88, batch: 0/469, loss: -11210.42\n",
      "Epoch 88, batch: 400/469, loss: -11237.79\n",
      "Epoch 89, batch: 0/469, loss: -11529.76\n",
      "Epoch 89, batch: 400/469, loss: -11192.57\n",
      "Epoch 90, batch: 0/469, loss: -11193.83\n",
      "Epoch 90, batch: 400/469, loss: -11222.44\n",
      "Epoch 91, batch: 0/469, loss: -11452.07\n",
      "Epoch 91, batch: 400/469, loss: -11340.28\n",
      "Epoch 92, batch: 0/469, loss: -11194.47\n",
      "Epoch 92, batch: 400/469, loss: -11223.18\n",
      "Epoch 93, batch: 0/469, loss: -11094.52\n",
      "Epoch 93, batch: 400/469, loss: -11234.59\n",
      "Epoch 94, batch: 0/469, loss: -11228.25\n",
      "Epoch 94, batch: 400/469, loss: -11226.19\n",
      "Epoch 95, batch: 0/469, loss: -11188.20\n",
      "Epoch 95, batch: 400/469, loss: -11255.75\n",
      "Epoch 96, batch: 0/469, loss: -11136.09\n",
      "Epoch 96, batch: 400/469, loss: -11356.51\n",
      "Epoch 97, batch: 0/469, loss: -11080.59\n",
      "Epoch 97, batch: 400/469, loss: -11180.15\n",
      "Epoch 98, batch: 0/469, loss: -11255.50\n",
      "Epoch 98, batch: 400/469, loss: -11310.52\n",
      "Epoch 99, batch: 0/469, loss: -11286.48\n",
      "Epoch 99, batch: 400/469, loss: -11204.91\n"
     ]
    },
    {
     "name": "stderr",
     "output_type": "stream",
     "text": [
      "/home/chivukula_manju/yes/lib/python3.6/site-packages/matplotlib/font_manager.py:1328: UserWarning: findfont: Font family ['sans-serif'] not found. Falling back to DejaVu Sans\n",
      "  (prop.get_family(), self.defaultFamily[fontext]))\n"
     ]
    },
    {
     "data": {
      "image/png": "[encoded data removed]",
      "text/plain": [
       "<Figure size 576x396 with 1 Axes>"
      ]
     },
     "metadata": {
      "tags": []
     },
     "output_type": "display_data"
    }
   ],
   "source": [
    "train_losses = []\n",
    "test_losses = []\n",
    "for epoch in range(Params.epochs):\n",
    "  train_loss = train_epoch(epoch)\n",
    "  train_losses.append(train_loss)\n",
    "  message = 'Epoch: {}/{}. Train set: Average loss: {:.4f}'.format(epoch + 1, Params.epochs, train_loss)\n",
    "  test_loss = test_epoch(epoch)\n",
    "  message = 'Epoch: {}/{}. Test set: Average loss: {:.4f}'.format(epoch + 1, Params.epochs, test_loss)\n",
    "  test_losses.append(test_loss)\n",
    "    \n",
    "plt.plot(range(Params.epochs),train_losses)\n",
    "plt.plot(range(Params.epochs),test_losses)\n",
    "plt.legend([\"Train loss\",\"Test loss\"])\n",
    "plt.show()"
   ]
  },
  {
   "cell_type": "markdown",
   "metadata": {
    "colab_type": "text",
    "id": "OZI0Vsid_b53"
   },
   "source": [
    "## Reconstructions"
   ]
  },
  {
   "cell_type": "code",
   "execution_count": 0,
   "metadata": {
    "colab": {},
    "colab_type": "code",
    "id": "YAhrXT04_b53"
   },
   "outputs": [],
   "source": [
    "def reconstruction(data,epoch, is_train = True):\n",
    "    save_dir = \"vae-classifier/results/\"\n",
    "    n = min(data.size(0), 8)\n",
    "    recon_batch, mu, logvar = model(data)\n",
    "    comparison = torch.cat([data[:n],recon_batch[:n]])\n",
    "    if is_train:\n",
    "        name = save_dir + \"train_reconstruction_\" + str(epoch) + '.png' \n",
    "    else:\n",
    "        name = save_dir + \"test_reconstruction_\" + str(epoch) + '.png' \n",
    "    save_image(comparison.cpu(),name, nrow=n)\n",
    "\n",
    "    \n",
    "train_batch, train_label = next(iter(train_loader))\n",
    "test_batch, test_label = next(iter(test_loader))\n",
    "reconstruction(train_batch.to(device), 100, True)\n",
    "reconstruction(test_batch.to(device), 100, False)"
   ]
  },
  {
   "cell_type": "code",
   "execution_count": 0,
   "metadata": {
    "colab": {},
    "colab_type": "code",
    "id": "EHODsaM6_b56",
    "outputId": "6bf518ec-b73b-4220-997e-b2fa4b21d297"
   },
   "outputs": [
    {
     "data": {
      "text/plain": [
       "'/home/chivukula_manju/vae'"
      ]
     },
     "execution_count": 59,
     "metadata": {
      "tags": []
     },
     "output_type": "execute_result"
    }
   ],
   "source": [
    "%pwd"
   ]
  },
  {
   "cell_type": "markdown",
   "metadata": {
    "colab_type": "text",
    "id": "_0vQMDLd_b5_"
   },
   "source": [
    "### Train Reconstruction"
   ]
  },
  {
   "cell_type": "code",
   "execution_count": 0,
   "metadata": {
    "colab": {
     "base_uri": "https://localhost:8080/",
     "height": 79
    },
    "colab_type": "code",
    "id": "Hx_8ZPRO_b6A",
    "outputId": "80579cff-324b-4fcc-c7ad-c6cca0d056e7"
   },
   "outputs": [
    {
     "data": {
      "image/png": "[encoded data removed]",
      "text/plain": [
       "<IPython.core.display.Image object>"
      ]
     },
     "execution_count": 19,
     "metadata": {
      "tags": []
     },
     "output_type": "execute_result"
    }
   ],
   "source": [
    "from IPython.display import Image\n",
    "Image(filename='./vae-classifier/results/train_reconstruction_100.png') "
   ]
  },
  {
   "cell_type": "markdown",
   "metadata": {
    "colab_type": "text",
    "id": "Nu7gRZnt_b6D"
   },
   "source": [
    "### Test Reconstruction"
   ]
  },
  {
   "cell_type": "code",
   "execution_count": 0,
   "metadata": {
    "colab": {},
    "colab_type": "code",
    "id": "HKX7pUDk_b6E",
    "outputId": "18a44170-b4b9-4e62-8843-a7b0da9f3450"
   },
   "outputs": [
    {
     "data": {
      "image/png": "[encoded data removed]",
      "text/plain": [
       "<IPython.core.display.Image object>"
      ]
     },
     "execution_count": 61,
     "metadata": {
      "tags": []
     },
     "output_type": "execute_result"
    }
   ],
   "source": [
    "Image(filename='./vae-classifier/results/test_reconstruction_100.png') "
   ]
  },
  {
   "cell_type": "markdown",
   "metadata": {
    "colab_type": "text",
    "id": "C0CPCf1N_b6H"
   },
   "source": [
    "## Generated Samples"
   ]
  },
  {
   "cell_type": "code",
   "execution_count": 0,
   "metadata": {
    "colab": {},
    "colab_type": "code",
    "id": "DMwBtYO7_b6H"
   },
   "outputs": [],
   "source": [
    "epoch = 100\n",
    "with torch.no_grad():\n",
    "    sample = torch.randn(64, Params.nb_latents).to(device)\n",
    "    sample = model.decode(sample).cpu()\n",
    "    save_image(sample.view(64, 1, 28, 28),\n",
    "             './vae-classifier/results/sample_' + str(epoch) + '.png')  \n",
    "  "
   ]
  },
  {
   "cell_type": "code",
   "execution_count": 0,
   "metadata": {
    "colab": {},
    "colab_type": "code",
    "id": "NEGFjOmC_b6K",
    "outputId": "b3796664-3528-47d5-fbe1-4e89070e7743"
   },
   "outputs": [
    {
     "data": {
      "image/png": "[encoded data removed]",
      "text/plain": [
       "<IPython.core.display.Image object>"
      ]
     },
     "execution_count": 65,
     "metadata": {
      "tags": []
     },
     "output_type": "execute_result"
    }
   ],
   "source": [
    "from IPython.display import Image\n",
    "Image(filename='./vae-classifier/results/sample_100.png') "
   ]
  },
  {
   "cell_type": "markdown",
   "metadata": {
    "colab_type": "text",
    "id": "98SjtYQD_b6O"
   },
   "source": [
    "## Latent Traversals"
   ]
  },
  {
   "cell_type": "code",
   "execution_count": 0,
   "metadata": {
    "colab": {},
    "colab_type": "code",
    "id": "6bqgDiHd_b6Q",
    "outputId": "e71f157f-e222-40da-d22d-c32dc5c7f7f0"
   },
   "outputs": [
    {
     "data": {
      "image/png": "[encoded data removed]",
      "text/plain": [
       "<IPython.core.display.Image object>"
      ]
     },
     "execution_count": 22,
     "metadata": {
      "tags": []
     },
     "output_type": "execute_result"
    }
   ],
   "source": [
    "Image(filename='./vae-classifier/results/traversal_99_468.png') "
   ]
  },
  {
   "cell_type": "code",
   "execution_count": 0,
   "metadata": {
    "colab": {},
    "colab_type": "code",
    "id": "oCi7Gisv_b6T",
    "scrolled": true
   },
   "outputs": [],
   "source": [
    "\n"
   ]
  },
  {
   "cell_type": "markdown",
   "metadata": {
    "colab_type": "text",
    "id": "e2cvsfzC_b6V"
   },
   "source": [
    "## TSNE Plot"
   ]
  },
  {
   "cell_type": "code",
   "execution_count": 0,
   "metadata": {
    "colab": {},
    "colab_type": "code",
    "id": "zy7maE4x_b6V"
   },
   "outputs": [],
   "source": [
    "path = 'latent_space.png'\n",
    "def visualize_tsne(X, labels, model, path):\n",
    "    # Compute latent space representation\n",
    "    print(\"Computing latent space projection...\")\n",
    "    \n",
    "    X_encoded, _ = model.encode(X)\n",
    "    \n",
    "    # Compute t-SNE embedding of latent space\n",
    "    tsne = manifold.TSNE(n_components=2, init='pca', random_state=0)\n",
    "    X_tsne = tsne.fit_transform(X_encoded.data.detach().cpu())\n",
    "\n",
    "    # Plot images according to t-sne embedding\n",
    "    fig, ax = plt.subplots()\n",
    "   \n",
    "    plt.scatter(X_tsne[:,0], X_tsne[:,1], c=labels, cmap=plt.cm.get_cmap(\"viridis\", 10))\n",
    "    plt.colorbar(ticks=range(10))\n",
    "    fig.savefig(path, dpi=fig.dpi)\n",
    "    \n",
    "#visualize_tsne(test_data[:5000].to(device),test_labels[:5000],model,path)\n"
   ]
  },
  {
   "cell_type": "markdown",
   "metadata": {
    "colab_type": "text",
    "id": "ldtqJq6r_b6X"
   },
   "source": [
    "## Loss Plot"
   ]
  },
  {
   "cell_type": "code",
   "execution_count": 0,
   "metadata": {
    "colab": {},
    "colab_type": "code",
    "id": "LJX72hgi_b6Y"
   },
   "outputs": [],
   "source": [
    "plt.plot(range(Params.epochs),train_losses)\n",
    "plt.plot(range(Params.epochs),test_losses)\n",
    "plt.legend([\"Train loss\",\"Test loss\"])\n",
    "plt.show()\n",
    "save_model(model,epoch)"
   ]
  },
  {
   "cell_type": "code",
   "execution_count": 0,
   "metadata": {
    "colab": {},
    "colab_type": "code",
    "id": "aGzlZq4f_b6a"
   },
   "outputs": [],
   "source": []
  },
  {
   "cell_type": "markdown",
   "metadata": {
    "colab_type": "text",
    "id": "-fMGPUji_b6c"
   },
   "source": [
    "## Load model"
   ]
  },
  {
   "cell_type": "code",
   "execution_count": 0,
   "metadata": {
    "colab": {},
    "colab_type": "code",
    "id": "k0nSjY-g_b6d"
   },
   "outputs": [],
   "source": [
    "load_model(model,\"./vae-classifier/results/model_state_99.pth\")"
   ]
  },
  {
   "cell_type": "code",
   "execution_count": 0,
   "metadata": {
    "colab": {},
    "colab_type": "code",
    "id": "7D55snMS_b6f"
   },
   "outputs": [],
   "source": [
    "x_test, y_test = test_data[:2000], test_labels[:2000]\n",
    "laplacian_variances = [laplacian_variance(x_test[y_test == i]) for i in range(10)]"
   ]
  },
  {
   "cell_type": "code",
   "execution_count": 0,
   "metadata": {
    "colab": {},
    "colab_type": "code",
    "id": "lCi-6uz0_b6h",
    "outputId": "32fcb021-23f8-4c34-865e-70193ad98974"
   },
   "outputs": [
    {
     "name": "stderr",
     "output_type": "stream",
     "text": [
      "/home/chivukula_manju/yes/lib/python3.6/site-packages/matplotlib/font_manager.py:1328: UserWarning: findfont: Font family ['sans-serif'] not found. Falling back to DejaVu Sans\n",
      "  (prop.get_family(), self.defaultFamily[fontext]))\n"
     ]
    },
    {
     "data": {
      "image/png": "[encoded data removed]",
      "text/plain": [
       "<Figure size 576x396 with 1 Axes>"
      ]
     },
     "metadata": {
      "tags": []
     },
     "output_type": "display_data"
    }
   ],
   "source": [
    "plt.boxplot(laplacian_variances, labels=range(10));\n",
    "plt.xlabel('Digit class')\n",
    "plt.ylabel('Laplacian variance')\n",
    "plt.title('Laplacian variance statistics per digit class');"
   ]
  },
  {
   "cell_type": "code",
   "execution_count": 0,
   "metadata": {
    "colab": {},
    "colab_type": "code",
    "id": "UVZdcShc_b6k"
   },
   "outputs": [],
   "source": [
    "not_ones = y_test != 1\n",
    "x_test_not_ones, y_test_not_ones = x_test[not_ones], y_test[not_ones]\n",
    "with torch.no_grad():\n",
    "    reconstructions = np.empty(shape=(len(x_test_not_ones),1,28,28))\n",
    "    indx = 0\n",
    "    for i, (x,y) in enumerate(zip(x_test_not_ones,y_test_not_ones)):\n",
    "        if y != 1:\n",
    "            recon_batch, mu, logvar = model(x.unsqueeze(1).to(device))\n",
    "            reconstructions[indx]=(recon_batch.squeeze(0).detach().cpu())\n",
    "            indx+=1\n",
    "       "
   ]
  },
  {
   "cell_type": "code",
   "execution_count": 0,
   "metadata": {
    "colab": {},
    "colab_type": "code",
    "id": "UuwGmMg4_b6m",
    "outputId": "923df482-f367-4747-977b-c2c27c005a9a"
   },
   "outputs": [
    {
     "data": {
      "text/plain": [
       "<matplotlib.image.AxesImage at 0x7f892f7d9240>"
      ]
     },
     "execution_count": 27,
     "metadata": {
      "tags": []
     },
     "output_type": "execute_result"
    },
    {
     "name": "stderr",
     "output_type": "stream",
     "text": [
      "/home/chivukula_manju/yes/lib/python3.6/site-packages/matplotlib/font_manager.py:1328: UserWarning: findfont: Font family ['sans-serif'] not found. Falling back to DejaVu Sans\n",
      "  (prop.get_family(), self.defaultFamily[fontext]))\n"
     ]
    },
    {
     "data": {
      "image/png": "[encoded data removed]",
      "text/plain": [
       "<Figure size 576x396 with 1 Axes>"
      ]
     },
     "metadata": {
      "tags": []
     },
     "output_type": "display_data"
    }
   ],
   "source": [
    "plt.imshow(np.array(reconstructions)[1].squeeze())"
   ]
  },
  {
   "cell_type": "code",
   "execution_count": 0,
   "metadata": {
    "colab": {},
    "colab_type": "code",
    "id": "V8X0IH0Z_b6q"
   },
   "outputs": [],
   "source": [
    "laplacian_variances_recons = [laplacian_variance_numpy(np.array(reconstructions[y_test == i], dtype=np.uint8)) \n",
    "                              for i in range(10)]"
   ]
  },
  {
   "cell_type": "code",
   "execution_count": 0,
   "metadata": {
    "colab": {},
    "colab_type": "code",
    "id": "uoZjuTEP_b6s",
    "outputId": "795d10a9-fd35-4b0d-cda6-571efabc0fcf",
    "scrolled": true
   },
   "outputs": [
    {
     "name": "stderr",
     "output_type": "stream",
     "text": [
      "/home/chivukula_manju/yes/lib/python3.6/site-packages/matplotlib/font_manager.py:1328: UserWarning: findfont: Font family ['sans-serif'] not found. Falling back to DejaVu Sans\n",
      "  (prop.get_family(), self.defaultFamily[fontext]))\n"
     ]
    },
    {
     "data": {
      "image/png": "[encoded data removed]",
      "text/plain": [
       "<Figure size 576x396 with 1 Axes>"
      ]
     },
     "metadata": {
      "tags": []
     },
     "output_type": "display_data"
    }
   ],
   "source": [
    "not_ones = y_test != 1\n",
    "\n",
    "lvs_1 = laplacian_variance(x_test[not_ones])\n",
    "lvs_2 = laplacian_variance_numpy(np.array(reconstructions, dtype=np.uint8))\n",
    "def plot_laplacian_variances(lvs_1, lvs_2, title):\n",
    "    plt.hist(lvs_1, bins=50, alpha=0.5 , label='Original images');\n",
    "    plt.hist(lvs_2, bins=50, alpha= 0.5 , label='Images by VAE');\n",
    "    plt.xlabel('Laplacian variance')\n",
    "    plt.title(title)\n",
    "    plt.legend();\n",
    "    \n"
   ]
  },
  {
   "cell_type": "markdown",
   "metadata": {
    "colab_type": "text",
    "id": "DGnz8uzC_b6v"
   },
   "source": [
    "The Laplacian variance increases with increased focus of an image or decreases with increased blur.Furthermore, images with a smaller amount of edges tend to have a smaller Laplacian variance (the Laplacian kernel is often used for edge detection in images). Therefore we first have to analyze the Laplacian variances for digit classes 0-9 in the MNIST test set before we can compare blur differences in generated images:"
   ]
  },
  {
   "cell_type": "code",
   "execution_count": 0,
   "metadata": {
    "colab": {},
    "colab_type": "code",
    "id": "SGzM4Bq8_b6w",
    "outputId": "3fbc4d8e-a5c0-4da9-dab4-797ff6c2d7c4"
   },
   "outputs": [
    {
     "name": "stderr",
     "output_type": "stream",
     "text": [
      "/home/chivukula_manju/yes/lib/python3.6/site-packages/matplotlib/font_manager.py:1328: UserWarning: findfont: Font family ['sans-serif'] not found. Falling back to DejaVu Sans\n",
      "  (prop.get_family(), self.defaultFamily[fontext]))\n"
     ]
    },
    {
     "data": {
      "image/png": "[encoded data removed]",
      "text/plain": [
       "<Figure size 576x396 with 1 Axes>"
      ]
     },
     "metadata": {
      "tags": []
     },
     "output_type": "display_data"
    }
   ],
   "source": [
    "plot_laplacian_variances(lvs_1, lvs_2, \"plot laplacian variance of test and vae (for all classes except 1s)\")"
   ]
  },
  {
   "cell_type": "markdown",
   "metadata": {
    "colab_type": "text",
    "id": "18ae6Bit_b61"
   },
   "source": [
    "## Model 2\n",
    "\n",
    "\n",
    "- VAE is detached\n",
    "- Test Classifier"
   ]
  },
  {
   "cell_type": "code",
   "execution_count": 0,
   "metadata": {
    "colab": {},
    "colab_type": "code",
    "id": "HEa-eXJ9_b62",
    "outputId": "495c4e24-ea76-434a-92a8-c60177f12941"
   },
   "outputs": [
    {
     "data": {
      "text/plain": [
       "<torch._C.Generator at 0x7f89605ce030>"
      ]
     },
     "execution_count": 31,
     "metadata": {
      "tags": []
     },
     "output_type": "execute_result"
    }
   ],
   "source": [
    "\n",
    "torch.manual_seed(5)"
   ]
  },
  {
   "cell_type": "code",
   "execution_count": 0,
   "metadata": {
    "colab": {},
    "colab_type": "code",
    "id": "6vOCU0oa_b65"
   },
   "outputs": [],
   "source": [
    "class Classifier(nn.Module):\n",
    "  def __init__(self):\n",
    "    super(Classifier,self).__init__()\n",
    "    \n",
    "    ## Define NN\n",
    "    self.fc1 = nn.Linear(10, 10)\n",
    "    \n",
    "    \n",
    "  def forward(self,x):\n",
    "    ## flat input features\n",
    "    x = x.view(-1, self.num_flat_features(x))\n",
    "    x = self.fc1(x)\n",
    "    \n",
    "    return F.log_softmax(x, dim=1)  \n",
    "  \n",
    "  def num_flat_features(self,x):\n",
    "    size = x.size()[1:] # all dimensions except the batch dimension\n",
    "    num_features = 1\n",
    "    for s in size:\n",
    "      num_features *=s\n",
    "    return num_features"
   ]
  },
  {
   "cell_type": "code",
   "execution_count": 0,
   "metadata": {
    "colab": {
     "base_uri": "https://localhost:8080/",
     "height": 70
    },
    "colab_type": "code",
    "id": "MB98wZNz_b6-",
    "outputId": "acf736a7-6867-431f-f0f5-01c8f2c75615"
   },
   "outputs": [
    {
     "name": "stdout",
     "output_type": "stream",
     "text": [
      "Classifier(\n",
      "  (fc1): Linear(in_features=10, out_features=10, bias=True)\n",
      ")\n"
     ]
    }
   ],
   "source": [
    "## Training\n",
    "from tqdm import trange\n",
    "\n",
    "criterion = nn.CrossEntropyLoss()\n",
    "classifier = Classifier()\n",
    "if is_cuda:\n",
    "  classifier = classifier.to(device)\n",
    "\n",
    "# Loss and optimizer\n",
    "learning_rate = 0.001\n",
    "momemtum = 0.9\n",
    "criterion = nn.CrossEntropyLoss()\n",
    "optimizer = torch.optim.Adam(classifier.parameters(), lr=learning_rate)\n",
    "scheduler = lr_scheduler.StepLR(optimizer,step_size = 7,gamma = 0.1)\n",
    "print(classifier)"
   ]
  },
  {
   "cell_type": "code",
   "execution_count": 0,
   "metadata": {
    "colab": {},
    "colab_type": "code",
    "id": "ZmPIgKEY_b7C"
   },
   "outputs": [],
   "source": [
    "## Train Classifier with pretrained vae\n",
    "#vae_parameters = list(model.named_parameters())\n",
    "#for name, param in vae_parameters:\n",
    " #   param.requires_grad = False"
   ]
  },
  {
   "cell_type": "code",
   "execution_count": 0,
   "metadata": {
    "colab": {},
    "colab_type": "code",
    "id": "QMxyPRUT_b7F"
   },
   "outputs": [],
   "source": [
    "def train_classifier_epoch(epoch):\n",
    "  model.train()\n",
    "  metric = AccumulatedAccuracyMetric()\n",
    "  losses = RunningAverage()\n",
    "  for idx, (data, labels) in enumerate(train_loader):\n",
    "    data= data.to(device)\n",
    "    labels = labels.to(device)\n",
    "    \n",
    "    \n",
    "    recon_batch, mu, logvar = model(data)\n",
    "    ## classifier, pass latent vector\n",
    "    outputs = classifier(mu)\n",
    "    classifier_loss = criterion(outputs, labels)\n",
    "    \n",
    "    optimizer.zero_grad()\n",
    "    classifier_loss.backward()\n",
    "    optimizer.step()\n",
    "    \n",
    "    classifier_loss /= data.size(0)\n",
    "    losses.update(classifier_loss)\n",
    "    \n",
    "    metric(outputs, labels)\n",
    "    \n",
    "    \n",
    "  return losses(), metric\n",
    " "
   ]
  },
  {
   "cell_type": "code",
   "execution_count": 0,
   "metadata": {
    "colab": {},
    "colab_type": "code",
    "id": "ISBqZ6Ah_b7H"
   },
   "outputs": [],
   "source": [
    "## Test Epoch\n",
    "\"\"\"\n",
    "Test, classifier on learnt features\n",
    "\"\"\"\n",
    "def test_classifier_epoch(epoch):\n",
    "  classifier.eval()\n",
    "  metric = AccumulatedAccuracyMetric()\n",
    "  losses = RunningAverage()\n",
    "  for idx, (data, labels) in enumerate(test_loader):\n",
    "    data= data.to(device)\n",
    "    labels = labels.to(device)\n",
    "    \n",
    "    \n",
    "    recon_batch, mu, logvar = model(data)\n",
    "    ## classifier, pass latent vector\n",
    "    outputs = classifier(mu)\n",
    "    classifier_loss = criterion(outputs, labels)\n",
    "    \n",
    "    classifier_loss /= data.size(0)\n",
    "    losses.update(classifier_loss)\n",
    "    \n",
    "    metric(outputs, labels)\n",
    "    \n",
    "    \n",
    "  return losses(), metric"
   ]
  },
  {
   "cell_type": "code",
   "execution_count": 0,
   "metadata": {
    "colab": {},
    "colab_type": "code",
    "id": "ohjaCNtZ_b7M",
    "outputId": "17b55d28-a2be-4c0b-ede9-d14696b7a4de"
   },
   "outputs": [
    {
     "name": "stdout",
     "output_type": "stream",
     "text": [
      "Epoch: 2/50. Train set: Average loss: 0.0122\t Average Accuracy: \tAccuracy: 56.77333333333333\n",
      "Epoch: 2/50. Train set: Average loss: 0.0122\t Average Accuracy: \tAccuracy: 56.77333333333333\n",
      "Epoch: 2/50. Test set: Average loss: 0.0077\t Average Accuracy: \tAccuracy: 87.38\n",
      "Epoch: 3/50. Train set: Average loss: 0.0053\t Average Accuracy: \tAccuracy: 90.18166666666667\n",
      "Epoch: 3/50. Train set: Average loss: 0.0053\t Average Accuracy: \tAccuracy: 90.18166666666667\n",
      "Epoch: 3/50. Test set: Average loss: 0.0045\t Average Accuracy: \tAccuracy: 92.66\n",
      "Epoch: 4/50. Train set: Average loss: 0.0034\t Average Accuracy: \tAccuracy: 93.075\n",
      "Epoch: 4/50. Train set: Average loss: 0.0034\t Average Accuracy: \tAccuracy: 93.075\n",
      "Epoch: 4/50. Test set: Average loss: 0.0033\t Average Accuracy: \tAccuracy: 93.87\n",
      "Epoch: 5/50. Train set: Average loss: 0.0026\t Average Accuracy: \tAccuracy: 94.095\n",
      "Epoch: 5/50. Train set: Average loss: 0.0026\t Average Accuracy: \tAccuracy: 94.095\n",
      "Epoch: 5/50. Test set: Average loss: 0.0026\t Average Accuracy: \tAccuracy: 94.5\n",
      "Epoch: 6/50. Train set: Average loss: 0.0022\t Average Accuracy: \tAccuracy: 94.69666666666667\n",
      "Epoch: 6/50. Train set: Average loss: 0.0022\t Average Accuracy: \tAccuracy: 94.69666666666667\n",
      "Epoch: 6/50. Test set: Average loss: 0.0022\t Average Accuracy: \tAccuracy: 94.83\n",
      "Epoch: 7/50. Train set: Average loss: 0.0020\t Average Accuracy: \tAccuracy: 94.98666666666666\n",
      "Epoch: 7/50. Train set: Average loss: 0.0020\t Average Accuracy: \tAccuracy: 94.98666666666666\n",
      "Epoch: 7/50. Test set: Average loss: 0.0020\t Average Accuracy: \tAccuracy: 95.06\n",
      "Epoch: 8/50. Train set: Average loss: 0.0018\t Average Accuracy: \tAccuracy: 95.215\n",
      "Epoch: 8/50. Train set: Average loss: 0.0018\t Average Accuracy: \tAccuracy: 95.215\n",
      "Epoch: 8/50. Test set: Average loss: 0.0017\t Average Accuracy: \tAccuracy: 95.21\n",
      "Epoch: 9/50. Train set: Average loss: 0.0017\t Average Accuracy: \tAccuracy: 95.39\n",
      "Epoch: 9/50. Train set: Average loss: 0.0017\t Average Accuracy: \tAccuracy: 95.39\n",
      "Epoch: 9/50. Test set: Average loss: 0.0017\t Average Accuracy: \tAccuracy: 95.3\n",
      "Epoch: 10/50. Train set: Average loss: 0.0016\t Average Accuracy: \tAccuracy: 95.48166666666667\n",
      "Epoch: 10/50. Train set: Average loss: 0.0016\t Average Accuracy: \tAccuracy: 95.48166666666667\n",
      "Epoch: 10/50. Test set: Average loss: 0.0016\t Average Accuracy: \tAccuracy: 95.41\n",
      "Epoch: 11/50. Train set: Average loss: 0.0015\t Average Accuracy: \tAccuracy: 95.56666666666666\n",
      "Epoch: 11/50. Train set: Average loss: 0.0015\t Average Accuracy: \tAccuracy: 95.56666666666666\n",
      "Epoch: 11/50. Test set: Average loss: 0.0017\t Average Accuracy: \tAccuracy: 95.46\n",
      "Epoch: 12/50. Train set: Average loss: 0.0015\t Average Accuracy: \tAccuracy: 95.63166666666666\n",
      "Epoch: 12/50. Train set: Average loss: 0.0015\t Average Accuracy: \tAccuracy: 95.63166666666666\n",
      "Epoch: 12/50. Test set: Average loss: 0.0015\t Average Accuracy: \tAccuracy: 95.51\n",
      "Epoch: 13/50. Train set: Average loss: 0.0014\t Average Accuracy: \tAccuracy: 95.70666666666666\n",
      "Epoch: 13/50. Train set: Average loss: 0.0014\t Average Accuracy: \tAccuracy: 95.70666666666666\n",
      "Epoch: 13/50. Test set: Average loss: 0.0015\t Average Accuracy: \tAccuracy: 95.53\n",
      "Epoch: 14/50. Train set: Average loss: 0.0014\t Average Accuracy: \tAccuracy: 95.755\n",
      "Epoch: 14/50. Train set: Average loss: 0.0014\t Average Accuracy: \tAccuracy: 95.755\n",
      "Epoch: 14/50. Test set: Average loss: 0.0014\t Average Accuracy: \tAccuracy: 95.59\n",
      "Epoch: 15/50. Train set: Average loss: 0.0014\t Average Accuracy: \tAccuracy: 95.775\n",
      "Epoch: 15/50. Train set: Average loss: 0.0014\t Average Accuracy: \tAccuracy: 95.775\n",
      "Epoch: 15/50. Test set: Average loss: 0.0014\t Average Accuracy: \tAccuracy: 95.58\n",
      "Epoch: 16/50. Train set: Average loss: 0.0014\t Average Accuracy: \tAccuracy: 95.84333333333333\n",
      "Epoch: 16/50. Train set: Average loss: 0.0014\t Average Accuracy: \tAccuracy: 95.84333333333333\n",
      "Epoch: 16/50. Test set: Average loss: 0.0014\t Average Accuracy: \tAccuracy: 95.61\n",
      "Epoch: 17/50. Train set: Average loss: 0.0013\t Average Accuracy: \tAccuracy: 95.80333333333333\n",
      "Epoch: 17/50. Train set: Average loss: 0.0013\t Average Accuracy: \tAccuracy: 95.80333333333333\n",
      "Epoch: 17/50. Test set: Average loss: 0.0014\t Average Accuracy: \tAccuracy: 95.64\n",
      "Epoch: 18/50. Train set: Average loss: 0.0013\t Average Accuracy: \tAccuracy: 95.835\n",
      "Epoch: 18/50. Train set: Average loss: 0.0013\t Average Accuracy: \tAccuracy: 95.835\n",
      "Epoch: 18/50. Test set: Average loss: 0.0017\t Average Accuracy: \tAccuracy: 95.61\n",
      "Epoch: 19/50. Train set: Average loss: 0.0013\t Average Accuracy: \tAccuracy: 95.87333333333333\n",
      "Epoch: 19/50. Train set: Average loss: 0.0013\t Average Accuracy: \tAccuracy: 95.87333333333333\n",
      "Epoch: 19/50. Test set: Average loss: 0.0016\t Average Accuracy: \tAccuracy: 95.67\n",
      "Epoch: 20/50. Train set: Average loss: 0.0013\t Average Accuracy: \tAccuracy: 95.88666666666667\n",
      "Epoch: 20/50. Train set: Average loss: 0.0013\t Average Accuracy: \tAccuracy: 95.88666666666667\n",
      "Epoch: 20/50. Test set: Average loss: 0.0013\t Average Accuracy: \tAccuracy: 95.67\n",
      "Epoch: 21/50. Train set: Average loss: 0.0013\t Average Accuracy: \tAccuracy: 95.9\n",
      "Epoch: 21/50. Train set: Average loss: 0.0013\t Average Accuracy: \tAccuracy: 95.9\n",
      "Epoch: 21/50. Test set: Average loss: 0.0013\t Average Accuracy: \tAccuracy: 95.71\n",
      "Epoch: 22/50. Train set: Average loss: 0.0013\t Average Accuracy: \tAccuracy: 95.89166666666667\n",
      "Epoch: 22/50. Train set: Average loss: 0.0013\t Average Accuracy: \tAccuracy: 95.89166666666667\n",
      "Epoch: 22/50. Test set: Average loss: 0.0014\t Average Accuracy: \tAccuracy: 95.73\n",
      "Epoch: 23/50. Train set: Average loss: 0.0013\t Average Accuracy: \tAccuracy: 95.90166666666667\n",
      "Epoch: 23/50. Train set: Average loss: 0.0013\t Average Accuracy: \tAccuracy: 95.90166666666667\n",
      "Epoch: 23/50. Test set: Average loss: 0.0013\t Average Accuracy: \tAccuracy: 95.76\n",
      "Epoch: 24/50. Train set: Average loss: 0.0013\t Average Accuracy: \tAccuracy: 95.90833333333333\n",
      "Epoch: 24/50. Train set: Average loss: 0.0013\t Average Accuracy: \tAccuracy: 95.90833333333333\n",
      "Epoch: 24/50. Test set: Average loss: 0.0013\t Average Accuracy: \tAccuracy: 95.73\n",
      "Epoch: 25/50. Train set: Average loss: 0.0013\t Average Accuracy: \tAccuracy: 95.90666666666667\n",
      "Epoch: 25/50. Train set: Average loss: 0.0013\t Average Accuracy: \tAccuracy: 95.90666666666667\n",
      "Epoch: 25/50. Test set: Average loss: 0.0014\t Average Accuracy: \tAccuracy: 95.76\n",
      "Epoch: 26/50. Train set: Average loss: 0.0013\t Average Accuracy: \tAccuracy: 95.90166666666667\n",
      "Epoch: 26/50. Train set: Average loss: 0.0013\t Average Accuracy: \tAccuracy: 95.90166666666667\n",
      "Epoch: 26/50. Test set: Average loss: 0.0013\t Average Accuracy: \tAccuracy: 95.82\n",
      "Epoch: 27/50. Train set: Average loss: 0.0013\t Average Accuracy: \tAccuracy: 95.90666666666667\n",
      "Epoch: 27/50. Train set: Average loss: 0.0013\t Average Accuracy: \tAccuracy: 95.90666666666667\n",
      "Epoch: 27/50. Test set: Average loss: 0.0014\t Average Accuracy: \tAccuracy: 95.79\n",
      "Epoch: 28/50. Train set: Average loss: 0.0013\t Average Accuracy: \tAccuracy: 95.92333333333333\n",
      "Epoch: 28/50. Train set: Average loss: 0.0013\t Average Accuracy: \tAccuracy: 95.92333333333333\n",
      "Epoch: 28/50. Test set: Average loss: 0.0014\t Average Accuracy: \tAccuracy: 95.81\n",
      "Epoch: 29/50. Train set: Average loss: 0.0013\t Average Accuracy: \tAccuracy: 95.90666666666667\n",
      "Epoch: 29/50. Train set: Average loss: 0.0013\t Average Accuracy: \tAccuracy: 95.90666666666667\n",
      "Epoch: 29/50. Test set: Average loss: 0.0013\t Average Accuracy: \tAccuracy: 95.84\n",
      "Epoch: 30/50. Train set: Average loss: 0.0013\t Average Accuracy: \tAccuracy: 95.905\n",
      "Epoch: 30/50. Train set: Average loss: 0.0013\t Average Accuracy: \tAccuracy: 95.905\n",
      "Epoch: 30/50. Test set: Average loss: 0.0013\t Average Accuracy: \tAccuracy: 95.82\n",
      "Epoch: 31/50. Train set: Average loss: 0.0013\t Average Accuracy: \tAccuracy: 95.92333333333333\n",
      "Epoch: 31/50. Train set: Average loss: 0.0013\t Average Accuracy: \tAccuracy: 95.92333333333333\n",
      "Epoch: 31/50. Test set: Average loss: 0.0013\t Average Accuracy: \tAccuracy: 95.78\n",
      "Epoch: 32/50. Train set: Average loss: 0.0013\t Average Accuracy: \tAccuracy: 95.925\n",
      "Epoch: 32/50. Train set: Average loss: 0.0013\t Average Accuracy: \tAccuracy: 95.925\n",
      "Epoch: 32/50. Test set: Average loss: 0.0015\t Average Accuracy: \tAccuracy: 95.81\n",
      "Epoch: 33/50. Train set: Average loss: 0.0013\t Average Accuracy: \tAccuracy: 95.91666666666667\n",
      "Epoch: 33/50. Train set: Average loss: 0.0013\t Average Accuracy: \tAccuracy: 95.91666666666667\n",
      "Epoch: 33/50. Test set: Average loss: 0.0013\t Average Accuracy: \tAccuracy: 95.84\n",
      "Epoch: 34/50. Train set: Average loss: 0.0013\t Average Accuracy: \tAccuracy: 95.93166666666667\n",
      "Epoch: 34/50. Train set: Average loss: 0.0013\t Average Accuracy: \tAccuracy: 95.93166666666667\n",
      "Epoch: 34/50. Test set: Average loss: 0.0014\t Average Accuracy: \tAccuracy: 95.81\n",
      "Epoch: 35/50. Train set: Average loss: 0.0013\t Average Accuracy: \tAccuracy: 95.92333333333333\n",
      "Epoch: 35/50. Train set: Average loss: 0.0013\t Average Accuracy: \tAccuracy: 95.92333333333333\n",
      "Epoch: 35/50. Test set: Average loss: 0.0016\t Average Accuracy: \tAccuracy: 95.82\n",
      "Epoch: 36/50. Train set: Average loss: 0.0013\t Average Accuracy: \tAccuracy: 95.94166666666666\n",
      "Epoch: 36/50. Train set: Average loss: 0.0013\t Average Accuracy: \tAccuracy: 95.94166666666666\n",
      "Epoch: 36/50. Test set: Average loss: 0.0017\t Average Accuracy: \tAccuracy: 95.83\n",
      "Epoch: 37/50. Train set: Average loss: 0.0013\t Average Accuracy: \tAccuracy: 95.935\n",
      "Epoch: 37/50. Train set: Average loss: 0.0013\t Average Accuracy: \tAccuracy: 95.935\n",
      "Epoch: 37/50. Test set: Average loss: 0.0013\t Average Accuracy: \tAccuracy: 95.83\n",
      "Epoch: 38/50. Train set: Average loss: 0.0013\t Average Accuracy: \tAccuracy: 95.94333333333333\n",
      "Epoch: 38/50. Train set: Average loss: 0.0013\t Average Accuracy: \tAccuracy: 95.94333333333333\n",
      "Epoch: 38/50. Test set: Average loss: 0.0013\t Average Accuracy: \tAccuracy: 95.84\n",
      "Epoch: 39/50. Train set: Average loss: 0.0013\t Average Accuracy: \tAccuracy: 95.92333333333333\n",
      "Epoch: 39/50. Train set: Average loss: 0.0013\t Average Accuracy: \tAccuracy: 95.92333333333333\n",
      "Epoch: 39/50. Test set: Average loss: 0.0013\t Average Accuracy: \tAccuracy: 95.83\n",
      "Epoch: 40/50. Train set: Average loss: 0.0013\t Average Accuracy: \tAccuracy: 95.945\n",
      "Epoch: 40/50. Train set: Average loss: 0.0013\t Average Accuracy: \tAccuracy: 95.945\n",
      "Epoch: 40/50. Test set: Average loss: 0.0013\t Average Accuracy: \tAccuracy: 95.84\n",
      "Epoch: 41/50. Train set: Average loss: 0.0013\t Average Accuracy: \tAccuracy: 95.93333333333334\n",
      "Epoch: 41/50. Train set: Average loss: 0.0013\t Average Accuracy: \tAccuracy: 95.93333333333334\n",
      "Epoch: 41/50. Test set: Average loss: 0.0013\t Average Accuracy: \tAccuracy: 95.82\n",
      "Epoch: 42/50. Train set: Average loss: 0.0013\t Average Accuracy: \tAccuracy: 95.92666666666666\n",
      "Epoch: 42/50. Train set: Average loss: 0.0013\t Average Accuracy: \tAccuracy: 95.92666666666666\n",
      "Epoch: 42/50. Test set: Average loss: 0.0013\t Average Accuracy: \tAccuracy: 95.84\n",
      "Epoch: 43/50. Train set: Average loss: 0.0013\t Average Accuracy: \tAccuracy: 95.91833333333334\n",
      "Epoch: 43/50. Train set: Average loss: 0.0013\t Average Accuracy: \tAccuracy: 95.91833333333334\n",
      "Epoch: 43/50. Test set: Average loss: 0.0013\t Average Accuracy: \tAccuracy: 95.85\n",
      "Epoch: 44/50. Train set: Average loss: 0.0013\t Average Accuracy: \tAccuracy: 95.915\n",
      "Epoch: 44/50. Train set: Average loss: 0.0013\t Average Accuracy: \tAccuracy: 95.915\n",
      "Epoch: 44/50. Test set: Average loss: 0.0013\t Average Accuracy: \tAccuracy: 95.87\n",
      "Epoch: 45/50. Train set: Average loss: 0.0013\t Average Accuracy: \tAccuracy: 95.95\n",
      "Epoch: 45/50. Train set: Average loss: 0.0013\t Average Accuracy: \tAccuracy: 95.95\n",
      "Epoch: 45/50. Test set: Average loss: 0.0013\t Average Accuracy: \tAccuracy: 95.86\n",
      "Epoch: 46/50. Train set: Average loss: 0.0013\t Average Accuracy: \tAccuracy: 95.95333333333333\n",
      "Epoch: 46/50. Train set: Average loss: 0.0013\t Average Accuracy: \tAccuracy: 95.95333333333333\n",
      "Epoch: 46/50. Test set: Average loss: 0.0013\t Average Accuracy: \tAccuracy: 95.85\n",
      "Epoch: 47/50. Train set: Average loss: 0.0013\t Average Accuracy: \tAccuracy: 95.95333333333333\n",
      "Epoch: 47/50. Train set: Average loss: 0.0013\t Average Accuracy: \tAccuracy: 95.95333333333333\n",
      "Epoch: 47/50. Test set: Average loss: 0.0014\t Average Accuracy: \tAccuracy: 95.83\n",
      "Epoch: 48/50. Train set: Average loss: 0.0013\t Average Accuracy: \tAccuracy: 95.96\n",
      "Epoch: 48/50. Train set: Average loss: 0.0013\t Average Accuracy: \tAccuracy: 95.96\n",
      "Epoch: 48/50. Test set: Average loss: 0.0013\t Average Accuracy: \tAccuracy: 95.84\n",
      "Epoch: 49/50. Train set: Average loss: 0.0013\t Average Accuracy: \tAccuracy: 95.92666666666666\n",
      "Epoch: 49/50. Train set: Average loss: 0.0013\t Average Accuracy: \tAccuracy: 95.92666666666666\n",
      "Epoch: 49/50. Test set: Average loss: 0.0013\t Average Accuracy: \tAccuracy: 95.83\n",
      "Epoch: 50/50. Train set: Average loss: 0.0013\t Average Accuracy: \tAccuracy: 95.95166666666667\n",
      "Epoch: 50/50. Train set: Average loss: 0.0013\t Average Accuracy: \tAccuracy: 95.95166666666667\n",
      "Epoch: 50/50. Test set: Average loss: 0.0013\t Average Accuracy: \tAccuracy: 95.88\n"
     ]
    }
   ],
   "source": [
    "train_losses = []\n",
    "train_accuracy = []\n",
    "test_losses = []\n",
    "test_accuracy = []\n",
    "n_epochs = 50\n",
    "for epoch in range(1, n_epochs):\n",
    "  \n",
    "  # Train stage\n",
    "  train_loss, metric = train_classifier_epoch(epoch)\n",
    "  train_losses.append(train_loss)\n",
    "  train_accuracy.append(metric.value())\n",
    "  \n",
    "  message = 'Epoch: {}/{}. Train set: Average loss: {:.4f}'\n",
    "    .format(epoch + 1, n_epochs, train_loss)\n",
    "  message += '\\t Average Accuracy: \\t{}: {}'\n",
    "    .format(metric.name(), metric.value())\n",
    "  print(message)\n",
    "  \n",
    "  val_loss, metrics = test_classifier_epoch(epoch)\n",
    "  test_losses.append(val_loss)\n",
    "  test_accuracy.append(metrics.value())\n",
    "  \n",
    "  message += '\\nEpoch: {}/{}. Test set: Average loss: {:.4f}'\n",
    "    .format(epoch + 1, n_epochs,val_loss)\n",
    "  \n",
    "  message += '\\t Average Accuracy: \\t{}: {}'\n",
    "    .format(metrics.name(), metrics.value())\n",
    "\n",
    "  \n",
    "  print(message)"
   ]
  },
  {
   "cell_type": "markdown",
   "metadata": {
    "colab_type": "text",
    "id": "rqTR-aKo_b7O"
   },
   "source": [
    "### Save Classifier"
   ]
  },
  {
   "cell_type": "code",
   "execution_count": 0,
   "metadata": {
    "colab": {},
    "colab_type": "code",
    "id": "oFxLsLpP_b7P"
   },
   "outputs": [],
   "source": [
    "path =\"classifier_model_state_\"+str(epoch)+\".pth\"  \n",
    "torch.save(classifier.state_dict(),path)"
   ]
  },
  {
   "cell_type": "code",
   "execution_count": 0,
   "metadata": {
    "colab": {},
    "colab_type": "code",
    "id": "bpOwH8UA_b7R"
   },
   "outputs": [],
   "source": [
    "path =\"classifier_model_state_\"+str(49)+\".pth\"  \n",
    "load_model(classifier, path)"
   ]
  },
  {
   "cell_type": "markdown",
   "metadata": {
    "colab_type": "text",
    "id": "4EbVAYSE_b7V"
   },
   "source": [
    "## Plots"
   ]
  },
  {
   "cell_type": "code",
   "execution_count": 0,
   "metadata": {
    "colab": {},
    "colab_type": "code",
    "id": "WE_RzzYg_b7W",
    "outputId": "4cd2aea1-c14f-4f58-d598-d4cef6306707"
   },
   "outputs": [
    {
     "data": {
      "text/plain": [
       "<matplotlib.legend.Legend at 0x7f9186880eb8>"
      ]
     },
     "execution_count": 35,
     "metadata": {
      "tags": []
     },
     "output_type": "execute_result"
    },
    {
     "name": "stderr",
     "output_type": "stream",
     "text": [
      "/home/chivukula_manju/yes/lib/python3.6/site-packages/matplotlib/font_manager.py:1328: UserWarning: findfont: Font family ['sans-serif'] not found. Falling back to DejaVu Sans\n",
      "  (prop.get_family(), self.defaultFamily[fontext]))\n"
     ]
    },
    {
     "data": {
      "image/png": "[encoded data removed]",
      "text/plain": [
       "<Figure size 576x396 with 1 Axes>"
      ]
     },
     "metadata": {
      "tags": []
     },
     "output_type": "display_data"
    }
   ],
   "source": [
    "plt.plot(range(1,n_epochs),train_accuracy)\n",
    "plt.plot(range(1,n_epochs),test_accuracy)\n",
    "plt.title(\"Classification accuracy of classifier\")\n",
    "plt.legend([\"train accuracy\",\"test accuracy\"])"
   ]
  },
  {
   "cell_type": "code",
   "execution_count": 0,
   "metadata": {
    "colab": {},
    "colab_type": "code",
    "id": "lF-7bhIV_b7Z",
    "outputId": "8ae44992-7edd-4e9f-ee61-1f61973dd8cb"
   },
   "outputs": [
    {
     "data": {
      "text/plain": [
       "<matplotlib.legend.Legend at 0x7f91867d94a8>"
      ]
     },
     "execution_count": 36,
     "metadata": {
      "tags": []
     },
     "output_type": "execute_result"
    },
    {
     "name": "stderr",
     "output_type": "stream",
     "text": [
      "/home/chivukula_manju/yes/lib/python3.6/site-packages/matplotlib/font_manager.py:1328: UserWarning: findfont: Font family ['sans-serif'] not found. Falling back to DejaVu Sans\n",
      "  (prop.get_family(), self.defaultFamily[fontext]))\n"
     ]
    },
    {
     "data": {
      "image/png": "[encoded data removed]",
      "text/plain": [
       "<Figure size 576x396 with 1 Axes>"
      ]
     },
     "metadata": {
      "tags": []
     },
     "output_type": "display_data"
    }
   ],
   "source": [
    "plt.plot(range(1,n_epochs),train_losses)\n",
    "plt.plot(range(1,n_epochs),test_losses)\n",
    "plt.title(\"Classification loss of classifier\")\n",
    "plt.legend([\"train accuracy\",\"test accuracy\"])"
   ]
  },
  {
   "cell_type": "code",
   "execution_count": 0,
   "metadata": {
    "colab": {},
    "colab_type": "code",
    "id": "S-tJf5de_b7e",
    "outputId": "07b8ec57-be03-4cbe-b76c-302df4d285f2"
   },
   "outputs": [
    {
     "name": "stdout",
     "output_type": "stream",
     "text": [
      "Computing latent space projection...\n"
     ]
    },
    {
     "name": "stderr",
     "output_type": "stream",
     "text": [
      "/home/chivukula_manju/yes/lib/python3.6/site-packages/matplotlib/font_manager.py:1328: UserWarning: findfont: Font family ['sans-serif'] not found. Falling back to DejaVu Sans\n",
      "  (prop.get_family(), self.defaultFamily[fontext]))\n"
     ]
    },
    {
     "data": {
      "image/png": "[encoded data removed]",
      "text/plain": [
       "<Figure size 432x288 with 2 Axes>"
      ]
     },
     "metadata": {
      "tags": []
     },
     "output_type": "display_data"
    }
   ],
   "source": [
    "path = \"tsne_vae+classifier_trained.png\"\n",
    "visualize_tsne(test_data[:5000].to(device),test_labels[:5000],model,path)\n"
   ]
  },
  {
   "cell_type": "markdown",
   "metadata": {
    "colab_type": "text",
    "collapsed": true,
    "id": "8B-ePw5s_b7h"
   },
   "source": [
    "## Model 3\n",
    "Train with:\n",
    "VAE + Classifier"
   ]
  },
  {
   "cell_type": "code",
   "execution_count": 0,
   "metadata": {
    "colab": {},
    "colab_type": "code",
    "id": "h8t1T7NsBSXD"
   },
   "outputs": [],
   "source": []
  },
  {
   "cell_type": "code",
   "execution_count": 0,
   "metadata": {
    "colab": {},
    "colab_type": "code",
    "id": "8lMHbCUj_b7i"
   },
   "outputs": [],
   "source": [
    "classifier = Classifier()\n",
    "model = ConvVAE(Params.nb_latents)\n",
    "\n",
    "if is_cuda:\n",
    "  classifier = classifier.to(device)\n",
    "  model  = model.cuda()\n",
    "\n",
    "## VAE is trained\n",
    "criterion = nn.CrossEntropyLoss()\n",
    "optimizer = optim.Adam(list(model.parameters()) \n",
    "                    + list(classifier.parameters()), lr=1e-3)\n",
    "\n",
    "\"\"\"\n",
    "Train VAE + but not classifier\n",
    "\"\"\"\n",
    "def train_classifier_all(epoch):\n",
    "\n",
    "  model.train()\n",
    "  classifier.train()\n",
    "  metric = AccumulatedAccuracyMetric()\n",
    "  losses = RunningAverage()\n",
    "  for idx, (data, labels) in enumerate(train_loader):\n",
    "    \n",
    "    data = data.to(device)\n",
    "    labels = labels.to(device)\n",
    "    \n",
    "    recon_batch, mu, logvar = model(data)\n",
    "    kld, loss = loss_function(recon_batch.squeeze().view(-1,28*28), data, mu, logvar)\n",
    "    \n",
    "    ## classifier, pass latent vector\n",
    "    outputs = classifier(mu)\n",
    "    classifier_loss =  criterion(outputs, labels)\n",
    "    \n",
    "    ## Add all losses.\n",
    "    loss = loss + classifier_loss\n",
    "    \n",
    "    ## parameter update\n",
    "    optimizer.zero_grad()\n",
    "    loss.backward()\n",
    "    optimizer.step()\n",
    "    \n",
    "    loss /=len(data)\n",
    "    \n",
    "    losses.update(loss)\n",
    "    \n",
    "    metric(outputs, labels)\n",
    "    \n",
    "    \n",
    "  return losses(), metric\n",
    "\n",
    "\n",
    "\n",
    "## Test Epoch\n",
    "\"\"\"\n",
    "Test, classifier on learnt features\n",
    "\"\"\"\n",
    "def test_with_all_training(epoch):\n",
    "  classifier.eval()\n",
    "  model.eval()\n",
    "  metric = AccumulatedAccuracyMetric()\n",
    "  #losses = RunningAverage()\n",
    "  for idx, (data, labels) in enumerate(test_loader):\n",
    "    \n",
    "    data, labels = data.to(device), labels.to(device)\n",
    "    \n",
    "    recon_batch, mu, logvar = model(data)\n",
    "    \n",
    "    ## classifier, pass latent vector\n",
    "    outputs = classifier(mu)\n",
    "    \n",
    "    metric(outputs, labels)\n",
    "    \n",
    "    \n",
    "  return 0.0, metric\n",
    "\n"
   ]
  },
  {
   "cell_type": "code",
   "execution_count": 0,
   "metadata": {
    "colab": {
     "base_uri": "https://localhost:8080/",
     "height": 756
    },
    "colab_type": "code",
    "id": "jlYi79t7_b7k",
    "outputId": "ad14b16d-9f78-4ef9-a69f-8d6b8bedd810"
   },
   "outputs": [
    {
     "name": "stdout",
     "output_type": "stream",
     "text": [
      "Epoch: 2/50. Train set: Average loss: -7092.0972\t Average Accuracy: \tAccuracy: 26.285\n",
      "Epoch: 2/50. Train set: Average loss: -7092.0972\t Average Accuracy: \tAccuracy: 26.285\n",
      "Epoch: 2/50. Test set: Average loss: 0.0000\t Average Accuracy: \tAccuracy: 46.78\n",
      "Epoch: 3/50. Train set: Average loss: -8804.5527\t Average Accuracy: \tAccuracy: 63.26833333333333\n",
      "Epoch: 3/50. Train set: Average loss: -8804.5527\t Average Accuracy: \tAccuracy: 63.26833333333333\n",
      "Epoch: 3/50. Test set: Average loss: 0.0000\t Average Accuracy: \tAccuracy: 73.54\n",
      "Epoch: 4/50. Train set: Average loss: -9690.9590\t Average Accuracy: \tAccuracy: 78.39166666666667\n",
      "Epoch: 4/50. Train set: Average loss: -9690.9590\t Average Accuracy: \tAccuracy: 78.39166666666667\n",
      "Epoch: 4/50. Test set: Average loss: 0.0000\t Average Accuracy: \tAccuracy: 83.35\n",
      "Epoch: 5/50. Train set: Average loss: -10132.9014\t Average Accuracy: \tAccuracy: 84.31\n",
      "Epoch: 5/50. Train set: Average loss: -10132.9014\t Average Accuracy: \tAccuracy: 84.31\n",
      "Epoch: 5/50. Test set: Average loss: 0.0000\t Average Accuracy: \tAccuracy: 86.94\n",
      "Epoch: 6/50. Train set: Average loss: -10435.4551\t Average Accuracy: \tAccuracy: 88.0\n",
      "Epoch: 6/50. Train set: Average loss: -10435.4551\t Average Accuracy: \tAccuracy: 88.0\n",
      "Epoch: 6/50. Test set: Average loss: 0.0000\t Average Accuracy: \tAccuracy: 90.46\n",
      "Epoch: 7/50. Train set: Average loss: -10606.8926\t Average Accuracy: \tAccuracy: 90.47166666666666\n",
      "Epoch: 7/50. Train set: Average loss: -10606.8926\t Average Accuracy: \tAccuracy: 90.47166666666666\n",
      "Epoch: 7/50. Test set: Average loss: 0.0000\t Average Accuracy: \tAccuracy: 91.98\n",
      "Epoch: 8/50. Train set: Average loss: -10767.1396\t Average Accuracy: \tAccuracy: 91.555\n",
      "Epoch: 8/50. Train set: Average loss: -10767.1396\t Average Accuracy: \tAccuracy: 91.555\n",
      "Epoch: 8/50. Test set: Average loss: 0.0000\t Average Accuracy: \tAccuracy: 92.47\n",
      "Epoch: 9/50. Train set: Average loss: -10905.2227\t Average Accuracy: \tAccuracy: 92.12666666666667\n",
      "Epoch: 9/50. Train set: Average loss: -10905.2227\t Average Accuracy: \tAccuracy: 92.12666666666667\n",
      "Epoch: 9/50. Test set: Average loss: 0.0000\t Average Accuracy: \tAccuracy: 92.74\n",
      "Epoch: 10/50. Train set: Average loss: -10973.8369\t Average Accuracy: \tAccuracy: 92.82\n",
      "Epoch: 10/50. Train set: Average loss: -10973.8369\t Average Accuracy: \tAccuracy: 92.82\n",
      "Epoch: 10/50. Test set: Average loss: 0.0000\t Average Accuracy: \tAccuracy: 93.2\n",
      "Epoch: 11/50. Train set: Average loss: -11020.5469\t Average Accuracy: \tAccuracy: 93.25333333333333\n",
      "Epoch: 11/50. Train set: Average loss: -11020.5469\t Average Accuracy: \tAccuracy: 93.25333333333333\n",
      "Epoch: 11/50. Test set: Average loss: 0.0000\t Average Accuracy: \tAccuracy: 93.64\n",
      "Epoch: 12/50. Train set: Average loss: -11048.2842\t Average Accuracy: \tAccuracy: 93.64833333333333\n",
      "Epoch: 12/50. Train set: Average loss: -11048.2842\t Average Accuracy: \tAccuracy: 93.64833333333333\n",
      "Epoch: 12/50. Test set: Average loss: 0.0000\t Average Accuracy: \tAccuracy: 94.04\n",
      "Epoch: 13/50. Train set: Average loss: -11078.0010\t Average Accuracy: \tAccuracy: 93.90833333333333\n",
      "Epoch: 13/50. Train set: Average loss: -11078.0010\t Average Accuracy: \tAccuracy: 93.90833333333333\n",
      "Epoch: 13/50. Test set: Average loss: 0.0000\t Average Accuracy: \tAccuracy: 94.2\n",
      "Epoch: 14/50. Train set: Average loss: -11096.6172\t Average Accuracy: \tAccuracy: 94.29\n",
      "Epoch: 14/50. Train set: Average loss: -11096.6172\t Average Accuracy: \tAccuracy: 94.29\n",
      "Epoch: 14/50. Test set: Average loss: 0.0000\t Average Accuracy: \tAccuracy: 94.43\n",
      "Epoch: 15/50. Train set: Average loss: -11112.1279\t Average Accuracy: \tAccuracy: 94.41333333333333\n",
      "Epoch: 15/50. Train set: Average loss: -11112.1279\t Average Accuracy: \tAccuracy: 94.41333333333333\n",
      "Epoch: 15/50. Test set: Average loss: 0.0000\t Average Accuracy: \tAccuracy: 94.64\n"
     ]
    }
   ],
   "source": [
    "import warnings\n",
    "\n",
    "warnings.filterwarnings(\"ignore\")\n",
    "train_losses = []\n",
    "train_accuracy = []\n",
    "test_losses = []\n",
    "test_accuracy = []\n",
    "n_epochs = 50\n",
    "for epoch in range(1, n_epochs):\n",
    "  \n",
    "  # Train stage\n",
    "  train_loss, metric = train_classifier_all(epoch)\n",
    "  train_losses.append(train_loss)\n",
    "  train_accuracy.append(metric.value())\n",
    "  \n",
    "  message = 'Epoch: {}/{}. Train set: Average loss: {:.4f}'\n",
    "    .format(epoch + 1, n_epochs, train_loss)\n",
    "  message += '\\t Average Accuracy: \\t{}: {}'\n",
    "    .format(metric.name(), metric.value())\n",
    "  print(message)\n",
    "  \n",
    "  val_loss, metrics = test_with_all_training(epoch)\n",
    "  test_losses.append(val_loss)\n",
    "  test_accuracy.append(metrics.value())\n",
    "  \n",
    "  message += '\\nEpoch: {}/{}. Test set: Average loss: {:.4f}'\n",
    "    .format(epoch + 1, n_epochs, val_loss)\n",
    "  \n",
    "  message += '\\t Average Accuracy: \\t{}: {}'\n",
    "    .format(metrics.name(), metrics.value())\n",
    "\n",
    "  \n",
    "  print(message)"
   ]
  },
  {
   "cell_type": "code",
   "execution_count": 0,
   "metadata": {
    "colab": {},
    "colab_type": "code",
    "id": "Is3cNebcCFbY"
   },
   "outputs": [],
   "source": []
  },
  {
   "cell_type": "code",
   "execution_count": 0,
   "metadata": {
    "colab": {},
    "colab_type": "code",
    "id": "oDbAWgER_b7n"
   },
   "outputs": [],
   "source": [
    "\n",
    "plt.plot(range(1,n_epochs),train_losses)\n",
    "plt.plot(range(1,n_epochs),test_losses)\n",
    "plt.title(\"Classification loss of classifier\")\n",
    "plt.legend([\"train loss\",\"test loss\"])"
   ]
  },
  {
   "cell_type": "code",
   "execution_count": 0,
   "metadata": {
    "colab": {
     "base_uri": "https://localhost:8080/",
     "height": 380
    },
    "colab_type": "code",
    "id": "oHq0XJ_a_b7q",
    "outputId": "5bb8b112-9ff9-45ca-b1f0-4ed7cd91e92c"
   },
   "outputs": [
    {
     "data": {
      "text/plain": [
       "<matplotlib.legend.Legend at 0x7f4fcc660198>"
      ]
     },
     "execution_count": 24,
     "metadata": {
      "tags": []
     },
     "output_type": "execute_result"
    },
    {
     "data": {
      "image/png": "[encoded data removed]",
      "text/plain": [
       "<Figure size 576x396 with 1 Axes>"
      ]
     },
     "metadata": {
      "tags": []
     },
     "output_type": "display_data"
    }
   ],
   "source": [
    "plt.style.use(\"seaborn\")\n",
    "plt.plot(range(1,n_epochs),train_accuracy)\n",
    "plt.plot(range(1,n_epochs),test_accuracy)\n",
    "plt.title(\"Classification accuracy of classifier\")\n",
    "plt.legend([\"train accuracy\",\"test accuracy\"])"
   ]
  },
  {
   "cell_type": "code",
   "execution_count": 0,
   "metadata": {
    "colab": {
     "base_uri": "https://localhost:8080/",
     "height": 369
    },
    "colab_type": "code",
    "id": "dtA9UnhR_b7s",
    "outputId": "33d580dd-0e95-4c45-a364-d13d43496022"
   },
   "outputs": [
    {
     "name": "stdout",
     "output_type": "stream",
     "text": [
      "Computing latent space projection...\n"
     ]
    },
    {
     "data": {
      "image/png": "[encoded data removed]",
      "text/plain": [
       "<Figure size 576x396 with 2 Axes>"
      ]
     },
     "metadata": {
      "tags": []
     },
     "output_type": "display_data"
    }
   ],
   "source": [
    "path = \"tsne_vae+classifier+vae+train.png\"\n",
    "visualize_tsne(test_data[:5000].to(device),test_labels[:5000],model,path)"
   ]
  },
  {
   "cell_type": "code",
   "execution_count": 0,
   "metadata": {
    "colab": {},
    "colab_type": "code",
    "id": "lA-sZLRQFiSs"
   },
   "outputs": [],
   "source": []
  }
 ],
 "metadata": {
  "accelerator": "GPU",
  "colab": {
   "collapsed_sections": [
    "3SwLTcgj_b5n",
    "Nu7gRZnt_b6D",
    "C0CPCf1N_b6H",
    "98SjtYQD_b6O",
    "ldtqJq6r_b6X",
    "-fMGPUji_b6c",
    "rqTR-aKo_b7O",
    "4EbVAYSE_b7V"
   ],
   "name": "vae+classifier.ipynb",
   "provenance": [],
   "toc_visible": true,
   "version": "0.3.2"
  },
  "kernelspec": {
   "display_name": "Python 3",
   "language": "python",
   "name": "python3"
  },
  "language_info": {
   "codemirror_mode": {
    "name": "ipython",
    "version": 3
   },
   "file_extension": ".py",
   "mimetype": "text/x-python",
   "name": "python",
   "nbconvert_exporter": "python",
   "pygments_lexer": "ipython3",
   "version": "3.7.3"
  }
 },
 "nbformat": 4,
 "nbformat_minor": 1
}
